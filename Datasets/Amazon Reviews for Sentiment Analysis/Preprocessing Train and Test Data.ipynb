{
  "cells": [
    {
      "metadata": {
        "_uuid": "8f2839f25d086af736a60e9eeb907d3b93b6e0e5",
        "_cell_guid": "b1076dfc-b9ad-4769-8c92-a6c4dae69d19",
        "trusted": true
      },
      "cell_type": "code",
      "source": "import numpy as np \nimport pandas as pd \nimport bz2\nimport sentencepiece as spm\nimport random\nimport gc\nimport chardet\nimport re\n\nimport os\nprint(os.listdir(\"../input\"))",
      "execution_count": 20,
      "outputs": [
        {
          "output_type": "stream",
          "text": "['train.ft.txt.bz2', 'test.ft.txt.bz2']\n",
          "name": "stdout"
        }
      ]
    },
    {
      "metadata": {
        "_cell_guid": "79c7e3d0-c299-4dcb-8224-4455121ee9b0",
        "_uuid": "d629ff2d2480ee46fbb7e2d37f6b5fab8052498a",
        "collapsed": true,
        "trusted": true
      },
      "cell_type": "code",
      "source": "train_file = bz2.BZ2File('../input/train.ft.txt.bz2')\ntest_file = bz2.BZ2File('../input/test.ft.txt.bz2')",
      "execution_count": 21,
      "outputs": []
    },
    {
      "metadata": {
        "_uuid": "a42d697da87a52f6830aafec878ea97e58b8e374",
        "_cell_guid": "1c8b75a3-0a27-4b11-84b3-fa84c0142022"
      },
      "cell_type": "markdown",
      "source": "**Create Lists containing Train & Test sentences**"
    },
    {
      "metadata": {
        "_cell_guid": "d554f2ba-0eeb-4764-b1df-febfbdda5c2c",
        "_uuid": "93213b70d17edcdeeba304a7344e415733d0ce17",
        "trusted": true
      },
      "cell_type": "code",
      "source": "train_file_lines = train_file.readlines()\ntest_file_lines = test_file.readlines()",
      "execution_count": 22,
      "outputs": []
    },
    {
      "metadata": {
        "_uuid": "2a3a3396c7460ce53c2e11a997d4115118b49b56",
        "_cell_guid": "561793e5-67c7-4768-afbf-d1e35c2babfa"
      },
      "cell_type": "markdown",
      "source": "**Convert from raw binary strings to strings that can be parsed**"
    },
    {
      "metadata": {
        "_cell_guid": "ceda406d-42f3-46de-930c-f658b1090792",
        "_uuid": "5758abb69d2f0b7434041d5444916089ef468d88",
        "trusted": true,
        "collapsed": true
      },
      "cell_type": "code",
      "source": "train_file_lines = [x.decode('utf-8') for x in train_file_lines]\ntest_file_lines = [x.decode('utf-8') for x in test_file_lines]",
      "execution_count": 23,
      "outputs": []
    },
    {
      "metadata": {
        "_uuid": "1de1d8a747b4ab76cce6076f5b2e0b79c291cf53",
        "_cell_guid": "59bcdb63-c433-4a77-806a-90d152a077df"
      },
      "cell_type": "markdown",
      "source": "**Check Data Appearance**"
    },
    {
      "metadata": {
        "_cell_guid": "722d7d54-ccb9-4c61-8a10-c51f1b6b6799",
        "scrolled": true,
        "_uuid": "6871367413ee2b3fec9d6e39deb4b662e0f1458d",
        "trusted": true
      },
      "cell_type": "code",
      "source": "random.sample(train_file_lines, 10)",
      "execution_count": 24,
      "outputs": [
        {
          "output_type": "execute_result",
          "execution_count": 24,
          "data": {
            "text/plain": "[\"__label__2 Dead On: Love the series. Hated to see the horse go down but I guess it provided a necessary distraction. Glad I have these to watch when I can't watch TV.\\n\",\n '__label__1 Intellectual Redundancy: When an author clearly aspires to be looked upon by the public eye as an \"intellectual\" and seeks to impress others with his extreem wordiness, redundancy of expressions and use of technical terms, he writes not for the benefit of all who will read his work but he writes to benefit his \"intellectual\" ego. Other than this obvious impression, the work is adequate enough for the subject.I was able to purchase this book for just over $5.00 and am not sure I paid too much.\\n',\n \"__label__1 Nonsense: This movie doesn't make a lot of sense. The motivation of the principal actor remains completely unclear up to the very end of the movie. In addition, he looks more like a US Marine than a Native American. The only notable performances come from Adam Beach and the congenial Raul Trujillo. Trujillo would deserve to get better roles!\\n\",\n '__label__2 Deep Deep: This is a nice deep house production. If you like this, check out the first full length CD for producer Quentin Allen as Karu. There are other 12\" releases on Silver Network, Dadhouse, Winding Road, Mimosa & Smooth Agent. This CD is a very consistant production with a good blend of jazz, hip-hop, techno, neo-soul, and deep house all together. The beats are very crisp and sound good in the car, the house or the club. Some songs tastefully use vocal snippets to add flavor. There is even a track featuring Warren Harris aka Hanna (Shadow Records, Silver Network, Flat & Round, Freerange). If you want good quality deep house, this CD is for you.\\n',\n '__label__2 Perfect, exactly what I needed!: It is what it is. 25 pieces individually bagged in the box. I use them for mounting J-Hooks onto beams. Also used one for a custom small camera mount. They are handy.\\n',\n \"__label__1 Will never buy anything from Kodak every again: I purchased this camera on June 17, 2006. It worked great at first with a big LCD screen and with a memory card I could take what seemed like an unlimited amount of pictures and videos.However in January when in Disney World, all of a sudden the screen had blue lines across it in every which way and half the screen was black. I called Kodak and explained that I did nothing to the camera to cause this, and they fixed it for me.And then yesterday the exact same thing happened, again, while I was on vacation. And since it was one week over a year old, the warranty is void and I'm basically screwed, and now I'm wasting my entire day off from work looking for a new one.In addition, the quality of the pictures even at the highest quality is horrible, as they are blurry and look smeared.I will never buy another Kodak as long as I live.\\n\",\n \"__label__1 waste of money: The Panic Mouse is such a let down.These wands don't really connect to the unit, so they just yank out with enough force. And my 10 month old cat had enough force to do it! What a bad design.\\n\",\n \"__label__1 Blah w/ a couple laughs: I read the Girl's Guide and loved it. I expected something good from Bank. I read it in a couple of days. I was disappointed, esp the ending. She has a few good insights and that's about it.\\n\",\n '__label__1 Blender problem: I purchased this blender because Consumer Reports rated it the best for making smoothies and ice drinks. Three weeks after I got it, some of the plastic teeth on the bottom of the blade mechanism broke off. It still worked, but I am sure the rest would break off soon. I returned the blender and will look for one with no plastic parts on the important operating mechanisms.\\n',\n \"__label__2 A Fantastic 3d DVD: There aren't many 3d videos or dvds around, this one is the pick of the crop. It is easily the best 3d movie ever made, one of the few that didn't trivialise the depth effects and eeriness of 3d, but used to enhance an otherwise enthralling film. Technologically, no other 3d movie was ever so seamlessly and flawlessly made. Without the 3d however, this is still a great film, it has such a great creepy, mysterious feeling, and a deliberately paced build-up and denouement. This is more than worth the modest price!\\n\"]"
          },
          "metadata": {}
        }
      ]
    },
    {
      "metadata": {
        "_uuid": "c72c77a030d98b6aa8b25c2332da7eb8675d7505",
        "_cell_guid": "846931d3-7905-4d8d-b58f-3b5c036936e0"
      },
      "cell_type": "markdown",
      "source": "From the above output it can be seen that each sentence begins with it's sentiment **(__label__1 -> Negative, __label__2 -> Positive)**, which is then followed by the review and ends with a newline character **\\n**. \n\nSo, first I go convert all the labels to **O**(Negative) and **1**(Positive) and store it in lists that only contain the label values. After this, I store the remainder of the sentence excluding the newline character in lowercase in lists. Also, convert all numbers to **0**."
    },
    {
      "metadata": {
        "_uuid": "dedf1e6f5e90b63fca7d51e63673f9a96d171417",
        "_cell_guid": "23ca79f9-747f-4815-9f9b-6bafd4141f42"
      },
      "cell_type": "markdown",
      "source": "**Clean Data**"
    },
    {
      "metadata": {
        "_cell_guid": "dcc69630-91ef-4a06-9eb4-56c4b0390a49",
        "_uuid": "539afb8a439f11442ad8ca5c1de042a3a310462f",
        "trusted": true,
        "collapsed": true
      },
      "cell_type": "code",
      "source": "train_labels = [0 if x.split(' ')[0] == '__label__1' else 1 for x in train_file_lines]\ntrain_sentences = [x.split(' ', 1)[1][:-1].lower() for x in train_file_lines]\n\nfor i in range(len(train_sentences)):\n    train_sentences[i] = re.sub('\\d','0',train_sentences[i])\n    \ntest_labels = [0 if x.split(' ')[0] == '__label__1' else 1 for x in test_file_lines]\ntest_sentences = [x.split(' ', 1)[1][:-1].lower() for x in test_file_lines]\n\nfor i in range(len(test_sentences)):\n    test_sentences[i] = re.sub('\\d','0',test_sentences[i])",
      "execution_count": 25,
      "outputs": []
    },
    {
      "metadata": {
        "_uuid": "38533f2d01349502bc6e7009729186266a3c7a47"
      },
      "cell_type": "markdown",
      "source": "**Data before cleaning**"
    },
    {
      "metadata": {
        "trusted": true,
        "_uuid": "5b69b156f14b5efb7ceb878f30e5b7f2f9fd2b16"
      },
      "cell_type": "code",
      "source": "train_file_lines[70:75]",
      "execution_count": 26,
      "outputs": [
        {
          "output_type": "execute_result",
          "execution_count": 26,
          "data": {
            "text/plain": "['__label__1 [Not what I expected]: ... My daughter and I loved the movie. She is 5 years old and it took her 2 hours to complete the game. Absolutely no challenge, and very little interaction. It is essentially just clicking on the screen to make it play the 7 or 8 scenes it has programmed. There are no games to play, nothing to figure out, nothing to do. Save your money.\\n',\n '__label__1 barbie rapunzel = crying child: My 6-year old daughter is currently sobbing in her bedroom as a result of this rotten game.She spent an hour on this game painting in pretty pictures and coloring in flowers. But halfway through the game, the program hung, and wouldn\\'t let us leave the room or click anywhere else. Now even if we exit the game and then start it back up, we are frozen in one spot while Barbie\\'s disembodied voice urges us to \"explore somewhere else in the castle.\"Standard software troubleshooting and rebooting didn\\'t help. Vivendi Games\\' support site is \"currently disabled.\" And now I\\'m left with a weeping, frustrating child who doesn\\'t understand that it is not her fault that her game won\\'t work. I\\'m hoping it was just incompetent software programming that couldn\\'t catch the bug my 6-year old caught the first time around. Or maybe they just don\\'t care about the problems, so long as you get our 20 bucks. If you don\\'t want a crying little girl, avoid this game!\\n',\n \"__label__2 Barbie as Rapunzel: A Creative Adventure: I purchased this software for my 5 year old granddaughter and she loves playing it so much. She lets me play it sometimes, but she doesn't always like what I come up with. I plan to purchase other software programs for her.\\n\",\n '__label__2 Use your imagination!: My 3 year old daughter & I both love this software. We actually fight over who is going paint the pictures or choose the themes for each room. This game allows you to be creative & use your imagination by \"decorating\" each room of the castle and finding the missing gems to the prince\\'s crown which gives Rapunzel the power to find Prince Stephan who has been turned to stone & bring him back to life. The music & animation is the best I have seen. Most of the kids software that I\\'ve seen is boring to me as an adult, but this is not at all. I sometimes like to play it without her! There are so many variations on color schemes & patterns & that you can never be bored. I highly recommend this for girls of all ages.\\n',\n '__label__1 Not so good - ok for a rental!: This game is pretty exciting and it is very nice and it is really creative and one of a kind. The only bad thing is that there is only one \"castle\" for the kids to \"decorate\" and once you are done with the whole castle that is basically it. You either have to create a new username for yourself to do it all over again or you get another game like I did. My sister finished the \"castle\" in about 2 hours and after that has never even looked at this game anymore. It is a nice game and it is fun but it is not really worth that much money.\\n']"
          },
          "metadata": {}
        }
      ]
    },
    {
      "metadata": {
        "_uuid": "a45488c666d2a7dc4eb42e8dccfec66e0531280a"
      },
      "cell_type": "markdown",
      "source": "**Data After Cleaning**"
    },
    {
      "metadata": {
        "trusted": true,
        "_uuid": "ee72b898dfcb3e6e3154e144fd43f0636dd7a029"
      },
      "cell_type": "code",
      "source": "train_sentences[70:75]",
      "execution_count": 27,
      "outputs": [
        {
          "output_type": "execute_result",
          "execution_count": 27,
          "data": {
            "text/plain": "['[not what i expected]: ... my daughter and i loved the movie. she is 0 years old and it took her 0 hours to complete the game. absolutely no challenge, and very little interaction. it is essentially just clicking on the screen to make it play the 0 or 0 scenes it has programmed. there are no games to play, nothing to figure out, nothing to do. save your money.',\n 'barbie rapunzel = crying child: my 0-year old daughter is currently sobbing in her bedroom as a result of this rotten game.she spent an hour on this game painting in pretty pictures and coloring in flowers. but halfway through the game, the program hung, and wouldn\\'t let us leave the room or click anywhere else. now even if we exit the game and then start it back up, we are frozen in one spot while barbie\\'s disembodied voice urges us to \"explore somewhere else in the castle.\"standard software troubleshooting and rebooting didn\\'t help. vivendi games\\' support site is \"currently disabled.\" and now i\\'m left with a weeping, frustrating child who doesn\\'t understand that it is not her fault that her game won\\'t work. i\\'m hoping it was just incompetent software programming that couldn\\'t catch the bug my 0-year old caught the first time around. or maybe they just don\\'t care about the problems, so long as you get our 00 bucks. if you don\\'t want a crying little girl, avoid this game!',\n \"barbie as rapunzel: a creative adventure: i purchased this software for my 0 year old granddaughter and she loves playing it so much. she lets me play it sometimes, but she doesn't always like what i come up with. i plan to purchase other software programs for her.\",\n 'use your imagination!: my 0 year old daughter & i both love this software. we actually fight over who is going paint the pictures or choose the themes for each room. this game allows you to be creative & use your imagination by \"decorating\" each room of the castle and finding the missing gems to the prince\\'s crown which gives rapunzel the power to find prince stephan who has been turned to stone & bring him back to life. the music & animation is the best i have seen. most of the kids software that i\\'ve seen is boring to me as an adult, but this is not at all. i sometimes like to play it without her! there are so many variations on color schemes & patterns & that you can never be bored. i highly recommend this for girls of all ages.',\n 'not so good - ok for a rental!: this game is pretty exciting and it is very nice and it is really creative and one of a kind. the only bad thing is that there is only one \"castle\" for the kids to \"decorate\" and once you are done with the whole castle that is basically it. you either have to create a new username for yourself to do it all over again or you get another game like i did. my sister finished the \"castle\" in about 0 hours and after that has never even looked at this game anymore. it is a nice game and it is fun but it is not really worth that much money.']"
          },
          "metadata": {}
        }
      ]
    },
    {
      "metadata": {
        "trusted": true,
        "_uuid": "92ed980b1637d10886f0c3e1ade888f661d61b3a"
      },
      "cell_type": "code",
      "source": "train_labels[70:75]",
      "execution_count": 28,
      "outputs": [
        {
          "output_type": "execute_result",
          "execution_count": 28,
          "data": {
            "text/plain": "[0, 0, 1, 1, 0]"
          },
          "metadata": {}
        }
      ]
    },
    {
      "metadata": {
        "_cell_guid": "03b49435-b06b-4f72-b8f2-27faae8cf478",
        "scrolled": true,
        "_uuid": "3754d4d288fe5411ee0cc26112a17dd34a6e427c",
        "trusted": true
      },
      "cell_type": "code",
      "source": "gc.collect()",
      "execution_count": 29,
      "outputs": [
        {
          "output_type": "execute_result",
          "execution_count": 29,
          "data": {
            "text/plain": "1329"
          },
          "metadata": {}
        }
      ]
    },
    {
      "metadata": {
        "_uuid": "f26c74524b32ef17e47b862a318a13355ea1ca48",
        "_cell_guid": "518f5134-8549-4d72-a92f-016de1925d5e"
      },
      "cell_type": "markdown",
      "source": "**TO-DO**\n\n+Convert all the urls (eg: http, https, www etc) to < url >"
    },
    {
      "metadata": {
        "_cell_guid": "c526409f-70e3-4f99-a8b4-60677e9e79a6",
        "_uuid": "73b2ae2b8f6b1da52358daf74a308c68b3075143",
        "trusted": true
      },
      "cell_type": "code",
      "source": "for sentence in train_sentences[:1000]:\n    if 'www' in sentence or 'http' in sentence:\n        print(sentence)",
      "execution_count": 30,
      "outputs": [
        {
          "output_type": "stream",
          "text": "why is this a good book?: as someone who has been practicing chinese medicine for 00 years in san diego (www.bodymindwellnesscenter.com), i find this book an excellent resource for anyone who wants and in dept primer into the theoretical basis and practical application of a system of medicine that originates in the chinese philosophy that emphasizes the natural balance found in nature and agriculture.\nsee my article \"jean hill - the lady in red\" online: since writing my review of jfk: the last dissenting witness in 0000, i have been able to have my 00-page article - \"jean hill -the lady in red\" - included in clint bradford's jfk assassination website. the address is: http://www.jfk-info.com/sitemap0.htm (scroll down for title).\nit works, but....: my size medium was true to size. this made my waist smaller and while i had it on, i didn't eat as much because of the pressure, it makes me feel full; however, all of the cinchers do this as it is its purpose. i did like the fact that it's shorter from the lower back and a bit longer on the tummy... buttt... a huge but for me... what i didn't like was that it made big bulges of fat on my upper back (eewww!)... and i don't even have back fat!!! so to me this defeats the whole purpose! all it did was cover my stomach fat but gave me back fat!!! also, what's going on with the price increase?? i just bought this 0 weeks ago for $00, now it's $00!\n",
          "name": "stdout"
        }
      ]
    },
    {
      "metadata": {
        "_cell_guid": "5798589b-1ee6-45a1-9060-6d8d80a30dc2",
        "collapsed": true,
        "_uuid": "622e996b36bbd4b0b7066a16539b0bbab35654c1",
        "trusted": true
      },
      "cell_type": "code",
      "source": "",
      "execution_count": null,
      "outputs": []
    }
  ],
  "metadata": {
    "language_info": {
      "name": "python",
      "version": "3.6.4",
      "mimetype": "text/x-python",
      "codemirror_mode": {
        "name": "ipython",
        "version": 3
      },
      "pygments_lexer": "ipython3",
      "nbconvert_exporter": "python",
      "file_extension": ".py"
    },
    "kernelspec": {
      "display_name": "Python 3",
      "language": "python",
      "name": "python3"
    }
  },
  "nbformat": 4,
  "nbformat_minor": 1
}