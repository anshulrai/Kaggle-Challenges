{
  "cells": [
    {
      "metadata": {
        "_uuid": "8f2839f25d086af736a60e9eeb907d3b93b6e0e5",
        "_cell_guid": "b1076dfc-b9ad-4769-8c92-a6c4dae69d19",
        "trusted": true
      },
      "cell_type": "code",
      "source": "import numpy as np \nimport pandas as pd \nimport bz2\nimport sentencepiece as spm\nimport random\nimport gc\nimport chardet\nimport re\n\nimport os\nprint(os.listdir(\"../input\"))",
      "execution_count": 132,
      "outputs": [
        {
          "output_type": "stream",
          "text": "['train.ft.txt.bz2', 'test.ft.txt.bz2']\n",
          "name": "stdout"
        }
      ]
    },
    {
      "metadata": {
        "_uuid": "d629ff2d2480ee46fbb7e2d37f6b5fab8052498a",
        "collapsed": true,
        "_cell_guid": "79c7e3d0-c299-4dcb-8224-4455121ee9b0",
        "trusted": true
      },
      "cell_type": "code",
      "source": "train_file = bz2.BZ2File('../input/train.ft.txt.bz2')\ntest_file = bz2.BZ2File('../input/test.ft.txt.bz2')",
      "execution_count": 177,
      "outputs": []
    },
    {
      "metadata": {
        "_uuid": "a42d697da87a52f6830aafec878ea97e58b8e374"
      },
      "cell_type": "markdown",
      "source": "**Create Lists containing Train & Test sentences**"
    },
    {
      "metadata": {
        "trusted": true,
        "_uuid": "93213b70d17edcdeeba304a7344e415733d0ce17"
      },
      "cell_type": "code",
      "source": "train_file_lines = train_file.readlines()\ntest_file_lines = test_file.readlines()",
      "execution_count": 179,
      "outputs": []
    },
    {
      "metadata": {
        "_uuid": "2a3a3396c7460ce53c2e11a997d4115118b49b56"
      },
      "cell_type": "markdown",
      "source": "**Convert from raw binary strings to strings that can be parsed**"
    },
    {
      "metadata": {
        "trusted": true,
        "_uuid": "5758abb69d2f0b7434041d5444916089ef468d88"
      },
      "cell_type": "code",
      "source": "train_file_lines = [x.decode('utf-8') for x in train_file_lines]\ntest_file_lines = [x.decode('utf-8') for x in test_file_lines]",
      "execution_count": 181,
      "outputs": []
    },
    {
      "metadata": {
        "_uuid": "1de1d8a747b4ab76cce6076f5b2e0b79c291cf53"
      },
      "cell_type": "markdown",
      "source": "**Check Data Format**"
    },
    {
      "metadata": {
        "trusted": true,
        "scrolled": true,
        "_uuid": "6871367413ee2b3fec9d6e39deb4b662e0f1458d"
      },
      "cell_type": "code",
      "source": "random.sample(train_file_lines, 10)",
      "execution_count": 183,
      "outputs": [
        {
          "output_type": "execute_result",
          "execution_count": 183,
          "data": {
            "text/plain": "['__label__1 Regarding Tate\\'s voice complaints: I went to high-school with these guys. I had their brothers and sisters in some of my classes back in Bellevue, Wash. Remember, in 1983 with their first EP on vinyl, Goeff Tate was 26 years old. That puts him at 49 or so today. He makes up for ANY percieved vocal inconsistancies with lyrical content and passion. I don\\'t really like O:MII at all and actually won\\'t even buy it, too bad. It\\'s easy to see DeGarmo\\'s influence missing. But their \"Tribe\" disk is some excellent introspect. The original O/M is spactacular, along with Empire and the like.I\\'ve never heard Prom-land all the way through though... Tate\\'s got some of his best stuff on his self-titled solo disk. Hope he does another one soon, I\\'ll definitely buy that one unheard.\\n',\n '__label__2 Smart, moody Brit-pop: An intelligent debut album, with a sparse sound that is reminiscent of Portisead and Pulp. Dark lyrics about childhood trauma and British suburban angst, and pretty female vocals. The \"Seasons in the Sun\" cover is great!\\n',\n '__label__1 You can play this until you get frustrated...: I loved the Die Hard movies so I bought this one. I have constant problems with the game on Windows XP, can\\'t save a game, so I have to start over whenever I get killed, the sound is all screwed up and although I enjoyed the game in spots, I angrily quit several times because of the NO SAVE problem. I had the same problem with Windows 98 SE so I don\\'t know if its the game or the computer. It\\'ll be nice when they work out the kinks and finally make a game with good controls and \"Save\"... I still play it once in awhile because it has it\\'s good side - so long as you don\\'t get killed...\\n',\n \"__label__1 Cornwell has gotten all too predictable.: This book has convinced me to give up on Patricia Cornwell altogether. I loved her first two books, but the books after that have fallen into a predictable pattern and no longer interest me at all. What I most dislike about these books (and, unfortunately, this goes back to her earlier ones also--even though it didn't bother me as much then) is the way the female sleuth ALWAYS gets into danger herself toward the end of the book. I find this problem with most mystery or thriller writers who use a female lead character. Why is it that a woman problem solver cannot crack a case without putting herself in mortal fear? No more Cornwell for me\\n\",\n \"__label__1 Nice Acting and Actors, but Weak Script sinks the movie: Great Cast, great cinematography, Diane Lane is awesome looking, but who the hell wrote the screenplay? I wasn't sure if this was camp or what. And is F. Ford C perhaps the most over rated director of our time. Perhaps. I wasted my money buying this dvd. Oh well, the housing market has bottomed, the stock market is going up, and everything in America Sept 2009 is just great.\\n\",\n '__label__1 ice cubes: I was dissapointed when I opened the box and found out that the filter did nothave the screw in connectors and attachment fittings!\\n',\n '__label__2 Good deal: Good deal for the price. I am perfectly happy with it. It actually holds a substantial amoout of soungs for such a small memory and I love having the FM aspect. It weighs less than a pack of gum. I still cannot figure out how to change modes (from say recording mode to FM mode)without taking the battery out and turning the entire system off. I emailed customer service about this but never got a response. So ... I continue to turn the entire system off when I go mode to mode. Still overall a great deal. Definitely worth the money.\\n',\n \"__label__2 Good introduction to lesser known mythologies: This is a good set of stories about Erik's voyages and adventures. Oral traditions of these stories are blatenly obvious, but help younger readers follow the stories. These stories will make great bedtime stories or beginning reader stories. The lessons are timeless and will surely get any child interested in reading more about mythology or the Vikings.\\n\",\n \"__label__1 Will give you nothing but headache: I thought I could create some nice slide presetnations. This software is very unfriendly. Hard to figure out even with the users manual. The instructions doesn't work and not explanatory. Will give you nothing but headache. I was unable to make any slide presentation. Zip. Nada.\\n\",\n \"__label__1 Feh!: He sells 'get rich quick' stock trading courses on late night TV. That by itself should tell you that anything he says should be suspect. If he says the sun rises in the east, you should take it with a grain of salt. If you should ever get the opportunity to shake hands with this guy, count your fingers. Buy this book if you want to learn how to lose money...\\n\"]"
          },
          "metadata": {}
        }
      ]
    },
    {
      "metadata": {
        "_uuid": "c72c77a030d98b6aa8b25c2332da7eb8675d7505"
      },
      "cell_type": "markdown",
      "source": "From the above output it can be seen that each sentence begins with it's sentiment **(__label__1 -> Negative, __label__2 -> Positive)**, which is then followed by the review and ends with a newline character **\\n**. \n\nSo, first I go convert all the labels to **O**(Negative) and **1**(Positive) and store it in lists that only contain the label values. After this, I store the remainder of the sentence excluding the newline character in lowercase in lists. Also, convert all numbers to **0**."
    },
    {
      "metadata": {
        "_uuid": "dedf1e6f5e90b63fca7d51e63673f9a96d171417"
      },
      "cell_type": "markdown",
      "source": "**Clean Data**"
    },
    {
      "metadata": {
        "trusted": true,
        "_uuid": "539afb8a439f11442ad8ca5c1de042a3a310462f"
      },
      "cell_type": "code",
      "source": "train_labels = [0 if x.split(' ')[0] == '__label__1' else 1 for x in train_file_lines]\ntrain_sentences = [x.split(' ', 1)[1][:-1].lower() for x in train_file_lines]\n\nfor i in range(len(train_sentences)):\n    train_sentences[i] = re.sub('\\d','0',train_sentences[i])\n    \ntest_labels = [0 if x.split(' ')[0] == '__label__1' else 1 for x in test_file_lines]\ntest_sentences = [x.split(' ', 1)[1][:-1].lower() for x in test_file_lines]\n\nfor i in range(len(test_sentences)):\n    test_sentences[i] = re.sub('\\d','0',test_sentences[i])",
      "execution_count": 184,
      "outputs": []
    },
    {
      "metadata": {
        "trusted": true,
        "scrolled": true,
        "_uuid": "3754d4d288fe5411ee0cc26112a17dd34a6e427c"
      },
      "cell_type": "code",
      "source": "gc.collect()",
      "execution_count": null,
      "outputs": []
    },
    {
      "metadata": {
        "_uuid": "f26c74524b32ef17e47b862a318a13355ea1ca48"
      },
      "cell_type": "markdown",
      "source": "**TO-DO**\n\n+Convert all the urls (eg: http, https, www etc) to <url>"
    },
    {
      "metadata": {
        "trusted": true,
        "_uuid": "73b2ae2b8f6b1da52358daf74a308c68b3075143"
      },
      "cell_type": "code",
      "source": "for sentence in train_sentences[:1000]:\n    if 'www' in sentence or 'http' in sentence:\n        print(sentence)",
      "execution_count": 186,
      "outputs": [
        {
          "output_type": "stream",
          "text": "why is this a good book?: as someone who has been practicing chinese medicine for 00 years in san diego (www.bodymindwellnesscenter.com), i find this book an excellent resource for anyone who wants and in dept primer into the theoretical basis and practical application of a system of medicine that originates in the chinese philosophy that emphasizes the natural balance found in nature and agriculture.\nsee my article \"jean hill - the lady in red\" online: since writing my review of jfk: the last dissenting witness in 0000, i have been able to have my 00-page article - \"jean hill -the lady in red\" - included in clint bradford's jfk assassination website. the address is: http://www.jfk-info.com/sitemap0.htm (scroll down for title).\nit works, but....: my size medium was true to size. this made my waist smaller and while i had it on, i didn't eat as much because of the pressure, it makes me feel full; however, all of the cinchers do this as it is its purpose. i did like the fact that it's shorter from the lower back and a bit longer on the tummy... buttt... a huge but for me... what i didn't like was that it made big bulges of fat on my upper back (eewww!)... and i don't even have back fat!!! so to me this defeats the whole purpose! all it did was cover my stomach fat but gave me back fat!!! also, what's going on with the price increase?? i just bought this 0 weeks ago for $00, now it's $00!\n",
          "name": "stdout"
        }
      ]
    },
    {
      "metadata": {
        "trusted": true,
        "collapsed": true,
        "_uuid": "622e996b36bbd4b0b7066a16539b0bbab35654c1"
      },
      "cell_type": "code",
      "source": "",
      "execution_count": null,
      "outputs": []
    }
  ],
  "metadata": {
    "kernelspec": {
      "display_name": "Python 3",
      "language": "python",
      "name": "python3"
    },
    "language_info": {
      "name": "python",
      "version": "3.6.4",
      "mimetype": "text/x-python",
      "codemirror_mode": {
        "name": "ipython",
        "version": 3
      },
      "pygments_lexer": "ipython3",
      "nbconvert_exporter": "python",
      "file_extension": ".py"
    }
  },
  "nbformat": 4,
  "nbformat_minor": 1
}