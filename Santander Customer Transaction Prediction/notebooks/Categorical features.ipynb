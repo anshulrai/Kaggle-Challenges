{
 "cells": [
  {
   "cell_type": "code",
   "execution_count": 1,
   "metadata": {},
   "outputs": [],
   "source": [
    "import pandas as pd\n",
    "import numpy as np\n",
    "import os\n",
    "import lightgbm as lgb\n",
    "from sklearn.model_selection import StratifiedKFold\n",
    "import gc\n",
    "num_categorical = 10"
   ]
  },
  {
   "cell_type": "code",
   "execution_count": 2,
   "metadata": {},
   "outputs": [],
   "source": [
    "def create_target_encoding(train_df, test_df, cat_vars):\n",
    "    aggs = [\"mean\",\"sum\",\"var\"]\n",
    "    test_index = test_df.index\n",
    "    for column in cat_vars:\n",
    "        cat_df = train_df.groupby(column)[\"target\"].agg(aggs)\n",
    "        test_df = test_df.set_index(column)\n",
    "        for agg in aggs:\n",
    "            test_df[column+\"_target_\"+agg] = cat_df[agg]\n",
    "        test_df = test_df.reset_index()\n",
    "        test_df.drop(columns=[column],inplace=True)\n",
    "        del cat_df\n",
    "        gc.collect()\n",
    "    test_df.index = test_index\n",
    "    return train_df, test_df"
   ]
  },
  {
   "cell_type": "code",
   "execution_count": 4,
   "metadata": {},
   "outputs": [],
   "source": [
    "def create_cat_vars(train_df, test_df):\n",
    "    feat_importance_path = r\"../output/feature importance/files/\"\n",
    "    model_type = \"lgb\"\n",
    "    max_score = 0\n",
    "    file_name = None\n",
    "    for csv in os.listdir(feat_importance_path):\n",
    "        csv_model_type, _, score = csv.split(\".csv\")[0].split(\"_\")\n",
    "        if model_type == csv_model_type and float(score) > max_score:\n",
    "            max_score = float(score)\n",
    "            file_name = csv\n",
    "\n",
    "    if file_name is None:\n",
    "        print(\"No file for model found.\")\n",
    "        return train_df, test_df, None\n",
    "\n",
    "    print(\"Using file {}\\n\".format(file_name))\n",
    "    feat_importance_df = pd.read_csv(feat_importance_path+file_name, engine=\"python\")\n",
    "    cat_vars = feat_importance_df.sort_values(by=\"importance\")[:num_categorical].feature.values\n",
    "    df = pd.concat([train_df, test_df])\n",
    "    for column in cat_vars:\n",
    "        df[column] = pd.cut(df[column], 5).cat.codes\n",
    "    return df[:len(train_df)], df[len(train_df):], cat_vars"
   ]
  },
  {
   "cell_type": "code",
   "execution_count": 3,
   "metadata": {},
   "outputs": [
    {
     "name": "stdout",
     "output_type": "stream",
     "text": [
      "\n",
      "Shape of Train Data: (200000, 202)\t Shape of Test Data: (200000, 201)\n"
     ]
    }
   ],
   "source": [
    "train_df = pd.read_csv('../input/train.csv')\n",
    "test_df = pd.read_csv('../input/test.csv')\n",
    "print('\\nShape of Train Data: {}\\t Shape of Test Data: {}'\n",
    "    .format(train_df.shape, test_df.shape))\n",
    "\n",
    "train_labels = train_df['target']\n",
    "train_index = np.array(train_df.index)\n",
    "\n",
    "train_df.drop(['ID_code', 'target'], axis=1, inplace=True)\n",
    "test_df.drop(['ID_code'], axis=1, inplace=True)"
   ]
  },
  {
   "cell_type": "code",
   "execution_count": 5,
   "metadata": {},
   "outputs": [
    {
     "name": "stdout",
     "output_type": "stream",
     "text": [
      "Using file lgb_optimal_0.8998770915621923.csv\n",
      "\n"
     ]
    }
   ],
   "source": [
    "train_df, test_df, cat_vars = create_cat_vars(train_df, test_df)\n",
    "\n",
    "assert cat_vars is not None\n",
    "\n",
    "oof_preds = np.zeros(train_df.shape[0])\n",
    "test_preds = np.zeros(test_df.shape[0])\n",
    "feature_importance = pd.DataFrame()\n",
    "feature_names = [str(column) for column in train_df.columns]\n",
    "\n",
    "skf = StratifiedKFold(n_splits=2, shuffle=True, random_state=42)"
   ]
  },
  {
   "cell_type": "code",
   "execution_count": 29,
   "metadata": {},
   "outputs": [
    {
     "name": "stdout",
     "output_type": "stream",
     "text": [
      "\n",
      "Fold 1\n",
      " before sort\n",
      " Int64Index([     1,      7,      9,     10,     14,     17,     18,     29,\n",
      "                34,     39,\n",
      "            ...\n",
      "            199948, 199951, 199953, 199964, 199968, 199980, 199983, 199989,\n",
      "            199991, 199995],\n",
      "           dtype='int64', length=100000)\n",
      " after sort\n",
      " Int64Index([     1,      2,      5,      6,      7,      8,      9,     10,\n",
      "                14,     15,\n",
      "            ...\n",
      "            199977, 199979, 199980, 199981, 199983, 199989, 199990, 199991,\n",
      "            199995, 199999],\n",
      "           dtype='int64', length=100000)\n",
      "train ids\n",
      " [     1      2      5 ... 199991 199995 199999]\n",
      "\n",
      "Fold 2\n",
      " before sort\n",
      " Int64Index([     0,     12,     13,     23,     24,     25,     35,     36,\n",
      "                55,     59,\n",
      "            ...\n",
      "            199967, 199969, 199972, 199982, 199984, 199992, 199993, 199994,\n",
      "            199996, 199997],\n",
      "           dtype='int64', length=100000)\n",
      " after sort\n",
      " Int64Index([     0,      3,      4,     11,     12,     13,     21,     23,\n",
      "                24,     25,\n",
      "            ...\n",
      "            199985, 199986, 199987, 199988, 199992, 199993, 199994, 199996,\n",
      "            199997, 199998],\n",
      "           dtype='int64', length=100000)\n",
      "train ids\n",
      " [     0      3      4 ... 199996 199997 199998]\n"
     ]
    }
   ],
   "source": [
    "for counter, ids in enumerate(skf.split(train_index, train_labels.values)):\n",
    "        print('\\nFold {}'.format(counter+1))\n",
    "        y_train, y_val = train_labels.values[ids[0]], train_labels.values[ids[1]]\n",
    "\n",
    "        _skf = StratifiedKFold(n_splits=2, shuffle=True, random_state=42)\n",
    "        _train_index = ids[0]\n",
    "        _train_labels = y_train\n",
    "        X_train = pd.DataFrame()\n",
    "\n",
    "        for _counter, _ids in enumerate(_skf.split(_train_index, _train_labels)):\n",
    "            _train_df = pd.concat([train_df.loc[_train_index[_ids[0]],:], train_labels.loc[_train_index[_ids[0]]]], axis=1)\n",
    "            _test_df = train_df.loc[_train_index[_ids[1]],:]\n",
    "            #print(\"before\\n\",_test_df.index)\n",
    "            _train_df, _test_df = create_target_encoding(_train_df, _test_df, cat_vars)\n",
    "            X_train = pd.concat([X_train, _test_df])\n",
    "            #print(\"inside\\n\",X_train.index)\n",
    "            #print(_train_index[_ids[1]])\n",
    "            del _train_df, _test_df\n",
    "        print(\" before sort\\n\",X_train.index)\n",
    "        X_train.sort_index(inplace=True)\n",
    "        print(\" after sort\\n\",X_train.index)\n",
    "        print(\"train ids\\n\",ids[0])"
   ]
  },
  {
   "cell_type": "code",
   "execution_count": null,
   "metadata": {},
   "outputs": [],
   "source": []
  }
 ],
 "metadata": {
  "kernelspec": {
   "display_name": "Python 3",
   "language": "python",
   "name": "python3"
  },
  "language_info": {
   "codemirror_mode": {
    "name": "ipython",
    "version": 3
   },
   "file_extension": ".py",
   "mimetype": "text/x-python",
   "name": "python",
   "nbconvert_exporter": "python",
   "pygments_lexer": "ipython3",
   "version": "3.6.8"
  }
 },
 "nbformat": 4,
 "nbformat_minor": 2
}
