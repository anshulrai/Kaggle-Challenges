{
 "cells": [
  {
   "cell_type": "code",
   "execution_count": 1,
   "metadata": {},
   "outputs": [],
   "source": [
    "from sklearn.metrics import roc_auc_score\n",
    "from sklearn.model_selection import KFold, StratifiedKFold\n",
    "import numpy as np \n",
    "import pandas as pd\n",
    "from scipy.stats import norm\n",
    "import matplotlib.pyplot as plt\n",
    "import seaborn as sns\n",
    "import datetime\n",
    "import gc\n",
    "import time\n",
    "from sklearn.preprocessing import MinMaxScaler\n",
    "from scipy.stats import rankdata"
   ]
  },
  {
   "cell_type": "code",
   "execution_count": 2,
   "metadata": {},
   "outputs": [
    {
     "name": "stdout",
     "output_type": "stream",
     "text": [
      "Running on Linux!\n",
      "\n"
     ]
    }
   ],
   "source": [
    "num_folds = 5\n",
    "windows_flag = False\n",
    "\n",
    "print(\"Running on Windows!\\n\") if windows_flag else print(\"Running on Linux!\\n\")\n",
    "\n",
    "gc.enable()"
   ]
  },
  {
   "cell_type": "code",
   "execution_count": 3,
   "metadata": {},
   "outputs": [],
   "source": [
    "def prob_preds(df, stats_df):\n",
    "    neg_z = (df.values - stats_df.neg_mean.values) / stats_df.neg_sd.values\n",
    "    neg_p = (1 - norm.cdf(np.abs(neg_z))) * 2\n",
    "    neg_prob = neg_p.prod(axis=1)\n",
    "\n",
    "    pos_z = (df.values - stats_df.pos_mean.values) / stats_df.pos_sd.values\n",
    "    pos_p = (1 - norm.cdf(np.abs(pos_z))) * 2\n",
    "    pos_prob = pos_p.prod(axis=1)\n",
    "    return pos_prob/neg_prob"
   ]
  },
  {
   "cell_type": "code",
   "execution_count": 4,
   "metadata": {},
   "outputs": [
    {
     "name": "stdout",
     "output_type": "stream",
     "text": [
      "Load Train Data.\n",
      "\n",
      "Shape of Train Data: (200000, 202)\t Shape of Test Data: (200000, 201)\n",
      "\n",
      "Training model\n",
      "\n",
      "Fold 1\n",
      "AUC score: 0.8720345840348852\n",
      "\n",
      "Fold 2\n",
      "AUC score: 0.8699814620236965\n",
      "\n",
      "Fold 3\n",
      "AUC score: 0.8768338684564946\n",
      "\n",
      "Fold 4\n",
      "AUC score: 0.8716125018170361\n",
      "\n",
      "Fold 5\n",
      "AUC score: 0.8720893156063451\n"
     ]
    }
   ],
   "source": [
    "print('Load Train Data.')\n",
    "train_df = pd.read_csv('../input/train.csv')\n",
    "test_df = pd.read_csv('../input/test.csv')\n",
    "print('\\nShape of Train Data: {}\\t Shape of Test Data: {}'\n",
    "    .format(train_df.shape, test_df.shape))\n",
    "\n",
    "train_labels = train_df['target']\n",
    "train_index = np.array(train_df.index)\n",
    "\n",
    "train_df.drop(['ID_code', 'target'], axis=1, inplace=True)\n",
    "test_df.drop(['ID_code'], axis=1, inplace=True)\n",
    "\n",
    "oof_preds = np.zeros(train_df.shape[0])\n",
    "test_preds = np.zeros(test_df.shape[0])\n",
    "\n",
    "skf = StratifiedKFold(n_splits=num_folds, shuffle=True, random_state=42)\n",
    "\n",
    "print('\\nTraining model')\n",
    "for counter, ids in enumerate(skf.split(train_index, train_labels)):\n",
    "    print('\\nFold {}'.format(counter+1))\n",
    "    X_train, y_train = train_df.loc[ids[0],:], train_labels.values[ids[0]]\n",
    "    X_val, y_val = train_df.loc[ids[1], :], train_labels.values[ids[1]]\n",
    "\n",
    "    pos_idx = (y_train == 1)\n",
    "    neg_idx = (y_train == 0)\n",
    "    stats = []\n",
    "    for col in train_df.columns:\n",
    "        stats.append([\n",
    "            train_df.loc[ids[0][pos_idx], col].mean(),\n",
    "            train_df.loc[ids[0][pos_idx], col].std(),\n",
    "            train_df.loc[ids[0][neg_idx], col].mean(),\n",
    "            train_df.loc[ids[0][neg_idx], col].std()\n",
    "        ])\n",
    "\n",
    "    stats_df = pd.DataFrame(stats, columns=['pos_mean', 'pos_sd', 'neg_mean', 'neg_sd'])\n",
    "\n",
    "    fold_val_preds = prob_preds(X_val, stats_df)\n",
    "    test_preds += prob_preds(test_df, stats_df)/num_folds\n",
    "\n",
    "    print(\"AUC score: {}\".format(roc_auc_score(y_val, fold_val_preds)))\n",
    "    oof_preds[ids[1]] += fold_val_preds\n",
    "\n",
    "    del X_train, X_val, y_train, y_val\n",
    "    gc.collect()\n",
    "\n",
    "auc  = roc_auc_score(train_labels, oof_preds)"
   ]
  },
  {
   "cell_type": "code",
   "execution_count": 5,
   "metadata": {},
   "outputs": [
    {
     "name": "stdout",
     "output_type": "stream",
     "text": [
      "\n",
      "Validation AUC: 0.8724834430400332\n"
     ]
    }
   ],
   "source": [
    "print('\\nValidation AUC: {}'.format(auc))"
   ]
  },
  {
   "cell_type": "code",
   "execution_count": 20,
   "metadata": {},
   "outputs": [],
   "source": [
    "temp = rankdata(oof_preds)"
   ]
  },
  {
   "cell_type": "code",
   "execution_count": 11,
   "metadata": {},
   "outputs": [],
   "source": [
    "oof_csv = pd.DataFrame(data={'target':oof_preds},index=train_index).rank()"
   ]
  },
  {
   "cell_type": "code",
   "execution_count": 19,
   "metadata": {},
   "outputs": [
    {
     "data": {
      "text/html": [
       "<div>\n",
       "<style scoped>\n",
       "    .dataframe tbody tr th:only-of-type {\n",
       "        vertical-align: middle;\n",
       "    }\n",
       "\n",
       "    .dataframe tbody tr th {\n",
       "        vertical-align: top;\n",
       "    }\n",
       "\n",
       "    .dataframe thead th {\n",
       "        text-align: right;\n",
       "    }\n",
       "</style>\n",
       "<table border=\"1\" class=\"dataframe\">\n",
       "  <thead>\n",
       "    <tr style=\"text-align: right;\">\n",
       "      <th></th>\n",
       "      <th>target</th>\n",
       "    </tr>\n",
       "  </thead>\n",
       "  <tbody>\n",
       "    <tr>\n",
       "      <th>0</th>\n",
       "      <td>88465.0</td>\n",
       "    </tr>\n",
       "    <tr>\n",
       "      <th>1</th>\n",
       "      <td>196964.0</td>\n",
       "    </tr>\n",
       "    <tr>\n",
       "      <th>2</th>\n",
       "      <td>29367.0</td>\n",
       "    </tr>\n",
       "    <tr>\n",
       "      <th>3</th>\n",
       "      <td>185377.0</td>\n",
       "    </tr>\n",
       "    <tr>\n",
       "      <th>4</th>\n",
       "      <td>144993.0</td>\n",
       "    </tr>\n",
       "  </tbody>\n",
       "</table>\n",
       "</div>"
      ],
      "text/plain": [
       "     target\n",
       "0   88465.0\n",
       "1  196964.0\n",
       "2   29367.0\n",
       "3  185377.0\n",
       "4  144993.0"
      ]
     },
     "execution_count": 19,
     "metadata": {},
     "output_type": "execute_result"
    }
   ],
   "source": [
    "oof_csv.head()"
   ]
  },
  {
   "cell_type": "code",
   "execution_count": 21,
   "metadata": {},
   "outputs": [
    {
     "data": {
      "text/plain": [
       "array([ 88465., 196964.,  29367., ..., 136326.,  95919.,   3841.])"
      ]
     },
     "execution_count": 21,
     "metadata": {},
     "output_type": "execute_result"
    }
   ],
   "source": [
    "temp"
   ]
  },
  {
   "cell_type": "code",
   "execution_count": 22,
   "metadata": {},
   "outputs": [],
   "source": [
    "temp = temp.reshape(-1, 1)"
   ]
  },
  {
   "cell_type": "code",
   "execution_count": 23,
   "metadata": {},
   "outputs": [
    {
     "data": {
      "text/plain": [
       "array([[ 88465.],\n",
       "       [196964.],\n",
       "       [ 29367.],\n",
       "       ...,\n",
       "       [136326.],\n",
       "       [ 95919.],\n",
       "       [  3841.]])"
      ]
     },
     "execution_count": 23,
     "metadata": {},
     "output_type": "execute_result"
    }
   ],
   "source": [
    "temp"
   ]
  },
  {
   "cell_type": "code",
   "execution_count": 33,
   "metadata": {},
   "outputs": [],
   "source": [
    "ss = MinMaxScaler()"
   ]
  },
  {
   "cell_type": "code",
   "execution_count": 29,
   "metadata": {},
   "outputs": [
    {
     "data": {
      "text/plain": [
       "array([0.44232221, 0.98481992, 0.14683073, ..., 0.68162841, 0.4795924 ,\n",
       "       0.0192001 ])"
      ]
     },
     "execution_count": 29,
     "metadata": {},
     "output_type": "execute_result"
    }
   ],
   "source": [
    "ss.fit_transform(temp).reshape(-1)"
   ]
  },
  {
   "cell_type": "code",
   "execution_count": null,
   "metadata": {},
   "outputs": [],
   "source": []
  },
  {
   "cell_type": "code",
   "execution_count": 36,
   "metadata": {},
   "outputs": [
    {
     "data": {
      "text/plain": [
       "array([0.78156891, 0.87596438, 0.77301387, ..., 0.06167531, 0.64499322,\n",
       "       0.70266851])"
      ]
     },
     "execution_count": 36,
     "metadata": {},
     "output_type": "execute_result"
    }
   ],
   "source": [
    "test_preds = rankdata(test_preds)\n",
    "ss.fit_transform(test_preds.reshape(-1,1)).reshape(-1)"
   ]
  },
  {
   "cell_type": "code",
   "execution_count": null,
   "metadata": {},
   "outputs": [],
   "source": []
  }
 ],
 "metadata": {
  "kernelspec": {
   "display_name": "Python 3",
   "language": "python",
   "name": "python3"
  },
  "language_info": {
   "codemirror_mode": {
    "name": "ipython",
    "version": 3
   },
   "file_extension": ".py",
   "mimetype": "text/x-python",
   "name": "python",
   "nbconvert_exporter": "python",
   "pygments_lexer": "ipython3",
   "version": "3.6.7"
  }
 },
 "nbformat": 4,
 "nbformat_minor": 2
}
