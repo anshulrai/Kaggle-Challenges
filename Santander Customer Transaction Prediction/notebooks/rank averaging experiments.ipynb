{
 "cells": [
  {
   "cell_type": "code",
   "execution_count": 35,
   "metadata": {},
   "outputs": [],
   "source": [
    "from sklearn.preprocessing import MinMaxScaler\n",
    "import numpy as np\n",
    "import pandas as pd\n",
    "import seaborn as sns\n",
    "import matplotlib.pyplot as plt"
   ]
  },
  {
   "cell_type": "code",
   "execution_count": 2,
   "metadata": {},
   "outputs": [],
   "source": [
    "rank_output = pd.DataFrame()"
   ]
  },
  {
   "cell_type": "code",
   "execution_count": 27,
   "metadata": {},
   "outputs": [],
   "source": [
    "submissions = [\"lgb_optimal_0.9013692237006661.csv\",\n",
    "              \"lgb_baseline_0.9005332611628906.csv\",\n",
    "               \"naivebayes_baseline_0.888472439455181.csv\"\n",
    "              ]"
   ]
  },
  {
   "cell_type": "code",
   "execution_count": 28,
   "metadata": {},
   "outputs": [
    {
     "data": {
      "text/plain": [
       "Ridge(alpha=1.0, copy_X=True, fit_intercept=True, max_iter=None,\n",
       "   normalize=False, random_state=42, solver='auto', tol=0.001)"
      ]
     },
     "execution_count": 28,
     "metadata": {},
     "output_type": "execute_result"
    }
   ],
   "source": [
    "n_val = len(pd.read_csv(\"../input/train.csv\", usecols=[\"target\"]))\n",
    "val_data = np.zeros((n_val, len(submissions)))\n",
    "column_names = []\n",
    "\n",
    "for i, submission in enumerate(submissions):\n",
    "    column_names.append(submission.split('.csv')[0])\n",
    "    val_data[:,i] = pd.read_csv(r\"../output/oof predictions/{}\".format(submission), \n",
    "                            usecols=[\"target\"]).rank().values[:,0]\n",
    "\n",
    "oof_labels = pd.read_csv(\"../input/train.csv\", usecols=[\"target\"]).rank().values[:,0]\n",
    "clf = Ridge(random_state=42)\n",
    "clf.fit(val_data, oof_labels)\n",
    "clf.coef_"
   ]
  },
  {
   "cell_type": "code",
   "execution_count": 34,
   "metadata": {},
   "outputs": [
    {
     "data": {
      "text/plain": [
       "array([0.11595464, 0.05684693, 0.04835089])"
      ]
     },
     "execution_count": 34,
     "metadata": {},
     "output_type": "execute_result"
    }
   ],
   "source": []
  },
  {
   "cell_type": "code",
   "execution_count": 4,
   "metadata": {},
   "outputs": [],
   "source": [
    "n_test = len(pd.read_csv(\"../input/test.csv\", usecols=[\"ID_code\"]))\n",
    "test_data = np.zeros((n_test, len(submissions)))"
   ]
  },
  {
   "cell_type": "code",
   "execution_count": 5,
   "metadata": {},
   "outputs": [],
   "source": [
    "column_names = []"
   ]
  },
  {
   "cell_type": "code",
   "execution_count": 6,
   "metadata": {},
   "outputs": [],
   "source": [
    "for i, submission in enumerate(submissions):\n",
    "    column_names.append(submission.split('.csv')[0])\n",
    "    test_data[:,i] = pd.read_csv(\"../submissions/{}\".format(submission), \n",
    "                               usecols=[\"target\"]).values[:,0]"
   ]
  },
  {
   "cell_type": "code",
   "execution_count": 7,
   "metadata": {},
   "outputs": [],
   "source": [
    "test_df = pd.DataFrame(data=test_data, columns=column_names)"
   ]
  },
  {
   "cell_type": "code",
   "execution_count": 14,
   "metadata": {},
   "outputs": [
    {
     "data": {
      "text/html": [
       "<div>\n",
       "<style scoped>\n",
       "    .dataframe tbody tr th:only-of-type {\n",
       "        vertical-align: middle;\n",
       "    }\n",
       "\n",
       "    .dataframe tbody tr th {\n",
       "        vertical-align: top;\n",
       "    }\n",
       "\n",
       "    .dataframe thead th {\n",
       "        text-align: right;\n",
       "    }\n",
       "</style>\n",
       "<table border=\"1\" class=\"dataframe\">\n",
       "  <thead>\n",
       "    <tr style=\"text-align: right;\">\n",
       "      <th></th>\n",
       "      <th>lgb_optimal_0.9013692237006661</th>\n",
       "      <th>lgb_baseline_0.9005332611628906</th>\n",
       "      <th>gp_blend_unknown</th>\n",
       "    </tr>\n",
       "  </thead>\n",
       "  <tbody>\n",
       "    <tr>\n",
       "      <th>0</th>\n",
       "      <td>0.477733</td>\n",
       "      <td>0.090361</td>\n",
       "      <td>0.059226</td>\n",
       "    </tr>\n",
       "    <tr>\n",
       "      <th>1</th>\n",
       "      <td>0.690618</td>\n",
       "      <td>0.225661</td>\n",
       "      <td>0.113019</td>\n",
       "    </tr>\n",
       "    <tr>\n",
       "      <th>2</th>\n",
       "      <td>0.639722</td>\n",
       "      <td>0.178853</td>\n",
       "      <td>0.083029</td>\n",
       "    </tr>\n",
       "    <tr>\n",
       "      <th>3</th>\n",
       "      <td>0.647539</td>\n",
       "      <td>0.209107</td>\n",
       "      <td>0.064921</td>\n",
       "    </tr>\n",
       "    <tr>\n",
       "      <th>4</th>\n",
       "      <td>0.252872</td>\n",
       "      <td>0.046328</td>\n",
       "      <td>0.020245</td>\n",
       "    </tr>\n",
       "    <tr>\n",
       "      <th>5</th>\n",
       "      <td>0.013025</td>\n",
       "      <td>0.002240</td>\n",
       "      <td>0.001240</td>\n",
       "    </tr>\n",
       "    <tr>\n",
       "      <th>6</th>\n",
       "      <td>0.040885</td>\n",
       "      <td>0.006710</td>\n",
       "      <td>0.004582</td>\n",
       "    </tr>\n",
       "    <tr>\n",
       "      <th>7</th>\n",
       "      <td>0.634742</td>\n",
       "      <td>0.186779</td>\n",
       "      <td>0.087296</td>\n",
       "    </tr>\n",
       "    <tr>\n",
       "      <th>8</th>\n",
       "      <td>0.014345</td>\n",
       "      <td>0.002670</td>\n",
       "      <td>0.001528</td>\n",
       "    </tr>\n",
       "    <tr>\n",
       "      <th>9</th>\n",
       "      <td>0.054430</td>\n",
       "      <td>0.007736</td>\n",
       "      <td>0.004994</td>\n",
       "    </tr>\n",
       "  </tbody>\n",
       "</table>\n",
       "</div>"
      ],
      "text/plain": [
       "   lgb_optimal_0.9013692237006661  lgb_baseline_0.9005332611628906  \\\n",
       "0                        0.477733                         0.090361   \n",
       "1                        0.690618                         0.225661   \n",
       "2                        0.639722                         0.178853   \n",
       "3                        0.647539                         0.209107   \n",
       "4                        0.252872                         0.046328   \n",
       "5                        0.013025                         0.002240   \n",
       "6                        0.040885                         0.006710   \n",
       "7                        0.634742                         0.186779   \n",
       "8                        0.014345                         0.002670   \n",
       "9                        0.054430                         0.007736   \n",
       "\n",
       "   gp_blend_unknown  \n",
       "0          0.059226  \n",
       "1          0.113019  \n",
       "2          0.083029  \n",
       "3          0.064921  \n",
       "4          0.020245  \n",
       "5          0.001240  \n",
       "6          0.004582  \n",
       "7          0.087296  \n",
       "8          0.001528  \n",
       "9          0.004994  "
      ]
     },
     "execution_count": 14,
     "metadata": {},
     "output_type": "execute_result"
    }
   ],
   "source": [
    "test_df.head(10)"
   ]
  },
  {
   "cell_type": "code",
   "execution_count": 9,
   "metadata": {},
   "outputs": [
    {
     "data": {
      "text/plain": [
       "<matplotlib.axes._subplots.AxesSubplot at 0x7f71dbdd1e10>"
      ]
     },
     "execution_count": 9,
     "metadata": {},
     "output_type": "execute_result"
    },
    {
     "data": {
      "image/png": "[encoded data removed]",
      "text/plain": [
       "<Figure size 1440x576 with 2 Axes>"
      ]
     },
     "metadata": {
      "needs_background": "light"
     },
     "output_type": "display_data"
    }
   ],
   "source": [
    "corr = test_df.corr()\n",
    "fig, ax = plt.subplots(figsize=(20,8)) \n",
    "\n",
    "sns.heatmap(corr, \n",
    "        xticklabels=corr.columns,\n",
    "        yticklabels=corr.columns,\n",
    "        annot=True,\n",
    "           ax=ax)"
   ]
  },
  {
   "cell_type": "code",
   "execution_count": 10,
   "metadata": {},
   "outputs": [
    {
     "data": {
      "text/html": [
       "<div>\n",
       "<style scoped>\n",
       "    .dataframe tbody tr th:only-of-type {\n",
       "        vertical-align: middle;\n",
       "    }\n",
       "\n",
       "    .dataframe tbody tr th {\n",
       "        vertical-align: top;\n",
       "    }\n",
       "\n",
       "    .dataframe thead th {\n",
       "        text-align: right;\n",
       "    }\n",
       "</style>\n",
       "<table border=\"1\" class=\"dataframe\">\n",
       "  <thead>\n",
       "    <tr style=\"text-align: right;\">\n",
       "      <th></th>\n",
       "      <th>lgb_optimal_0.9013692237006661</th>\n",
       "      <th>lgb_baseline_0.9005332611628906</th>\n",
       "      <th>gp_blend_unknown</th>\n",
       "      <th>mean_rank</th>\n",
       "    </tr>\n",
       "  </thead>\n",
       "  <tbody>\n",
       "    <tr>\n",
       "      <th>0</th>\n",
       "      <td>150928.0</td>\n",
       "      <td>146227.0</td>\n",
       "      <td>156623.0</td>\n",
       "      <td>151259.333333</td>\n",
       "    </tr>\n",
       "    <tr>\n",
       "      <th>1</th>\n",
       "      <td>177262.0</td>\n",
       "      <td>178704.0</td>\n",
       "      <td>179116.0</td>\n",
       "      <td>178360.666667</td>\n",
       "    </tr>\n",
       "    <tr>\n",
       "      <th>2</th>\n",
       "      <td>171934.0</td>\n",
       "      <td>172080.0</td>\n",
       "      <td>169629.0</td>\n",
       "      <td>171214.333333</td>\n",
       "    </tr>\n",
       "    <tr>\n",
       "      <th>3</th>\n",
       "      <td>172823.0</td>\n",
       "      <td>176649.0</td>\n",
       "      <td>160487.0</td>\n",
       "      <td>169986.333333</td>\n",
       "    </tr>\n",
       "    <tr>\n",
       "      <th>4</th>\n",
       "      <td>106738.0</td>\n",
       "      <td>112891.0</td>\n",
       "      <td>100744.0</td>\n",
       "      <td>106791.000000</td>\n",
       "    </tr>\n",
       "  </tbody>\n",
       "</table>\n",
       "</div>"
      ],
      "text/plain": [
       "   lgb_optimal_0.9013692237006661  lgb_baseline_0.9005332611628906  \\\n",
       "0                        150928.0                         146227.0   \n",
       "1                        177262.0                         178704.0   \n",
       "2                        171934.0                         172080.0   \n",
       "3                        172823.0                         176649.0   \n",
       "4                        106738.0                         112891.0   \n",
       "\n",
       "   gp_blend_unknown      mean_rank  \n",
       "0          156623.0  151259.333333  \n",
       "1          179116.0  178360.666667  \n",
       "2          169629.0  171214.333333  \n",
       "3          160487.0  169986.333333  \n",
       "4          100744.0  106791.000000  "
      ]
     },
     "execution_count": 10,
     "metadata": {},
     "output_type": "execute_result"
    }
   ],
   "source": [
    "test_ranks = test_df.rank()\n",
    "test_ranks[\"mean_rank\"] = test_ranks.mean(axis=1)\n",
    "test_ranks.head()"
   ]
  },
  {
   "cell_type": "code",
   "execution_count": 11,
   "metadata": {},
   "outputs": [],
   "source": [
    "ss = MinMaxScaler()"
   ]
  },
  {
   "cell_type": "code",
   "execution_count": 12,
   "metadata": {},
   "outputs": [],
   "source": [
    "rank_preds = test_ranks[\"mean_rank\"].values\n",
    "rank_preds = rank_preds.reshape(-1, 1)"
   ]
  },
  {
   "cell_type": "code",
   "execution_count": 13,
   "metadata": {},
   "outputs": [],
   "source": [
    "submission = pd.read_csv('../input/sample_submission.csv')\n",
    "submission['target'] = ss.fit_transform(rank_preds)\n",
    "submission.to_csv('../submissions/rank_preds.csv', index=False)"
   ]
  },
  {
   "cell_type": "code",
   "execution_count": 25,
   "metadata": {},
   "outputs": [],
   "source": [
    "from sklearn.linear_model import Ridge"
   ]
  },
  {
   "cell_type": "code",
   "execution_count": 24,
   "metadata": {},
   "outputs": [
    {
     "data": {
      "text/plain": [
       "array([89951.5, 89951.5, 89951.5, ..., 89951.5, 89951.5, 89951.5])"
      ]
     },
     "execution_count": 24,
     "metadata": {},
     "output_type": "execute_result"
    }
   ],
   "source": [
    "train_labels"
   ]
  },
  {
   "cell_type": "code",
   "execution_count": null,
   "metadata": {},
   "outputs": [],
   "source": []
  }
 ],
 "metadata": {
  "kernelspec": {
   "display_name": "Python 3",
   "language": "python",
   "name": "python3"
  },
  "language_info": {
   "codemirror_mode": {
    "name": "ipython",
    "version": 3
   },
   "file_extension": ".py",
   "mimetype": "text/x-python",
   "name": "python",
   "nbconvert_exporter": "python",
   "pygments_lexer": "ipython3",
   "version": "3.6.7"
  }
 },
 "nbformat": 4,
 "nbformat_minor": 2
}
