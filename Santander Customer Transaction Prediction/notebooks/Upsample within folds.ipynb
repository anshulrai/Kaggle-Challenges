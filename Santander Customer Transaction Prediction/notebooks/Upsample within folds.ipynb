{
 "cells": [
  {
   "cell_type": "code",
   "execution_count": 2,
   "metadata": {},
   "outputs": [],
   "source": [
    "import numpy as np\n",
    "import pandas as pd\n",
    "import gc\n",
    "import time\n",
    "import lightgbm as lgb\n",
    "from sklearn.metrics import roc_auc_score, roc_curve\n",
    "from sklearn.model_selection import StratifiedKFold\n",
    "import matplotlib.pyplot as plt\n",
    "import seaborn as sns\n",
    "import warnings\n",
    "import base64\n",
    "import os\n",
    "from sklearn.preprocessing import StandardScaler\n",
    "import datetime"
   ]
  },
  {
   "cell_type": "code",
   "execution_count": 3,
   "metadata": {},
   "outputs": [],
   "source": [
    "num_folds = 5\n",
    "windows_flag = False\n",
    "SEED = 42"
   ]
  },
  {
   "cell_type": "code",
   "execution_count": 4,
   "metadata": {},
   "outputs": [
    {
     "name": "stdout",
     "output_type": "stream",
     "text": [
      "Load Train Data.\n",
      "\n",
      "Shape of Train Data: (200000, 202)\t Shape of Test Data: (200000, 201)\n"
     ]
    }
   ],
   "source": [
    "print('Load Train Data.')\n",
    "train_df = pd.read_csv('../input/train.csv')\n",
    "test_df = pd.read_csv('../input/test.csv')\n",
    "print('\\nShape of Train Data: {}\\t Shape of Test Data: {}'\n",
    "    .format(train_df.shape, test_df.shape))\n",
    "\n",
    "train_df.drop(['ID_code'], axis=1, inplace=True)\n",
    "test_df.drop(['ID_code'], axis=1, inplace=True)\n",
    "\n",
    "train_labels = train_df['target']\n",
    "train_index = np.array(train_df.index)\n",
    "\n",
    "train_df.drop(['target'], axis=1, inplace=True)\n",
    "\n",
    "oof_preds = np.zeros(train_df.shape[0])\n",
    "test_preds = np.zeros(test_df.shape[0])"
   ]
  },
  {
   "cell_type": "code",
   "execution_count": 13,
   "metadata": {},
   "outputs": [],
   "source": [
    "def shuffle_features(df, target, seed):\n",
    "    _seed = seed\n",
    "    _df = pd.DataFrame()\n",
    "    for column in df.columns:\n",
    "        _df[column] = df[column].sample(frac=1,random_state=_seed).values\n",
    "        _seed += 1\n",
    "    return _df"
   ]
  },
  {
   "cell_type": "code",
   "execution_count": 14,
   "metadata": {},
   "outputs": [],
   "source": [
    "def upsample_data(df, target):\n",
    "    df_1 = df[target==1]\n",
    "    for i in range(8):\n",
    "        df = pd.concat([df, shuffle_features(df_1, 1, SEED+10*i)], axis=0, sort=False)\n",
    "        target = pd.concat([target, pd.Series(np.ones(len(df_1)))], axis=0)\n",
    "\n",
    "    df = df.sample(frac=1, random_state=SEED).reset_index(drop=True)\n",
    "    target = target.sample(frac=1, random_state=SEED).reset_index(drop=True)\n",
    "    return df, target"
   ]
  },
  {
   "cell_type": "code",
   "execution_count": 18,
   "metadata": {},
   "outputs": [],
   "source": [
    "def expand_data(df, target):\n",
    "    df_1 = df[target==1]\n",
    "    df_0 = df[target==0]\n",
    "    df = pd.concat([df_1, df_0], axis=0, sort=False)\n",
    "    target = pd.concat([target[target==1], target[target==0]], axis=0)\n",
    "    for i in range(4):\n",
    "        df = pd.concat([df, shuffle_features(df_1, 1, SEED+10*i)], axis=0, sort=False)\n",
    "        target = pd.concat([target, pd.Series(np.ones(len(df_1)))], axis=0)\n",
    "    for i in range(4):\n",
    "        df = pd.concat([df, shuffle_features(df_0, 0, (i+2)*SEED+10*i)], axis=0, sort=False)\n",
    "        target = pd.concat([target, pd.Series(np.zeros(len(df_0)))], axis=0)\n",
    "\n",
    "    df = df.sample(frac=1, random_state=SEED).reset_index(drop=True)\n",
    "    target = target.sample(frac=1, random_state=SEED).reset_index(drop=True)\n",
    "    return df, target"
   ]
  },
  {
   "cell_type": "code",
   "execution_count": 19,
   "metadata": {},
   "outputs": [],
   "source": [
    "skf = StratifiedKFold(n_splits=num_folds, shuffle=True, random_state=42)"
   ]
  },
  {
   "cell_type": "code",
   "execution_count": 20,
   "metadata": {},
   "outputs": [
    {
     "name": "stdout",
     "output_type": "stream",
     "text": [
      "\n",
      "Fold 1\n",
      "Upsample train data in fold.\n",
      "Shape in train before expanding: (288623, 200) \tratio of positive to negative samples: 1.0054265881976918\n",
      "Expanding data.\n",
      "Shape in train after expanding: (1443115, 200) \tratio of positive to negative samples: 1.0054265881976918\n",
      "Shape in val: (40001, 200) \tratio of positive to negative samples: 0.11172563297295796\n",
      "\n",
      "Fold 2\n",
      "Upsample train data in fold.\n",
      "Shape in train before expanding: (288623, 200) \tratio of positive to negative samples: 1.0054265881976918\n",
      "Expanding data.\n",
      "Shape in train after expanding: (1443115, 200) \tratio of positive to negative samples: 1.0054265881976918\n",
      "Shape in val: (40001, 200) \tratio of positive to negative samples: 0.11172563297295796\n",
      "\n",
      "Fold 3\n",
      "Upsample train data in fold.\n",
      "Shape in train before expanding: (288624, 200) \tratio of positive to negative samples: 1.0054196022845707\n",
      "Expanding data.\n",
      "Shape in train after expanding: (1443120, 200) \tratio of positive to negative samples: 1.0054196022845707\n",
      "Shape in val: (40000, 200) \tratio of positive to negative samples: 0.11172873818788216\n",
      "\n",
      "Fold 4\n",
      "Upsample train data in fold.\n",
      "Shape in train before expanding: (288633, 200) \tratio of positive to negative samples: 1.0054821361570851\n",
      "Expanding data.\n",
      "Shape in train after expanding: (1443165, 200) \tratio of positive to negative samples: 1.0054821361570851\n",
      "Shape in val: (39999, 200) \tratio of positive to negative samples: 0.11170094496942747\n",
      "\n",
      "Fold 5\n",
      "Upsample train data in fold.\n",
      "Shape in train before expanding: (288633, 200) \tratio of positive to negative samples: 1.0054821361570851\n",
      "Expanding data.\n",
      "Shape in train after expanding: (1443165, 200) \tratio of positive to negative samples: 1.0054821361570851\n",
      "Shape in val: (39999, 200) \tratio of positive to negative samples: 0.11170094496942747\n"
     ]
    }
   ],
   "source": [
    "for counter, ids in enumerate(skf.split(train_index, train_labels)):\n",
    "    print('\\nFold {}'.format(counter+1))\n",
    "    X_train, y_train = train_df.loc[ids[0],:], train_labels.loc[ids[0]]\n",
    "    print(\"Upsample train data in fold.\")\n",
    "    X_train, y_train = upsample_data(X_train, y_train)\n",
    "    print(\"Shape in train before expanding:\", X_train.shape, \"\\tratio of positive to negative samples:\", y_train.value_counts()[1]/y_train.value_counts()[0])\n",
    "    \n",
    "    print(\"Expanding data.\")\n",
    "    X_train, y_train = expand_data(X_train, y_train)\n",
    "    \n",
    "    X_val, y_val = train_df.loc[ids[1], :], train_labels.loc[ids[1]]\n",
    "    \n",
    "    print(\"Shape in train after expanding:\", X_train.shape, \"\\tratio of positive to negative samples:\", y_train.value_counts()[1]/y_train.value_counts()[0])\n",
    "    \n",
    "    print(\"Shape in val:\", X_val.shape, \"\\tratio of positive to negative samples:\", y_val.value_counts()[1]/y_val.value_counts()[0])"
   ]
  },
  {
   "cell_type": "code",
   "execution_count": null,
   "metadata": {},
   "outputs": [],
   "source": []
  }
 ],
 "metadata": {
  "kernelspec": {
   "display_name": "Python 3",
   "language": "python",
   "name": "python3"
  },
  "language_info": {
   "codemirror_mode": {
    "name": "ipython",
    "version": 3
   },
   "file_extension": ".py",
   "mimetype": "text/x-python",
   "name": "python",
   "nbconvert_exporter": "python",
   "pygments_lexer": "ipython3",
   "version": "3.6.7"
  }
 },
 "nbformat": 4,
 "nbformat_minor": 2
}
