{
  "cells": [
    {
      "metadata": {
        "_uuid": "8f2839f25d086af736a60e9eeb907d3b93b6e0e5",
        "_cell_guid": "b1076dfc-b9ad-4769-8c92-a6c4dae69d19",
        "trusted": true,
        "collapsed": true
      },
      "cell_type": "code",
      "source": "import numpy as np # linear algebra\nimport pandas as pd # data processing, CSV file I/O (e.g. pd.read_csv)\nimport os\nprint(os.listdir(\"../input\"))\nimport seaborn as sns\nimport matplotlib.pyplot as plt\nfrom sklearn.model_selection import KFold\nfrom sklearn.metrics import roc_auc_score\nimport lightgbm as lgb\nimport gc\nfrom matplotlib_venn import venn2\nfrom sklearn.model_selection import train_test_split\nfrom sklearn.metrics import mean_squared_error\nimport scipy\nimport itertools\nfrom sklearn.preprocessing import MinMaxScaler, Imputer",
      "execution_count": null,
      "outputs": []
    },
    {
      "metadata": {
        "_cell_guid": "79c7e3d0-c299-4dcb-8224-4455121ee9b0",
        "collapsed": true,
        "_uuid": "d629ff2d2480ee46fbb7e2d37f6b5fab8052498a",
        "trusted": true
      },
      "cell_type": "code",
      "source": "from fastai.imports import *\nfrom fastai.transforms import *\nfrom fastai.conv_learner import *\nfrom fastai.model import *\nfrom fastai.dataset import *\nfrom fastai.sgdr import *\nfrom fastai.plots import *\nfrom  fastai.structured import *\nfrom fastai.column_data import *",
      "execution_count": null,
      "outputs": []
    },
    {
      "metadata": {
        "trusted": true,
        "collapsed": true,
        "_uuid": "7b4ef60f754e10fc77d228ef1f4a1cf9971dea8b"
      },
      "cell_type": "code",
      "source": "table_names = ['application_train', 'bureau', 'bureau_balance', 'POS_CASH_balance', \n               'credit_card_balance', 'previous_application', 'application_test', 'installments_payments']",
      "execution_count": null,
      "outputs": []
    },
    {
      "metadata": {
        "trusted": true,
        "_uuid": "9f20dca823cb772be347f95d93349a5d7a3e6e9a",
        "collapsed": true
      },
      "cell_type": "code",
      "source": "tables = [pd.read_csv(f'../input/{fname}.csv', low_memory=False) for fname in table_names]",
      "execution_count": null,
      "outputs": []
    },
    {
      "metadata": {
        "trusted": true,
        "_uuid": "8a06dc9c688de197da6679da270a6da55280dd0e",
        "collapsed": true
      },
      "cell_type": "code",
      "source": "for table in tables:\n    display(table.head())",
      "execution_count": null,
      "outputs": []
    },
    {
      "metadata": {
        "trusted": true,
        "_uuid": "02f14dd8414db4c2b8e0e305dc15a58e554f147e",
        "collapsed": true
      },
      "cell_type": "code",
      "source": "application_train, bureau, bureau_balance, POS_CASH_balance, credit_card_balance, previous_application, application_test, installments_payments = tables",
      "execution_count": null,
      "outputs": []
    },
    {
      "metadata": {
        "trusted": true,
        "_uuid": "5ea56b451f7042005a168204b9317838f336bd22",
        "scrolled": true,
        "collapsed": true
      },
      "cell_type": "code",
      "source": "application_test.info()",
      "execution_count": null,
      "outputs": []
    },
    {
      "metadata": {
        "trusted": true,
        "_uuid": "2c57e1c32404e7dc021d94d2c8d04d21c195dbee",
        "collapsed": true
      },
      "cell_type": "code",
      "source": "len(application_train), len(application_test)",
      "execution_count": null,
      "outputs": []
    },
    {
      "metadata": {
        "trusted": true,
        "collapsed": true,
        "_uuid": "6053585396c28fa1f1f58245560b194b83328b32"
      },
      "cell_type": "code",
      "source": "def join_df(left, right, left_on, right_on=None, suffix='_y'):\n    if right_on is None: right_on = left_on\n    return left.merge(right, how='left', left_on=left_on, right_on=right_on, \n                      suffixes=(\"\", suffix))",
      "execution_count": null,
      "outputs": []
    },
    {
      "metadata": {
        "trusted": true,
        "_uuid": "f3d7636eb25d0e8b894cbabc70818ae23609836c",
        "collapsed": true
      },
      "cell_type": "code",
      "source": "gc.collect()",
      "execution_count": null,
      "outputs": []
    },
    {
      "metadata": {
        "trusted": true,
        "collapsed": true,
        "_uuid": "8046292595fd00a5cdce28d19b98b5cad0d38f18"
      },
      "cell_type": "markdown",
      "source": "bureau = join_df(bureau, bureau_balance, 'SK_ID_BUREAU')\ndel bureau_balance\ngc.collect()"
    },
    {
      "metadata": {
        "trusted": true,
        "_uuid": "2f5b538e74c8707443cd9953b5a6954d73f94562",
        "collapsed": true
      },
      "cell_type": "code",
      "source": "plt.figure(figsize=(10,7))\nvenn2([set(bureau['SK_ID_BUREAU'].unique()), set(bureau_balance['SK_ID_BUREAU'].unique())], set_labels = ('bureau', 'bureau_balance') )\nplt.title(\"SK_ID_BUREAU in bureau and bureau_balance\", fontsize=15)\nplt.show()",
      "execution_count": null,
      "outputs": []
    },
    {
      "metadata": {
        "_uuid": "afb0d6c0e31894d7bc8120aa4b189066be64fbd6"
      },
      "cell_type": "markdown",
      "source": "# Begin application_train"
    },
    {
      "metadata": {
        "trusted": true,
        "_uuid": "43afe96d1b4e0f3bdd828579457a516cdb208777",
        "collapsed": true
      },
      "cell_type": "code",
      "source": "plt.figure(figsize=(10,7))\nvenn2([set(bureau['SK_ID_CURR'].unique()), set(application_train['SK_ID_CURR'].unique())], set_labels = ('bureau', 'application_train') )\nplt.title(\"SK_ID_CURR in bureau and application_train\", fontsize=15)\nplt.show()",
      "execution_count": null,
      "outputs": []
    },
    {
      "metadata": {
        "trusted": true,
        "_uuid": "2153c5fff1d182d8fbd675123803d61314e192c6",
        "collapsed": true
      },
      "cell_type": "code",
      "source": "plt.figure(figsize=(10,7))\nvenn2([set(application_test['SK_ID_CURR'].unique()), set(application_train['SK_ID_CURR'].unique())], set_labels = ('application_test', 'application_train') )\nplt.title(\"SK_ID_CURR in application_test and application_train\", fontsize=15)\nplt.show()",
      "execution_count": null,
      "outputs": []
    },
    {
      "metadata": {
        "trusted": true,
        "_uuid": "f13a66f332a89a8ab2ed9e04d226ad548013bda9",
        "collapsed": true
      },
      "cell_type": "code",
      "source": "plt.figure(figsize=(10,7))\nvenn2([set(previous_application['SK_ID_CURR'].unique()), set(application_train['SK_ID_CURR'].unique())], set_labels = ('previous_application', 'application_train') )\nplt.title(\"SK_ID_CURR in previous_application and application_train\", fontsize=15)\nplt.show()",
      "execution_count": null,
      "outputs": []
    },
    {
      "metadata": {
        "trusted": true,
        "_uuid": "fcc0febfc8c4103cf19f106c7baeda6a795869c4",
        "collapsed": true
      },
      "cell_type": "code",
      "source": "plt.figure(figsize=(10,7))\nvenn2([set(POS_CASH_balance['SK_ID_CURR'].unique()), set(application_train['SK_ID_CURR'].unique())], set_labels = ('POS_CASH_balance', 'application_train') )\nplt.title(\"SK_ID_CURR in POS_CASH_balance and application_train\", fontsize=15)\nplt.show()",
      "execution_count": null,
      "outputs": []
    },
    {
      "metadata": {
        "trusted": true,
        "_uuid": "9dfa589856c23baa49e152dd8bbac0b471132681",
        "collapsed": true
      },
      "cell_type": "code",
      "source": "plt.figure(figsize=(10,7))\nvenn2([set(installments_payments['SK_ID_CURR'].unique()), set(application_train['SK_ID_CURR'].unique())], set_labels = ('installments_payments', 'application_train') )\nplt.title(\"SK_ID_CURR in installments_payments and application_train\", fontsize=15)\nplt.show()",
      "execution_count": null,
      "outputs": []
    },
    {
      "metadata": {
        "trusted": true,
        "_uuid": "91b1bde157e1a1aa33d0e41b65688d67c7f32cd5",
        "collapsed": true
      },
      "cell_type": "code",
      "source": "plt.figure(figsize=(10,7))\nvenn2([set(credit_card_balance['SK_ID_CURR'].unique()), set(application_train['SK_ID_CURR'].unique())], set_labels = ('credit_card_balance', 'application_train') )\nplt.title(\"SK_ID_CURR in credit_card_balance and application_train\", fontsize=15)\nplt.show()",
      "execution_count": null,
      "outputs": []
    },
    {
      "metadata": {
        "_uuid": "3e68f995d61bc409196d150d03de777ea0203895"
      },
      "cell_type": "markdown",
      "source": "# End application_train\n\n# Begin previous_application"
    },
    {
      "metadata": {
        "trusted": true,
        "_uuid": "c067b9dc033c756e1c55a27d8ce885a5b10aaa67",
        "collapsed": true
      },
      "cell_type": "code",
      "source": "plt.figure(figsize=(10,7))\nvenn2([set(previous_application['SK_ID_PREV'].unique()), set(POS_CASH_balance['SK_ID_PREV'].unique())], set_labels = ('previous_application', 'POS_CASH_balance') )\nplt.title(\"SK_ID_PREV in previous_application and POS_CASH_balance\", fontsize=15)\nplt.show()",
      "execution_count": null,
      "outputs": []
    },
    {
      "metadata": {
        "trusted": true,
        "_uuid": "c1d9e17973d8d7d8e833e678ba3809a0ccf46eb8",
        "collapsed": true
      },
      "cell_type": "code",
      "source": "plt.figure(figsize=(10,7))\nvenn2([set(previous_application['SK_ID_PREV'].unique()), set(installments_payments['SK_ID_PREV'].unique())], set_labels = ('previous_application', 'installments_payments') )\nplt.title(\"SK_ID_PREV in previous_application and installments_payments\", fontsize=15)\nplt.show()",
      "execution_count": null,
      "outputs": []
    },
    {
      "metadata": {
        "trusted": true,
        "_uuid": "704bc6bef5f33e7e93635e98527d5678d77e25cd",
        "collapsed": true
      },
      "cell_type": "code",
      "source": "plt.figure(figsize=(10,7))\nvenn2([set(previous_application['SK_ID_PREV'].unique()), set(credit_card_balance['SK_ID_PREV'].unique())], set_labels = ('previous_application', 'credit_card_balance') )\nplt.title(\"SK_ID_PREV in previous_application and credit_card_balance\", fontsize=15)\nplt.show()",
      "execution_count": null,
      "outputs": []
    },
    {
      "metadata": {
        "trusted": true,
        "_uuid": "a7b1828e8618bfeccb9ac0db2256f7681f73e258",
        "collapsed": true
      },
      "cell_type": "code",
      "source": "gc.collect()",
      "execution_count": null,
      "outputs": []
    },
    {
      "metadata": {
        "trusted": true,
        "_uuid": "3cc8b6a3990c442cfb2918e09b22d9e3833ef40c",
        "collapsed": true
      },
      "cell_type": "code",
      "source": "application_train.info()",
      "execution_count": null,
      "outputs": []
    },
    {
      "metadata": {
        "trusted": true,
        "_uuid": "c05c609def5450af28a3af1693601165a5622d12",
        "collapsed": true
      },
      "cell_type": "code",
      "source": "cat_len = 0\nfor col in application_train.columns:\n    if application_train[col].dtype == 'object':\n        cat_len += len(application_train[col].unique())\nprint (cat_len)",
      "execution_count": null,
      "outputs": []
    },
    {
      "metadata": {
        "trusted": true,
        "_uuid": "4b7440fe6b1b1d8c7604deaa8944039c39cef792",
        "collapsed": true
      },
      "cell_type": "code",
      "source": "application_train = pd.get_dummies(application_train, dummy_na=True)\napplication_test = pd.get_dummies(application_test, dummy_na=True)",
      "execution_count": null,
      "outputs": []
    },
    {
      "metadata": {
        "trusted": true,
        "_uuid": "7740b81597ca3a215afd5d359f21791225f1c0aa",
        "collapsed": true
      },
      "cell_type": "code",
      "source": "target_var = application_train['TARGET']\n\napplication_train, application_test = application_train.align(application_test, join = 'inner', axis = 1)\n\napplication_train['TARGET'] = target_var\n\nprint('Training Features shape: ', application_train.shape)\nprint('Testing Features shape: ', application_test.shape)",
      "execution_count": null,
      "outputs": []
    },
    {
      "metadata": {
        "trusted": true,
        "_uuid": "a801a40a9f029351fffc133bfd706244fa7302e4",
        "collapsed": true
      },
      "cell_type": "code",
      "source": "application_train.info()",
      "execution_count": null,
      "outputs": []
    },
    {
      "metadata": {
        "trusted": true,
        "_uuid": "bb4c72ee098ea5c56de0ceb9c0490cdf78e453ff",
        "collapsed": true
      },
      "cell_type": "code",
      "source": "train_ids = application_train['SK_ID_CURR']\ntest_ids = application_test['SK_ID_CURR']\n    \n    # Extract the labels for training\nlabels = application_train['TARGET']\n    \n    # Remove the ids and target\ntrain_data = application_train.drop(columns = ['SK_ID_CURR', 'TARGET'])\ntest_data = application_test.drop(columns = ['SK_ID_CURR'])\n\nprint ('Missing data (train, test):\\t', (train_data.isna().sum().sum(), test_data.isna().sum().sum()))",
      "execution_count": null,
      "outputs": []
    },
    {
      "metadata": {
        "trusted": true,
        "_uuid": "c6c18a01be0211e260031e9eb30a9e83dd359109",
        "collapsed": true
      },
      "cell_type": "code",
      "source": "imputer = Imputer(strategy = 'median')\n\n# Scale each feature to 0-1\nscaler = MinMaxScaler(feature_range = (0, 1))\n\n# Fit on the training data\nimputer.fit(train_data)\n\n# Transform both training and testing data\ntrain_data = imputer.transform(train_data)\ntest_data = imputer.transform(test_data)\n\n# Repeat with the scaler\nscaler.fit(train_data)\ntrain_data = scaler.transform(train_data)\ntest_data = scaler.transform(test_data)\n\nprint('Training data shape: ', train_data.shape)\nprint('Testing data shape: ', test_data.shape)",
      "execution_count": null,
      "outputs": []
    },
    {
      "metadata": {
        "trusted": true,
        "_uuid": "ba5d231a25065d8cbaa4d60d2b958d27337ee507",
        "collapsed": true
      },
      "cell_type": "code",
      "source": "from sklearn.linear_model import LogisticRegression",
      "execution_count": null,
      "outputs": []
    },
    {
      "metadata": {
        "trusted": true,
        "_uuid": "4f33ee7db004df72b545a71cbaa518e98fe72db2",
        "collapsed": true
      },
      "cell_type": "code",
      "source": "log_reg = LogisticRegression(C = 0.001, random_state=42)\n\nlog_reg.fit(train_data, target_var)",
      "execution_count": null,
      "outputs": []
    },
    {
      "metadata": {
        "trusted": true,
        "_uuid": "3fc5f265b619c40e50e7539edbe89c30f570ba33",
        "collapsed": true
      },
      "cell_type": "code",
      "source": "logistic_preds = log_reg.predict_proba(test_data)[:, 1]",
      "execution_count": null,
      "outputs": []
    },
    {
      "metadata": {
        "trusted": true,
        "_uuid": "14813013c399c555bc5fab12a60bf8182af117b3",
        "collapsed": true
      },
      "cell_type": "code",
      "source": "log_reg_baseline = application_test[['SK_ID_CURR']]\nlog_reg_baseline['TARGET'] = logistic_preds\n\nlog_reg_baseline.head()",
      "execution_count": null,
      "outputs": []
    },
    {
      "metadata": {
        "trusted": true,
        "collapsed": true,
        "_uuid": "6e56362282791af23c30f22b835208d287fa3cba"
      },
      "cell_type": "code",
      "source": "log_reg_baseline.to_csv('log_reg_baseline.csv', index = False)",
      "execution_count": null,
      "outputs": []
    },
    {
      "metadata": {
        "trusted": true,
        "collapsed": true,
        "_uuid": "834903089f822f4bb217ff1b0dcfb3b6781cb528"
      },
      "cell_type": "code",
      "source": "train_index, valid_index = train_test_split(np.arange(len(train_data)), test_size=0.2, random_state=42)",
      "execution_count": null,
      "outputs": []
    },
    {
      "metadata": {
        "trusted": true,
        "_uuid": "1f10f6d97155e202531d0757e28de9350c34d247",
        "collapsed": true
      },
      "cell_type": "code",
      "source": "y_train = application_train.loc[train_index, 'TARGET']\ny_valid = application_train.loc[valid_index, 'TARGET']",
      "execution_count": null,
      "outputs": []
    },
    {
      "metadata": {
        "trusted": true,
        "_uuid": "e2cba97a1b504e75f07a10b07e371925f863ec5e",
        "collapsed": true
      },
      "cell_type": "code",
      "source": "x_train = train_data[train_index]\nx_valid = train_data[valid_index]",
      "execution_count": null,
      "outputs": []
    },
    {
      "metadata": {
        "trusted": true,
        "_uuid": "aec17c998e971869c35767f7baddf09df282313c",
        "collapsed": true
      },
      "cell_type": "code",
      "source": "dtrain = lgb.Dataset(x_train, label=y_train)\ndvalid = lgb.Dataset(x_valid, label=y_valid)",
      "execution_count": null,
      "outputs": []
    },
    {
      "metadata": {
        "trusted": true,
        "_uuid": "d5be0601a0ad56e6a12f42b5732c37bf6e9934dc",
        "collapsed": true
      },
      "cell_type": "code",
      "source": "rounds = 16000\nearly_stop_rounds = 500\nparams = {\n    'objective' : 'binary',\n    'metric' : 'auc',\n    'num_leaves' : 32,\n    'max_depth': 15,\n    'learning_rate' : 0.02,\n    'feature_fraction' : 0.6,\n    'verbosity' : -1\n}",
      "execution_count": null,
      "outputs": []
    },
    {
      "metadata": {
        "trusted": true,
        "_uuid": "2fc00d6c34154ea4ced883254094f753afb40684",
        "collapsed": true
      },
      "cell_type": "code",
      "source": "evals_result = {}\nmodel = lgb.train(params, dtrain, \n                  valid_sets=[dtrain, dvalid], \n                  valid_names=['train', 'valid'],\n                  num_boost_round=rounds, \n                  early_stopping_rounds=early_stop_rounds, \n                  verbose_eval=500)",
      "execution_count": null,
      "outputs": []
    },
    {
      "metadata": {
        "trusted": true,
        "_uuid": "4830c4718407cb8a3e2c289643ef55b9030cc990",
        "collapsed": true
      },
      "cell_type": "code",
      "source": "gc.collect()",
      "execution_count": null,
      "outputs": []
    },
    {
      "metadata": {
        "trusted": true,
        "_uuid": "c1f0adcc958c8227a8dae9cc07e00d3d087cc401",
        "collapsed": true
      },
      "cell_type": "code",
      "source": "lgb_predictions = model.predict(test_data)",
      "execution_count": null,
      "outputs": []
    },
    {
      "metadata": {
        "trusted": true,
        "_uuid": "737bafd66265ec27ef78366cd168b5cb35da0fa3",
        "collapsed": true
      },
      "cell_type": "code",
      "source": "lgb_baseline = application_test[['SK_ID_CURR']]\nlgb_baseline['TARGET'] = lgb_predictions\n\nlgb_baseline.head()",
      "execution_count": null,
      "outputs": []
    },
    {
      "metadata": {
        "trusted": true,
        "collapsed": true,
        "_uuid": "4ed828e1e027cc20d29fab792b952407ef9ba6d8"
      },
      "cell_type": "code",
      "source": "lgb_baseline.to_csv('lgb_baseline.csv', index = False)",
      "execution_count": null,
      "outputs": []
    },
    {
      "metadata": {
        "trusted": true,
        "collapsed": true,
        "_uuid": "e840ceb69fa2427a87c9f32049572402e35316f3"
      },
      "cell_type": "code",
      "source": "best_random_params = {'is_unbalance': True,\n'n_estimators': 2673,\n'num_leaves': 77,\n'learning_rate': 0.007641070180129345,\n'min_child_samples': 460,\n'boosting_type': 'gbdt',\n'subsample_for_bin': 240000,\n'reg_lambda': 0.2040816326530612,\n'reg_alpha': 0.8775510204081632,\n'subsample': 0.9494949494949496,\n'colsample_bytree': 0.7333333333333333,\n 'objective' : 'binary',\n 'metric' : 'auc'}",
      "execution_count": null,
      "outputs": []
    },
    {
      "metadata": {
        "trusted": true,
        "_uuid": "314a94774a67a391bff6891e258932314986fd32",
        "collapsed": true
      },
      "cell_type": "code",
      "source": "evals_result = {}\nbest_random_model = lgb.train(best_random_params, dtrain, \n                  valid_sets=[dtrain, dvalid], \n                  valid_names=['train', 'valid'],\n                  num_boost_round=rounds, \n                  early_stopping_rounds=early_stop_rounds, \n                  verbose_eval=500)",
      "execution_count": null,
      "outputs": []
    },
    {
      "metadata": {
        "trusted": true,
        "_uuid": "884c932c8708a153a0c9c18a206a6d73c8d6fd12",
        "collapsed": true
      },
      "cell_type": "code",
      "source": "best_random_preds = best_random_model.predict(test_data)\nbest_random_baseline = application_test[['SK_ID_CURR']]\nbest_random_baseline['TARGET'] = best_random_preds\n\nbest_random_baseline.head()",
      "execution_count": null,
      "outputs": []
    },
    {
      "metadata": {
        "trusted": true,
        "collapsed": true,
        "_uuid": "df6d429c033b0dc240d56b41104e2f9a9e564bda"
      },
      "cell_type": "code",
      "source": "best_random_baseline.to_csv('best_random_baseline.csv', index = False)",
      "execution_count": null,
      "outputs": []
    },
    {
      "metadata": {
        "trusted": true,
        "_uuid": "ca21fd6ccfc5fbe29b4d99e807be01ac65c9790e",
        "collapsed": true
      },
      "cell_type": "code",
      "source": "blend_rand_lgb = application_test[['SK_ID_CURR']]\nblend_rand_lgb['TARGET'] = (best_random_preds + lgb_predictions)/2\n\nblend_rand_lgb.head()",
      "execution_count": null,
      "outputs": []
    },
    {
      "metadata": {
        "trusted": true,
        "collapsed": true,
        "_uuid": "7aee4218e78cca86021b3cf45eb187cfdb176f8b"
      },
      "cell_type": "code",
      "source": "blend_rand_lgb.to_csv('blend_rand_lgb.csv', index = False)",
      "execution_count": null,
      "outputs": []
    },
    {
      "metadata": {
        "trusted": true,
        "_uuid": "5fddfcc635220714bc2ea37555ffc65e1769ddb3",
        "collapsed": true
      },
      "cell_type": "code",
      "source": "blend_3 = application_test[['SK_ID_CURR']]\nblend_3['TARGET'] = (best_random_preds + lgb_predictions + logistic_preds)/3\n\nblend_3.head()",
      "execution_count": null,
      "outputs": []
    },
    {
      "metadata": {
        "trusted": true,
        "collapsed": true,
        "_uuid": "85e67e41d9316252389b6b00d9b4baf0dfbeeba5"
      },
      "cell_type": "code",
      "source": "blend_3.to_csv('blend_3.csv', index = False)",
      "execution_count": null,
      "outputs": []
    },
    {
      "metadata": {
        "trusted": true,
        "_uuid": "74c0eef4f5f75d9f109a47c520db78714df620f1",
        "collapsed": true
      },
      "cell_type": "code",
      "source": "best_bayes_params = {\n    'is_unbalance': True,\n'n_estimators': 1327,\n'num_leaves': 106,\n'learning_rate': 0.0126346500398102,\n'min_child_samples': 390,\n'boosting_type': 'gbdt',\n'subsample_for_bin': 80000,\n'reg_lambda': 0.38268769901820565,\n'reg_alpha': 0.5129992714397862,\n'subsample': 0.7177561548329953,\n'colsample_bytree': 0.6149378064887835,\n'objective' : 'binary',\n'metric' : 'auc'}",
      "execution_count": null,
      "outputs": []
    },
    {
      "metadata": {
        "trusted": true,
        "_uuid": "13d9efa82226bed813257f7644a0b46c1b1e8e12",
        "collapsed": true
      },
      "cell_type": "code",
      "source": "best_bayes_model = lgb.train(best_bayes_params, dtrain, \n                  valid_sets=[dtrain, dvalid], \n                  valid_names=['train', 'valid'],\n                  num_boost_round=rounds, \n                  early_stopping_rounds=early_stop_rounds, \n                  verbose_eval=500)",
      "execution_count": null,
      "outputs": []
    },
    {
      "metadata": {
        "trusted": true,
        "_uuid": "5459693c36b2d5b87aac97a61b605473a98a84ce",
        "collapsed": true
      },
      "cell_type": "code",
      "source": "best_bayes_preds = best_bayes_model.predict(test_data)\nbest_bayes_baseline = application_test[['SK_ID_CURR']]\nbest_bayes_baseline['TARGET'] = best_bayes_preds\n\nbest_bayes_baseline.head()",
      "execution_count": null,
      "outputs": []
    },
    {
      "metadata": {
        "trusted": true,
        "collapsed": true,
        "_uuid": "ef6e1e8858fb3a65eb143ed665ef50859f23b117"
      },
      "cell_type": "code",
      "source": "best_bayes_baseline.to_csv('best_bayes_baseline.csv', index = False)",
      "execution_count": null,
      "outputs": []
    },
    {
      "metadata": {
        "trusted": true,
        "_uuid": "580472757e0e347e9ccc7b95eb873de48b2cfc6d",
        "collapsed": true
      },
      "cell_type": "code",
      "source": "blend_rand_bayes = application_test[['SK_ID_CURR']]\nblend_rand_bayes['TARGET'] = (best_random_preds + best_bayes_preds)/2\n\nblend_rand_bayes.head()",
      "execution_count": null,
      "outputs": []
    },
    {
      "metadata": {
        "trusted": true,
        "collapsed": true,
        "_uuid": "6ff64cf914784bae3d88a97784551d337dba2328"
      },
      "cell_type": "code",
      "source": "blend_rand_bayes.to_csv('blend_rand_bayes.csv', index = False)",
      "execution_count": null,
      "outputs": []
    },
    {
      "metadata": {
        "trusted": true,
        "_uuid": "5845b034482c3320d3b2f93c7b9ad6525ea4a693",
        "collapsed": true
      },
      "cell_type": "code",
      "source": "FileLink('blend_rand_bayes.csv')",
      "execution_count": null,
      "outputs": []
    },
    {
      "metadata": {
        "trusted": true,
        "collapsed": true,
        "_uuid": "a5b72d0d9356322371e67afada6064f12853928d"
      },
      "cell_type": "code",
      "source": "",
      "execution_count": null,
      "outputs": []
    }
  ],
  "metadata": {
    "kernelspec": {
      "display_name": "Python 3",
      "language": "python",
      "name": "python3"
    },
    "language_info": {
      "name": "python",
      "version": "3.6.4",
      "mimetype": "text/x-python",
      "codemirror_mode": {
        "name": "ipython",
        "version": 3
      },
      "pygments_lexer": "ipython3",
      "nbconvert_exporter": "python",
      "file_extension": ".py"
    }
  },
  "nbformat": 4,
  "nbformat_minor": 1
}