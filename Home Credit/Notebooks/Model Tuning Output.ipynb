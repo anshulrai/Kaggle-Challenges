{
  "cells": [
    {
      "metadata": {
        "_uuid": "8f2839f25d086af736a60e9eeb907d3b93b6e0e5",
        "_cell_guid": "b1076dfc-b9ad-4769-8c92-a6c4dae69d19",
        "trusted": true
      },
      "cell_type": "code",
      "source": "# This Python 3 environment comes with many helpful analytics libraries installed\n# It is defined by the kaggle/python docker image: https://github.com/kaggle/docker-python\n# For example, here's several helpful packages to load in \nimport numpy as np # linear algebra\nimport pandas as pd # data processing, CSV file I/O (e.g. pd.read_csv)\nimport matplotlib.pyplot as plt\nimport seaborn as sns\n# Input data files are available in the \"../input/\" directory.\n# For example, running this (by clicking run or pressing Shift+Enter) will list the files in the input directory\nfrom functools import reduce\nimport os\nprint(os.listdir(\"../input/\"))\nfrom IPython.display import HTML\nimport pandas as pd\nimport numpy as np\nimport base64\nimport glob\nimport gc\n# Any results you write to the current directory are saved as output.",
      "execution_count": 1,
      "outputs": [
        {
          "output_type": "stream",
          "text": "['pure-gp-with-mean-squared-error', '8-and-92-oof-test-preds', 'fork-of-fork-lightgbm-with-simple-features-cee847', 'magic-of-weighted-average-rank-0-80', '100-lgbm-on-250-features-with-gp', 'home-credit-default-risk', 'home-credit-submissions', 'lighgbm-with-selected-features', 'automated-model-tuning']\n",
          "name": "stdout"
        }
      ]
    },
    {
      "metadata": {
        "_cell_guid": "79c7e3d0-c299-4dcb-8224-4455121ee9b0",
        "_uuid": "d629ff2d2480ee46fbb7e2d37f6b5fab8052498a",
        "trusted": true
      },
      "cell_type": "code",
      "source": "lgbm_selected = pd.read_csv('../input/lighgbm-with-selected-features/submission_with selected_features.csv')\nfork_lgbm_simple = pd.read_csv('../input/fork-of-fork-lightgbm-with-simple-features-cee847/submission_kernel02.csv')\ngp = pd.read_csv('../input/pure-gp-with-mean-squared-error/pure_submission.csv')\nauto_model_random = pd.read_csv('../input/automated-model-tuning/submission_random_search.csv')\nauto_model_bayes = pd.read_csv('../input/automated-model-tuning/submission_bayesian_optimization.csv')\n#magic_blend = pd.read_csv('../input/magic-of-weighted-average-rank-0-80/WEIGHT_AVERAGE_RANK.csv')",
      "execution_count": 2,
      "outputs": []
    },
    {
      "metadata": {
        "trusted": true,
        "_uuid": "a0beb816ff4c8b45aaeb20374ff6f79757fde361"
      },
      "cell_type": "code",
      "source": "gp['TARGET'] = gp['TARGET'] + fork_lgbm_simple['TARGET'] + lgbm_selected['TARGET'] + auto_model_bayes['TARGET'] + auto_model_random['TARGET']\ncount = 5",
      "execution_count": 3,
      "outputs": []
    },
    {
      "metadata": {
        "trusted": true,
        "scrolled": true,
        "_uuid": "be210716dc461bff5c1a5dab24c4b73f9095d3f9"
      },
      "cell_type": "code",
      "source": "for filename in glob.glob('../input/home-credit-submissions/*.csv'):\n    temp_df = pd.read_csv(filename)\n    gp['TARGET'] = gp['TARGET'] + temp_df['TARGET']\n    count = count + 1\n    gc.collect()",
      "execution_count": 4,
      "outputs": []
    },
    {
      "metadata": {
        "trusted": true,
        "_uuid": "217eb495b49e7c66ce98282909a3ff503823845a"
      },
      "cell_type": "code",
      "source": "out_8 = pd.read_csv('../input/8-and-92-oof-test-preds/8_gp_submission.csv')\nout_92 = pd.read_csv('../input/8-and-92-oof-test-preds/92_gp_submission.csv')\nout_100 = pd.read_csv('../input/100-lgbm-on-250-features-with-gp/100_gp_submission.csv')",
      "execution_count": 5,
      "outputs": []
    },
    {
      "metadata": {
        "trusted": true,
        "_uuid": "3251085c617943f7efdbd495e27cf7c65f2b04b7"
      },
      "cell_type": "code",
      "source": "gp['TARGET'] = gp['TARGET'] + out_8['TARGET'] + out_92['TARGET'] + out_100['TARGET']\ncount = count + 3",
      "execution_count": 6,
      "outputs": []
    },
    {
      "metadata": {
        "trusted": true,
        "_uuid": "78f3eeb3dfc104deb7ce08988d1593a2175a3ae6"
      },
      "cell_type": "code",
      "source": "sub = gp.copy()\nsub['TARGET']= gp['TARGET']/count",
      "execution_count": 7,
      "outputs": []
    },
    {
      "metadata": {
        "trusted": true,
        "_uuid": "5d4c94704b9a84321cda2d7c94369f399df466ba"
      },
      "cell_type": "code",
      "source": "sub.head()",
      "execution_count": 8,
      "outputs": [
        {
          "output_type": "execute_result",
          "execution_count": 8,
          "data": {
            "text/plain": "   SK_ID_CURR    TARGET\n0      100001  0.189656\n1      100005  0.429305\n2      100013  0.133930\n3      100028  0.177743\n4      100038  0.440630",
            "text/html": "<div>\n<style scoped>\n    .dataframe tbody tr th:only-of-type {\n        vertical-align: middle;\n    }\n\n    .dataframe tbody tr th {\n        vertical-align: top;\n    }\n\n    .dataframe thead th {\n        text-align: right;\n    }\n</style>\n<table border=\"1\" class=\"dataframe\">\n  <thead>\n    <tr style=\"text-align: right;\">\n      <th></th>\n      <th>SK_ID_CURR</th>\n      <th>TARGET</th>\n    </tr>\n  </thead>\n  <tbody>\n    <tr>\n      <th>0</th>\n      <td>100001</td>\n      <td>0.189656</td>\n    </tr>\n    <tr>\n      <th>1</th>\n      <td>100005</td>\n      <td>0.429305</td>\n    </tr>\n    <tr>\n      <th>2</th>\n      <td>100013</td>\n      <td>0.133930</td>\n    </tr>\n    <tr>\n      <th>3</th>\n      <td>100028</td>\n      <td>0.177743</td>\n    </tr>\n    <tr>\n      <th>4</th>\n      <td>100038</td>\n      <td>0.440630</td>\n    </tr>\n  </tbody>\n</table>\n</div>"
          },
          "metadata": {}
        }
      ]
    },
    {
      "metadata": {
        "trusted": true,
        "_uuid": "e3f7505b4fb7f0354c663c2cfde655fc55e01b00"
      },
      "cell_type": "code",
      "source": "sub.to_csv('ensemble.csv', index=False)",
      "execution_count": 9,
      "outputs": []
    },
    {
      "metadata": {
        "trusted": true,
        "_uuid": "40f82b4ebcc466693e7cd885913311100d8651d5"
      },
      "cell_type": "code",
      "source": "",
      "execution_count": null,
      "outputs": []
    }
  ],
  "metadata": {
    "kernelspec": {
      "display_name": "Python 3",
      "language": "python",
      "name": "python3"
    },
    "language_info": {
      "name": "python",
      "version": "3.6.6",
      "mimetype": "text/x-python",
      "codemirror_mode": {
        "name": "ipython",
        "version": 3
      },
      "pygments_lexer": "ipython3",
      "nbconvert_exporter": "python",
      "file_extension": ".py"
    }
  },
  "nbformat": 4,
  "nbformat_minor": 1
}