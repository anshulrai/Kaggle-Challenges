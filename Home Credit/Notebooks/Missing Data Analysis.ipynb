{
  "cells": [
    {
      "metadata": {
        "_uuid": "8f2839f25d086af736a60e9eeb907d3b93b6e0e5",
        "_cell_guid": "b1076dfc-b9ad-4769-8c92-a6c4dae69d19",
        "trusted": true
      },
      "cell_type": "code",
      "source": "import numpy as np # linear algebra\nimport pandas as pd # data processing, CSV file I/O (e.g. pd.read_csv)\nimport os\nprint(os.listdir(\"../input\"))\nimport seaborn as sns\nimport matplotlib.pyplot as plt\nfrom sklearn.model_selection import KFold\nfrom sklearn.metrics import roc_auc_score\nimport lightgbm as lgb\nimport gc\nfrom matplotlib_venn import venn2, venn3\nfrom sklearn.model_selection import train_test_split\nfrom sklearn.metrics import mean_squared_error\nimport scipy\nimport itertools\nfrom sklearn.preprocessing import MinMaxScaler, Imputer, LabelEncoder\nfrom sklearn.preprocessing import LabelEncoder\nimport warnings\nwarnings.filterwarnings('ignore')\nfrom imblearn.over_sampling import SMOTE",
      "execution_count": 1,
      "outputs": [
        {
          "output_type": "stream",
          "text": "['POS_CASH_balance.csv', 'bureau_balance.csv', 'application_train.csv', 'previous_application.csv', 'installments_payments.csv', 'credit_card_balance.csv', 'sample_submission.csv', 'application_test.csv', 'bureau.csv']\n",
          "name": "stdout"
        }
      ]
    },
    {
      "metadata": {
        "trusted": true,
        "collapsed": true,
        "_uuid": "ed3f982787cf9d6a13a8ed25217b52721077c06a"
      },
      "cell_type": "code",
      "source": "pd.set_option('display.max_columns', None)\npd.set_option('display.expand_frame_repr', False)\nplt.style.use('fivethirtyeight')",
      "execution_count": 2,
      "outputs": []
    },
    {
      "metadata": {
        "trusted": true,
        "collapsed": true,
        "_uuid": "a19b7402f6680fd44963faf99e90ffa19a1d9d0b"
      },
      "cell_type": "code",
      "source": "def create_download_link(df, title = \"Download CSV file\", filename = \"data.csv\"):  \n    csv = df.to_csv()\n    b64 = base64.b64encode(csv.encode())\n    payload = b64.decode()\n    html = '<a download=\"{filename}\" href=\"data:text/csv;base64,{payload}\" target=\"_blank\">{title}</a>'\n    html = html.format(payload=payload,title=title,filename=filename)\n    return HTML(html)",
      "execution_count": 3,
      "outputs": []
    },
    {
      "metadata": {
        "trusted": true,
        "collapsed": true,
        "_uuid": "deccdec2a26d58970a0c71356038f074455a67e4"
      },
      "cell_type": "code",
      "source": "def reduce_mem_usage(df):\n    \"\"\" iterate through all the columns of a dataframe and modify the data type\n        to reduce memory usage.        \n    \"\"\"\n    start_mem = df.memory_usage().sum() / 1024**2\n    print('Memory usage of dataframe is {:.2f} MB'.format(start_mem))\n    \n    for col in df.columns:\n        col_type = df[col].dtype\n        \n        if col_type != object:\n            c_min = df[col].min()\n            c_max = df[col].max()\n            if str(col_type)[:3] == 'int':\n                if c_min > np.iinfo(np.int8).min and c_max < np.iinfo(np.int8).max:\n                    df[col] = df[col].astype(np.int8)\n                elif c_min > np.iinfo(np.int16).min and c_max < np.iinfo(np.int16).max:\n                    df[col] = df[col].astype(np.int16)\n                elif c_min > np.iinfo(np.int32).min and c_max < np.iinfo(np.int32).max:\n                    df[col] = df[col].astype(np.int32)\n                elif c_min > np.iinfo(np.int64).min and c_max < np.iinfo(np.int64).max:\n                    df[col] = df[col].astype(np.int64)  \n            else:\n                if c_min > np.finfo(np.float32).min and c_max < np.finfo(np.float32).max:\n                    df[col] = df[col].astype(np.float32)\n                else:\n                    df[col] = df[col].astype(np.float64)\n\n    end_mem = df.memory_usage().sum() / 1024**2\n    print('Memory usage after optimization is: {:.2f} MB'.format(end_mem))\n    print('Decreased by {:.1f}%'.format(100 * (start_mem - end_mem) / start_mem))\n    \n    return df",
      "execution_count": 4,
      "outputs": []
    },
    {
      "metadata": {
        "trusted": true,
        "collapsed": true,
        "_uuid": "7b4ef60f754e10fc77d228ef1f4a1cf9971dea8b"
      },
      "cell_type": "code",
      "source": "table_names = ['application_train', 'bureau', 'bureau_balance', 'POS_CASH_balance', \n               'credit_card_balance', 'previous_application', 'application_test', 'installments_payments']",
      "execution_count": 5,
      "outputs": []
    },
    {
      "metadata": {
        "trusted": true,
        "_uuid": "9f20dca823cb772be347f95d93349a5d7a3e6e9a"
      },
      "cell_type": "code",
      "source": "tables = [reduce_mem_usage(pd.read_csv(f'../input/{fname}.csv', low_memory=False)) for fname in table_names]",
      "execution_count": 6,
      "outputs": [
        {
          "output_type": "stream",
          "text": "Memory usage of dataframe is 286.23 MB\nMemory usage after optimization is: 128.16 MB\nDecreased by 55.2%\nMemory usage of dataframe is 222.62 MB\nMemory usage after optimization is: 119.49 MB\nDecreased by 46.3%\nMemory usage of dataframe is 624.85 MB\nMemory usage after optimization is: 338.46 MB\nDecreased by 45.8%\nMemory usage of dataframe is 610.43 MB\nMemory usage after optimization is: 276.60 MB\nDecreased by 54.7%\nMemory usage of dataframe is 673.88 MB\nMemory usage after optimization is: 318.63 MB\nDecreased by 52.7%\nMemory usage of dataframe is 471.48 MB\nMemory usage after optimization is: 324.94 MB\nDecreased by 31.1%\nMemory usage of dataframe is 45.00 MB\nMemory usage after optimization is: 20.27 MB\nDecreased by 55.0%\nMemory usage of dataframe is 830.41 MB\nMemory usage after optimization is: 389.25 MB\nDecreased by 53.1%\n",
          "name": "stdout"
        }
      ]
    },
    {
      "metadata": {
        "_cell_guid": "79c7e3d0-c299-4dcb-8224-4455121ee9b0",
        "collapsed": true,
        "_uuid": "d629ff2d2480ee46fbb7e2d37f6b5fab8052498a",
        "trusted": true
      },
      "cell_type": "code",
      "source": "application_train, bureau, bureau_balance, POS_CASH_balance, credit_card_balance, previous_application, application_test, installments_payments = tables",
      "execution_count": 7,
      "outputs": []
    },
    {
      "metadata": {
        "trusted": true,
        "collapsed": true,
        "_uuid": "814a550e03bc7e85bed887614329c9834442c8ec"
      },
      "cell_type": "code",
      "source": "train_cols_with_na = application_train.columns[application_train.isna().any()].tolist()\ntest_cols_with_na = application_test.columns[application_test.isna().any()].tolist()",
      "execution_count": 8,
      "outputs": []
    },
    {
      "metadata": {
        "trusted": true,
        "collapsed": true,
        "_uuid": "3de493fe00a9ca3234168e7f08bce7b6a293015c"
      },
      "cell_type": "code",
      "source": "corr_dict = {}",
      "execution_count": 9,
      "outputs": []
    },
    {
      "metadata": {
        "trusted": true,
        "_uuid": "b414a95df8acb09a3e1dc0438ef787c88ac38d37",
        "collapsed": true
      },
      "cell_type": "code",
      "source": "for col in train_cols_with_na:\n    if application_train[col].dtype != 'object':\n        corr_dict[col] = abs(application_train[col].corr(application_train['TARGET']))\n    else:\n        corr_dict[col] = np.nan",
      "execution_count": 10,
      "outputs": []
    },
    {
      "metadata": {
        "trusted": true,
        "_uuid": "ff11f0c665b3f636fe26afb92765ffb4b84fea4c",
        "collapsed": true
      },
      "cell_type": "code",
      "source": "corr_df = pd.Series(corr_dict, name='corr_w_TARGET')\ncorr_df.index.name = 'column_name'",
      "execution_count": 11,
      "outputs": []
    },
    {
      "metadata": {
        "trusted": true,
        "_uuid": "936385216e497bf31816d407555ee250810ebe99"
      },
      "cell_type": "code",
      "source": "corr_df = corr_df.reset_index()\ncorr_df.head()",
      "execution_count": 12,
      "outputs": [
        {
          "output_type": "execute_result",
          "execution_count": 12,
          "data": {
            "text/plain": "                  column_name  corr_w_TARGET\n0                 AMT_ANNUITY       0.012817\n1             AMT_GOODS_PRICE       0.039645\n2   AMT_REQ_CREDIT_BUREAU_DAY       0.002704\n3  AMT_REQ_CREDIT_BUREAU_HOUR       0.000930\n4   AMT_REQ_CREDIT_BUREAU_MON       0.012462",
            "text/html": "<div>\n<style scoped>\n    .dataframe tbody tr th:only-of-type {\n        vertical-align: middle;\n    }\n\n    .dataframe tbody tr th {\n        vertical-align: top;\n    }\n\n    .dataframe thead th {\n        text-align: right;\n    }\n</style>\n<table border=\"1\" class=\"dataframe\">\n  <thead>\n    <tr style=\"text-align: right;\">\n      <th></th>\n      <th>column_name</th>\n      <th>corr_w_TARGET</th>\n    </tr>\n  </thead>\n  <tbody>\n    <tr>\n      <th>0</th>\n      <td>AMT_ANNUITY</td>\n      <td>0.012817</td>\n    </tr>\n    <tr>\n      <th>1</th>\n      <td>AMT_GOODS_PRICE</td>\n      <td>0.039645</td>\n    </tr>\n    <tr>\n      <th>2</th>\n      <td>AMT_REQ_CREDIT_BUREAU_DAY</td>\n      <td>0.002704</td>\n    </tr>\n    <tr>\n      <th>3</th>\n      <td>AMT_REQ_CREDIT_BUREAU_HOUR</td>\n      <td>0.000930</td>\n    </tr>\n    <tr>\n      <th>4</th>\n      <td>AMT_REQ_CREDIT_BUREAU_MON</td>\n      <td>0.012462</td>\n    </tr>\n  </tbody>\n</table>\n</div>"
          },
          "metadata": {}
        }
      ]
    },
    {
      "metadata": {
        "trusted": true,
        "collapsed": true,
        "_uuid": "0b4f85913186d0d05faa8b0666c6575c3507947e"
      },
      "cell_type": "code",
      "source": "train_missing_values = pd.DataFrame(columns=['column_name','percentage_missing'])\ntest_missing_values = pd.DataFrame(columns=['column_name','percentage_missing'])",
      "execution_count": 13,
      "outputs": []
    },
    {
      "metadata": {
        "trusted": true,
        "_uuid": "b08d5fdd457e76ce2f1397902d3e9144e25c07b8"
      },
      "cell_type": "code",
      "source": "temp_test = (application_test[test_cols_with_na].isna().sum()/application_test.shape[0]).sort_values(ascending=False)\ntest_missing_values['column_name'] = temp_test.index\ntest_missing_values['percentage_missing'] = temp_test.values\ndel temp_test\ntest_missing_values.head()",
      "execution_count": 14,
      "outputs": [
        {
          "output_type": "execute_result",
          "execution_count": 14,
          "data": {
            "text/plain": "                column_name  percentage_missing\n0           COMMONAREA_MODE            0.687161\n1            COMMONAREA_AVG            0.687161\n2           COMMONAREA_MEDI            0.687161\n3  NONLIVINGAPARTMENTS_MEDI            0.684125\n4   NONLIVINGAPARTMENTS_AVG            0.684125",
            "text/html": "<div>\n<style scoped>\n    .dataframe tbody tr th:only-of-type {\n        vertical-align: middle;\n    }\n\n    .dataframe tbody tr th {\n        vertical-align: top;\n    }\n\n    .dataframe thead th {\n        text-align: right;\n    }\n</style>\n<table border=\"1\" class=\"dataframe\">\n  <thead>\n    <tr style=\"text-align: right;\">\n      <th></th>\n      <th>column_name</th>\n      <th>percentage_missing</th>\n    </tr>\n  </thead>\n  <tbody>\n    <tr>\n      <th>0</th>\n      <td>COMMONAREA_MODE</td>\n      <td>0.687161</td>\n    </tr>\n    <tr>\n      <th>1</th>\n      <td>COMMONAREA_AVG</td>\n      <td>0.687161</td>\n    </tr>\n    <tr>\n      <th>2</th>\n      <td>COMMONAREA_MEDI</td>\n      <td>0.687161</td>\n    </tr>\n    <tr>\n      <th>3</th>\n      <td>NONLIVINGAPARTMENTS_MEDI</td>\n      <td>0.684125</td>\n    </tr>\n    <tr>\n      <th>4</th>\n      <td>NONLIVINGAPARTMENTS_AVG</td>\n      <td>0.684125</td>\n    </tr>\n  </tbody>\n</table>\n</div>"
          },
          "metadata": {}
        }
      ]
    },
    {
      "metadata": {
        "trusted": true,
        "_uuid": "b307d9ce83fb0c0cbe90255197fd25ba670be769"
      },
      "cell_type": "code",
      "source": "temp_train = (application_train[train_cols_with_na].isna().sum()/application_train.shape[0]).sort_values(ascending=False)\ntrain_missing_values['column_name'] = temp_train.index\ntrain_missing_values['percentage_missing'] = temp_train.values\ndel temp_train\ntrain_missing_values.head()",
      "execution_count": 15,
      "outputs": [
        {
          "output_type": "execute_result",
          "execution_count": 15,
          "data": {
            "text/plain": "                column_name  percentage_missing\n0           COMMONAREA_MEDI            0.698723\n1            COMMONAREA_AVG            0.698723\n2           COMMONAREA_MODE            0.698723\n3   NONLIVINGAPARTMENTS_AVG            0.694330\n4  NONLIVINGAPARTMENTS_MODE            0.694330",
            "text/html": "<div>\n<style scoped>\n    .dataframe tbody tr th:only-of-type {\n        vertical-align: middle;\n    }\n\n    .dataframe tbody tr th {\n        vertical-align: top;\n    }\n\n    .dataframe thead th {\n        text-align: right;\n    }\n</style>\n<table border=\"1\" class=\"dataframe\">\n  <thead>\n    <tr style=\"text-align: right;\">\n      <th></th>\n      <th>column_name</th>\n      <th>percentage_missing</th>\n    </tr>\n  </thead>\n  <tbody>\n    <tr>\n      <th>0</th>\n      <td>COMMONAREA_MEDI</td>\n      <td>0.698723</td>\n    </tr>\n    <tr>\n      <th>1</th>\n      <td>COMMONAREA_AVG</td>\n      <td>0.698723</td>\n    </tr>\n    <tr>\n      <th>2</th>\n      <td>COMMONAREA_MODE</td>\n      <td>0.698723</td>\n    </tr>\n    <tr>\n      <th>3</th>\n      <td>NONLIVINGAPARTMENTS_AVG</td>\n      <td>0.694330</td>\n    </tr>\n    <tr>\n      <th>4</th>\n      <td>NONLIVINGAPARTMENTS_MODE</td>\n      <td>0.694330</td>\n    </tr>\n  </tbody>\n</table>\n</div>"
          },
          "metadata": {}
        }
      ]
    },
    {
      "metadata": {
        "trusted": true,
        "_uuid": "ce11687001e2a04d16da35c52d19fcfd67909e4e"
      },
      "cell_type": "code",
      "source": "gc.collect()",
      "execution_count": 16,
      "outputs": [
        {
          "output_type": "execute_result",
          "execution_count": 16,
          "data": {
            "text/plain": "28"
          },
          "metadata": {}
        }
      ]
    },
    {
      "metadata": {
        "trusted": true,
        "_uuid": "e2c0ab267d34bc163db4ce2dcc2ee39e5bd1106b"
      },
      "cell_type": "code",
      "source": "set(train_missing_values['column_name'].unique()) - set(test_missing_values['column_name'].unique())",
      "execution_count": 17,
      "outputs": [
        {
          "output_type": "execute_result",
          "execution_count": 17,
          "data": {
            "text/plain": "{'AMT_GOODS_PRICE', 'CNT_FAM_MEMBERS', 'DAYS_LAST_PHONE_CHANGE'}"
          },
          "metadata": {}
        }
      ]
    },
    {
      "metadata": {
        "trusted": true,
        "_uuid": "7ece36cfc7116709d4c0e195b80b0719b843b1a4"
      },
      "cell_type": "code",
      "source": "train_missing_values[train_missing_values['column_name'].isin(['AMT_GOODS_PRICE', 'CNT_FAM_MEMBERS', 'DAYS_LAST_PHONE_CHANGE'])]",
      "execution_count": 18,
      "outputs": [
        {
          "output_type": "execute_result",
          "execution_count": 18,
          "data": {
            "text/plain": "               column_name  percentage_missing\n63         AMT_GOODS_PRICE            0.000904\n65         CNT_FAM_MEMBERS            0.000007\n66  DAYS_LAST_PHONE_CHANGE            0.000003",
            "text/html": "<div>\n<style scoped>\n    .dataframe tbody tr th:only-of-type {\n        vertical-align: middle;\n    }\n\n    .dataframe tbody tr th {\n        vertical-align: top;\n    }\n\n    .dataframe thead th {\n        text-align: right;\n    }\n</style>\n<table border=\"1\" class=\"dataframe\">\n  <thead>\n    <tr style=\"text-align: right;\">\n      <th></th>\n      <th>column_name</th>\n      <th>percentage_missing</th>\n    </tr>\n  </thead>\n  <tbody>\n    <tr>\n      <th>63</th>\n      <td>AMT_GOODS_PRICE</td>\n      <td>0.000904</td>\n    </tr>\n    <tr>\n      <th>65</th>\n      <td>CNT_FAM_MEMBERS</td>\n      <td>0.000007</td>\n    </tr>\n    <tr>\n      <th>66</th>\n      <td>DAYS_LAST_PHONE_CHANGE</td>\n      <td>0.000003</td>\n    </tr>\n  </tbody>\n</table>\n</div>"
          },
          "metadata": {}
        }
      ]
    },
    {
      "metadata": {
        "trusted": true,
        "_uuid": "805c11cb1f2feff9934fef76e9640b6ba6a214ba"
      },
      "cell_type": "code",
      "source": "corr_df[corr_df['column_name'].isin(['AMT_GOODS_PRICE', 'CNT_FAM_MEMBERS', 'DAYS_LAST_PHONE_CHANGE'])]",
      "execution_count": 19,
      "outputs": [
        {
          "output_type": "execute_result",
          "execution_count": 19,
          "data": {
            "text/plain": "               column_name  corr_w_TARGET\n1          AMT_GOODS_PRICE       0.039645\n14         CNT_FAM_MEMBERS       0.009308\n18  DAYS_LAST_PHONE_CHANGE       0.055218",
            "text/html": "<div>\n<style scoped>\n    .dataframe tbody tr th:only-of-type {\n        vertical-align: middle;\n    }\n\n    .dataframe tbody tr th {\n        vertical-align: top;\n    }\n\n    .dataframe thead th {\n        text-align: right;\n    }\n</style>\n<table border=\"1\" class=\"dataframe\">\n  <thead>\n    <tr style=\"text-align: right;\">\n      <th></th>\n      <th>column_name</th>\n      <th>corr_w_TARGET</th>\n    </tr>\n  </thead>\n  <tbody>\n    <tr>\n      <th>1</th>\n      <td>AMT_GOODS_PRICE</td>\n      <td>0.039645</td>\n    </tr>\n    <tr>\n      <th>14</th>\n      <td>CNT_FAM_MEMBERS</td>\n      <td>0.009308</td>\n    </tr>\n    <tr>\n      <th>18</th>\n      <td>DAYS_LAST_PHONE_CHANGE</td>\n      <td>0.055218</td>\n    </tr>\n  </tbody>\n</table>\n</div>"
          },
          "metadata": {}
        }
      ]
    },
    {
      "metadata": {
        "trusted": true,
        "_uuid": "b4d6496b3d38ac85bbca303b209a2e296785a3f2"
      },
      "cell_type": "code",
      "source": "train_missing_values = train_missing_values.drop(train_missing_values.index[[63,65,66]])\ncorr_df = corr_df.drop(corr_df.index[[1,14,18]])\nprint(set(train_missing_values['column_name'].unique()) - set(test_missing_values['column_name'].unique()))\nprint(set(corr_df['column_name'].unique()) - set(test_missing_values['column_name'].unique()))",
      "execution_count": 20,
      "outputs": [
        {
          "output_type": "stream",
          "text": "set()\nset()\n",
          "name": "stdout"
        }
      ]
    },
    {
      "metadata": {
        "trusted": true,
        "_uuid": "1d3cd8422033a7c3611053483121b896bef584ed"
      },
      "cell_type": "code",
      "source": "missing_data_dist = train_missing_values.merge(test_missing_values,on='column_name',suffixes=('_train','_test'))\nmissing_data_dist = missing_data_dist.merge(corr_df,on='column_name')\nmissing_data_dist.head()",
      "execution_count": 21,
      "outputs": [
        {
          "output_type": "execute_result",
          "execution_count": 21,
          "data": {
            "text/plain": "                column_name  percentage_missing_train  percentage_missing_test  corr_w_TARGET\n0           COMMONAREA_MEDI                  0.698723                 0.687161       0.018573\n1            COMMONAREA_AVG                  0.698723                 0.687161       0.018550\n2           COMMONAREA_MODE                  0.698723                 0.687161       0.016340\n3   NONLIVINGAPARTMENTS_AVG                  0.694330                 0.684125       0.003176\n4  NONLIVINGAPARTMENTS_MODE                  0.694330                 0.684125       0.001557",
            "text/html": "<div>\n<style scoped>\n    .dataframe tbody tr th:only-of-type {\n        vertical-align: middle;\n    }\n\n    .dataframe tbody tr th {\n        vertical-align: top;\n    }\n\n    .dataframe thead th {\n        text-align: right;\n    }\n</style>\n<table border=\"1\" class=\"dataframe\">\n  <thead>\n    <tr style=\"text-align: right;\">\n      <th></th>\n      <th>column_name</th>\n      <th>percentage_missing_train</th>\n      <th>percentage_missing_test</th>\n      <th>corr_w_TARGET</th>\n    </tr>\n  </thead>\n  <tbody>\n    <tr>\n      <th>0</th>\n      <td>COMMONAREA_MEDI</td>\n      <td>0.698723</td>\n      <td>0.687161</td>\n      <td>0.018573</td>\n    </tr>\n    <tr>\n      <th>1</th>\n      <td>COMMONAREA_AVG</td>\n      <td>0.698723</td>\n      <td>0.687161</td>\n      <td>0.018550</td>\n    </tr>\n    <tr>\n      <th>2</th>\n      <td>COMMONAREA_MODE</td>\n      <td>0.698723</td>\n      <td>0.687161</td>\n      <td>0.016340</td>\n    </tr>\n    <tr>\n      <th>3</th>\n      <td>NONLIVINGAPARTMENTS_AVG</td>\n      <td>0.694330</td>\n      <td>0.684125</td>\n      <td>0.003176</td>\n    </tr>\n    <tr>\n      <th>4</th>\n      <td>NONLIVINGAPARTMENTS_MODE</td>\n      <td>0.694330</td>\n      <td>0.684125</td>\n      <td>0.001557</td>\n    </tr>\n  </tbody>\n</table>\n</div>"
          },
          "metadata": {}
        }
      ]
    },
    {
      "metadata": {
        "trusted": true,
        "_uuid": "871ffd1115236a5f5a683bbca2102f712ccf4e17"
      },
      "cell_type": "code",
      "source": "missing_data_dist['abs_diff'] = abs(missing_data_dist['percentage_missing_train']-missing_data_dist['percentage_missing_test'])\nmissing_data_dist['abs_diff'].plot()",
      "execution_count": 22,
      "outputs": [
        {
          "output_type": "execute_result",
          "execution_count": 22,
          "data": {
            "text/plain": "<matplotlib.axes._subplots.AxesSubplot at 0x7f3e89e1e5c0>"
          },
          "metadata": {}
        },
        {
          "output_type": "display_data",
          "data": {
            "text/plain": "<matplotlib.figure.Figure at 0x7f3e89e09ba8>",
            "image/png": "[encoded data removed]"
          },
          "metadata": {}
        }
      ]
    },
    {
      "metadata": {
        "trusted": true,
        "_uuid": "43b78b9181cf3906b61c525b3c821d35deeb823f"
      },
      "cell_type": "code",
      "source": "missing_data_dist.sort_values(by=['abs_diff'],ascending=False).head()",
      "execution_count": 23,
      "outputs": [
        {
          "output_type": "execute_result",
          "execution_count": 23,
          "data": {
            "text/plain": "       column_name  percentage_missing_train  percentage_missing_test  corr_w_TARGET  abs_diff\n23    EXT_SOURCE_1                  0.563811                 0.421221       0.155317  0.142590\n50    EXT_SOURCE_3                  0.198253                 0.177827       0.178919  0.020426\n36  ENTRANCES_MEDI                  0.503488                 0.483731       0.019025  0.019756\n34  ENTRANCES_MODE                  0.503488                 0.483731       0.017387  0.019756\n35   ENTRANCES_AVG                  0.503488                 0.483731       0.019172  0.019756",
            "text/html": "<div>\n<style scoped>\n    .dataframe tbody tr th:only-of-type {\n        vertical-align: middle;\n    }\n\n    .dataframe tbody tr th {\n        vertical-align: top;\n    }\n\n    .dataframe thead th {\n        text-align: right;\n    }\n</style>\n<table border=\"1\" class=\"dataframe\">\n  <thead>\n    <tr style=\"text-align: right;\">\n      <th></th>\n      <th>column_name</th>\n      <th>percentage_missing_train</th>\n      <th>percentage_missing_test</th>\n      <th>corr_w_TARGET</th>\n      <th>abs_diff</th>\n    </tr>\n  </thead>\n  <tbody>\n    <tr>\n      <th>23</th>\n      <td>EXT_SOURCE_1</td>\n      <td>0.563811</td>\n      <td>0.421221</td>\n      <td>0.155317</td>\n      <td>0.142590</td>\n    </tr>\n    <tr>\n      <th>50</th>\n      <td>EXT_SOURCE_3</td>\n      <td>0.198253</td>\n      <td>0.177827</td>\n      <td>0.178919</td>\n      <td>0.020426</td>\n    </tr>\n    <tr>\n      <th>36</th>\n      <td>ENTRANCES_MEDI</td>\n      <td>0.503488</td>\n      <td>0.483731</td>\n      <td>0.019025</td>\n      <td>0.019756</td>\n    </tr>\n    <tr>\n      <th>34</th>\n      <td>ENTRANCES_MODE</td>\n      <td>0.503488</td>\n      <td>0.483731</td>\n      <td>0.017387</td>\n      <td>0.019756</td>\n    </tr>\n    <tr>\n      <th>35</th>\n      <td>ENTRANCES_AVG</td>\n      <td>0.503488</td>\n      <td>0.483731</td>\n      <td>0.019172</td>\n      <td>0.019756</td>\n    </tr>\n  </tbody>\n</table>\n</div>"
          },
          "metadata": {}
        }
      ]
    },
    {
      "metadata": {
        "trusted": true,
        "_uuid": "0f8bcaf0f04e91e5ac09e1e7a39b3d3c42edc9ae"
      },
      "cell_type": "code",
      "source": "missing_data_dist.sort_values(by=['corr_w_TARGET'],ascending=False).head(10)",
      "execution_count": 24,
      "outputs": [
        {
          "output_type": "execute_result",
          "execution_count": 24,
          "data": {
            "text/plain": "       column_name  percentage_missing_train  percentage_missing_test  corr_w_TARGET  abs_diff\n50    EXT_SOURCE_3                  0.198253                 0.177827       0.178919  0.020426\n62    EXT_SOURCE_2                  0.002146                 0.000164       0.160472  0.001982\n23    EXT_SOURCE_1                  0.563811                 0.421221       0.155317  0.142590\n43   FLOORSMAX_AVG                  0.497608                 0.478438       0.044003  0.019170\n42  FLOORSMAX_MEDI                  0.497608                 0.478438       0.043768  0.019170\n41  FLOORSMAX_MODE                  0.497608                 0.478438       0.043226  0.019170\n16     OWN_CAR_AGE                  0.659908                 0.662892       0.037612  0.002984\n29   ELEVATORS_AVG                  0.532960                 0.516761       0.034199  0.016199\n28  ELEVATORS_MEDI                  0.532960                 0.516761       0.033863  0.016199\n10   FLOORSMIN_AVG                  0.678486                 0.666051       0.033614  0.012435",
            "text/html": "<div>\n<style scoped>\n    .dataframe tbody tr th:only-of-type {\n        vertical-align: middle;\n    }\n\n    .dataframe tbody tr th {\n        vertical-align: top;\n    }\n\n    .dataframe thead th {\n        text-align: right;\n    }\n</style>\n<table border=\"1\" class=\"dataframe\">\n  <thead>\n    <tr style=\"text-align: right;\">\n      <th></th>\n      <th>column_name</th>\n      <th>percentage_missing_train</th>\n      <th>percentage_missing_test</th>\n      <th>corr_w_TARGET</th>\n      <th>abs_diff</th>\n    </tr>\n  </thead>\n  <tbody>\n    <tr>\n      <th>50</th>\n      <td>EXT_SOURCE_3</td>\n      <td>0.198253</td>\n      <td>0.177827</td>\n      <td>0.178919</td>\n      <td>0.020426</td>\n    </tr>\n    <tr>\n      <th>62</th>\n      <td>EXT_SOURCE_2</td>\n      <td>0.002146</td>\n      <td>0.000164</td>\n      <td>0.160472</td>\n      <td>0.001982</td>\n    </tr>\n    <tr>\n      <th>23</th>\n      <td>EXT_SOURCE_1</td>\n      <td>0.563811</td>\n      <td>0.421221</td>\n      <td>0.155317</td>\n      <td>0.142590</td>\n    </tr>\n    <tr>\n      <th>43</th>\n      <td>FLOORSMAX_AVG</td>\n      <td>0.497608</td>\n      <td>0.478438</td>\n      <td>0.044003</td>\n      <td>0.019170</td>\n    </tr>\n    <tr>\n      <th>42</th>\n      <td>FLOORSMAX_MEDI</td>\n      <td>0.497608</td>\n      <td>0.478438</td>\n      <td>0.043768</td>\n      <td>0.019170</td>\n    </tr>\n    <tr>\n      <th>41</th>\n      <td>FLOORSMAX_MODE</td>\n      <td>0.497608</td>\n      <td>0.478438</td>\n      <td>0.043226</td>\n      <td>0.019170</td>\n    </tr>\n    <tr>\n      <th>16</th>\n      <td>OWN_CAR_AGE</td>\n      <td>0.659908</td>\n      <td>0.662892</td>\n      <td>0.037612</td>\n      <td>0.002984</td>\n    </tr>\n    <tr>\n      <th>29</th>\n      <td>ELEVATORS_AVG</td>\n      <td>0.532960</td>\n      <td>0.516761</td>\n      <td>0.034199</td>\n      <td>0.016199</td>\n    </tr>\n    <tr>\n      <th>28</th>\n      <td>ELEVATORS_MEDI</td>\n      <td>0.532960</td>\n      <td>0.516761</td>\n      <td>0.033863</td>\n      <td>0.016199</td>\n    </tr>\n    <tr>\n      <th>10</th>\n      <td>FLOORSMIN_AVG</td>\n      <td>0.678486</td>\n      <td>0.666051</td>\n      <td>0.033614</td>\n      <td>0.012435</td>\n    </tr>\n  </tbody>\n</table>\n</div>"
          },
          "metadata": {}
        }
      ]
    },
    {
      "metadata": {
        "trusted": true,
        "collapsed": true,
        "_uuid": "5273e0ada74a67e93924f80801a76be882479c45"
      },
      "cell_type": "code",
      "source": "temp_train = application_train.copy()",
      "execution_count": 25,
      "outputs": []
    },
    {
      "metadata": {
        "trusted": true,
        "_uuid": "9e8d2cc7c57ddf9fcff240a0816189cccf7aa320",
        "collapsed": true
      },
      "cell_type": "code",
      "source": "temp_train['EXT_SOURCE_1_bin'] = pd.cut(temp_train['EXT_SOURCE_1'], 10)\ntemp_train['EXT_SOURCE_1_bin'] = temp_train['EXT_SOURCE_1_bin'].cat.add_categories(['Missing'])\ntemp_train['EXT_SOURCE_1_bin'].fillna('Missing', inplace=True)\n\ntemp_train['EXT_SOURCE_2_bin'] = pd.cut(temp_train['EXT_SOURCE_2'], 10)\ntemp_train['EXT_SOURCE_2_bin'] = temp_train['EXT_SOURCE_2_bin'].cat.add_categories(['Missing'])\ntemp_train['EXT_SOURCE_2_bin'].fillna('Missing', inplace=True)\n\ntemp_train['EXT_SOURCE_3_bin'] = pd.cut(temp_train['EXT_SOURCE_3'], 10)\ntemp_train['EXT_SOURCE_3_bin'] = temp_train['EXT_SOURCE_3_bin'].cat.add_categories(['Missing'])\ntemp_train['EXT_SOURCE_3_bin'].fillna('Missing', inplace=True)",
      "execution_count": 26,
      "outputs": []
    },
    {
      "metadata": {
        "trusted": true,
        "_uuid": "d1907da1e37796521aa12fefb5717681a6712ffd"
      },
      "cell_type": "code",
      "source": "print(temp_train.groupby(by='EXT_SOURCE_1_bin')['TARGET'].mean().sort_index())\nprint(temp_train.groupby(by='EXT_SOURCE_1_bin')['TARGET'].mean().sort_index().plot())\n\nprint(temp_train.groupby(by='EXT_SOURCE_2_bin')['TARGET'].mean().sort_index())\nprint(temp_train.groupby(by='EXT_SOURCE_2_bin')['TARGET'].mean().sort_index().plot())\n\nprint(temp_train.groupby(by='EXT_SOURCE_3_bin')['TARGET'].mean().sort_index())\nprint(temp_train.groupby(by='EXT_SOURCE_3_bin')['TARGET'].mean().sort_index().plot())",
      "execution_count": 27,
      "outputs": [
        {
          "output_type": "stream",
          "text": "EXT_SOURCE_1_bin\n(0.0136, 0.109]    0.250382\n(0.109, 0.204]     0.161031\n(0.204, 0.299]     0.116941\n(0.299, 0.394]     0.091484\n(0.394, 0.489]     0.072018\n(0.489, 0.583]     0.060000\n(0.583, 0.678]     0.049746\n(0.678, 0.773]     0.037214\n(0.773, 0.868]     0.028621\n(0.868, 0.963]     0.019782\nMissing            0.085195\nName: TARGET, dtype: float64\nAxesSubplot(0.08,0.07;0.87x0.81)\nEXT_SOURCE_2_bin\n(-0.000855, 0.0855]    0.241478\n(0.0855, 0.171]        0.169505\n(0.171, 0.256]         0.136587\n(0.256, 0.342]         0.114975\n(0.342, 0.427]         0.101108\n(0.427, 0.513]         0.084331\n(0.513, 0.598]         0.071306\n(0.598, 0.684]         0.054739\n(0.684, 0.769]         0.037161\n(0.769, 0.855]         0.021247\nMissing                0.078788\nName: TARGET, dtype: float64\nAxesSubplot(0.08,0.07;0.87x0.81)\nEXT_SOURCE_3_bin\n(-0.000368, 0.0901]    0.269153\n(0.0901, 0.18]         0.201384\n(0.18, 0.269]          0.152535\n(0.269, 0.359]         0.112888\n(0.359, 0.448]         0.087875\n(0.448, 0.538]         0.066356\n(0.538, 0.627]         0.051523\n(0.627, 0.717]         0.041741\n(0.717, 0.806]         0.033362\n(0.806, 0.896]         0.029435\nMissing                0.093119\nName: TARGET, dtype: float64\nAxesSubplot(0.08,0.07;0.87x0.81)\n",
          "name": "stdout"
        },
        {
          "output_type": "display_data",
          "data": {
            "text/plain": "<matplotlib.figure.Figure at 0x7f3e894f7748>",
            "image/png": "[encoded data removed]"
          },
          "metadata": {}
        }
      ]
    },
    {
      "metadata": {
        "trusted": true,
        "collapsed": true,
        "_uuid": "a283d8434d586622bd7b0da1f61f424c1d0c8ebd"
      },
      "cell_type": "code",
      "source": "del temp_train",
      "execution_count": 28,
      "outputs": []
    },
    {
      "metadata": {
        "_uuid": "a85d5ddafe75392a8c65b3a08038a2641dff8dd0"
      },
      "cell_type": "markdown",
      "source": "# Downsampling 0s"
    },
    {
      "metadata": {
        "trusted": true,
        "_uuid": "b2b7ce77d6c666b21acb577935b127afc379641a"
      },
      "cell_type": "code",
      "source": "application_train['TARGET'].value_counts()",
      "execution_count": 29,
      "outputs": [
        {
          "output_type": "execute_result",
          "execution_count": 29,
          "data": {
            "text/plain": "0    282686\n1     24825\nName: TARGET, dtype: int64"
          },
          "metadata": {}
        }
      ]
    },
    {
      "metadata": {
        "trusted": true,
        "_uuid": "e7fb6cc4ef93b407460126a7edbdf720f01a882c",
        "collapsed": true
      },
      "cell_type": "code",
      "source": "application_train_1s = application_train[application_train['TARGET'] == 1]",
      "execution_count": 30,
      "outputs": []
    },
    {
      "metadata": {
        "trusted": true,
        "_uuid": "f378925f603b7d501fce28d9dd2c07be4f119f17",
        "collapsed": true
      },
      "cell_type": "code",
      "source": "application_train_0s = application_train[application_train['TARGET'] == 0].iloc[np.random.permutation(len(application_train[application_train['TARGET'] == 0]))[:len(application_train[application_train['TARGET'] == 1])]]",
      "execution_count": 31,
      "outputs": []
    },
    {
      "metadata": {
        "trusted": true,
        "_uuid": "ca56a7cabff53dbb1fc6c7493ba6db39ef84d38e"
      },
      "cell_type": "code",
      "source": "application_train_1s['TARGET'].value_counts()",
      "execution_count": 32,
      "outputs": [
        {
          "output_type": "execute_result",
          "execution_count": 32,
          "data": {
            "text/plain": "1    24825\nName: TARGET, dtype: int64"
          },
          "metadata": {}
        }
      ]
    },
    {
      "metadata": {
        "trusted": true,
        "_uuid": "3bfd3cea62d9ffee801bafbf9a203b0a8dadbf6d"
      },
      "cell_type": "code",
      "source": "application_train_0s['TARGET'].value_counts()",
      "execution_count": 33,
      "outputs": [
        {
          "output_type": "execute_result",
          "execution_count": 33,
          "data": {
            "text/plain": "0    24825\nName: TARGET, dtype: int64"
          },
          "metadata": {}
        }
      ]
    },
    {
      "metadata": {
        "trusted": true,
        "collapsed": true,
        "_uuid": "275690c79e51ef8d552d437eab8048c21b3f6cf7"
      },
      "cell_type": "code",
      "source": "df = pd.concat([application_train_0s, application_train_1s])\ndf = df.iloc[np.random.permutation(len(df))]",
      "execution_count": 34,
      "outputs": []
    },
    {
      "metadata": {
        "trusted": true,
        "_uuid": "fbfbdbed3ef6bb4ff2c191ebc44c5dbda7614d2a"
      },
      "cell_type": "code",
      "source": "df['TARGET'].value_counts()",
      "execution_count": 35,
      "outputs": [
        {
          "output_type": "execute_result",
          "execution_count": 35,
          "data": {
            "text/plain": "1    24825\n0    24825\nName: TARGET, dtype: int64"
          },
          "metadata": {}
        }
      ]
    },
    {
      "metadata": {
        "trusted": true,
        "collapsed": true,
        "_uuid": "23c02e7f04795791154d89bdceec525d701b6802"
      },
      "cell_type": "code",
      "source": "X = application_train.copy()\nX = pd.get_dummies(X)\nX.fillna(0, inplace=True)",
      "execution_count": 36,
      "outputs": []
    },
    {
      "metadata": {
        "trusted": true,
        "_uuid": "e4ce09b0276a161bf0e6f76bc072b4b36ac38d25",
        "collapsed": true
      },
      "cell_type": "code",
      "source": "x_resampled, y_resampled = SMOTE().fit_sample(X.drop('TARGET',axis=1),X['TARGET'])",
      "execution_count": 37,
      "outputs": []
    },
    {
      "metadata": {
        "trusted": true,
        "_uuid": "bfbb7ef4f1ee481decbd07612e249b814b2ffe59"
      },
      "cell_type": "code",
      "source": "unique, counts = np.unique(y_resampled, return_counts=True)\ndict(zip(unique, counts))",
      "execution_count": 38,
      "outputs": [
        {
          "output_type": "execute_result",
          "execution_count": 38,
          "data": {
            "text/plain": "{0: 282686, 1: 282686}"
          },
          "metadata": {}
        }
      ]
    },
    {
      "metadata": {
        "trusted": true,
        "_uuid": "cc60739de9a3f6a6fc06b63cd3fd989f807d8291",
        "collapsed": true
      },
      "cell_type": "code",
      "source": "X_resampled = pd.DataFrame(data=x_resampled, columns=X.drop('TARGET',axis=1).columns)",
      "execution_count": 39,
      "outputs": []
    },
    {
      "metadata": {
        "trusted": true,
        "collapsed": true,
        "_uuid": "a578e973c1bd04f440b51471d352449b9127422f"
      },
      "cell_type": "code",
      "source": "X_resampled['TARGET'] = y_resampled",
      "execution_count": 40,
      "outputs": []
    },
    {
      "metadata": {
        "trusted": true,
        "_uuid": "d00799fb89358dddf1b515347d991ed9cfc6242f"
      },
      "cell_type": "code",
      "source": "X_resampled.shape",
      "execution_count": 41,
      "outputs": [
        {
          "output_type": "execute_result",
          "execution_count": 41,
          "data": {
            "text/plain": "(565372, 246)"
          },
          "metadata": {}
        }
      ]
    },
    {
      "metadata": {
        "trusted": true,
        "_uuid": "7bceffee7ff5bbf1eba790ec5f835e7945b47f02"
      },
      "cell_type": "code",
      "source": "X.drop('TARGET',axis=1).columns",
      "execution_count": 42,
      "outputs": [
        {
          "output_type": "execute_result",
          "execution_count": 42,
          "data": {
            "text/plain": "Index(['SK_ID_CURR', 'CNT_CHILDREN', 'AMT_INCOME_TOTAL', 'AMT_CREDIT',\n       'AMT_ANNUITY', 'AMT_GOODS_PRICE', 'REGION_POPULATION_RELATIVE',\n       'DAYS_BIRTH', 'DAYS_EMPLOYED', 'DAYS_REGISTRATION',\n       ...\n       'HOUSETYPE_MODE_terraced house', 'WALLSMATERIAL_MODE_Block',\n       'WALLSMATERIAL_MODE_Mixed', 'WALLSMATERIAL_MODE_Monolithic',\n       'WALLSMATERIAL_MODE_Others', 'WALLSMATERIAL_MODE_Panel',\n       'WALLSMATERIAL_MODE_Stone, brick', 'WALLSMATERIAL_MODE_Wooden',\n       'EMERGENCYSTATE_MODE_No', 'EMERGENCYSTATE_MODE_Yes'],\n      dtype='object', length=245)"
          },
          "metadata": {}
        }
      ]
    },
    {
      "metadata": {
        "trusted": true,
        "_uuid": "3e82cefb6d08c7669c95bd1f7b4949e9661090e4"
      },
      "cell_type": "code",
      "source": "application_train[application_train['TARGET'] == 0]['SK_ID_CURR'].iloc[np.random.permutation(len(application_train[application_train['TARGET'] == 0]))[:len(application_train[application_train['TARGET'] == 1])]].sort_index().head()",
      "execution_count": 43,
      "outputs": [
        {
          "output_type": "execute_result",
          "execution_count": 43,
          "data": {
            "text/plain": "3     100006\n7     100010\n17    100021\n35    100041\n41    100048\nName: SK_ID_CURR, dtype: int32"
          },
          "metadata": {}
        }
      ]
    },
    {
      "metadata": {
        "trusted": true,
        "_uuid": "5c0a729f21689504983f670b0a442b73bf07affc"
      },
      "cell_type": "code",
      "source": "temp = application_test[['SK_ID_CURR']].copy()\ntemp['Target'] = 0\ntemp.head()",
      "execution_count": 44,
      "outputs": [
        {
          "output_type": "execute_result",
          "execution_count": 44,
          "data": {
            "text/plain": "   SK_ID_CURR  Target\n0      100001       0\n1      100005       0\n2      100013       0\n3      100028       0\n4      100038       0",
            "text/html": "<div>\n<style scoped>\n    .dataframe tbody tr th:only-of-type {\n        vertical-align: middle;\n    }\n\n    .dataframe tbody tr th {\n        vertical-align: top;\n    }\n\n    .dataframe thead th {\n        text-align: right;\n    }\n</style>\n<table border=\"1\" class=\"dataframe\">\n  <thead>\n    <tr style=\"text-align: right;\">\n      <th></th>\n      <th>SK_ID_CURR</th>\n      <th>Target</th>\n    </tr>\n  </thead>\n  <tbody>\n    <tr>\n      <th>0</th>\n      <td>100001</td>\n      <td>0</td>\n    </tr>\n    <tr>\n      <th>1</th>\n      <td>100005</td>\n      <td>0</td>\n    </tr>\n    <tr>\n      <th>2</th>\n      <td>100013</td>\n      <td>0</td>\n    </tr>\n    <tr>\n      <th>3</th>\n      <td>100028</td>\n      <td>0</td>\n    </tr>\n    <tr>\n      <th>4</th>\n      <td>100038</td>\n      <td>0</td>\n    </tr>\n  </tbody>\n</table>\n</div>"
          },
          "metadata": {}
        }
      ]
    }
  ],
  "metadata": {
    "kernelspec": {
      "display_name": "Python 3",
      "language": "python",
      "name": "python3"
    },
    "language_info": {
      "name": "python",
      "version": "3.6.4",
      "mimetype": "text/x-python",
      "codemirror_mode": {
        "name": "ipython",
        "version": 3
      },
      "pygments_lexer": "ipython3",
      "nbconvert_exporter": "python",
      "file_extension": ".py"
    }
  },
  "nbformat": 4,
  "nbformat_minor": 1
}