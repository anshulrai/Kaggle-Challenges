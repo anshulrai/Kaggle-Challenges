{
 "cells": [
  {
   "cell_type": "code",
   "execution_count": 1,
   "metadata": {
    "ExecuteTime": {
     "end_time": "2018-06-28T02:49:33.295111Z",
     "start_time": "2018-06-28T02:49:33.027330Z"
    }
   },
   "outputs": [],
   "source": [
    "%matplotlib inline\n",
    "%reload_ext autoreload\n",
    "%autoreload 2"
   ]
  },
  {
   "cell_type": "code",
   "execution_count": 2,
   "metadata": {
    "ExecuteTime": {
     "end_time": "2018-06-28T02:49:34.990760Z",
     "start_time": "2018-06-28T02:49:33.297521Z"
    }
   },
   "outputs": [],
   "source": [
    "from fastai.structured import *\n",
    "from fastai.column_data import *\n",
    "np.set_printoptions(threshold=50, edgeitems=20)\n",
    "\n",
    "PATH='data/avito/'"
   ]
  },
  {
   "cell_type": "code",
   "execution_count": 3,
   "metadata": {
    "ExecuteTime": {
     "end_time": "2018-06-28T02:49:35.044291Z",
     "start_time": "2018-06-28T02:49:34.993021Z"
    }
   },
   "outputs": [],
   "source": [
    "import numpy as np \n",
    "import pandas as pd \n",
    "import matplotlib.pyplot as plt\n",
    "import seaborn as sns\n",
    "import os\n",
    "import gc\n",
    "from io import StringIO\n",
    "from matplotlib_venn import venn2\n",
    "from sklearn.feature_extraction.text import TfidfVectorizer, CountVectorizer\n",
    "from sklearn.decomposition import TruncatedSVD\n",
    "color = sns.color_palette()\n",
    "\n",
    "pd.options.mode.chained_assignment = None\n",
    "pd.options.display.max_columns = 999"
   ]
  },
  {
   "cell_type": "code",
   "execution_count": 4,
   "metadata": {
    "ExecuteTime": {
     "end_time": "2018-06-28T02:49:56.924436Z",
     "start_time": "2018-06-28T02:49:35.046387Z"
    }
   },
   "outputs": [],
   "source": [
    "train_df = pd.read_csv(f'{PATH}train.csv', parse_dates=[\"activation_date\"])\n",
    "test_df = pd.read_csv(f'{PATH}test.csv', parse_dates=[\"activation_date\"])\n",
    "traindex = train_df.index\n",
    "testdex = test_df.index\n"
   ]
  },
  {
   "cell_type": "code",
   "execution_count": 5,
   "metadata": {
    "ExecuteTime": {
     "end_time": "2018-06-28T02:49:59.856845Z",
     "start_time": "2018-06-28T02:49:56.926417Z"
    }
   },
   "outputs": [],
   "source": [
    "train_image_feat = pd.read_csv(f'{PATH}Image_KP_SCORES.csv')\n",
    "test_image_feat = pd.read_csv(f'{PATH}Image_KP_SCORES_test.csv')\n",
    "train_image_feat = train_image_feat.rename(columns={'Image_kp_score': 'image_score'})\n",
    "test_image_feat = test_image_feat.rename(columns={'Image_kp_score': 'image_score'})"
   ]
  },
  {
   "cell_type": "code",
   "execution_count": 6,
   "metadata": {
    "ExecuteTime": {
     "end_time": "2018-06-28T02:49:59.882787Z",
     "start_time": "2018-06-28T02:49:59.859070Z"
    }
   },
   "outputs": [
    {
     "data": {
      "text/plain": [
       "(1503424, 508438)"
      ]
     },
     "execution_count": 6,
     "metadata": {},
     "output_type": "execute_result"
    }
   ],
   "source": [
    "len(train_df), len(test_df)"
   ]
  },
  {
   "cell_type": "code",
   "execution_count": 7,
   "metadata": {
    "ExecuteTime": {
     "end_time": "2018-06-28T02:50:04.324079Z",
     "start_time": "2018-06-28T02:49:59.884521Z"
    }
   },
   "outputs": [],
   "source": [
    "train_df = train_df.merge(train_image_feat, on='image', how='left')\n",
    "test_df = test_df.merge(test_image_feat, on='image', how='left')"
   ]
  },
  {
   "cell_type": "code",
   "execution_count": 8,
   "metadata": {
    "ExecuteTime": {
     "end_time": "2018-06-28T02:50:04.350807Z",
     "start_time": "2018-06-28T02:50:04.328369Z"
    }
   },
   "outputs": [
    {
     "data": {
      "text/plain": [
       "(1503424, 508438)"
      ]
     },
     "execution_count": 8,
     "metadata": {},
     "output_type": "execute_result"
    }
   ],
   "source": [
    "len(train_df), len(test_df)"
   ]
  },
  {
   "cell_type": "code",
   "execution_count": 9,
   "metadata": {
    "ExecuteTime": {
     "end_time": "2018-06-28T02:50:07.399721Z",
     "start_time": "2018-06-28T02:50:04.353136Z"
    }
   },
   "outputs": [],
   "source": [
    "agg_feat = pd.read_csv(f'{PATH}aggregated_features.csv')"
   ]
  },
  {
   "cell_type": "code",
   "execution_count": 10,
   "metadata": {
    "ExecuteTime": {
     "end_time": "2018-06-28T02:50:15.441527Z",
     "start_time": "2018-06-28T02:50:07.401683Z"
    }
   },
   "outputs": [],
   "source": [
    "train_df = train_df.merge(agg_feat, on='user_id', how='left')\n",
    "test_df = test_df.merge(agg_feat, on='user_id', how='left')"
   ]
  },
  {
   "cell_type": "code",
   "execution_count": 11,
   "metadata": {
    "ExecuteTime": {
     "end_time": "2018-06-28T02:50:15.469508Z",
     "start_time": "2018-06-28T02:50:15.443767Z"
    }
   },
   "outputs": [
    {
     "data": {
      "text/plain": [
       "(1503424, 508438)"
      ]
     },
     "execution_count": 11,
     "metadata": {},
     "output_type": "execute_result"
    }
   ],
   "source": [
    "len(train_df), len(test_df)"
   ]
  },
  {
   "cell_type": "code",
   "execution_count": 12,
   "metadata": {
    "ExecuteTime": {
     "end_time": "2018-06-28T02:50:15.497437Z",
     "start_time": "2018-06-28T02:50:15.471752Z"
    }
   },
   "outputs": [
    {
     "data": {
      "text/plain": [
       "Index(['item_id', 'user_id', 'region', 'city', 'parent_category_name',\n",
       "       'category_name', 'param_1', 'param_2', 'param_3', 'title',\n",
       "       'description', 'price', 'item_seq_number', 'activation_date',\n",
       "       'user_type', 'image', 'image_top_1', 'deal_probability', 'image_score',\n",
       "       'avg_days_up_user', 'avg_times_up_user', 'n_user_items'],\n",
       "      dtype='object')"
      ]
     },
     "execution_count": 12,
     "metadata": {},
     "output_type": "execute_result"
    }
   ],
   "source": [
    "train_df.columns"
   ]
  },
  {
   "cell_type": "code",
   "execution_count": 13,
   "metadata": {
    "ExecuteTime": {
     "end_time": "2018-06-28T02:50:17.766833Z",
     "start_time": "2018-06-28T02:50:15.500173Z"
    }
   },
   "outputs": [],
   "source": [
    "add_datepart(train_df, 'activation_date')\n",
    "add_datepart(test_df, 'activation_date')"
   ]
  },
  {
   "cell_type": "code",
   "execution_count": 14,
   "metadata": {
    "ExecuteTime": {
     "end_time": "2018-06-28T02:50:51.175565Z",
     "start_time": "2018-06-28T02:50:17.768800Z"
    }
   },
   "outputs": [],
   "source": [
    "textfeats = [\"description\", \"title\"]\n",
    "\n",
    "for cols in textfeats:\n",
    "    train_df[cols] = train_df[cols].astype(str) \n",
    "    train_df[cols] = train_df[cols].astype(str).fillna('missing') \n",
    "    train_df[cols] = train_df[cols].str.lower()\n",
    "    test_df[cols] = test_df[cols].astype(str) \n",
    "    test_df[cols] = test_df[cols].astype(str).fillna('missing') \n",
    "    test_df[cols] = test_df[cols].str.lower()\n",
    "    train_df['num_words_' + cols] = train_df[cols].apply(lambda comment: len(comment.split()))\n",
    "    train_df['num_unique_words_' + cols] = train_df[cols].apply(lambda comment: len(set(w for w in comment.split())))\n",
    "    test_df['num_words_' + cols] = test_df[cols].apply(lambda comment: len(comment.split()))\n",
    "    test_df['num_unique_words_' + cols] = test_df[cols].apply(lambda comment: len(set(w for w in comment.split())))"
   ]
  },
  {
   "cell_type": "code",
   "execution_count": 15,
   "metadata": {
    "ExecuteTime": {
     "end_time": "2018-06-28T02:51:25.326178Z",
     "start_time": "2018-06-28T02:50:51.177249Z"
    }
   },
   "outputs": [],
   "source": [
    "count = lambda l1,l2: sum([1 for x in l1 if x in l2])\n",
    "\n",
    "test_df['words_vs_unique_title'] = test_df['num_unique_words_title'] / test_df['num_words_title'] * 100\n",
    "test_df['words_vs_unique_description'] = test_df['num_unique_words_description'] / test_df['num_words_description'] * 100\n",
    "    \n",
    "test_df['city'] = test_df['region'] + '_' + test_df['city']\n",
    "test_df['num_desc_punct'] = test_df['description'].apply(lambda x: count(x, set(string.punctuation)))\n",
    "\n",
    "train_df['words_vs_unique_title'] = train_df['num_unique_words_title'] / train_df['num_words_title'] * 100\n",
    "train_df['words_vs_unique_description'] = train_df['num_unique_words_description'] / train_df['num_words_description'] * 100\n",
    "    \n",
    "train_df['city'] = train_df['region'] + '_' + train_df['city']\n",
    "train_df['num_desc_punct'] = train_df['description'].apply(lambda x: count(x, set(string.punctuation)))"
   ]
  },
  {
   "cell_type": "markdown",
   "metadata": {
    "ExecuteTime": {
     "end_time": "2018-06-27T23:11:06.981437Z",
     "start_time": "2018-06-27T23:11:06.947251Z"
    }
   },
   "source": [
    "train_df['words_vs_unique_title'].value_counts()"
   ]
  },
  {
   "cell_type": "code",
   "execution_count": 16,
   "metadata": {
    "ExecuteTime": {
     "end_time": "2018-06-28T02:52:39.273617Z",
     "start_time": "2018-06-28T02:51:25.328166Z"
    }
   },
   "outputs": [],
   "source": [
    "### TFIDF Vectorizer ###\n",
    "tfidf_vec = TfidfVectorizer(ngram_range=(1,2))\n",
    "full_tfidf = tfidf_vec.fit_transform(train_df['title'].values.tolist() + test_df['title'].values.tolist())\n",
    "train_tfidf = tfidf_vec.transform(train_df['title'].values.tolist())\n",
    "test_tfidf = tfidf_vec.transform(test_df['title'].values.tolist())\n",
    "\n",
    "### SVD Components ###\n",
    "n_comp = 3\n",
    "svd_obj = TruncatedSVD(n_components=n_comp, algorithm='arpack')\n",
    "svd_obj.fit(full_tfidf)\n",
    "train_svd = pd.DataFrame(svd_obj.transform(train_tfidf))\n",
    "test_svd = pd.DataFrame(svd_obj.transform(test_tfidf))\n",
    "train_svd.columns = ['svd_title_'+str(i+1) for i in range(n_comp)]\n",
    "test_svd.columns = ['svd_title_'+str(i+1) for i in range(n_comp)]\n",
    "train_df = pd.concat([train_df, train_svd], axis=1)\n",
    "test_df = pd.concat([test_df, test_svd], axis=1)\n",
    "del full_tfidf, train_tfidf, test_tfidf, train_svd, test_svd"
   ]
  },
  {
   "cell_type": "code",
   "execution_count": 17,
   "metadata": {
    "ExecuteTime": {
     "end_time": "2018-06-28T02:58:15.893509Z",
     "start_time": "2018-06-28T02:52:39.275811Z"
    }
   },
   "outputs": [],
   "source": [
    "### TFIDF Vectorizer ###\n",
    "tfidf_vec = TfidfVectorizer(ngram_range=(1,2), max_features=15000)\n",
    "full_tfidf = tfidf_vec.fit_transform(train_df['description'].values.tolist() + test_df['description'].values.tolist())\n",
    "train_tfidf = tfidf_vec.transform(train_df['description'].values.tolist())\n",
    "test_tfidf = tfidf_vec.transform(test_df['description'].values.tolist())\n",
    "\n",
    "### SVD Components ###\n",
    "n_comp = 3\n",
    "svd_obj = TruncatedSVD(n_components=n_comp, algorithm='arpack')\n",
    "svd_obj.fit(full_tfidf)\n",
    "train_svd = pd.DataFrame(svd_obj.transform(train_tfidf))\n",
    "test_svd = pd.DataFrame(svd_obj.transform(test_tfidf))\n",
    "train_svd.columns = ['svd_desc_'+str(i+1) for i in range(n_comp)]\n",
    "test_svd.columns = ['svd_desc_'+str(i+1) for i in range(n_comp)]\n",
    "train_df = pd.concat([train_df, train_svd], axis=1)\n",
    "test_df = pd.concat([test_df, test_svd], axis=1)\n",
    "del full_tfidf, train_tfidf, test_tfidf, train_svd, test_svd"
   ]
  },
  {
   "cell_type": "code",
   "execution_count": 18,
   "metadata": {
    "ExecuteTime": {
     "end_time": "2018-06-28T02:58:15.957974Z",
     "start_time": "2018-06-28T02:58:15.895378Z"
    }
   },
   "outputs": [
    {
     "data": {
      "text/html": [
       "<div>\n",
       "<style scoped>\n",
       "    .dataframe tbody tr th:only-of-type {\n",
       "        vertical-align: middle;\n",
       "    }\n",
       "\n",
       "    .dataframe tbody tr th {\n",
       "        vertical-align: top;\n",
       "    }\n",
       "\n",
       "    .dataframe thead th {\n",
       "        text-align: right;\n",
       "    }\n",
       "</style>\n",
       "<table border=\"1\" class=\"dataframe\">\n",
       "  <thead>\n",
       "    <tr style=\"text-align: right;\">\n",
       "      <th></th>\n",
       "      <th>item_id</th>\n",
       "      <th>user_id</th>\n",
       "      <th>region</th>\n",
       "      <th>city</th>\n",
       "      <th>parent_category_name</th>\n",
       "      <th>category_name</th>\n",
       "      <th>param_1</th>\n",
       "      <th>param_2</th>\n",
       "      <th>param_3</th>\n",
       "      <th>title</th>\n",
       "      <th>description</th>\n",
       "      <th>price</th>\n",
       "      <th>item_seq_number</th>\n",
       "      <th>user_type</th>\n",
       "      <th>image</th>\n",
       "      <th>image_top_1</th>\n",
       "      <th>deal_probability</th>\n",
       "      <th>image_score</th>\n",
       "      <th>avg_days_up_user</th>\n",
       "      <th>avg_times_up_user</th>\n",
       "      <th>n_user_items</th>\n",
       "      <th>activation_Year</th>\n",
       "      <th>activation_Month</th>\n",
       "      <th>activation_Week</th>\n",
       "      <th>activation_Day</th>\n",
       "      <th>activation_Dayofweek</th>\n",
       "      <th>activation_Dayofyear</th>\n",
       "      <th>activation_Is_month_end</th>\n",
       "      <th>activation_Is_month_start</th>\n",
       "      <th>activation_Is_quarter_end</th>\n",
       "      <th>activation_Is_quarter_start</th>\n",
       "      <th>activation_Is_year_end</th>\n",
       "      <th>activation_Is_year_start</th>\n",
       "      <th>activation_Elapsed</th>\n",
       "      <th>num_words_description</th>\n",
       "      <th>num_unique_words_description</th>\n",
       "      <th>num_words_title</th>\n",
       "      <th>num_unique_words_title</th>\n",
       "      <th>words_vs_unique_title</th>\n",
       "      <th>words_vs_unique_description</th>\n",
       "      <th>num_desc_punct</th>\n",
       "      <th>svd_title_1</th>\n",
       "      <th>svd_title_2</th>\n",
       "      <th>svd_title_3</th>\n",
       "      <th>svd_desc_1</th>\n",
       "      <th>svd_desc_2</th>\n",
       "      <th>svd_desc_3</th>\n",
       "    </tr>\n",
       "  </thead>\n",
       "  <tbody>\n",
       "    <tr>\n",
       "      <th>0</th>\n",
       "      <td>b912c3c6a6ad</td>\n",
       "      <td>e00f8ff2eaf9</td>\n",
       "      <td>Свердловская область</td>\n",
       "      <td>Свердловская область_Екатеринбург</td>\n",
       "      <td>Личные вещи</td>\n",
       "      <td>Товары для детей и игрушки</td>\n",
       "      <td>Постельные принадлежности</td>\n",
       "      <td>NaN</td>\n",
       "      <td>NaN</td>\n",
       "      <td>кокоби(кокон для сна)</td>\n",
       "      <td>кокон для сна малыша,пользовались меньше месяц...</td>\n",
       "      <td>400.0</td>\n",
       "      <td>2</td>\n",
       "      <td>Private</td>\n",
       "      <td>d10c7e016e03247a3bf2d13348fe959fe6f436c1caf64c...</td>\n",
       "      <td>1008.0</td>\n",
       "      <td>0.12789</td>\n",
       "      <td>3283.0</td>\n",
       "      <td>8.000000</td>\n",
       "      <td>2.000000</td>\n",
       "      <td>2</td>\n",
       "      <td>2017</td>\n",
       "      <td>3</td>\n",
       "      <td>13</td>\n",
       "      <td>28</td>\n",
       "      <td>1</td>\n",
       "      <td>87</td>\n",
       "      <td>False</td>\n",
       "      <td>False</td>\n",
       "      <td>False</td>\n",
       "      <td>False</td>\n",
       "      <td>False</td>\n",
       "      <td>False</td>\n",
       "      <td>1490659200</td>\n",
       "      <td>7</td>\n",
       "      <td>7</td>\n",
       "      <td>3</td>\n",
       "      <td>3</td>\n",
       "      <td>100.0</td>\n",
       "      <td>100.0</td>\n",
       "      <td>2</td>\n",
       "      <td>1.775388e-03</td>\n",
       "      <td>-0.000013</td>\n",
       "      <td>0.001292</td>\n",
       "      <td>8.242352e-07</td>\n",
       "      <td>0.030402</td>\n",
       "      <td>-0.046948</td>\n",
       "    </tr>\n",
       "    <tr>\n",
       "      <th>1</th>\n",
       "      <td>2dac0150717d</td>\n",
       "      <td>39aeb48f0017</td>\n",
       "      <td>Самарская область</td>\n",
       "      <td>Самарская область_Самара</td>\n",
       "      <td>Для дома и дачи</td>\n",
       "      <td>Мебель и интерьер</td>\n",
       "      <td>Другое</td>\n",
       "      <td>NaN</td>\n",
       "      <td>NaN</td>\n",
       "      <td>стойка для одежды</td>\n",
       "      <td>стойка для одежды, под вешалки. с бутика.</td>\n",
       "      <td>3000.0</td>\n",
       "      <td>19</td>\n",
       "      <td>Private</td>\n",
       "      <td>79c9392cc51a9c81c6eb91eceb8e552171db39d7142700...</td>\n",
       "      <td>692.0</td>\n",
       "      <td>0.00000</td>\n",
       "      <td>3349.0</td>\n",
       "      <td>NaN</td>\n",
       "      <td>NaN</td>\n",
       "      <td>1</td>\n",
       "      <td>2017</td>\n",
       "      <td>3</td>\n",
       "      <td>12</td>\n",
       "      <td>26</td>\n",
       "      <td>6</td>\n",
       "      <td>85</td>\n",
       "      <td>False</td>\n",
       "      <td>False</td>\n",
       "      <td>False</td>\n",
       "      <td>False</td>\n",
       "      <td>False</td>\n",
       "      <td>False</td>\n",
       "      <td>1490486400</td>\n",
       "      <td>7</td>\n",
       "      <td>7</td>\n",
       "      <td>3</td>\n",
       "      <td>3</td>\n",
       "      <td>100.0</td>\n",
       "      <td>100.0</td>\n",
       "      <td>3</td>\n",
       "      <td>2.805140e-03</td>\n",
       "      <td>-0.000003</td>\n",
       "      <td>0.002211</td>\n",
       "      <td>6.871823e-07</td>\n",
       "      <td>0.028727</td>\n",
       "      <td>-0.051477</td>\n",
       "    </tr>\n",
       "    <tr>\n",
       "      <th>2</th>\n",
       "      <td>ba83aefab5dc</td>\n",
       "      <td>91e2f88dd6e3</td>\n",
       "      <td>Ростовская область</td>\n",
       "      <td>Ростовская область_Ростов-на-Дону</td>\n",
       "      <td>Бытовая электроника</td>\n",
       "      <td>Аудио и видео</td>\n",
       "      <td>Видео, DVD и Blu-ray плееры</td>\n",
       "      <td>NaN</td>\n",
       "      <td>NaN</td>\n",
       "      <td>philips bluray</td>\n",
       "      <td>в хорошем состоянии, домашний кинотеатр с blu ...</td>\n",
       "      <td>4000.0</td>\n",
       "      <td>9</td>\n",
       "      <td>Private</td>\n",
       "      <td>b7f250ee3f39e1fedd77c141f273703f4a9be59db4b48a...</td>\n",
       "      <td>3032.0</td>\n",
       "      <td>0.43177</td>\n",
       "      <td>432.0</td>\n",
       "      <td>4.428571</td>\n",
       "      <td>1.142857</td>\n",
       "      <td>9</td>\n",
       "      <td>2017</td>\n",
       "      <td>3</td>\n",
       "      <td>12</td>\n",
       "      <td>20</td>\n",
       "      <td>0</td>\n",
       "      <td>79</td>\n",
       "      <td>False</td>\n",
       "      <td>False</td>\n",
       "      <td>False</td>\n",
       "      <td>False</td>\n",
       "      <td>False</td>\n",
       "      <td>False</td>\n",
       "      <td>1489968000</td>\n",
       "      <td>17</td>\n",
       "      <td>17</td>\n",
       "      <td>2</td>\n",
       "      <td>2</td>\n",
       "      <td>100.0</td>\n",
       "      <td>100.0</td>\n",
       "      <td>5</td>\n",
       "      <td>3.381291e-06</td>\n",
       "      <td>0.000008</td>\n",
       "      <td>0.000026</td>\n",
       "      <td>6.005857e-07</td>\n",
       "      <td>0.212441</td>\n",
       "      <td>0.091467</td>\n",
       "    </tr>\n",
       "    <tr>\n",
       "      <th>3</th>\n",
       "      <td>02996f1dd2ea</td>\n",
       "      <td>bf5cccea572d</td>\n",
       "      <td>Татарстан</td>\n",
       "      <td>Татарстан_Набережные Челны</td>\n",
       "      <td>Личные вещи</td>\n",
       "      <td>Товары для детей и игрушки</td>\n",
       "      <td>Автомобильные кресла</td>\n",
       "      <td>NaN</td>\n",
       "      <td>NaN</td>\n",
       "      <td>автокресло</td>\n",
       "      <td>продам кресло от0-25кг</td>\n",
       "      <td>2200.0</td>\n",
       "      <td>286</td>\n",
       "      <td>Company</td>\n",
       "      <td>e6ef97e0725637ea84e3d203e82dadb43ed3cc0a1c8413...</td>\n",
       "      <td>796.0</td>\n",
       "      <td>0.80323</td>\n",
       "      <td>620.0</td>\n",
       "      <td>16.714286</td>\n",
       "      <td>2.642857</td>\n",
       "      <td>32</td>\n",
       "      <td>2017</td>\n",
       "      <td>3</td>\n",
       "      <td>12</td>\n",
       "      <td>25</td>\n",
       "      <td>5</td>\n",
       "      <td>84</td>\n",
       "      <td>False</td>\n",
       "      <td>False</td>\n",
       "      <td>False</td>\n",
       "      <td>False</td>\n",
       "      <td>False</td>\n",
       "      <td>False</td>\n",
       "      <td>1490400000</td>\n",
       "      <td>3</td>\n",
       "      <td>3</td>\n",
       "      <td>1</td>\n",
       "      <td>1</td>\n",
       "      <td>100.0</td>\n",
       "      <td>100.0</td>\n",
       "      <td>1</td>\n",
       "      <td>4.792249e-05</td>\n",
       "      <td>0.000025</td>\n",
       "      <td>0.000049</td>\n",
       "      <td>5.613274e-06</td>\n",
       "      <td>0.085606</td>\n",
       "      <td>-0.082542</td>\n",
       "    </tr>\n",
       "    <tr>\n",
       "      <th>4</th>\n",
       "      <td>7c90be56d2ab</td>\n",
       "      <td>ef50846afc0b</td>\n",
       "      <td>Волгоградская область</td>\n",
       "      <td>Волгоградская область_Волгоград</td>\n",
       "      <td>Транспорт</td>\n",
       "      <td>Автомобили</td>\n",
       "      <td>С пробегом</td>\n",
       "      <td>ВАЗ (LADA)</td>\n",
       "      <td>2110</td>\n",
       "      <td>ваз 2110, 2003</td>\n",
       "      <td>все вопросы по телефону.</td>\n",
       "      <td>40000.0</td>\n",
       "      <td>3</td>\n",
       "      <td>Private</td>\n",
       "      <td>54a687a3a0fc1d68aed99bdaaf551c5c70b761b16fd0a2...</td>\n",
       "      <td>2264.0</td>\n",
       "      <td>0.20797</td>\n",
       "      <td>5806.0</td>\n",
       "      <td>NaN</td>\n",
       "      <td>NaN</td>\n",
       "      <td>1</td>\n",
       "      <td>2017</td>\n",
       "      <td>3</td>\n",
       "      <td>11</td>\n",
       "      <td>16</td>\n",
       "      <td>3</td>\n",
       "      <td>75</td>\n",
       "      <td>False</td>\n",
       "      <td>False</td>\n",
       "      <td>False</td>\n",
       "      <td>False</td>\n",
       "      <td>False</td>\n",
       "      <td>False</td>\n",
       "      <td>1489622400</td>\n",
       "      <td>4</td>\n",
       "      <td>4</td>\n",
       "      <td>3</td>\n",
       "      <td>3</td>\n",
       "      <td>100.0</td>\n",
       "      <td>100.0</td>\n",
       "      <td>1</td>\n",
       "      <td>3.985457e-07</td>\n",
       "      <td>0.000001</td>\n",
       "      <td>0.000007</td>\n",
       "      <td>4.633977e-06</td>\n",
       "      <td>0.099686</td>\n",
       "      <td>-0.173768</td>\n",
       "    </tr>\n",
       "  </tbody>\n",
       "</table>\n",
       "</div>"
      ],
      "text/plain": [
       "        item_id       user_id                 region  \\\n",
       "0  b912c3c6a6ad  e00f8ff2eaf9   Свердловская область   \n",
       "1  2dac0150717d  39aeb48f0017      Самарская область   \n",
       "2  ba83aefab5dc  91e2f88dd6e3     Ростовская область   \n",
       "3  02996f1dd2ea  bf5cccea572d              Татарстан   \n",
       "4  7c90be56d2ab  ef50846afc0b  Волгоградская область   \n",
       "\n",
       "                                city parent_category_name  \\\n",
       "0  Свердловская область_Екатеринбург          Личные вещи   \n",
       "1           Самарская область_Самара      Для дома и дачи   \n",
       "2  Ростовская область_Ростов-на-Дону  Бытовая электроника   \n",
       "3         Татарстан_Набережные Челны          Личные вещи   \n",
       "4    Волгоградская область_Волгоград            Транспорт   \n",
       "\n",
       "                category_name                      param_1     param_2  \\\n",
       "0  Товары для детей и игрушки    Постельные принадлежности         NaN   \n",
       "1           Мебель и интерьер                       Другое         NaN   \n",
       "2               Аудио и видео  Видео, DVD и Blu-ray плееры         NaN   \n",
       "3  Товары для детей и игрушки         Автомобильные кресла         NaN   \n",
       "4                  Автомобили                   С пробегом  ВАЗ (LADA)   \n",
       "\n",
       "  param_3                  title  \\\n",
       "0     NaN  кокоби(кокон для сна)   \n",
       "1     NaN      стойка для одежды   \n",
       "2     NaN         philips bluray   \n",
       "3     NaN             автокресло   \n",
       "4    2110         ваз 2110, 2003   \n",
       "\n",
       "                                         description    price  \\\n",
       "0  кокон для сна малыша,пользовались меньше месяц...    400.0   \n",
       "1          стойка для одежды, под вешалки. с бутика.   3000.0   \n",
       "2  в хорошем состоянии, домашний кинотеатр с blu ...   4000.0   \n",
       "3                             продам кресло от0-25кг   2200.0   \n",
       "4                           все вопросы по телефону.  40000.0   \n",
       "\n",
       "   item_seq_number user_type  \\\n",
       "0                2   Private   \n",
       "1               19   Private   \n",
       "2                9   Private   \n",
       "3              286   Company   \n",
       "4                3   Private   \n",
       "\n",
       "                                               image  image_top_1  \\\n",
       "0  d10c7e016e03247a3bf2d13348fe959fe6f436c1caf64c...       1008.0   \n",
       "1  79c9392cc51a9c81c6eb91eceb8e552171db39d7142700...        692.0   \n",
       "2  b7f250ee3f39e1fedd77c141f273703f4a9be59db4b48a...       3032.0   \n",
       "3  e6ef97e0725637ea84e3d203e82dadb43ed3cc0a1c8413...        796.0   \n",
       "4  54a687a3a0fc1d68aed99bdaaf551c5c70b761b16fd0a2...       2264.0   \n",
       "\n",
       "   deal_probability  image_score  avg_days_up_user  avg_times_up_user  \\\n",
       "0           0.12789       3283.0          8.000000           2.000000   \n",
       "1           0.00000       3349.0               NaN                NaN   \n",
       "2           0.43177        432.0          4.428571           1.142857   \n",
       "3           0.80323        620.0         16.714286           2.642857   \n",
       "4           0.20797       5806.0               NaN                NaN   \n",
       "\n",
       "   n_user_items  activation_Year  activation_Month  activation_Week  \\\n",
       "0             2             2017                 3               13   \n",
       "1             1             2017                 3               12   \n",
       "2             9             2017                 3               12   \n",
       "3            32             2017                 3               12   \n",
       "4             1             2017                 3               11   \n",
       "\n",
       "   activation_Day  activation_Dayofweek  activation_Dayofyear  \\\n",
       "0              28                     1                    87   \n",
       "1              26                     6                    85   \n",
       "2              20                     0                    79   \n",
       "3              25                     5                    84   \n",
       "4              16                     3                    75   \n",
       "\n",
       "   activation_Is_month_end  activation_Is_month_start  \\\n",
       "0                    False                      False   \n",
       "1                    False                      False   \n",
       "2                    False                      False   \n",
       "3                    False                      False   \n",
       "4                    False                      False   \n",
       "\n",
       "   activation_Is_quarter_end  activation_Is_quarter_start  \\\n",
       "0                      False                        False   \n",
       "1                      False                        False   \n",
       "2                      False                        False   \n",
       "3                      False                        False   \n",
       "4                      False                        False   \n",
       "\n",
       "   activation_Is_year_end  activation_Is_year_start  activation_Elapsed  \\\n",
       "0                   False                     False          1490659200   \n",
       "1                   False                     False          1490486400   \n",
       "2                   False                     False          1489968000   \n",
       "3                   False                     False          1490400000   \n",
       "4                   False                     False          1489622400   \n",
       "\n",
       "   num_words_description  num_unique_words_description  num_words_title  \\\n",
       "0                      7                             7                3   \n",
       "1                      7                             7                3   \n",
       "2                     17                            17                2   \n",
       "3                      3                             3                1   \n",
       "4                      4                             4                3   \n",
       "\n",
       "   num_unique_words_title  words_vs_unique_title  words_vs_unique_description  \\\n",
       "0                       3                  100.0                        100.0   \n",
       "1                       3                  100.0                        100.0   \n",
       "2                       2                  100.0                        100.0   \n",
       "3                       1                  100.0                        100.0   \n",
       "4                       3                  100.0                        100.0   \n",
       "\n",
       "   num_desc_punct   svd_title_1  svd_title_2  svd_title_3    svd_desc_1  \\\n",
       "0               2  1.775388e-03    -0.000013     0.001292  8.242352e-07   \n",
       "1               3  2.805140e-03    -0.000003     0.002211  6.871823e-07   \n",
       "2               5  3.381291e-06     0.000008     0.000026  6.005857e-07   \n",
       "3               1  4.792249e-05     0.000025     0.000049  5.613274e-06   \n",
       "4               1  3.985457e-07     0.000001     0.000007  4.633977e-06   \n",
       "\n",
       "   svd_desc_2  svd_desc_3  \n",
       "0    0.030402   -0.046948  \n",
       "1    0.028727   -0.051477  \n",
       "2    0.212441    0.091467  \n",
       "3    0.085606   -0.082542  \n",
       "4    0.099686   -0.173768  "
      ]
     },
     "execution_count": 18,
     "metadata": {},
     "output_type": "execute_result"
    }
   ],
   "source": [
    "train_df.head()"
   ]
  },
  {
   "cell_type": "markdown",
   "metadata": {},
   "source": [
    "Final Variables"
   ]
  },
  {
   "cell_type": "code",
   "execution_count": 19,
   "metadata": {
    "ExecuteTime": {
     "end_time": "2018-06-28T02:58:15.984566Z",
     "start_time": "2018-06-28T02:58:15.959853Z"
    }
   },
   "outputs": [
    {
     "name": "stdout",
     "output_type": "stream",
     "text": [
      "46\n"
     ]
    }
   ],
   "source": [
    "cat_vars = ['region', 'city', 'parent_category_name', 'category_name', 'param_1', 'param_2', 'param_3', 'user_type', 'activation_Week', 'activation_Day', 'activation_Dayofweek', 'image_top_1']\n",
    "cols_to_drop = [\"item_id\", \"user_id\", \"title\", \"description\", \"image\", 'activation_Year', 'activation_Month', 'activation_Is_year_end', 'activation_Is_year_start', 'activation_Elapsed', 'activation_Is_month_end', 'activation_Is_month_start','activation_Is_quarter_end', 'activation_Is_quarter_start', 'activation_Dayofyear']\n",
    "contin_vars = ['price', 'item_seq_number', 'svd_title_1', 'svd_title_2', 'svd_title_3', 'svd_desc_1', 'svd_desc_2', 'svd_desc_3', 'avg_days_up_user', 'avg_times_up_user', 'n_user_items', 'image_score','num_desc_punct', 'words_vs_unique_description', 'words_vs_unique_title', 'num_unique_words_description', 'num_unique_words_title', 'num_words_description', 'num_words_title']\n",
    "#deal_probability, 'image_score'\n",
    "print(len(cat_vars)+len(cols_to_drop)+len(contin_vars))"
   ]
  },
  {
   "cell_type": "code",
   "execution_count": 20,
   "metadata": {
    "ExecuteTime": {
     "end_time": "2018-06-28T02:58:16.015430Z",
     "start_time": "2018-06-28T02:58:15.986396Z"
    }
   },
   "outputs": [],
   "source": [
    "train_df['image_score'].fillna(-1.0, inplace=True)\n",
    "test_df['image_score'].fillna(-1.0, inplace=True)\n",
    "#train_df['image_score'] = train_df['image_score'].fillna(train_df['image_score'].mean())\n",
    "#test_df['image_score'] = test_df['image_score'].fillna(train_df['image_score'].mean())"
   ]
  },
  {
   "cell_type": "code",
   "execution_count": 21,
   "metadata": {
    "ExecuteTime": {
     "end_time": "2018-06-28T02:58:16.050409Z",
     "start_time": "2018-06-28T02:58:16.017615Z"
    }
   },
   "outputs": [],
   "source": [
    "#train_df['avg_days_up_user'] = train_df['avg_days_up_user'].fillna(train_df['avg_days_up_user'].mean())\n",
    "#test_df['avg_days_up_user'] = test_df['avg_days_up_user'].fillna(train_df['avg_days_up_user'].mean())\n",
    "train_df['avg_days_up_user'].fillna(-1.0, inplace=True)\n",
    "test_df['avg_days_up_user'].fillna(-1.0, inplace=True)"
   ]
  },
  {
   "cell_type": "code",
   "execution_count": 22,
   "metadata": {
    "ExecuteTime": {
     "end_time": "2018-06-28T02:58:16.085003Z",
     "start_time": "2018-06-28T02:58:16.052187Z"
    }
   },
   "outputs": [],
   "source": [
    "#train_df['avg_times_up_user'] = train_df['avg_times_up_user'].fillna(train_df['avg_times_up_user'].mean())\n",
    "#test_df['avg_times_up_user'] = test_df['avg_times_up_user'].fillna(train_df['avg_times_up_user'].mean())\n",
    "train_df['avg_times_up_user'].fillna(-1.0, inplace=True)\n",
    "test_df['avg_times_up_user'].fillna(-1.0, inplace=True)"
   ]
  },
  {
   "cell_type": "code",
   "execution_count": 23,
   "metadata": {
    "ExecuteTime": {
     "end_time": "2018-06-28T02:58:16.118525Z",
     "start_time": "2018-06-28T02:58:16.086919Z"
    }
   },
   "outputs": [],
   "source": [
    "train_df['image_top_1'].fillna(-1, inplace=True)\n",
    "test_df['image_top_1'].fillna(-1, inplace=True)"
   ]
  },
  {
   "cell_type": "code",
   "execution_count": 24,
   "metadata": {
    "ExecuteTime": {
     "end_time": "2018-06-28T02:58:16.222797Z",
     "start_time": "2018-06-28T02:58:16.120333Z"
    }
   },
   "outputs": [],
   "source": [
    "train_df['param_1'].fillna('Empty Empty', inplace=True)\n",
    "test_df['param_1'].fillna('Empty Empty', inplace=True)"
   ]
  },
  {
   "cell_type": "code",
   "execution_count": 25,
   "metadata": {
    "ExecuteTime": {
     "end_time": "2018-06-28T02:58:16.342932Z",
     "start_time": "2018-06-28T02:58:16.224468Z"
    }
   },
   "outputs": [],
   "source": [
    "train_df['param_2'].fillna('Empty Empty', inplace=True)\n",
    "test_df['param_2'].fillna('Empty Empty', inplace=True)"
   ]
  },
  {
   "cell_type": "code",
   "execution_count": 26,
   "metadata": {
    "ExecuteTime": {
     "end_time": "2018-06-28T02:58:16.460234Z",
     "start_time": "2018-06-28T02:58:16.344642Z"
    }
   },
   "outputs": [],
   "source": [
    "train_df['param_3'].fillna('Empty Empty', inplace=True)\n",
    "test_df['param_3'].fillna('Empty Empty', inplace=True)"
   ]
  },
  {
   "cell_type": "code",
   "execution_count": 27,
   "metadata": {
    "ExecuteTime": {
     "end_time": "2018-06-28T02:58:16.545964Z",
     "start_time": "2018-06-28T02:58:16.462421Z"
    }
   },
   "outputs": [],
   "source": [
    "train_df[\"price\"] = np.log(train_df[\"price\"]+0.001)\n",
    "test_df[\"price\"] = np.log(test_df[\"price\"]+0.001)\n",
    "train_df['price'].fillna(-1.0, inplace=True)\n",
    "test_df['price'].fillna(-1.0, inplace=True)\n",
    "#train_df['price'].fillna(train_df['price'].mean(), inplace=True)\n",
    "#test_df['price'].fillna(train_df['price'].mean(), inplace=True)"
   ]
  },
  {
   "cell_type": "code",
   "execution_count": 28,
   "metadata": {
    "ExecuteTime": {
     "end_time": "2018-06-28T02:58:20.242303Z",
     "start_time": "2018-06-28T02:58:16.547795Z"
    }
   },
   "outputs": [],
   "source": [
    "#to_cat = ['region', 'city', 'parent_category_name', 'category_name', 'param_1', 'param_2', 'param_3', 'user_type']\n",
    "for col in cat_vars:\n",
    "    train_df[col] = train_df[col].astype('category')\n",
    "    test_df[col] = test_df[col].astype('category')"
   ]
  },
  {
   "cell_type": "code",
   "execution_count": 29,
   "metadata": {
    "ExecuteTime": {
     "end_time": "2018-06-28T02:58:22.523219Z",
     "start_time": "2018-06-28T02:58:20.244270Z"
    }
   },
   "outputs": [
    {
     "data": {
      "text/plain": [
       "item_id                              0\n",
       "user_id                              0\n",
       "region                               0\n",
       "city                                 0\n",
       "parent_category_name                 0\n",
       "category_name                        0\n",
       "param_1                              0\n",
       "param_2                              0\n",
       "param_3                              0\n",
       "title                                0\n",
       "description                          0\n",
       "price                                0\n",
       "item_seq_number                      0\n",
       "user_type                            0\n",
       "image                           112588\n",
       "image_top_1                          0\n",
       "deal_probability                     0\n",
       "image_score                          0\n",
       "avg_days_up_user                     0\n",
       "avg_times_up_user                    0\n",
       "n_user_items                         0\n",
       "activation_Year                      0\n",
       "activation_Month                     0\n",
       "activation_Week                      0\n",
       "activation_Day                       0\n",
       "activation_Dayofweek                 0\n",
       "activation_Dayofyear                 0\n",
       "activation_Is_month_end              0\n",
       "activation_Is_month_start            0\n",
       "activation_Is_quarter_end            0\n",
       "activation_Is_quarter_start          0\n",
       "activation_Is_year_end               0\n",
       "activation_Is_year_start             0\n",
       "activation_Elapsed                   0\n",
       "num_words_description                0\n",
       "num_unique_words_description         0\n",
       "num_words_title                      0\n",
       "num_unique_words_title               0\n",
       "words_vs_unique_title                0\n",
       "words_vs_unique_description          0\n",
       "num_desc_punct                       0\n",
       "svd_title_1                          0\n",
       "svd_title_2                          0\n",
       "svd_title_3                          0\n",
       "svd_desc_1                           0\n",
       "svd_desc_2                           0\n",
       "svd_desc_3                           0\n",
       "dtype: int64"
      ]
     },
     "execution_count": 29,
     "metadata": {},
     "output_type": "execute_result"
    }
   ],
   "source": [
    "train_df.isna().sum()"
   ]
  },
  {
   "cell_type": "code",
   "execution_count": 30,
   "metadata": {
    "ExecuteTime": {
     "end_time": "2018-06-28T02:58:23.280258Z",
     "start_time": "2018-06-28T02:58:22.524982Z"
    }
   },
   "outputs": [
    {
     "data": {
      "text/plain": [
       "item_id                             0\n",
       "user_id                             0\n",
       "region                              0\n",
       "city                                0\n",
       "parent_category_name                0\n",
       "category_name                       0\n",
       "param_1                             0\n",
       "param_2                             0\n",
       "param_3                             0\n",
       "title                               0\n",
       "description                         0\n",
       "price                               0\n",
       "item_seq_number                     0\n",
       "user_type                           0\n",
       "image                           42609\n",
       "image_top_1                         0\n",
       "image_score                         0\n",
       "avg_days_up_user                    0\n",
       "avg_times_up_user                   0\n",
       "n_user_items                        0\n",
       "activation_Year                     0\n",
       "activation_Month                    0\n",
       "activation_Week                     0\n",
       "activation_Day                      0\n",
       "activation_Dayofweek                0\n",
       "activation_Dayofyear                0\n",
       "activation_Is_month_end             0\n",
       "activation_Is_month_start           0\n",
       "activation_Is_quarter_end           0\n",
       "activation_Is_quarter_start         0\n",
       "activation_Is_year_end              0\n",
       "activation_Is_year_start            0\n",
       "activation_Elapsed                  0\n",
       "num_words_description               0\n",
       "num_unique_words_description        0\n",
       "num_words_title                     0\n",
       "num_unique_words_title              0\n",
       "words_vs_unique_title               0\n",
       "words_vs_unique_description         0\n",
       "num_desc_punct                      0\n",
       "svd_title_1                         0\n",
       "svd_title_2                         0\n",
       "svd_title_3                         0\n",
       "svd_desc_1                          0\n",
       "svd_desc_2                          0\n",
       "svd_desc_3                          0\n",
       "dtype: int64"
      ]
     },
     "execution_count": 30,
     "metadata": {},
     "output_type": "execute_result"
    }
   ],
   "source": [
    "test_df.isna().sum()"
   ]
  },
  {
   "cell_type": "markdown",
   "metadata": {
    "ExecuteTime": {
     "end_time": "2018-06-28T02:21:45.897082Z",
     "start_time": "2018-06-28T02:21:45.828709Z"
    }
   },
   "source": [
    "#val_idx = get_cv_idxs(len(train_df))\n",
    "val_idx = get_cv_idxs(len(train_df),val_pct=0.338186699161381)\n",
    "#val_idx = [0]"
   ]
  },
  {
   "cell_type": "code",
   "execution_count": 31,
   "metadata": {
    "ExecuteTime": {
     "end_time": "2018-06-28T02:58:23.305924Z",
     "start_time": "2018-06-28T02:58:23.281975Z"
    }
   },
   "outputs": [],
   "source": [
    "train_y = train_df[\"deal_probability\"].values\n",
    "test_id = test_df[\"item_id\"].values"
   ]
  },
  {
   "cell_type": "code",
   "execution_count": 32,
   "metadata": {
    "ExecuteTime": {
     "end_time": "2018-06-28T02:58:23.422961Z",
     "start_time": "2018-06-28T02:58:23.307469Z"
    }
   },
   "outputs": [],
   "source": [
    "train_X = train_df.drop(cols_to_drop, axis=1)"
   ]
  },
  {
   "cell_type": "code",
   "execution_count": 33,
   "metadata": {
    "ExecuteTime": {
     "end_time": "2018-06-28T02:58:23.468626Z",
     "start_time": "2018-06-28T02:58:23.424692Z"
    }
   },
   "outputs": [],
   "source": [
    "test_X = test_df.drop(cols_to_drop, axis=1)"
   ]
  },
  {
   "cell_type": "code",
   "execution_count": 34,
   "metadata": {
    "ExecuteTime": {
     "end_time": "2018-06-28T02:58:24.197114Z",
     "start_time": "2018-06-28T02:58:23.470269Z"
    }
   },
   "outputs": [
    {
     "data": {
      "text/plain": [
       "region                          0\n",
       "city                            0\n",
       "parent_category_name            0\n",
       "category_name                   0\n",
       "param_1                         0\n",
       "param_2                         0\n",
       "param_3                         0\n",
       "price                           0\n",
       "item_seq_number                 0\n",
       "user_type                       0\n",
       "image_top_1                     0\n",
       "deal_probability                0\n",
       "image_score                     0\n",
       "avg_days_up_user                0\n",
       "avg_times_up_user               0\n",
       "n_user_items                    0\n",
       "activation_Week                 0\n",
       "activation_Day                  0\n",
       "activation_Dayofweek            0\n",
       "num_words_description           0\n",
       "num_unique_words_description    0\n",
       "num_words_title                 0\n",
       "num_unique_words_title          0\n",
       "words_vs_unique_title           0\n",
       "words_vs_unique_description     0\n",
       "num_desc_punct                  0\n",
       "svd_title_1                     0\n",
       "svd_title_2                     0\n",
       "svd_title_3                     0\n",
       "svd_desc_1                      0\n",
       "svd_desc_2                      0\n",
       "svd_desc_3                      0\n",
       "dtype: int64"
      ]
     },
     "execution_count": 34,
     "metadata": {},
     "output_type": "execute_result"
    }
   ],
   "source": [
    "train_X.isna().sum()"
   ]
  },
  {
   "cell_type": "code",
   "execution_count": 35,
   "metadata": {
    "ExecuteTime": {
     "end_time": "2018-06-28T02:58:36.415036Z",
     "start_time": "2018-06-28T02:58:24.198884Z"
    }
   },
   "outputs": [],
   "source": [
    "df, y, nas, mapper = proc_df(train_X, 'deal_probability', do_scale=True)"
   ]
  },
  {
   "cell_type": "code",
   "execution_count": 36,
   "metadata": {
    "ExecuteTime": {
     "end_time": "2018-06-28T02:58:36.460978Z",
     "start_time": "2018-06-28T02:58:36.417163Z"
    }
   },
   "outputs": [
    {
     "data": {
      "text/html": [
       "<div>\n",
       "<style scoped>\n",
       "    .dataframe tbody tr th:only-of-type {\n",
       "        vertical-align: middle;\n",
       "    }\n",
       "\n",
       "    .dataframe tbody tr th {\n",
       "        vertical-align: top;\n",
       "    }\n",
       "\n",
       "    .dataframe thead th {\n",
       "        text-align: right;\n",
       "    }\n",
       "</style>\n",
       "<table border=\"1\" class=\"dataframe\">\n",
       "  <thead>\n",
       "    <tr style=\"text-align: right;\">\n",
       "      <th></th>\n",
       "      <th>region</th>\n",
       "      <th>city</th>\n",
       "      <th>parent_category_name</th>\n",
       "      <th>category_name</th>\n",
       "      <th>param_1</th>\n",
       "      <th>param_2</th>\n",
       "      <th>param_3</th>\n",
       "      <th>price</th>\n",
       "      <th>item_seq_number</th>\n",
       "      <th>user_type</th>\n",
       "      <th>image_top_1</th>\n",
       "      <th>image_score</th>\n",
       "      <th>avg_days_up_user</th>\n",
       "      <th>avg_times_up_user</th>\n",
       "      <th>n_user_items</th>\n",
       "      <th>activation_Week</th>\n",
       "      <th>activation_Day</th>\n",
       "      <th>activation_Dayofweek</th>\n",
       "      <th>num_words_description</th>\n",
       "      <th>num_unique_words_description</th>\n",
       "      <th>num_words_title</th>\n",
       "      <th>num_unique_words_title</th>\n",
       "      <th>words_vs_unique_title</th>\n",
       "      <th>words_vs_unique_description</th>\n",
       "      <th>num_desc_punct</th>\n",
       "      <th>svd_title_1</th>\n",
       "      <th>svd_title_2</th>\n",
       "      <th>svd_title_3</th>\n",
       "      <th>svd_desc_1</th>\n",
       "      <th>svd_desc_2</th>\n",
       "      <th>svd_desc_3</th>\n",
       "    </tr>\n",
       "  </thead>\n",
       "  <tbody>\n",
       "    <tr>\n",
       "      <th>0</th>\n",
       "      <td>20</td>\n",
       "      <td>1302</td>\n",
       "      <td>5</td>\n",
       "      <td>43</td>\n",
       "      <td>250</td>\n",
       "      <td>39</td>\n",
       "      <td>476</td>\n",
       "      <td>-0.392415</td>\n",
       "      <td>-0.133095</td>\n",
       "      <td>2</td>\n",
       "      <td>1007</td>\n",
       "      <td>0.374720</td>\n",
       "      <td>-0.057108</td>\n",
       "      <td>0.790397</td>\n",
       "      <td>-0.201991</td>\n",
       "      <td>3</td>\n",
       "      <td>18</td>\n",
       "      <td>2</td>\n",
       "      <td>-0.452388</td>\n",
       "      <td>-0.491648</td>\n",
       "      <td>-0.176178</td>\n",
       "      <td>-0.174049</td>\n",
       "      <td>0.069167</td>\n",
       "      <td>0.594889</td>\n",
       "      <td>-0.315861</td>\n",
       "      <td>-0.160363</td>\n",
       "      <td>-0.272290</td>\n",
       "      <td>-0.159423</td>\n",
       "      <td>-0.289578</td>\n",
       "      <td>-0.481421</td>\n",
       "      <td>0.063160</td>\n",
       "    </tr>\n",
       "    <tr>\n",
       "      <th>1</th>\n",
       "      <td>18</td>\n",
       "      <td>1223</td>\n",
       "      <td>3</td>\n",
       "      <td>23</td>\n",
       "      <td>123</td>\n",
       "      <td>39</td>\n",
       "      <td>476</td>\n",
       "      <td>0.198465</td>\n",
       "      <td>-0.130044</td>\n",
       "      <td>2</td>\n",
       "      <td>691</td>\n",
       "      <td>0.405252</td>\n",
       "      <td>-1.510731</td>\n",
       "      <td>-1.703963</td>\n",
       "      <td>-0.204342</td>\n",
       "      <td>2</td>\n",
       "      <td>16</td>\n",
       "      <td>7</td>\n",
       "      <td>-0.452388</td>\n",
       "      <td>-0.491648</td>\n",
       "      <td>-0.176178</td>\n",
       "      <td>-0.174049</td>\n",
       "      <td>0.069167</td>\n",
       "      <td>0.594889</td>\n",
       "      <td>-0.282152</td>\n",
       "      <td>-0.151042</td>\n",
       "      <td>-0.272196</td>\n",
       "      <td>-0.147596</td>\n",
       "      <td>-0.289578</td>\n",
       "      <td>-0.500349</td>\n",
       "      <td>0.002843</td>\n",
       "    </tr>\n",
       "    <tr>\n",
       "      <th>2</th>\n",
       "      <td>17</td>\n",
       "      <td>1162</td>\n",
       "      <td>1</td>\n",
       "      <td>3</td>\n",
       "      <td>85</td>\n",
       "      <td>39</td>\n",
       "      <td>476</td>\n",
       "      <td>0.282829</td>\n",
       "      <td>-0.131839</td>\n",
       "      <td>2</td>\n",
       "      <td>3029</td>\n",
       "      <td>-0.944164</td>\n",
       "      <td>-0.633943</td>\n",
       "      <td>0.077723</td>\n",
       "      <td>-0.185535</td>\n",
       "      <td>2</td>\n",
       "      <td>10</td>\n",
       "      <td>1</td>\n",
       "      <td>-0.203823</td>\n",
       "      <td>-0.161518</td>\n",
       "      <td>-0.717567</td>\n",
       "      <td>-0.718742</td>\n",
       "      <td>0.069167</td>\n",
       "      <td>0.594889</td>\n",
       "      <td>-0.214733</td>\n",
       "      <td>-0.176403</td>\n",
       "      <td>-0.272093</td>\n",
       "      <td>-0.175729</td>\n",
       "      <td>-0.289578</td>\n",
       "      <td>1.576410</td>\n",
       "      <td>1.906593</td>\n",
       "    </tr>\n",
       "    <tr>\n",
       "      <th>3</th>\n",
       "      <td>22</td>\n",
       "      <td>1542</td>\n",
       "      <td>5</td>\n",
       "      <td>43</td>\n",
       "      <td>39</td>\n",
       "      <td>39</td>\n",
       "      <td>476</td>\n",
       "      <td>0.107511</td>\n",
       "      <td>-0.082131</td>\n",
       "      <td>1</td>\n",
       "      <td>795</td>\n",
       "      <td>-0.857194</td>\n",
       "      <td>1.350369</td>\n",
       "      <td>1.324903</td>\n",
       "      <td>-0.131467</td>\n",
       "      <td>2</td>\n",
       "      <td>15</td>\n",
       "      <td>6</td>\n",
       "      <td>-0.551814</td>\n",
       "      <td>-0.623700</td>\n",
       "      <td>-1.258955</td>\n",
       "      <td>-1.263436</td>\n",
       "      <td>0.069167</td>\n",
       "      <td>0.594889</td>\n",
       "      <td>-0.349570</td>\n",
       "      <td>-0.176000</td>\n",
       "      <td>-0.271933</td>\n",
       "      <td>-0.175430</td>\n",
       "      <td>-0.289560</td>\n",
       "      <td>0.142627</td>\n",
       "      <td>-0.410883</td>\n",
       "    </tr>\n",
       "    <tr>\n",
       "      <th>4</th>\n",
       "      <td>5</td>\n",
       "      <td>250</td>\n",
       "      <td>7</td>\n",
       "      <td>1</td>\n",
       "      <td>279</td>\n",
       "      <td>120</td>\n",
       "      <td>45</td>\n",
       "      <td>0.958074</td>\n",
       "      <td>-0.132915</td>\n",
       "      <td>2</td>\n",
       "      <td>2263</td>\n",
       "      <td>1.541870</td>\n",
       "      <td>-1.510731</td>\n",
       "      <td>-1.703963</td>\n",
       "      <td>-0.204342</td>\n",
       "      <td>1</td>\n",
       "      <td>6</td>\n",
       "      <td>4</td>\n",
       "      <td>-0.526958</td>\n",
       "      <td>-0.590687</td>\n",
       "      <td>-0.176178</td>\n",
       "      <td>-0.174049</td>\n",
       "      <td>0.069167</td>\n",
       "      <td>0.594889</td>\n",
       "      <td>-0.349570</td>\n",
       "      <td>-0.176430</td>\n",
       "      <td>-0.272155</td>\n",
       "      <td>-0.175971</td>\n",
       "      <td>-0.289563</td>\n",
       "      <td>0.301794</td>\n",
       "      <td>-1.625843</td>\n",
       "    </tr>\n",
       "  </tbody>\n",
       "</table>\n",
       "</div>"
      ],
      "text/plain": [
       "   region  city  parent_category_name  category_name  param_1  param_2  \\\n",
       "0      20  1302                     5             43      250       39   \n",
       "1      18  1223                     3             23      123       39   \n",
       "2      17  1162                     1              3       85       39   \n",
       "3      22  1542                     5             43       39       39   \n",
       "4       5   250                     7              1      279      120   \n",
       "\n",
       "   param_3     price  item_seq_number  user_type  image_top_1  image_score  \\\n",
       "0      476 -0.392415        -0.133095          2         1007     0.374720   \n",
       "1      476  0.198465        -0.130044          2          691     0.405252   \n",
       "2      476  0.282829        -0.131839          2         3029    -0.944164   \n",
       "3      476  0.107511        -0.082131          1          795    -0.857194   \n",
       "4       45  0.958074        -0.132915          2         2263     1.541870   \n",
       "\n",
       "   avg_days_up_user  avg_times_up_user  n_user_items  activation_Week  \\\n",
       "0         -0.057108           0.790397     -0.201991                3   \n",
       "1         -1.510731          -1.703963     -0.204342                2   \n",
       "2         -0.633943           0.077723     -0.185535                2   \n",
       "3          1.350369           1.324903     -0.131467                2   \n",
       "4         -1.510731          -1.703963     -0.204342                1   \n",
       "\n",
       "   activation_Day  activation_Dayofweek  num_words_description  \\\n",
       "0              18                     2              -0.452388   \n",
       "1              16                     7              -0.452388   \n",
       "2              10                     1              -0.203823   \n",
       "3              15                     6              -0.551814   \n",
       "4               6                     4              -0.526958   \n",
       "\n",
       "   num_unique_words_description  num_words_title  num_unique_words_title  \\\n",
       "0                     -0.491648        -0.176178               -0.174049   \n",
       "1                     -0.491648        -0.176178               -0.174049   \n",
       "2                     -0.161518        -0.717567               -0.718742   \n",
       "3                     -0.623700        -1.258955               -1.263436   \n",
       "4                     -0.590687        -0.176178               -0.174049   \n",
       "\n",
       "   words_vs_unique_title  words_vs_unique_description  num_desc_punct  \\\n",
       "0               0.069167                     0.594889       -0.315861   \n",
       "1               0.069167                     0.594889       -0.282152   \n",
       "2               0.069167                     0.594889       -0.214733   \n",
       "3               0.069167                     0.594889       -0.349570   \n",
       "4               0.069167                     0.594889       -0.349570   \n",
       "\n",
       "   svd_title_1  svd_title_2  svd_title_3  svd_desc_1  svd_desc_2  svd_desc_3  \n",
       "0    -0.160363    -0.272290    -0.159423   -0.289578   -0.481421    0.063160  \n",
       "1    -0.151042    -0.272196    -0.147596   -0.289578   -0.500349    0.002843  \n",
       "2    -0.176403    -0.272093    -0.175729   -0.289578    1.576410    1.906593  \n",
       "3    -0.176000    -0.271933    -0.175430   -0.289560    0.142627   -0.410883  \n",
       "4    -0.176430    -0.272155    -0.175971   -0.289563    0.301794   -1.625843  "
      ]
     },
     "execution_count": 36,
     "metadata": {},
     "output_type": "execute_result"
    }
   ],
   "source": [
    "df.head()"
   ]
  },
  {
   "cell_type": "code",
   "execution_count": 37,
   "metadata": {
    "ExecuteTime": {
     "end_time": "2018-06-28T02:58:36.483791Z",
     "start_time": "2018-06-28T02:58:36.462641Z"
    }
   },
   "outputs": [
    {
     "name": "stdout",
     "output_type": "stream",
     "text": [
      "Categorical Variables:\t\t ['region', 'city', 'parent_category_name', 'category_name', 'param_1', 'param_2', 'param_3', 'user_type', 'activation_Week', 'activation_Day', 'activation_Dayofweek', 'image_top_1'] \n",
      "\n",
      "Continuous Variables:\t\t ['price', 'item_seq_number', 'svd_title_1', 'svd_title_2', 'svd_title_3', 'svd_desc_1', 'svd_desc_2', 'svd_desc_3', 'avg_days_up_user', 'avg_times_up_user', 'n_user_items', 'image_score', 'num_desc_punct', 'words_vs_unique_description', 'words_vs_unique_title', 'num_unique_words_description', 'num_unique_words_title', 'num_words_description', 'num_words_title'] \n",
      "\n",
      "Total Length:\t\t 31\n"
     ]
    }
   ],
   "source": [
    "print ('Categorical Variables:\\t\\t',cat_vars,'\\n\\nContinuous Variables:\\t\\t',contin_vars,'\\n\\nTotal Length:\\t\\t',len(cat_vars)+len(contin_vars))"
   ]
  },
  {
   "cell_type": "code",
   "execution_count": 38,
   "metadata": {
    "ExecuteTime": {
     "end_time": "2018-06-28T02:58:36.738255Z",
     "start_time": "2018-06-28T02:58:36.485377Z"
    }
   },
   "outputs": [
    {
     "name": "stdout",
     "output_type": "stream",
     "text": [
      "<class 'pandas.core.frame.DataFrame'>\n",
      "Int64Index: 508438 entries, 0 to 508437\n",
      "Data columns (total 31 columns):\n",
      "region                          508438 non-null category\n",
      "city                            508438 non-null category\n",
      "parent_category_name            508438 non-null category\n",
      "category_name                   508438 non-null category\n",
      "param_1                         508438 non-null category\n",
      "param_2                         508438 non-null category\n",
      "param_3                         508438 non-null category\n",
      "price                           508438 non-null float64\n",
      "item_seq_number                 508438 non-null int64\n",
      "user_type                       508438 non-null category\n",
      "image_top_1                     508438 non-null category\n",
      "image_score                     508438 non-null float64\n",
      "avg_days_up_user                508438 non-null float64\n",
      "avg_times_up_user               508438 non-null float64\n",
      "n_user_items                    508438 non-null int64\n",
      "activation_Week                 508438 non-null category\n",
      "activation_Day                  508438 non-null category\n",
      "activation_Dayofweek            508438 non-null category\n",
      "num_words_description           508438 non-null int64\n",
      "num_unique_words_description    508438 non-null int64\n",
      "num_words_title                 508438 non-null int64\n",
      "num_unique_words_title          508438 non-null int64\n",
      "words_vs_unique_title           508438 non-null float64\n",
      "words_vs_unique_description     508438 non-null float64\n",
      "num_desc_punct                  508438 non-null int64\n",
      "svd_title_1                     508438 non-null float64\n",
      "svd_title_2                     508438 non-null float64\n",
      "svd_title_3                     508438 non-null float64\n",
      "svd_desc_1                      508438 non-null float64\n",
      "svd_desc_2                      508438 non-null float64\n",
      "svd_desc_3                      508438 non-null float64\n",
      "dtypes: category(12), float64(12), int64(7)\n",
      "memory usage: 86.1 MB\n"
     ]
    }
   ],
   "source": [
    "test_X.info()"
   ]
  },
  {
   "cell_type": "code",
   "execution_count": 39,
   "metadata": {
    "ExecuteTime": {
     "end_time": "2018-06-28T02:58:40.669090Z",
     "start_time": "2018-06-28T02:58:36.740404Z"
    }
   },
   "outputs": [],
   "source": [
    "df_test, _, nas, mapper = proc_df(test_X, do_scale=True, mapper=mapper, na_dict=nas)"
   ]
  },
  {
   "cell_type": "code",
   "execution_count": 40,
   "metadata": {
    "ExecuteTime": {
     "end_time": "2018-06-28T02:58:40.733420Z",
     "start_time": "2018-06-28T02:58:40.671575Z"
    }
   },
   "outputs": [
    {
     "data": {
      "text/html": [
       "<div>\n",
       "<style scoped>\n",
       "    .dataframe tbody tr th:only-of-type {\n",
       "        vertical-align: middle;\n",
       "    }\n",
       "\n",
       "    .dataframe tbody tr th {\n",
       "        vertical-align: top;\n",
       "    }\n",
       "\n",
       "    .dataframe thead th {\n",
       "        text-align: right;\n",
       "    }\n",
       "</style>\n",
       "<table border=\"1\" class=\"dataframe\">\n",
       "  <thead>\n",
       "    <tr style=\"text-align: right;\">\n",
       "      <th></th>\n",
       "      <th>region</th>\n",
       "      <th>city</th>\n",
       "      <th>parent_category_name</th>\n",
       "      <th>category_name</th>\n",
       "      <th>param_1</th>\n",
       "      <th>param_2</th>\n",
       "      <th>param_3</th>\n",
       "      <th>price</th>\n",
       "      <th>item_seq_number</th>\n",
       "      <th>user_type</th>\n",
       "      <th>image_top_1</th>\n",
       "      <th>image_score</th>\n",
       "      <th>avg_days_up_user</th>\n",
       "      <th>avg_times_up_user</th>\n",
       "      <th>n_user_items</th>\n",
       "      <th>activation_Week</th>\n",
       "      <th>activation_Day</th>\n",
       "      <th>activation_Dayofweek</th>\n",
       "      <th>num_words_description</th>\n",
       "      <th>num_unique_words_description</th>\n",
       "      <th>num_words_title</th>\n",
       "      <th>num_unique_words_title</th>\n",
       "      <th>words_vs_unique_title</th>\n",
       "      <th>words_vs_unique_description</th>\n",
       "      <th>num_desc_punct</th>\n",
       "      <th>svd_title_1</th>\n",
       "      <th>svd_title_2</th>\n",
       "      <th>svd_title_3</th>\n",
       "      <th>svd_desc_1</th>\n",
       "      <th>svd_desc_2</th>\n",
       "      <th>svd_desc_3</th>\n",
       "    </tr>\n",
       "  </thead>\n",
       "  <tbody>\n",
       "    <tr>\n",
       "      <th>0</th>\n",
       "      <td>5</td>\n",
       "      <td>242</td>\n",
       "      <td>5</td>\n",
       "      <td>11</td>\n",
       "      <td>109</td>\n",
       "      <td>178</td>\n",
       "      <td>63</td>\n",
       "      <td>-2.442697</td>\n",
       "      <td>-0.121610</td>\n",
       "      <td>2</td>\n",
       "      <td>2012</td>\n",
       "      <td>-0.370535</td>\n",
       "      <td>-0.137865</td>\n",
       "      <td>0.374671</td>\n",
       "      <td>-0.192588</td>\n",
       "      <td>2</td>\n",
       "      <td>7</td>\n",
       "      <td>2</td>\n",
       "      <td>-0.576671</td>\n",
       "      <td>-0.656713</td>\n",
       "      <td>-0.717567</td>\n",
       "      <td>-0.718742</td>\n",
       "      <td>0.069167</td>\n",
       "      <td>0.594889</td>\n",
       "      <td>-0.383279</td>\n",
       "      <td>-0.175941</td>\n",
       "      <td>-0.272004</td>\n",
       "      <td>-0.173844</td>\n",
       "      <td>-0.289571</td>\n",
       "      <td>1.255885</td>\n",
       "      <td>-3.794499</td>\n",
       "    </tr>\n",
       "    <tr>\n",
       "      <th>1</th>\n",
       "      <td>20</td>\n",
       "      <td>1253</td>\n",
       "      <td>9</td>\n",
       "      <td>6</td>\n",
       "      <td>118</td>\n",
       "      <td>33</td>\n",
       "      <td>394</td>\n",
       "      <td>0.198465</td>\n",
       "      <td>-0.132736</td>\n",
       "      <td>2</td>\n",
       "      <td>1</td>\n",
       "      <td>-1.144471</td>\n",
       "      <td>-1.510731</td>\n",
       "      <td>-1.703963</td>\n",
       "      <td>-0.204342</td>\n",
       "      <td>1</td>\n",
       "      <td>5</td>\n",
       "      <td>7</td>\n",
       "      <td>-0.377819</td>\n",
       "      <td>-0.392609</td>\n",
       "      <td>-0.717567</td>\n",
       "      <td>-0.718742</td>\n",
       "      <td>0.069167</td>\n",
       "      <td>0.594889</td>\n",
       "      <td>-0.248442</td>\n",
       "      <td>-0.092866</td>\n",
       "      <td>-0.273198</td>\n",
       "      <td>-0.130361</td>\n",
       "      <td>-0.289564</td>\n",
       "      <td>1.210629</td>\n",
       "      <td>-0.731885</td>\n",
       "    </tr>\n",
       "    <tr>\n",
       "      <th>2</th>\n",
       "      <td>13</td>\n",
       "      <td>829</td>\n",
       "      <td>1</td>\n",
       "      <td>3</td>\n",
       "      <td>311</td>\n",
       "      <td>33</td>\n",
       "      <td>394</td>\n",
       "      <td>0.670441</td>\n",
       "      <td>-0.130762</td>\n",
       "      <td>2</td>\n",
       "      <td>2942</td>\n",
       "      <td>0.108723</td>\n",
       "      <td>-0.380135</td>\n",
       "      <td>-0.041056</td>\n",
       "      <td>-0.197289</td>\n",
       "      <td>2</td>\n",
       "      <td>6</td>\n",
       "      <td>1</td>\n",
       "      <td>-0.104397</td>\n",
       "      <td>-0.029466</td>\n",
       "      <td>-1.258955</td>\n",
       "      <td>-1.263436</td>\n",
       "      <td>0.069167</td>\n",
       "      <td>0.594889</td>\n",
       "      <td>-0.349570</td>\n",
       "      <td>-0.176422</td>\n",
       "      <td>-0.272154</td>\n",
       "      <td>-0.175980</td>\n",
       "      <td>-0.289570</td>\n",
       "      <td>-0.163694</td>\n",
       "      <td>-0.384347</td>\n",
       "    </tr>\n",
       "    <tr>\n",
       "      <th>3</th>\n",
       "      <td>19</td>\n",
       "      <td>1185</td>\n",
       "      <td>3</td>\n",
       "      <td>5</td>\n",
       "      <td>107</td>\n",
       "      <td>112</td>\n",
       "      <td>394</td>\n",
       "      <td>0.317370</td>\n",
       "      <td>-0.120892</td>\n",
       "      <td>2</td>\n",
       "      <td>1</td>\n",
       "      <td>-1.144471</td>\n",
       "      <td>1.084256</td>\n",
       "      <td>1.344700</td>\n",
       "      <td>-0.162027</td>\n",
       "      <td>2</td>\n",
       "      <td>6</td>\n",
       "      <td>1</td>\n",
       "      <td>-0.328106</td>\n",
       "      <td>-0.326583</td>\n",
       "      <td>-0.176178</td>\n",
       "      <td>-0.174049</td>\n",
       "      <td>0.069167</td>\n",
       "      <td>0.594889</td>\n",
       "      <td>-0.248442</td>\n",
       "      <td>-0.172792</td>\n",
       "      <td>-0.196180</td>\n",
       "      <td>-0.121216</td>\n",
       "      <td>-0.289570</td>\n",
       "      <td>-0.198597</td>\n",
       "      <td>-0.175597</td>\n",
       "    </tr>\n",
       "    <tr>\n",
       "      <th>4</th>\n",
       "      <td>15</td>\n",
       "      <td>913</td>\n",
       "      <td>5</td>\n",
       "      <td>43</td>\n",
       "      <td>101</td>\n",
       "      <td>33</td>\n",
       "      <td>394</td>\n",
       "      <td>0.342343</td>\n",
       "      <td>-0.130762</td>\n",
       "      <td>2</td>\n",
       "      <td>995</td>\n",
       "      <td>0.473717</td>\n",
       "      <td>-0.299378</td>\n",
       "      <td>-0.041056</td>\n",
       "      <td>-0.194939</td>\n",
       "      <td>1</td>\n",
       "      <td>4</td>\n",
       "      <td>6</td>\n",
       "      <td>-0.377819</td>\n",
       "      <td>-0.392609</td>\n",
       "      <td>-0.717567</td>\n",
       "      <td>-0.718742</td>\n",
       "      <td>0.069167</td>\n",
       "      <td>0.594889</td>\n",
       "      <td>-0.248442</td>\n",
       "      <td>-0.173672</td>\n",
       "      <td>-0.271326</td>\n",
       "      <td>-0.157382</td>\n",
       "      <td>-0.289561</td>\n",
       "      <td>0.317347</td>\n",
       "      <td>-1.297260</td>\n",
       "    </tr>\n",
       "  </tbody>\n",
       "</table>\n",
       "</div>"
      ],
      "text/plain": [
       "   region  city  parent_category_name  category_name  param_1  param_2  \\\n",
       "0       5   242                     5             11      109      178   \n",
       "1      20  1253                     9              6      118       33   \n",
       "2      13   829                     1              3      311       33   \n",
       "3      19  1185                     3              5      107      112   \n",
       "4      15   913                     5             43      101       33   \n",
       "\n",
       "   param_3     price  item_seq_number  user_type  image_top_1  image_score  \\\n",
       "0       63 -2.442697        -0.121610          2         2012    -0.370535   \n",
       "1      394  0.198465        -0.132736          2            1    -1.144471   \n",
       "2      394  0.670441        -0.130762          2         2942     0.108723   \n",
       "3      394  0.317370        -0.120892          2            1    -1.144471   \n",
       "4      394  0.342343        -0.130762          2          995     0.473717   \n",
       "\n",
       "   avg_days_up_user  avg_times_up_user  n_user_items  activation_Week  \\\n",
       "0         -0.137865           0.374671     -0.192588                2   \n",
       "1         -1.510731          -1.703963     -0.204342                1   \n",
       "2         -0.380135          -0.041056     -0.197289                2   \n",
       "3          1.084256           1.344700     -0.162027                2   \n",
       "4         -0.299378          -0.041056     -0.194939                1   \n",
       "\n",
       "   activation_Day  activation_Dayofweek  num_words_description  \\\n",
       "0               7                     2              -0.576671   \n",
       "1               5                     7              -0.377819   \n",
       "2               6                     1              -0.104397   \n",
       "3               6                     1              -0.328106   \n",
       "4               4                     6              -0.377819   \n",
       "\n",
       "   num_unique_words_description  num_words_title  num_unique_words_title  \\\n",
       "0                     -0.656713        -0.717567               -0.718742   \n",
       "1                     -0.392609        -0.717567               -0.718742   \n",
       "2                     -0.029466        -1.258955               -1.263436   \n",
       "3                     -0.326583        -0.176178               -0.174049   \n",
       "4                     -0.392609        -0.717567               -0.718742   \n",
       "\n",
       "   words_vs_unique_title  words_vs_unique_description  num_desc_punct  \\\n",
       "0               0.069167                     0.594889       -0.383279   \n",
       "1               0.069167                     0.594889       -0.248442   \n",
       "2               0.069167                     0.594889       -0.349570   \n",
       "3               0.069167                     0.594889       -0.248442   \n",
       "4               0.069167                     0.594889       -0.248442   \n",
       "\n",
       "   svd_title_1  svd_title_2  svd_title_3  svd_desc_1  svd_desc_2  svd_desc_3  \n",
       "0    -0.175941    -0.272004    -0.173844   -0.289571    1.255885   -3.794499  \n",
       "1    -0.092866    -0.273198    -0.130361   -0.289564    1.210629   -0.731885  \n",
       "2    -0.176422    -0.272154    -0.175980   -0.289570   -0.163694   -0.384347  \n",
       "3    -0.172792    -0.196180    -0.121216   -0.289570   -0.198597   -0.175597  \n",
       "4    -0.173672    -0.271326    -0.157382   -0.289561    0.317347   -1.297260  "
      ]
     },
     "execution_count": 40,
     "metadata": {},
     "output_type": "execute_result"
    }
   ],
   "source": [
    "df_test.head()"
   ]
  },
  {
   "cell_type": "code",
   "execution_count": 41,
   "metadata": {
    "ExecuteTime": {
     "end_time": "2018-06-28T02:58:40.760042Z",
     "start_time": "2018-06-28T02:58:40.735301Z"
    }
   },
   "outputs": [
    {
     "data": {
      "text/plain": [
       "[('region', 29),\n",
       " ('city', 1805),\n",
       " ('parent_category_name', 10),\n",
       " ('category_name', 48),\n",
       " ('param_1', 373),\n",
       " ('param_2', 273),\n",
       " ('param_3', 1221),\n",
       " ('user_type', 4),\n",
       " ('activation_Week', 5),\n",
       " ('activation_Day', 22),\n",
       " ('activation_Dayofweek', 8),\n",
       " ('image_top_1', 3064)]"
      ]
     },
     "execution_count": 41,
     "metadata": {},
     "output_type": "execute_result"
    }
   ],
   "source": [
    "cat_sz = [(c, len(train_X[c].cat.categories)+1) for c in cat_vars]\n",
    "cat_sz"
   ]
  },
  {
   "cell_type": "code",
   "execution_count": 42,
   "metadata": {
    "ExecuteTime": {
     "end_time": "2018-06-28T02:58:40.784251Z",
     "start_time": "2018-06-28T02:58:40.761870Z"
    }
   },
   "outputs": [
    {
     "data": {
      "text/plain": [
       "[(29, 15),\n",
       " (1805, 50),\n",
       " (10, 5),\n",
       " (48, 24),\n",
       " (373, 50),\n",
       " (273, 50),\n",
       " (1221, 50),\n",
       " (4, 2),\n",
       " (5, 3),\n",
       " (22, 11),\n",
       " (8, 4),\n",
       " (3064, 50)]"
      ]
     },
     "execution_count": 42,
     "metadata": {},
     "output_type": "execute_result"
    }
   ],
   "source": [
    "emb_szs = [(c, min(50, (c+1)//2)) for _,c in cat_sz]\n",
    "emb_szs"
   ]
  },
  {
   "cell_type": "code",
   "execution_count": 43,
   "metadata": {
    "ExecuteTime": {
     "end_time": "2018-06-28T02:58:40.807502Z",
     "start_time": "2018-06-28T02:58:40.786215Z"
    }
   },
   "outputs": [],
   "source": [
    "def inv_y(a): return np.exp(a)\n",
    "\n",
    "def exp_rmspe(y_pred, targ):\n",
    "    targ = inv_y(targ)\n",
    "    pct_var = (targ - inv_y(y_pred))/targ\n",
    "    return math.sqrt((pct_var**2).mean())\n",
    "\n",
    "#max_log_y = np.max(y)\n",
    "#y_range = (0, max_log_y*1.2)\n",
    "y_range = (0, 1)"
   ]
  },
  {
   "cell_type": "code",
   "execution_count": 44,
   "metadata": {
    "ExecuteTime": {
     "end_time": "2018-06-28T02:58:40.829648Z",
     "start_time": "2018-06-28T02:58:40.809256Z"
    }
   },
   "outputs": [
    {
     "data": {
      "text/plain": [
       "(0, 1)"
      ]
     },
     "execution_count": 44,
     "metadata": {},
     "output_type": "execute_result"
    }
   ],
   "source": [
    "y_range"
   ]
  },
  {
   "cell_type": "code",
   "execution_count": 45,
   "metadata": {
    "ExecuteTime": {
     "end_time": "2018-06-28T02:58:40.892721Z",
     "start_time": "2018-06-28T02:58:40.831319Z"
    }
   },
   "outputs": [],
   "source": [
    "val_idxs = np.array_split(np.random.permutation(train_df.index),10)"
   ]
  },
  {
   "cell_type": "code",
   "execution_count": 46,
   "metadata": {
    "ExecuteTime": {
     "end_time": "2018-06-28T02:58:40.916013Z",
     "start_time": "2018-06-28T02:58:40.894496Z"
    }
   },
   "outputs": [],
   "source": [
    "predictions = []"
   ]
  },
  {
   "cell_type": "code",
   "execution_count": 47,
   "metadata": {
    "ExecuteTime": {
     "end_time": "2018-06-28T02:58:40.938722Z",
     "start_time": "2018-06-28T02:58:40.917653Z"
    }
   },
   "outputs": [],
   "source": [
    "lr = 0.5*(1e-4)"
   ]
  },
  {
   "cell_type": "code",
   "execution_count": 48,
   "metadata": {
    "ExecuteTime": {
     "end_time": "2018-06-28T03:54:43.624090Z",
     "start_time": "2018-06-28T02:58:40.940519Z"
    }
   },
   "outputs": [
    {
     "data": {
      "application/vnd.jupyter.widget-view+json": {
       "model_id": "e6c8d255c8144ad9b627364529cf878f",
       "version_major": 2,
       "version_minor": 0
      },
      "text/plain": [
       "HBox(children=(IntProgress(value=0, description='Epoch', max=1), HTML(value='')))"
      ]
     },
     "metadata": {},
     "output_type": "display_data"
    },
    {
     "name": "stdout",
     "output_type": "stream",
     "text": [
      "epoch      trn_loss   val_loss   exp_rmspe                         \n",
      "    0      0.05202    0.05153    0.200019  \n",
      "\n"
     ]
    },
    {
     "data": {
      "application/vnd.jupyter.widget-view+json": {
       "model_id": "df41775be5be41abaeea3665f430f62c",
       "version_major": 2,
       "version_minor": 0
      },
      "text/plain": [
       "HBox(children=(IntProgress(value=0, description='Epoch', max=3), HTML(value='')))"
      ]
     },
     "metadata": {},
     "output_type": "display_data"
    },
    {
     "name": "stdout",
     "output_type": "stream",
     "text": [
      "epoch      trn_loss   val_loss   exp_rmspe                         \n",
      "    0      0.04921    0.050793   0.201578  \n",
      "    1      0.050177   0.050439   0.19886                           \n",
      "    2      0.049258   0.050236   0.20126                           \n",
      "\n"
     ]
    },
    {
     "data": {
      "application/vnd.jupyter.widget-view+json": {
       "model_id": "6c8634b435fa4fde9581b1445afe7fb3",
       "version_major": 2,
       "version_minor": 0
      },
      "text/plain": [
       "HBox(children=(IntProgress(value=0, description='Epoch', max=1), HTML(value='')))"
      ]
     },
     "metadata": {},
     "output_type": "display_data"
    },
    {
     "name": "stdout",
     "output_type": "stream",
     "text": [
      "epoch      trn_loss   val_loss   exp_rmspe                         \n",
      "    0      0.051862   0.051583   0.201688  \n",
      "\n"
     ]
    },
    {
     "data": {
      "application/vnd.jupyter.widget-view+json": {
       "model_id": "e7d5627a22c949d59192e33e03332fa9",
       "version_major": 2,
       "version_minor": 0
      },
      "text/plain": [
       "HBox(children=(IntProgress(value=0, description='Epoch', max=3), HTML(value='')))"
      ]
     },
     "metadata": {},
     "output_type": "display_data"
    },
    {
     "name": "stdout",
     "output_type": "stream",
     "text": [
      "epoch      trn_loss   val_loss   exp_rmspe                         \n",
      "    0      0.050571   0.051075   0.202055  \n",
      "    1      0.049185   0.050704   0.201319                          \n",
      "    2      0.050367   0.050579   0.201389                          \n",
      "\n"
     ]
    },
    {
     "data": {
      "application/vnd.jupyter.widget-view+json": {
       "model_id": "f1c9bfaee9e5474887207ac811b226c6",
       "version_major": 2,
       "version_minor": 0
      },
      "text/plain": [
       "HBox(children=(IntProgress(value=0, description='Epoch', max=1), HTML(value='')))"
      ]
     },
     "metadata": {},
     "output_type": "display_data"
    },
    {
     "name": "stdout",
     "output_type": "stream",
     "text": [
      "epoch      trn_loss   val_loss   exp_rmspe                         \n",
      "    0      0.050782   0.051719   0.199793  \n",
      "\n"
     ]
    },
    {
     "data": {
      "application/vnd.jupyter.widget-view+json": {
       "model_id": "f8f72d6a2bb745ab9726226e4d0ebb44",
       "version_major": 2,
       "version_minor": 0
      },
      "text/plain": [
       "HBox(children=(IntProgress(value=0, description='Epoch', max=3), HTML(value='')))"
      ]
     },
     "metadata": {},
     "output_type": "display_data"
    },
    {
     "name": "stdout",
     "output_type": "stream",
     "text": [
      "epoch      trn_loss   val_loss   exp_rmspe                         \n",
      "    0      0.050221   0.051126   0.201874  \n",
      "    1      0.051058   0.050842   0.200506                          \n",
      "    2      0.049932   0.050648   0.201443                          \n",
      "\n"
     ]
    },
    {
     "data": {
      "application/vnd.jupyter.widget-view+json": {
       "model_id": "ab5fbbce2b19450e9a9edb7fa04c0f12",
       "version_major": 2,
       "version_minor": 0
      },
      "text/plain": [
       "HBox(children=(IntProgress(value=0, description='Epoch', max=1), HTML(value='')))"
      ]
     },
     "metadata": {},
     "output_type": "display_data"
    },
    {
     "name": "stdout",
     "output_type": "stream",
     "text": [
      "epoch      trn_loss   val_loss   exp_rmspe                         \n",
      "    0      0.052165   0.051963   0.196899  \n",
      "\n"
     ]
    },
    {
     "data": {
      "application/vnd.jupyter.widget-view+json": {
       "model_id": "cd69000d7c5f42f2b194297549e61401",
       "version_major": 2,
       "version_minor": 0
      },
      "text/plain": [
       "HBox(children=(IntProgress(value=0, description='Epoch', max=3), HTML(value='')))"
      ]
     },
     "metadata": {},
     "output_type": "display_data"
    },
    {
     "name": "stdout",
     "output_type": "stream",
     "text": [
      "epoch      trn_loss   val_loss   exp_rmspe                         \n",
      "    0      0.050236   0.051228   0.201133  \n",
      "    1      0.049718   0.050799   0.203272                          \n",
      "    2      0.048881   0.050617   0.200662                          \n",
      "\n"
     ]
    },
    {
     "data": {
      "application/vnd.jupyter.widget-view+json": {
       "model_id": "0727da13a9af4f159ebc6d7848f8bc81",
       "version_major": 2,
       "version_minor": 0
      },
      "text/plain": [
       "HBox(children=(IntProgress(value=0, description='Epoch', max=1), HTML(value='')))"
      ]
     },
     "metadata": {},
     "output_type": "display_data"
    },
    {
     "name": "stdout",
     "output_type": "stream",
     "text": [
      "epoch      trn_loss   val_loss   exp_rmspe                         \n",
      "    0      0.052957   0.051439   0.197317  \n",
      "\n"
     ]
    },
    {
     "data": {
      "application/vnd.jupyter.widget-view+json": {
       "model_id": "6b9fc2c35ba9456db1225740d6f53cb6",
       "version_major": 2,
       "version_minor": 0
      },
      "text/plain": [
       "HBox(children=(IntProgress(value=0, description='Epoch', max=3), HTML(value='')))"
      ]
     },
     "metadata": {},
     "output_type": "display_data"
    },
    {
     "name": "stdout",
     "output_type": "stream",
     "text": [
      "epoch      trn_loss   val_loss   exp_rmspe                         \n",
      "    0      0.05043    0.050773   0.200544  \n",
      "    1      0.049183   0.050464   0.197971                          \n",
      "    2      0.051248   0.050235   0.200367                          \n",
      "\n"
     ]
    },
    {
     "data": {
      "application/vnd.jupyter.widget-view+json": {
       "model_id": "dc7e3340cd1f4c0bb9efee956d276dd3",
       "version_major": 2,
       "version_minor": 0
      },
      "text/plain": [
       "HBox(children=(IntProgress(value=0, description='Epoch', max=1), HTML(value='')))"
      ]
     },
     "metadata": {},
     "output_type": "display_data"
    },
    {
     "name": "stdout",
     "output_type": "stream",
     "text": [
      "epoch      trn_loss   val_loss   exp_rmspe                         \n",
      "    0      0.05107    0.05131    0.20038   \n",
      "\n"
     ]
    },
    {
     "data": {
      "application/vnd.jupyter.widget-view+json": {
       "model_id": "1c18e3994148485aae515b7de2a16c9d",
       "version_major": 2,
       "version_minor": 0
      },
      "text/plain": [
       "HBox(children=(IntProgress(value=0, description='Epoch', max=3), HTML(value='')))"
      ]
     },
     "metadata": {},
     "output_type": "display_data"
    },
    {
     "name": "stdout",
     "output_type": "stream",
     "text": [
      "epoch      trn_loss   val_loss   exp_rmspe                         \n",
      "    0      0.051434   0.050722   0.201084  \n",
      "    1      0.049636   0.050448   0.19678                           \n",
      "    2      0.050496   0.050183   0.200664                          \n",
      "\n"
     ]
    },
    {
     "data": {
      "application/vnd.jupyter.widget-view+json": {
       "model_id": "495e026f33794592b91413442a3ae74f",
       "version_major": 2,
       "version_minor": 0
      },
      "text/plain": [
       "HBox(children=(IntProgress(value=0, description='Epoch', max=1), HTML(value='')))"
      ]
     },
     "metadata": {},
     "output_type": "display_data"
    },
    {
     "name": "stdout",
     "output_type": "stream",
     "text": [
      "epoch      trn_loss   val_loss   exp_rmspe                         \n",
      "    0      0.051085   0.051879   0.203306  \n",
      "\n"
     ]
    },
    {
     "data": {
      "application/vnd.jupyter.widget-view+json": {
       "model_id": "540e55a42c934a07b11607256226ebcd",
       "version_major": 2,
       "version_minor": 0
      },
      "text/plain": [
       "HBox(children=(IntProgress(value=0, description='Epoch', max=3), HTML(value='')))"
      ]
     },
     "metadata": {},
     "output_type": "display_data"
    },
    {
     "name": "stdout",
     "output_type": "stream",
     "text": [
      "epoch      trn_loss   val_loss   exp_rmspe                         \n",
      "    0      0.051518   0.051412   0.201696  \n",
      "    1      0.050996   0.050929   0.203874                          \n",
      "    2      0.052929   0.050676   0.200607                          \n",
      "\n"
     ]
    },
    {
     "data": {
      "application/vnd.jupyter.widget-view+json": {
       "model_id": "d041856202c54b099dfba8693c42c3f5",
       "version_major": 2,
       "version_minor": 0
      },
      "text/plain": [
       "HBox(children=(IntProgress(value=0, description='Epoch', max=1), HTML(value='')))"
      ]
     },
     "metadata": {},
     "output_type": "display_data"
    },
    {
     "name": "stdout",
     "output_type": "stream",
     "text": [
      "epoch      trn_loss   val_loss   exp_rmspe                         \n",
      "    0      0.053643   0.052039   0.202675  \n",
      "\n"
     ]
    },
    {
     "data": {
      "application/vnd.jupyter.widget-view+json": {
       "model_id": "49858660a904437088d607a84973a21b",
       "version_major": 2,
       "version_minor": 0
      },
      "text/plain": [
       "HBox(children=(IntProgress(value=0, description='Epoch', max=3), HTML(value='')))"
      ]
     },
     "metadata": {},
     "output_type": "display_data"
    },
    {
     "name": "stdout",
     "output_type": "stream",
     "text": [
      "epoch      trn_loss   val_loss   exp_rmspe                         \n",
      "    0      0.048368   0.051555   0.202072  \n",
      "    1      0.049972   0.051088   0.200198                          \n",
      "    2      0.049301   0.050905   0.201989                          \n",
      "\n"
     ]
    },
    {
     "data": {
      "application/vnd.jupyter.widget-view+json": {
       "model_id": "8bffd3a9261744ab83cf12bb7e1490a7",
       "version_major": 2,
       "version_minor": 0
      },
      "text/plain": [
       "HBox(children=(IntProgress(value=0, description='Epoch', max=1), HTML(value='')))"
      ]
     },
     "metadata": {},
     "output_type": "display_data"
    },
    {
     "name": "stdout",
     "output_type": "stream",
     "text": [
      "epoch      trn_loss   val_loss   exp_rmspe                         \n",
      "    0      0.052904   0.052661   0.202013  \n",
      "\n"
     ]
    },
    {
     "data": {
      "application/vnd.jupyter.widget-view+json": {
       "model_id": "edecd6f5ffc84255b79bde2c1d7a6686",
       "version_major": 2,
       "version_minor": 0
      },
      "text/plain": [
       "HBox(children=(IntProgress(value=0, description='Epoch', max=3), HTML(value='')))"
      ]
     },
     "metadata": {},
     "output_type": "display_data"
    },
    {
     "name": "stdout",
     "output_type": "stream",
     "text": [
      "epoch      trn_loss   val_loss   exp_rmspe                         \n",
      "    0      0.051185   0.052295   0.202739  \n",
      "    1      0.051466   0.052177   0.205967                          \n",
      "    2      0.053219   0.052017   0.203348                          \n",
      "\n"
     ]
    },
    {
     "data": {
      "application/vnd.jupyter.widget-view+json": {
       "model_id": "9a5ea12f9c3949fb8950e8ad76efc047",
       "version_major": 2,
       "version_minor": 0
      },
      "text/plain": [
       "HBox(children=(IntProgress(value=0, description='Epoch', max=1), HTML(value='')))"
      ]
     },
     "metadata": {},
     "output_type": "display_data"
    },
    {
     "name": "stdout",
     "output_type": "stream",
     "text": [
      "epoch      trn_loss   val_loss   exp_rmspe                         \n",
      "    0      0.052559   0.052248   0.204933  \n",
      "\n"
     ]
    },
    {
     "data": {
      "application/vnd.jupyter.widget-view+json": {
       "model_id": "9d6762e3a6e64404b7d5a3c342298d3b",
       "version_major": 2,
       "version_minor": 0
      },
      "text/plain": [
       "HBox(children=(IntProgress(value=0, description='Epoch', max=3), HTML(value='')))"
      ]
     },
     "metadata": {},
     "output_type": "display_data"
    },
    {
     "name": "stdout",
     "output_type": "stream",
     "text": [
      "epoch      trn_loss   val_loss   exp_rmspe                         \n",
      "    0      0.051637   0.051537   0.201572  \n",
      "    1      0.049274   0.050996   0.199194                          \n",
      "    2      0.049661   0.050788   0.200979                          \n",
      "\n"
     ]
    }
   ],
   "source": [
    "epoch_count = 1\n",
    "for val_idx in val_idxs:\n",
    "    print ('Epoch number: ', epoch_count)\n",
    "    md = ColumnarModelData.from_data_frame(PATH, val_idx, df, y, cat_flds=cat_vars, bs=128, test_df=df_test)\n",
    "    m = md.get_learner(emb_szs, len(contin_vars), 0.04, 1, [1000,500], [0.001,0.01], y_range=y_range)\n",
    "    m.fit(lr, 1, metrics=[exp_rmspe])\n",
    "    m.fit(lr, 2, cycle_len=1, cycle_mult=2,metrics=[exp_rmspe])\n",
    "    m.fit(lr, 2, cycle_len=1, cycle_mult=3,metrics=[exp_rmspe])\n",
    "    predictions.append(m.predict(True))\n",
    "    epoch_count += 1"
   ]
  },
  {
   "cell_type": "markdown",
   "metadata": {
    "ExecuteTime": {
     "end_time": "2018-06-28T02:22:05.900219Z",
     "start_time": "2018-06-28T02:22:04.418067Z"
    }
   },
   "source": [
    "md = ColumnarModelData.from_data_frame(PATH, val_idx, df, y, cat_flds=cat_vars, bs=128, test_df=df_test)"
   ]
  },
  {
   "cell_type": "markdown",
   "metadata": {
    "ExecuteTime": {
     "end_time": "2018-06-28T02:22:08.008635Z",
     "start_time": "2018-06-28T02:22:06.000230Z"
    }
   },
   "source": [
    "m = md.get_learner(emb_szs, len(contin_vars), 0.04, 1, [1000,500], [0.001,0.01], y_range=y_range)"
   ]
  },
  {
   "cell_type": "markdown",
   "metadata": {
    "ExecuteTime": {
     "end_time": "2018-06-27T10:08:28.954840Z",
     "start_time": "2018-06-27T10:07:29.205766Z"
    }
   },
   "source": [
    "m.lr_find()"
   ]
  },
  {
   "cell_type": "markdown",
   "metadata": {
    "ExecuteTime": {
     "end_time": "2018-06-27T10:08:28.955630Z",
     "start_time": "2018-06-27T10:04:04.331Z"
    }
   },
   "source": [
    "m.sched.plot(100)"
   ]
  },
  {
   "cell_type": "markdown",
   "metadata": {
    "ExecuteTime": {
     "end_time": "2018-06-28T02:22:08.031336Z",
     "start_time": "2018-06-28T02:22:08.010618Z"
    }
   },
   "source": [
    "lr = 0.5*(1e-4)"
   ]
  },
  {
   "cell_type": "markdown",
   "metadata": {
    "ExecuteTime": {
     "end_time": "2018-06-28T02:23:16.189977Z",
     "start_time": "2018-06-28T02:22:08.033121Z"
    }
   },
   "source": [
    "m.fit(lr, 1, metrics=[exp_rmspe])"
   ]
  },
  {
   "cell_type": "markdown",
   "metadata": {
    "ExecuteTime": {
     "end_time": "2018-06-28T02:26:49.814851Z",
     "start_time": "2018-06-28T02:23:16.191903Z"
    }
   },
   "source": [
    "m.fit(lr, 2, cycle_len=1, cycle_mult=2,metrics=[exp_rmspe])"
   ]
  },
  {
   "cell_type": "markdown",
   "metadata": {
    "ExecuteTime": {
     "end_time": "2018-06-28T02:34:51.237139Z",
     "start_time": "2018-06-28T02:26:49.816975Z"
    }
   },
   "source": [
    "m.fit(lr, 3, cycle_len=1, cycle_mult=2,metrics=[exp_rmspe])"
   ]
  },
  {
   "cell_type": "markdown",
   "metadata": {
    "ExecuteTime": {
     "end_time": "2018-06-28T02:35:10.016105Z",
     "start_time": "2018-06-28T02:34:51.238977Z"
    }
   },
   "source": [
    "pred_test=m.predict(True)"
   ]
  },
  {
   "cell_type": "code",
   "execution_count": 56,
   "metadata": {
    "ExecuteTime": {
     "end_time": "2018-06-28T03:57:32.510713Z",
     "start_time": "2018-06-28T03:57:32.479830Z"
    }
   },
   "outputs": [],
   "source": [
    "mean_predictions = np.mean(predictions, axis=0)"
   ]
  },
  {
   "cell_type": "code",
   "execution_count": 59,
   "metadata": {
    "ExecuteTime": {
     "end_time": "2018-06-28T03:58:51.855436Z",
     "start_time": "2018-06-28T03:58:51.832337Z"
    }
   },
   "outputs": [],
   "source": [
    "test_df['deal_probability']=mean_predictions"
   ]
  },
  {
   "cell_type": "code",
   "execution_count": 60,
   "metadata": {
    "ExecuteTime": {
     "end_time": "2018-06-28T03:58:53.007880Z",
     "start_time": "2018-06-28T03:58:52.941319Z"
    }
   },
   "outputs": [
    {
     "data": {
      "text/html": [
       "<div>\n",
       "<style scoped>\n",
       "    .dataframe tbody tr th:only-of-type {\n",
       "        vertical-align: middle;\n",
       "    }\n",
       "\n",
       "    .dataframe tbody tr th {\n",
       "        vertical-align: top;\n",
       "    }\n",
       "\n",
       "    .dataframe thead th {\n",
       "        text-align: right;\n",
       "    }\n",
       "</style>\n",
       "<table border=\"1\" class=\"dataframe\">\n",
       "  <thead>\n",
       "    <tr style=\"text-align: right;\">\n",
       "      <th></th>\n",
       "      <th>item_id</th>\n",
       "      <th>user_id</th>\n",
       "      <th>region</th>\n",
       "      <th>city</th>\n",
       "      <th>parent_category_name</th>\n",
       "      <th>category_name</th>\n",
       "      <th>param_1</th>\n",
       "      <th>param_2</th>\n",
       "      <th>param_3</th>\n",
       "      <th>title</th>\n",
       "      <th>description</th>\n",
       "      <th>price</th>\n",
       "      <th>item_seq_number</th>\n",
       "      <th>user_type</th>\n",
       "      <th>image</th>\n",
       "      <th>image_top_1</th>\n",
       "      <th>image_score</th>\n",
       "      <th>avg_days_up_user</th>\n",
       "      <th>avg_times_up_user</th>\n",
       "      <th>n_user_items</th>\n",
       "      <th>activation_Year</th>\n",
       "      <th>activation_Month</th>\n",
       "      <th>activation_Week</th>\n",
       "      <th>activation_Day</th>\n",
       "      <th>activation_Dayofweek</th>\n",
       "      <th>activation_Dayofyear</th>\n",
       "      <th>activation_Is_month_end</th>\n",
       "      <th>activation_Is_month_start</th>\n",
       "      <th>activation_Is_quarter_end</th>\n",
       "      <th>activation_Is_quarter_start</th>\n",
       "      <th>activation_Is_year_end</th>\n",
       "      <th>activation_Is_year_start</th>\n",
       "      <th>activation_Elapsed</th>\n",
       "      <th>num_words_description</th>\n",
       "      <th>num_unique_words_description</th>\n",
       "      <th>num_words_title</th>\n",
       "      <th>num_unique_words_title</th>\n",
       "      <th>words_vs_unique_title</th>\n",
       "      <th>words_vs_unique_description</th>\n",
       "      <th>num_desc_punct</th>\n",
       "      <th>svd_title_1</th>\n",
       "      <th>svd_title_2</th>\n",
       "      <th>svd_title_3</th>\n",
       "      <th>svd_desc_1</th>\n",
       "      <th>svd_desc_2</th>\n",
       "      <th>svd_desc_3</th>\n",
       "      <th>deal_probability</th>\n",
       "    </tr>\n",
       "  </thead>\n",
       "  <tbody>\n",
       "    <tr>\n",
       "      <th>0</th>\n",
       "      <td>6544e41a8817</td>\n",
       "      <td>dbe73ad6e4b5</td>\n",
       "      <td>Волгоградская область</td>\n",
       "      <td>Волгоградская область_Волгоград</td>\n",
       "      <td>Личные вещи</td>\n",
       "      <td>Детская одежда и обувь</td>\n",
       "      <td>Для мальчиков</td>\n",
       "      <td>Обувь</td>\n",
       "      <td>25</td>\n",
       "      <td>отдам бесплатно</td>\n",
       "      <td>на ангарском</td>\n",
       "      <td>-1.000000</td>\n",
       "      <td>66</td>\n",
       "      <td>Private</td>\n",
       "      <td>a8b57acb5ab304f9c331ac7a074219aed4d349d8aef386...</td>\n",
       "      <td>2020.0</td>\n",
       "      <td>1672.0</td>\n",
       "      <td>7.500000</td>\n",
       "      <td>1.500000</td>\n",
       "      <td>6</td>\n",
       "      <td>2017</td>\n",
       "      <td>4</td>\n",
       "      <td>16</td>\n",
       "      <td>18</td>\n",
       "      <td>1</td>\n",
       "      <td>108</td>\n",
       "      <td>False</td>\n",
       "      <td>False</td>\n",
       "      <td>False</td>\n",
       "      <td>False</td>\n",
       "      <td>False</td>\n",
       "      <td>False</td>\n",
       "      <td>1492473600</td>\n",
       "      <td>2</td>\n",
       "      <td>2</td>\n",
       "      <td>2</td>\n",
       "      <td>2</td>\n",
       "      <td>100.0</td>\n",
       "      <td>100.0</td>\n",
       "      <td>0</td>\n",
       "      <td>0.000054</td>\n",
       "      <td>0.000017</td>\n",
       "      <td>0.000172</td>\n",
       "      <td>0.000002</td>\n",
       "      <td>0.184086</td>\n",
       "      <td>-0.336603</td>\n",
       "      <td>0.124695</td>\n",
       "    </tr>\n",
       "    <tr>\n",
       "      <th>1</th>\n",
       "      <td>65b9484d670f</td>\n",
       "      <td>2e11806abe57</td>\n",
       "      <td>Свердловская область</td>\n",
       "      <td>Свердловская область_Нижняя Тура</td>\n",
       "      <td>Хобби и отдых</td>\n",
       "      <td>Велосипеды</td>\n",
       "      <td>Дорожные</td>\n",
       "      <td>Empty Empty</td>\n",
       "      <td>Empty Empty</td>\n",
       "      <td>продам велосипед</td>\n",
       "      <td>продам велосипед kama  f200,в нормальном состо...</td>\n",
       "      <td>8.006368</td>\n",
       "      <td>4</td>\n",
       "      <td>Private</td>\n",
       "      <td>NaN</td>\n",
       "      <td>-1.0</td>\n",
       "      <td>-1.0</td>\n",
       "      <td>-1.000000</td>\n",
       "      <td>-1.000000</td>\n",
       "      <td>1</td>\n",
       "      <td>2017</td>\n",
       "      <td>4</td>\n",
       "      <td>15</td>\n",
       "      <td>16</td>\n",
       "      <td>6</td>\n",
       "      <td>106</td>\n",
       "      <td>False</td>\n",
       "      <td>False</td>\n",
       "      <td>False</td>\n",
       "      <td>False</td>\n",
       "      <td>False</td>\n",
       "      <td>False</td>\n",
       "      <td>1492300800</td>\n",
       "      <td>10</td>\n",
       "      <td>10</td>\n",
       "      <td>2</td>\n",
       "      <td>2</td>\n",
       "      <td>100.0</td>\n",
       "      <td>100.0</td>\n",
       "      <td>4</td>\n",
       "      <td>0.009232</td>\n",
       "      <td>-0.000109</td>\n",
       "      <td>0.003549</td>\n",
       "      <td>0.000004</td>\n",
       "      <td>0.180083</td>\n",
       "      <td>-0.106644</td>\n",
       "      <td>0.075944</td>\n",
       "    </tr>\n",
       "    <tr>\n",
       "      <th>2</th>\n",
       "      <td>8bab230b2ecd</td>\n",
       "      <td>0b850bbebb10</td>\n",
       "      <td>Новосибирская область</td>\n",
       "      <td>Новосибирская область_Бердск</td>\n",
       "      <td>Бытовая электроника</td>\n",
       "      <td>Аудио и видео</td>\n",
       "      <td>Телевизоры и проекторы</td>\n",
       "      <td>Empty Empty</td>\n",
       "      <td>Empty Empty</td>\n",
       "      <td>bbk</td>\n",
       "      <td>продам новый телевизор bbk  32 диагональ смарт...</td>\n",
       "      <td>9.615806</td>\n",
       "      <td>15</td>\n",
       "      <td>Private</td>\n",
       "      <td>8c361112cb049745ef2d1b0ae73594fc5c107286b0c942...</td>\n",
       "      <td>2960.0</td>\n",
       "      <td>2708.0</td>\n",
       "      <td>6.000000</td>\n",
       "      <td>1.000000</td>\n",
       "      <td>4</td>\n",
       "      <td>2017</td>\n",
       "      <td>4</td>\n",
       "      <td>16</td>\n",
       "      <td>17</td>\n",
       "      <td>0</td>\n",
       "      <td>107</td>\n",
       "      <td>False</td>\n",
       "      <td>False</td>\n",
       "      <td>False</td>\n",
       "      <td>False</td>\n",
       "      <td>False</td>\n",
       "      <td>False</td>\n",
       "      <td>1492387200</td>\n",
       "      <td>21</td>\n",
       "      <td>21</td>\n",
       "      <td>1</td>\n",
       "      <td>1</td>\n",
       "      <td>100.0</td>\n",
       "      <td>100.0</td>\n",
       "      <td>1</td>\n",
       "      <td>0.000001</td>\n",
       "      <td>0.000001</td>\n",
       "      <td>0.000007</td>\n",
       "      <td>0.000003</td>\n",
       "      <td>0.058508</td>\n",
       "      <td>-0.080549</td>\n",
       "      <td>0.060955</td>\n",
       "    </tr>\n",
       "    <tr>\n",
       "      <th>3</th>\n",
       "      <td>8e348601fefc</td>\n",
       "      <td>5f1d5c3ce0da</td>\n",
       "      <td>Саратовская область</td>\n",
       "      <td>Саратовская область_Саратов</td>\n",
       "      <td>Для дома и дачи</td>\n",
       "      <td>Бытовая техника</td>\n",
       "      <td>Для кухни</td>\n",
       "      <td>Вытяжки</td>\n",
       "      <td>Empty Empty</td>\n",
       "      <td>вытяжка jetair 60</td>\n",
       "      <td>продам новую вытяжку в упаковке,с документами....</td>\n",
       "      <td>8.411833</td>\n",
       "      <td>70</td>\n",
       "      <td>Private</td>\n",
       "      <td>NaN</td>\n",
       "      <td>-1.0</td>\n",
       "      <td>-1.0</td>\n",
       "      <td>15.066667</td>\n",
       "      <td>2.666667</td>\n",
       "      <td>19</td>\n",
       "      <td>2017</td>\n",
       "      <td>4</td>\n",
       "      <td>16</td>\n",
       "      <td>17</td>\n",
       "      <td>0</td>\n",
       "      <td>107</td>\n",
       "      <td>False</td>\n",
       "      <td>False</td>\n",
       "      <td>False</td>\n",
       "      <td>False</td>\n",
       "      <td>False</td>\n",
       "      <td>False</td>\n",
       "      <td>1492387200</td>\n",
       "      <td>12</td>\n",
       "      <td>12</td>\n",
       "      <td>3</td>\n",
       "      <td>3</td>\n",
       "      <td>100.0</td>\n",
       "      <td>100.0</td>\n",
       "      <td>4</td>\n",
       "      <td>0.000402</td>\n",
       "      <td>0.008005</td>\n",
       "      <td>0.004259</td>\n",
       "      <td>0.000003</td>\n",
       "      <td>0.055421</td>\n",
       "      <td>-0.064875</td>\n",
       "      <td>0.086297</td>\n",
       "    </tr>\n",
       "    <tr>\n",
       "      <th>4</th>\n",
       "      <td>8bd2fe400b89</td>\n",
       "      <td>23e2d97bfc7f</td>\n",
       "      <td>Оренбургская область</td>\n",
       "      <td>Оренбургская область_Бузулук</td>\n",
       "      <td>Личные вещи</td>\n",
       "      <td>Товары для детей и игрушки</td>\n",
       "      <td>Детские коляски</td>\n",
       "      <td>Empty Empty</td>\n",
       "      <td>Empty Empty</td>\n",
       "      <td>коляска зима-лето</td>\n",
       "      <td>продам отличную коляску. б/у 1 год. все вопрос...</td>\n",
       "      <td>8.496991</td>\n",
       "      <td>15</td>\n",
       "      <td>Private</td>\n",
       "      <td>bc3cf6deef10840fc302e38eb48fa7748aa1e28d534f8f...</td>\n",
       "      <td>1002.0</td>\n",
       "      <td>3497.0</td>\n",
       "      <td>6.500000</td>\n",
       "      <td>1.000000</td>\n",
       "      <td>5</td>\n",
       "      <td>2017</td>\n",
       "      <td>4</td>\n",
       "      <td>15</td>\n",
       "      <td>15</td>\n",
       "      <td>5</td>\n",
       "      <td>105</td>\n",
       "      <td>False</td>\n",
       "      <td>False</td>\n",
       "      <td>False</td>\n",
       "      <td>False</td>\n",
       "      <td>False</td>\n",
       "      <td>False</td>\n",
       "      <td>1492214400</td>\n",
       "      <td>10</td>\n",
       "      <td>10</td>\n",
       "      <td>2</td>\n",
       "      <td>2</td>\n",
       "      <td>100.0</td>\n",
       "      <td>100.0</td>\n",
       "      <td>4</td>\n",
       "      <td>0.000305</td>\n",
       "      <td>0.000089</td>\n",
       "      <td>0.001451</td>\n",
       "      <td>0.000005</td>\n",
       "      <td>0.101062</td>\n",
       "      <td>-0.149096</td>\n",
       "      <td>0.057388</td>\n",
       "    </tr>\n",
       "  </tbody>\n",
       "</table>\n",
       "</div>"
      ],
      "text/plain": [
       "        item_id       user_id                 region  \\\n",
       "0  6544e41a8817  dbe73ad6e4b5  Волгоградская область   \n",
       "1  65b9484d670f  2e11806abe57   Свердловская область   \n",
       "2  8bab230b2ecd  0b850bbebb10  Новосибирская область   \n",
       "3  8e348601fefc  5f1d5c3ce0da    Саратовская область   \n",
       "4  8bd2fe400b89  23e2d97bfc7f   Оренбургская область   \n",
       "\n",
       "                               city parent_category_name  \\\n",
       "0   Волгоградская область_Волгоград          Личные вещи   \n",
       "1  Свердловская область_Нижняя Тура        Хобби и отдых   \n",
       "2      Новосибирская область_Бердск  Бытовая электроника   \n",
       "3       Саратовская область_Саратов      Для дома и дачи   \n",
       "4      Оренбургская область_Бузулук          Личные вещи   \n",
       "\n",
       "                category_name                 param_1      param_2  \\\n",
       "0      Детская одежда и обувь           Для мальчиков        Обувь   \n",
       "1                  Велосипеды                Дорожные  Empty Empty   \n",
       "2               Аудио и видео  Телевизоры и проекторы  Empty Empty   \n",
       "3             Бытовая техника               Для кухни      Вытяжки   \n",
       "4  Товары для детей и игрушки         Детские коляски  Empty Empty   \n",
       "\n",
       "       param_3              title  \\\n",
       "0           25    отдам бесплатно   \n",
       "1  Empty Empty   продам велосипед   \n",
       "2  Empty Empty                bbk   \n",
       "3  Empty Empty  вытяжка jetair 60   \n",
       "4  Empty Empty  коляска зима-лето   \n",
       "\n",
       "                                         description     price  \\\n",
       "0                                       на ангарском -1.000000   \n",
       "1  продам велосипед kama  f200,в нормальном состо...  8.006368   \n",
       "2  продам новый телевизор bbk  32 диагональ смарт...  9.615806   \n",
       "3  продам новую вытяжку в упаковке,с документами....  8.411833   \n",
       "4  продам отличную коляску. б/у 1 год. все вопрос...  8.496991   \n",
       "\n",
       "   item_seq_number user_type  \\\n",
       "0               66   Private   \n",
       "1                4   Private   \n",
       "2               15   Private   \n",
       "3               70   Private   \n",
       "4               15   Private   \n",
       "\n",
       "                                               image image_top_1  image_score  \\\n",
       "0  a8b57acb5ab304f9c331ac7a074219aed4d349d8aef386...      2020.0       1672.0   \n",
       "1                                                NaN        -1.0         -1.0   \n",
       "2  8c361112cb049745ef2d1b0ae73594fc5c107286b0c942...      2960.0       2708.0   \n",
       "3                                                NaN        -1.0         -1.0   \n",
       "4  bc3cf6deef10840fc302e38eb48fa7748aa1e28d534f8f...      1002.0       3497.0   \n",
       "\n",
       "   avg_days_up_user  avg_times_up_user  n_user_items  activation_Year  \\\n",
       "0          7.500000           1.500000             6             2017   \n",
       "1         -1.000000          -1.000000             1             2017   \n",
       "2          6.000000           1.000000             4             2017   \n",
       "3         15.066667           2.666667            19             2017   \n",
       "4          6.500000           1.000000             5             2017   \n",
       "\n",
       "   activation_Month activation_Week activation_Day activation_Dayofweek  \\\n",
       "0                 4              16             18                    1   \n",
       "1                 4              15             16                    6   \n",
       "2                 4              16             17                    0   \n",
       "3                 4              16             17                    0   \n",
       "4                 4              15             15                    5   \n",
       "\n",
       "   activation_Dayofyear  activation_Is_month_end  activation_Is_month_start  \\\n",
       "0                   108                    False                      False   \n",
       "1                   106                    False                      False   \n",
       "2                   107                    False                      False   \n",
       "3                   107                    False                      False   \n",
       "4                   105                    False                      False   \n",
       "\n",
       "   activation_Is_quarter_end  activation_Is_quarter_start  \\\n",
       "0                      False                        False   \n",
       "1                      False                        False   \n",
       "2                      False                        False   \n",
       "3                      False                        False   \n",
       "4                      False                        False   \n",
       "\n",
       "   activation_Is_year_end  activation_Is_year_start  activation_Elapsed  \\\n",
       "0                   False                     False          1492473600   \n",
       "1                   False                     False          1492300800   \n",
       "2                   False                     False          1492387200   \n",
       "3                   False                     False          1492387200   \n",
       "4                   False                     False          1492214400   \n",
       "\n",
       "   num_words_description  num_unique_words_description  num_words_title  \\\n",
       "0                      2                             2                2   \n",
       "1                     10                            10                2   \n",
       "2                     21                            21                1   \n",
       "3                     12                            12                3   \n",
       "4                     10                            10                2   \n",
       "\n",
       "   num_unique_words_title  words_vs_unique_title  words_vs_unique_description  \\\n",
       "0                       2                  100.0                        100.0   \n",
       "1                       2                  100.0                        100.0   \n",
       "2                       1                  100.0                        100.0   \n",
       "3                       3                  100.0                        100.0   \n",
       "4                       2                  100.0                        100.0   \n",
       "\n",
       "   num_desc_punct  svd_title_1  svd_title_2  svd_title_3  svd_desc_1  \\\n",
       "0               0     0.000054     0.000017     0.000172    0.000002   \n",
       "1               4     0.009232    -0.000109     0.003549    0.000004   \n",
       "2               1     0.000001     0.000001     0.000007    0.000003   \n",
       "3               4     0.000402     0.008005     0.004259    0.000003   \n",
       "4               4     0.000305     0.000089     0.001451    0.000005   \n",
       "\n",
       "   svd_desc_2  svd_desc_3  deal_probability  \n",
       "0    0.184086   -0.336603          0.124695  \n",
       "1    0.180083   -0.106644          0.075944  \n",
       "2    0.058508   -0.080549          0.060955  \n",
       "3    0.055421   -0.064875          0.086297  \n",
       "4    0.101062   -0.149096          0.057388  "
      ]
     },
     "execution_count": 60,
     "metadata": {},
     "output_type": "execute_result"
    }
   ],
   "source": [
    "test_df.head()"
   ]
  },
  {
   "cell_type": "code",
   "execution_count": 61,
   "metadata": {
    "ExecuteTime": {
     "end_time": "2018-06-28T03:58:55.656576Z",
     "start_time": "2018-06-28T03:58:55.631527Z"
    }
   },
   "outputs": [],
   "source": [
    "csv_fn=f'{PATH}sub.csv'"
   ]
  },
  {
   "cell_type": "code",
   "execution_count": 62,
   "metadata": {
    "ExecuteTime": {
     "end_time": "2018-06-28T03:58:57.245996Z",
     "start_time": "2018-06-28T03:58:56.059477Z"
    }
   },
   "outputs": [],
   "source": [
    "test_df[['item_id','deal_probability']].to_csv(csv_fn, index=False)"
   ]
  },
  {
   "cell_type": "code",
   "execution_count": 63,
   "metadata": {
    "ExecuteTime": {
     "end_time": "2018-06-28T03:58:57.272761Z",
     "start_time": "2018-06-28T03:58:57.247732Z"
    }
   },
   "outputs": [
    {
     "data": {
      "text/html": [
       "<a href='data/avito/sub.csv' target='_blank'>data/avito/sub.csv</a><br>"
      ],
      "text/plain": [
       "/home/paperspace/fastai/courses/dl1/data/avito/sub.csv"
      ]
     },
     "execution_count": 63,
     "metadata": {},
     "output_type": "execute_result"
    }
   ],
   "source": [
    "FileLink(csv_fn)"
   ]
  },
  {
   "cell_type": "code",
   "execution_count": null,
   "metadata": {},
   "outputs": [],
   "source": []
  }
 ],
 "metadata": {
  "kernelspec": {
   "display_name": "Python 3",
   "language": "python",
   "name": "python3"
  },
  "language_info": {
   "codemirror_mode": {
    "name": "ipython",
    "version": 3
   },
   "file_extension": ".py",
   "mimetype": "text/x-python",
   "name": "python",
   "nbconvert_exporter": "python",
   "pygments_lexer": "ipython3",
   "version": "3.6.5"
  }
 },
 "nbformat": 4,
 "nbformat_minor": 2
}
