{
  "cells": [
    {
      "metadata": {
        "_uuid": "8f2839f25d086af736a60e9eeb907d3b93b6e0e5",
        "_cell_guid": "b1076dfc-b9ad-4769-8c92-a6c4dae69d19",
        "trusted": true
      },
      "cell_type": "code",
      "source": "import numpy as np # linear algebra\nimport pandas as pd # data processing, CSV file I/O (e.g. pd.read_csv)\nimport matplotlib.pyplot as plt\nimport seaborn as sns\nimport os\nimport gc\nfrom io import StringIO\ncolor = sns.color_palette()\n%matplotlib inline\n\nimport plotly.offline as py\npy.init_notebook_mode(connected=True)\nimport plotly.graph_objs as go\nimport plotly.tools as tls\n\npd.options.mode.chained_assignment = None\npd.options.display.max_columns = 999",
      "execution_count": 22,
      "outputs": [
        {
          "output_type": "display_data",
          "data": {
            "text/html": "<script>requirejs.config({paths: { 'plotly': ['https://cdn.plot.ly/plotly-latest.min']},});if(!window.Plotly) {{require(['plotly'],function(plotly) {window.Plotly=plotly;});}}</script>",
            "text/vnd.plotly.v1+html": "<script>requirejs.config({paths: { 'plotly': ['https://cdn.plot.ly/plotly-latest.min']},});if(!window.Plotly) {{require(['plotly'],function(plotly) {window.Plotly=plotly;});}}</script>"
          },
          "metadata": {}
        }
      ]
    },
    {
      "metadata": {
        "trusted": true,
        "collapsed": true,
        "_uuid": "bae615bf2806bed85a0a87347e40ccd71b77a573"
      },
      "cell_type": "code",
      "source": "from fastai.imports import *\nfrom fastai.transforms import *\nfrom fastai.conv_learner import *\nfrom fastai.model import *\nfrom fastai.dataset import *\nfrom fastai.sgdr import *\nfrom fastai.plots import *",
      "execution_count": 2,
      "outputs": []
    },
    {
      "metadata": {
        "_cell_guid": "79c7e3d0-c299-4dcb-8224-4455121ee9b0",
        "collapsed": true,
        "_uuid": "d629ff2d2480ee46fbb7e2d37f6b5fab8052498a",
        "trusted": true
      },
      "cell_type": "code",
      "source": "df_train = pd.read_csv(\"../input/train.csv\", parse_dates=[\"activation_date\"])\ndf_test = pd.read_csv(\"../input/test.csv\", parse_dates=[\"activation_date\"])",
      "execution_count": 10,
      "outputs": []
    },
    {
      "metadata": {
        "trusted": true,
        "_uuid": "308864e65ad34c7721cff536d3946643d6e467a4"
      },
      "cell_type": "code",
      "source": "df_train.head(4)",
      "execution_count": 11,
      "outputs": [
        {
          "output_type": "execute_result",
          "execution_count": 11,
          "data": {
            "text/plain": "        item_id       user_id                region              city  \\\n0  b912c3c6a6ad  e00f8ff2eaf9  Свердловская область      Екатеринбург   \n1  2dac0150717d  39aeb48f0017     Самарская область            Самара   \n2  ba83aefab5dc  91e2f88dd6e3    Ростовская область    Ростов-на-Дону   \n3  02996f1dd2ea  bf5cccea572d             Татарстан  Набережные Челны   \n\n  parent_category_name               category_name  \\\n0          Личные вещи  Товары для детей и игрушки   \n1      Для дома и дачи           Мебель и интерьер   \n2  Бытовая электроника               Аудио и видео   \n3          Личные вещи  Товары для детей и игрушки   \n\n                       param_1 param_2 param_3                  title  \\\n0    Постельные принадлежности     NaN     NaN  Кокоби(кокон для сна)   \n1                       Другое     NaN     NaN      Стойка для Одежды   \n2  Видео, DVD и Blu-ray плееры     NaN     NaN         Philips bluray   \n3         Автомобильные кресла     NaN     NaN             Автокресло   \n\n                                         description   price  item_seq_number  \\\n0  Кокон для сна малыша,пользовались меньше месяц...   400.0                2   \n1          Стойка для одежды, под вешалки. С бутика.  3000.0               19   \n2  В хорошем состоянии, домашний кинотеатр с blu ...  4000.0                9   \n3                             Продам кресло от0-25кг  2200.0              286   \n\n  activation_date user_type  \\\n0      2017-03-28   Private   \n1      2017-03-26   Private   \n2      2017-03-20   Private   \n3      2017-03-25   Company   \n\n                                               image  image_top_1  \\\n0  d10c7e016e03247a3bf2d13348fe959fe6f436c1caf64c...       1008.0   \n1  79c9392cc51a9c81c6eb91eceb8e552171db39d7142700...        692.0   \n2  b7f250ee3f39e1fedd77c141f273703f4a9be59db4b48a...       3032.0   \n3  e6ef97e0725637ea84e3d203e82dadb43ed3cc0a1c8413...        796.0   \n\n   deal_probability  \n0           0.12789  \n1           0.00000  \n2           0.43177  \n3           0.80323  ",
            "text/html": "<div>\n<style scoped>\n    .dataframe tbody tr th:only-of-type {\n        vertical-align: middle;\n    }\n\n    .dataframe tbody tr th {\n        vertical-align: top;\n    }\n\n    .dataframe thead th {\n        text-align: right;\n    }\n</style>\n<table border=\"1\" class=\"dataframe\">\n  <thead>\n    <tr style=\"text-align: right;\">\n      <th></th>\n      <th>item_id</th>\n      <th>user_id</th>\n      <th>region</th>\n      <th>city</th>\n      <th>parent_category_name</th>\n      <th>category_name</th>\n      <th>param_1</th>\n      <th>param_2</th>\n      <th>param_3</th>\n      <th>title</th>\n      <th>description</th>\n      <th>price</th>\n      <th>item_seq_number</th>\n      <th>activation_date</th>\n      <th>user_type</th>\n      <th>image</th>\n      <th>image_top_1</th>\n      <th>deal_probability</th>\n    </tr>\n  </thead>\n  <tbody>\n    <tr>\n      <th>0</th>\n      <td>b912c3c6a6ad</td>\n      <td>e00f8ff2eaf9</td>\n      <td>Свердловская область</td>\n      <td>Екатеринбург</td>\n      <td>Личные вещи</td>\n      <td>Товары для детей и игрушки</td>\n      <td>Постельные принадлежности</td>\n      <td>NaN</td>\n      <td>NaN</td>\n      <td>Кокоби(кокон для сна)</td>\n      <td>Кокон для сна малыша,пользовались меньше месяц...</td>\n      <td>400.0</td>\n      <td>2</td>\n      <td>2017-03-28</td>\n      <td>Private</td>\n      <td>d10c7e016e03247a3bf2d13348fe959fe6f436c1caf64c...</td>\n      <td>1008.0</td>\n      <td>0.12789</td>\n    </tr>\n    <tr>\n      <th>1</th>\n      <td>2dac0150717d</td>\n      <td>39aeb48f0017</td>\n      <td>Самарская область</td>\n      <td>Самара</td>\n      <td>Для дома и дачи</td>\n      <td>Мебель и интерьер</td>\n      <td>Другое</td>\n      <td>NaN</td>\n      <td>NaN</td>\n      <td>Стойка для Одежды</td>\n      <td>Стойка для одежды, под вешалки. С бутика.</td>\n      <td>3000.0</td>\n      <td>19</td>\n      <td>2017-03-26</td>\n      <td>Private</td>\n      <td>79c9392cc51a9c81c6eb91eceb8e552171db39d7142700...</td>\n      <td>692.0</td>\n      <td>0.00000</td>\n    </tr>\n    <tr>\n      <th>2</th>\n      <td>ba83aefab5dc</td>\n      <td>91e2f88dd6e3</td>\n      <td>Ростовская область</td>\n      <td>Ростов-на-Дону</td>\n      <td>Бытовая электроника</td>\n      <td>Аудио и видео</td>\n      <td>Видео, DVD и Blu-ray плееры</td>\n      <td>NaN</td>\n      <td>NaN</td>\n      <td>Philips bluray</td>\n      <td>В хорошем состоянии, домашний кинотеатр с blu ...</td>\n      <td>4000.0</td>\n      <td>9</td>\n      <td>2017-03-20</td>\n      <td>Private</td>\n      <td>b7f250ee3f39e1fedd77c141f273703f4a9be59db4b48a...</td>\n      <td>3032.0</td>\n      <td>0.43177</td>\n    </tr>\n    <tr>\n      <th>3</th>\n      <td>02996f1dd2ea</td>\n      <td>bf5cccea572d</td>\n      <td>Татарстан</td>\n      <td>Набережные Челны</td>\n      <td>Личные вещи</td>\n      <td>Товары для детей и игрушки</td>\n      <td>Автомобильные кресла</td>\n      <td>NaN</td>\n      <td>NaN</td>\n      <td>Автокресло</td>\n      <td>Продам кресло от0-25кг</td>\n      <td>2200.0</td>\n      <td>286</td>\n      <td>2017-03-25</td>\n      <td>Company</td>\n      <td>e6ef97e0725637ea84e3d203e82dadb43ed3cc0a1c8413...</td>\n      <td>796.0</td>\n      <td>0.80323</td>\n    </tr>\n  </tbody>\n</table>\n</div>"
          },
          "metadata": {}
        }
      ]
    },
    {
      "metadata": {
        "trusted": true,
        "_uuid": "224d11821cc86cda2ce1b94b23f3f71abaf40b69"
      },
      "cell_type": "code",
      "source": "df_train.info()",
      "execution_count": 12,
      "outputs": [
        {
          "output_type": "stream",
          "text": "<class 'pandas.core.frame.DataFrame'>\nRangeIndex: 1503424 entries, 0 to 1503423\nData columns (total 18 columns):\nitem_id                 1503424 non-null object\nuser_id                 1503424 non-null object\nregion                  1503424 non-null object\ncity                    1503424 non-null object\nparent_category_name    1503424 non-null object\ncategory_name           1503424 non-null object\nparam_1                 1441848 non-null object\nparam_2                 848882 non-null object\nparam_3                 640859 non-null object\ntitle                   1503424 non-null object\ndescription             1387148 non-null object\nprice                   1418062 non-null float64\nitem_seq_number         1503424 non-null int64\nactivation_date         1503424 non-null datetime64[ns]\nuser_type               1503424 non-null object\nimage                   1390836 non-null object\nimage_top_1             1390836 non-null float64\ndeal_probability        1503424 non-null float64\ndtypes: datetime64[ns](1), float64(3), int64(1), object(13)\nmemory usage: 206.5+ MB\n",
          "name": "stdout"
        }
      ]
    },
    {
      "metadata": {
        "trusted": true,
        "_uuid": "0de3b88edde00e38700ffef1c16f59af57511b29"
      },
      "cell_type": "code",
      "source": "gc.collect()",
      "execution_count": 13,
      "outputs": [
        {
          "output_type": "execute_result",
          "execution_count": 13,
          "data": {
            "text/plain": "1327"
          },
          "metadata": {}
        }
      ]
    },
    {
      "metadata": {
        "trusted": true,
        "_uuid": "1c5f3aed39e52989efba883b27dd8b724c1e4237"
      },
      "cell_type": "code",
      "source": "temp_data = StringIO(\"\"\"\nregion,region_en\nСвердловская область, Sverdlovsk oblast\nСамарская область, Samara oblast\nРостовская область, Rostov oblast\nТатарстан, Tatarstan\nВолгоградская область, Volgograd oblast\nНижегородская область, Nizhny Novgorod oblast\nПермский край, Perm Krai\nОренбургская область, Orenburg oblast\nХанты-Мансийский АО, Khanty-Mansi Autonomous Okrug\nТюменская область, Tyumen oblast\nБашкортостан, Bashkortostan\nКраснодарский край, Krasnodar Krai\nНовосибирская область, Novosibirsk oblast\nОмская область, Omsk oblast\nБелгородская область, Belgorod oblast\nЧелябинская область, Chelyabinsk oblast\nВоронежская область, Voronezh oblast\nКемеровская область, Kemerovo oblast\nСаратовская область, Saratov oblast\nВладимирская область, Vladimir oblast\nКалининградская область, Kaliningrad oblast\nКрасноярский край, Krasnoyarsk Krai\nЯрославская область, Yaroslavl oblast\nУдмуртия, Udmurtia\nАлтайский край, Altai Krai\nИркутская область, Irkutsk oblast\nСтавропольский край, Stavropol Krai\nТульская область, Tula oblast\n\"\"\")",
      "execution_count": 23,
      "outputs": []
    },
    {
      "metadata": {
        "trusted": true,
        "_uuid": "8fbcaa40980acc4a1530cdf65043a70eff1908a4"
      },
      "cell_type": "code",
      "source": "pd.unique(df_train['region'])",
      "execution_count": 28,
      "outputs": [
        {
          "output_type": "execute_result",
          "execution_count": 28,
          "data": {
            "text/plain": "array(['Свердловская область', 'Самарская область', 'Ростовская область', 'Татарстан',\n       'Волгоградская область', 'Нижегородская область', 'Пермский край', 'Оренбургская область',\n       'Ханты-Мансийский АО', 'Тюменская область', 'Башкортостан', 'Краснодарский край',\n       'Новосибирская область', 'Омская область', 'Белгородская область', 'Челябинская область',\n       'Воронежская область', 'Кемеровская область', 'Саратовская область', 'Владимирская область',\n       'Калининградская область', 'Красноярский край', 'Ярославская область', 'Удмуртия', 'Алтайский край',\n       'Иркутская область', 'Ставропольский край', 'Тульская область'], dtype=object)"
          },
          "metadata": {}
        }
      ]
    },
    {
      "metadata": {
        "trusted": true,
        "collapsed": true,
        "_uuid": "22c502acffa8e8586f0f709259f06f2825501f90"
      },
      "cell_type": "code",
      "source": "df_train = pd.merge(df_train, pd.read_csv(temp_data), how='left', on='region')",
      "execution_count": 29,
      "outputs": []
    },
    {
      "metadata": {
        "trusted": true,
        "_uuid": "b817dfc648459dcc607dcb2edf4490b95795070a"
      },
      "cell_type": "code",
      "source": "pd.unique(df_train['region_en'])",
      "execution_count": 33,
      "outputs": [
        {
          "output_type": "execute_result",
          "execution_count": 33,
          "data": {
            "text/plain": "array([' Sverdlovsk oblast', ' Samara oblast', ' Rostov oblast', ' Tatarstan', ' Volgograd oblast',\n       ' Nizhny Novgorod oblast', ' Perm Krai', ' Orenburg oblast', ' Khanty-Mansi Autonomous Okrug',\n       ' Tyumen oblast', ' Bashkortostan', ' Krasnodar Krai', ' Novosibirsk oblast', ' Omsk oblast',\n       ' Belgorod oblast', ' Chelyabinsk oblast', ' Voronezh oblast', ' Kemerovo oblast', ' Saratov oblast',\n       ' Vladimir oblast', ' Kaliningrad oblast', ' Krasnoyarsk Krai', ' Yaroslavl oblast', ' Udmurtia',\n       ' Altai Krai', ' Irkutsk oblast', ' Stavropol Krai', ' Tula oblast'], dtype=object)"
          },
          "metadata": {}
        }
      ]
    },
    {
      "metadata": {
        "trusted": true,
        "collapsed": true,
        "_uuid": "9937a8c024a4f61470246d86e6f105231bae0fcc"
      },
      "cell_type": "code",
      "source": "del df_train['region']",
      "execution_count": 34,
      "outputs": []
    },
    {
      "metadata": {
        "trusted": true,
        "_uuid": "4aa2b73d85e65242bb2b749654a0c848936a0c30"
      },
      "cell_type": "code",
      "source": "df_train.groupby('region_en')['deal_probability'].mean()",
      "execution_count": 74,
      "outputs": [
        {
          "output_type": "execute_result",
          "execution_count": 74,
          "data": {
            "text/plain": "region_en\n Altai Krai                       0.136257\n Bashkortostan                    0.148859\n Belgorod oblast                  0.145603\n Chelyabinsk oblast               0.143229\n Irkutsk oblast                   0.139679\n Kaliningrad oblast               0.131574\n Kemerovo oblast                  0.135480\n Khanty-Mansi Autonomous Okrug    0.143696\n Krasnodar Krai                   0.147066\n Krasnoyarsk Krai                 0.120357\n Nizhny Novgorod oblast           0.146608\n Novosibirsk oblast               0.124689\n Omsk oblast                      0.129185\n Orenburg oblast                  0.155921\n Perm Krai                        0.143685\n Rostov oblast                    0.135944\n Samara oblast                    0.136721\n Saratov oblast                   0.145991\n Stavropol Krai                   0.153586\n Sverdlovsk oblast                0.122004\n Tatarstan                        0.142602\n Tula oblast                      0.143882\n Tyumen oblast                    0.124193\n Udmurtia                         0.148130\n Vladimir oblast                  0.140988\n Volgograd oblast                 0.145908\n Voronezh oblast                  0.141007\n Yaroslavl oblast                 0.128844\nName: deal_probability, dtype: float64"
          },
          "metadata": {}
        }
      ]
    },
    {
      "metadata": {
        "trusted": true,
        "_uuid": "1a0d507cd49781222ce293e6cd3804a5552e3f20"
      },
      "cell_type": "code",
      "source": "df_train.columns",
      "execution_count": 35,
      "outputs": [
        {
          "output_type": "execute_result",
          "execution_count": 35,
          "data": {
            "text/plain": "Index(['item_id', 'user_id', 'city', 'parent_category_name', 'category_name',\n       'param_1', 'param_2', 'param_3', 'title', 'description', 'price',\n       'item_seq_number', 'activation_date', 'user_type', 'image',\n       'image_top_1', 'deal_probability', 'region_en'],\n      dtype='object')"
          },
          "metadata": {}
        }
      ]
    },
    {
      "metadata": {
        "trusted": true,
        "_uuid": "5e9b81a21440a138b3fcc6ce62e3cfd41d2ab33d"
      },
      "cell_type": "code",
      "source": "temp_data = StringIO(\"\"\"\nparent_category_name,parent_category_name_en\nЛичные вещи,Personal belongings\nДля дома и дачи,For the home and garden\nБытовая электроника,Consumer electronics\nНедвижимость,Real estate\nХобби и отдых,Hobbies & leisure\nТранспорт,Transport\nУслуги,Services\nЖивотные,Animals\nДля бизнеса,For business\n\"\"\")\n\ndf_train = pd.merge(df_train, pd.read_csv(temp_data), on=\"parent_category_name\", how=\"left\")\ndel df_train['parent_category_name']",
      "execution_count": 58,
      "outputs": []
    },
    {
      "metadata": {
        "trusted": true,
        "_uuid": "1ce0c32da3d6810c54a071844686651ede677d0b"
      },
      "cell_type": "code",
      "source": "df_train['parent_category_name_en'].value_counts()/df_train.shape[0]",
      "execution_count": 63,
      "outputs": [
        {
          "output_type": "execute_result",
          "execution_count": 63,
          "data": {
            "text/plain": "Personal belongings        0.464023\nFor the home and garden    0.118944\nConsumer electronics       0.115076\nReal estate                0.101894\nHobbies & leisure          0.057210\nTransport                  0.053105\nServices                   0.042826\nAnimals                    0.034900\nFor business               0.012023\nName: parent_category_name_en, dtype: float64"
          },
          "metadata": {}
        }
      ]
    },
    {
      "metadata": {
        "trusted": true,
        "_uuid": "c0e627f96936522eca797950c497a036126b3379"
      },
      "cell_type": "code",
      "source": "df_train.groupby('parent_category_name_en')['deal_probability'].mean()",
      "execution_count": 70,
      "outputs": [
        {
          "output_type": "execute_result",
          "execution_count": 70,
          "data": {
            "text/plain": "parent_category_name_en\nAnimals                    0.235957\nConsumer electronics       0.175421\nFor business               0.111026\nFor the home and garden    0.179633\nHobbies & leisure          0.123703\nPersonal belongings        0.075876\nReal estate                0.142051\nServices                   0.403123\nTransport                  0.263336\nName: deal_probability, dtype: float64"
          },
          "metadata": {}
        }
      ]
    },
    {
      "metadata": {
        "trusted": true,
        "_uuid": "9121fc3c07dd4bde801617474769fbcad04ae314"
      },
      "cell_type": "code",
      "source": "temp_data = StringIO(\"\"\"\ncategory_name,category_name_en\n\"Одежда, обувь, аксессуары\",\"Clothing, shoes, accessories\"\nДетская одежда и обувь,Children's clothing and shoes\nТовары для детей и игрушки,Children's products and toys\nКвартиры,Apartments\nТелефоны,Phones\nМебель и интерьер,Furniture and interior\nПредложение услуг,Offer services\nАвтомобили,Cars\nРемонт и строительство,Repair and construction\nБытовая техника,Appliances\nТовары для компьютера,Products for computer\n\"Дома, дачи, коттеджи\",\"Houses, villas, cottages\"\nКрасота и здоровье,Health and beauty\nАудио и видео,Audio and video\nСпорт и отдых,Sports and recreation\nКоллекционирование,Collecting\nОборудование для бизнеса,Equipment for business\nЗемельные участки,Land\nЧасы и украшения,Watches and jewelry\nКниги и журналы,Books and magazines\nСобаки,Dogs\n\"Игры, приставки и программы\",\"Games, consoles and software\"\nДругие животные,Other animals\nВелосипеды,Bikes\nНоутбуки,Laptops\nКошки,Cats\nГрузовики и спецтехника,Trucks and buses\nПосуда и товары для кухни,Tableware and goods for kitchen\nРастения,Plants\nПланшеты и электронные книги,Tablets and e-books\nТовары для животных,Pet products\nКомнаты,Room\nФототехника,Photo\nКоммерческая недвижимость,Commercial property\nГаражи и машиноместа,Garages and Parking spaces\nМузыкальные инструменты,Musical instruments\nОргтехника и расходники,Office equipment and consumables\nПтицы,Birds\nПродукты питания,Food\nМотоциклы и мототехника,Motorcycles and bikes\nНастольные компьютеры,Desktop computers\nАквариум,Aquarium\nОхота и рыбалка,Hunting and fishing\nБилеты и путешествия,Tickets and travel\nВодный транспорт,Water transport\nГотовый бизнес,Ready business\nНедвижимость за рубежом,Property abroad\n\"\"\")\n\ndf_train = pd.merge(df_train, pd.read_csv(temp_data), on=\"category_name\", how=\"left\")\ndel df_train['category_name']",
      "execution_count": 76,
      "outputs": []
    },
    {
      "metadata": {
        "trusted": true,
        "_uuid": "6c981d8647afaea26520fad61fd9c16aad560fca"
      },
      "cell_type": "code",
      "source": "df_train.groupby('category_name_en')['deal_probability'].mean()",
      "execution_count": 77,
      "outputs": [
        {
          "output_type": "execute_result",
          "execution_count": 77,
          "data": {
            "text/plain": "category_name_en\nApartments                          0.158154\nAppliances                          0.252776\nAquarium                            0.183616\nAudio and video                     0.171572\nBikes                               0.247573\nBirds                               0.238340\nBooks and magazines                 0.040673\nCars                                0.278427\nCats                                0.297259\nChildren's clothing and shoes       0.060834\nChildren's products and toys        0.198445\nClothing, shoes, accessories        0.046447\nCollecting                          0.063719\nCommercial property                 0.121215\nDesktop computers                   0.180099\nDogs                                0.252812\nEquipment for business              0.112431\nFood                                0.135809\nFurniture and interior              0.191848\nGames, consoles and software        0.202623\nGarages and Parking spaces          0.119438\nHealth and beauty                   0.092382\nHouses, villas, cottages            0.124862\nHunting and fishing                 0.147584\nLand                                0.088676\nLaptops                             0.202596\nMotorcycles and bikes               0.250694\nMusical instruments                 0.190657\nOffer services                      0.403123\nOffice equipment and consumables    0.133757\nOther animals                       0.264051\nPet products                        0.133637\nPhones                              0.186176\nPhoto                               0.132135\nPlants                              0.131480\nProducts for computer               0.162863\nProperty abroad                     0.053534\nReady business                      0.099905\nRepair and construction             0.146212\nRoom                                0.184329\nSports and recreation               0.146643\nTablets and e-books                 0.151340\nTableware and goods for kitchen     0.103222\nTickets and travel                  0.122712\nTrucks and buses                    0.178480\nWatches and jewelry                 0.055316\nWater transport                     0.229866\nName: deal_probability, dtype: float64"
          },
          "metadata": {}
        }
      ]
    },
    {
      "metadata": {
        "trusted": true,
        "collapsed": true,
        "_uuid": "1b9adbcfe634965a66ece6959bdd210ef90f1074"
      },
      "cell_type": "code",
      "source": "",
      "execution_count": null,
      "outputs": []
    }
  ],
  "metadata": {
    "kernelspec": {
      "display_name": "Python 3",
      "language": "python",
      "name": "python3"
    },
    "language_info": {
      "name": "python",
      "version": "3.6.4",
      "mimetype": "text/x-python",
      "codemirror_mode": {
        "name": "ipython",
        "version": 3
      },
      "pygments_lexer": "ipython3",
      "nbconvert_exporter": "python",
      "file_extension": ".py"
    }
  },
  "nbformat": 4,
  "nbformat_minor": 1
}