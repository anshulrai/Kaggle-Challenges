{
 "cells": [
  {
   "cell_type": "code",
   "execution_count": 1,
   "metadata": {
    "ExecuteTime": {
     "end_time": "2018-06-24T03:26:44.649575Z",
     "start_time": "2018-06-24T03:26:44.097982Z"
    }
   },
   "outputs": [],
   "source": [
    "%matplotlib inline\n",
    "%reload_ext autoreload\n",
    "%autoreload 2"
   ]
  },
  {
   "cell_type": "code",
   "execution_count": 5,
   "metadata": {
    "ExecuteTime": {
     "end_time": "2018-06-24T03:27:43.012545Z",
     "start_time": "2018-06-24T03:27:39.390485Z"
    }
   },
   "outputs": [],
   "source": [
    "from fastai.structured import *\n",
    "from fastai.column_data import *\n",
    "np.set_printoptions(threshold=50, edgeitems=20)\n",
    "\n",
    "PATH='data/avito/'"
   ]
  },
  {
   "cell_type": "code",
   "execution_count": 7,
   "metadata": {
    "ExecuteTime": {
     "end_time": "2018-06-24T03:30:10.939259Z",
     "start_time": "2018-06-24T03:30:10.917076Z"
    }
   },
   "outputs": [],
   "source": [
    "import numpy as np \n",
    "import pandas as pd \n",
    "import matplotlib.pyplot as plt\n",
    "import seaborn as sns\n",
    "import os\n",
    "import gc\n",
    "from io import StringIO\n",
    "from matplotlib_venn import venn2\n",
    "\n",
    "color = sns.color_palette()\n",
    "\n",
    "pd.options.mode.chained_assignment = None\n",
    "pd.options.display.max_columns = 999"
   ]
  },
  {
   "cell_type": "code",
   "execution_count": 163,
   "metadata": {
    "ExecuteTime": {
     "end_time": "2018-06-24T04:49:28.603171Z",
     "start_time": "2018-06-24T04:49:12.815582Z"
    }
   },
   "outputs": [],
   "source": [
    "train_df = pd.read_csv(f'{PATH}train.csv', parse_dates=[\"activation_date\"])"
   ]
  },
  {
   "cell_type": "code",
   "execution_count": 164,
   "metadata": {
    "ExecuteTime": {
     "end_time": "2018-06-24T04:49:34.260928Z",
     "start_time": "2018-06-24T04:49:28.605197Z"
    }
   },
   "outputs": [],
   "source": [
    "test_df = pd.read_csv(f'{PATH}test.csv', parse_dates=[\"activation_date\"])"
   ]
  },
  {
   "cell_type": "code",
   "execution_count": 166,
   "metadata": {
    "ExecuteTime": {
     "end_time": "2018-06-24T04:49:34.334020Z",
     "start_time": "2018-06-24T04:49:34.306933Z"
    }
   },
   "outputs": [
    {
     "data": {
      "text/plain": [
       "(1503424, 508438)"
      ]
     },
     "execution_count": 166,
     "metadata": {},
     "output_type": "execute_result"
    }
   ],
   "source": [
    "len(train_df), len(test_df)"
   ]
  },
  {
   "cell_type": "code",
   "execution_count": 167,
   "metadata": {
    "ExecuteTime": {
     "end_time": "2018-06-24T04:49:34.364247Z",
     "start_time": "2018-06-24T04:49:34.336996Z"
    }
   },
   "outputs": [
    {
     "data": {
      "text/plain": [
       "Index(['item_id', 'user_id', 'region', 'city', 'parent_category_name',\n",
       "       'category_name', 'param_1', 'param_2', 'param_3', 'title',\n",
       "       'description', 'price', 'item_seq_number', 'activation_date',\n",
       "       'user_type', 'image', 'image_top_1', 'deal_probability'],\n",
       "      dtype='object')"
      ]
     },
     "execution_count": 167,
     "metadata": {},
     "output_type": "execute_result"
    }
   ],
   "source": [
    "train_df.columns"
   ]
  },
  {
   "cell_type": "code",
   "execution_count": 168,
   "metadata": {
    "ExecuteTime": {
     "end_time": "2018-06-24T04:49:35.725780Z",
     "start_time": "2018-06-24T04:49:34.366239Z"
    }
   },
   "outputs": [],
   "source": [
    "add_datepart(train_df, 'activation_date')\n",
    "add_datepart(test_df, 'activation_date')"
   ]
  },
  {
   "cell_type": "code",
   "execution_count": 191,
   "metadata": {
    "ExecuteTime": {
     "end_time": "2018-06-24T04:55:59.492888Z",
     "start_time": "2018-06-24T04:55:59.438153Z"
    }
   },
   "outputs": [
    {
     "data": {
      "text/html": [
       "<div>\n",
       "<style scoped>\n",
       "    .dataframe tbody tr th:only-of-type {\n",
       "        vertical-align: middle;\n",
       "    }\n",
       "\n",
       "    .dataframe tbody tr th {\n",
       "        vertical-align: top;\n",
       "    }\n",
       "\n",
       "    .dataframe thead th {\n",
       "        text-align: right;\n",
       "    }\n",
       "</style>\n",
       "<table border=\"1\" class=\"dataframe\">\n",
       "  <thead>\n",
       "    <tr style=\"text-align: right;\">\n",
       "      <th></th>\n",
       "      <th>item_id</th>\n",
       "      <th>user_id</th>\n",
       "      <th>region</th>\n",
       "      <th>city</th>\n",
       "      <th>parent_category_name</th>\n",
       "      <th>category_name</th>\n",
       "      <th>param_1</th>\n",
       "      <th>param_2</th>\n",
       "      <th>param_3</th>\n",
       "      <th>title</th>\n",
       "      <th>description</th>\n",
       "      <th>price</th>\n",
       "      <th>item_seq_number</th>\n",
       "      <th>user_type</th>\n",
       "      <th>image</th>\n",
       "      <th>image_top_1</th>\n",
       "      <th>deal_probability</th>\n",
       "      <th>activation_Year</th>\n",
       "      <th>activation_Month</th>\n",
       "      <th>activation_Week</th>\n",
       "      <th>activation_Day</th>\n",
       "      <th>activation_Dayofweek</th>\n",
       "      <th>activation_Dayofyear</th>\n",
       "      <th>activation_Is_month_end</th>\n",
       "      <th>activation_Is_month_start</th>\n",
       "      <th>activation_Is_quarter_end</th>\n",
       "      <th>activation_Is_quarter_start</th>\n",
       "      <th>activation_Is_year_end</th>\n",
       "      <th>activation_Is_year_start</th>\n",
       "      <th>activation_Elapsed</th>\n",
       "    </tr>\n",
       "  </thead>\n",
       "  <tbody>\n",
       "    <tr>\n",
       "      <th>0</th>\n",
       "      <td>b912c3c6a6ad</td>\n",
       "      <td>e00f8ff2eaf9</td>\n",
       "      <td>Свердловская область</td>\n",
       "      <td>Екатеринбург</td>\n",
       "      <td>Личные вещи</td>\n",
       "      <td>Товары для детей и игрушки</td>\n",
       "      <td>Постельные принадлежности</td>\n",
       "      <td>Empty Empty</td>\n",
       "      <td>Empty Empty</td>\n",
       "      <td>Кокоби(кокон для сна)</td>\n",
       "      <td>Кокон для сна малыша,пользовались меньше месяц...</td>\n",
       "      <td>400.0</td>\n",
       "      <td>2</td>\n",
       "      <td>Private</td>\n",
       "      <td>d10c7e016e03247a3bf2d13348fe959fe6f436c1caf64c...</td>\n",
       "      <td>1008.0</td>\n",
       "      <td>0.12789</td>\n",
       "      <td>2017</td>\n",
       "      <td>3</td>\n",
       "      <td>13</td>\n",
       "      <td>28</td>\n",
       "      <td>1</td>\n",
       "      <td>87</td>\n",
       "      <td>False</td>\n",
       "      <td>False</td>\n",
       "      <td>False</td>\n",
       "      <td>False</td>\n",
       "      <td>False</td>\n",
       "      <td>False</td>\n",
       "      <td>1490659200</td>\n",
       "    </tr>\n",
       "    <tr>\n",
       "      <th>1</th>\n",
       "      <td>2dac0150717d</td>\n",
       "      <td>39aeb48f0017</td>\n",
       "      <td>Самарская область</td>\n",
       "      <td>Самара</td>\n",
       "      <td>Для дома и дачи</td>\n",
       "      <td>Мебель и интерьер</td>\n",
       "      <td>Другое</td>\n",
       "      <td>Empty Empty</td>\n",
       "      <td>Empty Empty</td>\n",
       "      <td>Стойка для Одежды</td>\n",
       "      <td>Стойка для одежды, под вешалки. С бутика.</td>\n",
       "      <td>3000.0</td>\n",
       "      <td>19</td>\n",
       "      <td>Private</td>\n",
       "      <td>79c9392cc51a9c81c6eb91eceb8e552171db39d7142700...</td>\n",
       "      <td>692.0</td>\n",
       "      <td>0.00000</td>\n",
       "      <td>2017</td>\n",
       "      <td>3</td>\n",
       "      <td>12</td>\n",
       "      <td>26</td>\n",
       "      <td>6</td>\n",
       "      <td>85</td>\n",
       "      <td>False</td>\n",
       "      <td>False</td>\n",
       "      <td>False</td>\n",
       "      <td>False</td>\n",
       "      <td>False</td>\n",
       "      <td>False</td>\n",
       "      <td>1490486400</td>\n",
       "    </tr>\n",
       "    <tr>\n",
       "      <th>2</th>\n",
       "      <td>ba83aefab5dc</td>\n",
       "      <td>91e2f88dd6e3</td>\n",
       "      <td>Ростовская область</td>\n",
       "      <td>Ростов-на-Дону</td>\n",
       "      <td>Бытовая электроника</td>\n",
       "      <td>Аудио и видео</td>\n",
       "      <td>Видео, DVD и Blu-ray плееры</td>\n",
       "      <td>Empty Empty</td>\n",
       "      <td>Empty Empty</td>\n",
       "      <td>Philips bluray</td>\n",
       "      <td>В хорошем состоянии, домашний кинотеатр с blu ...</td>\n",
       "      <td>4000.0</td>\n",
       "      <td>9</td>\n",
       "      <td>Private</td>\n",
       "      <td>b7f250ee3f39e1fedd77c141f273703f4a9be59db4b48a...</td>\n",
       "      <td>3032.0</td>\n",
       "      <td>0.43177</td>\n",
       "      <td>2017</td>\n",
       "      <td>3</td>\n",
       "      <td>12</td>\n",
       "      <td>20</td>\n",
       "      <td>0</td>\n",
       "      <td>79</td>\n",
       "      <td>False</td>\n",
       "      <td>False</td>\n",
       "      <td>False</td>\n",
       "      <td>False</td>\n",
       "      <td>False</td>\n",
       "      <td>False</td>\n",
       "      <td>1489968000</td>\n",
       "    </tr>\n",
       "    <tr>\n",
       "      <th>3</th>\n",
       "      <td>02996f1dd2ea</td>\n",
       "      <td>bf5cccea572d</td>\n",
       "      <td>Татарстан</td>\n",
       "      <td>Набережные Челны</td>\n",
       "      <td>Личные вещи</td>\n",
       "      <td>Товары для детей и игрушки</td>\n",
       "      <td>Автомобильные кресла</td>\n",
       "      <td>Empty Empty</td>\n",
       "      <td>Empty Empty</td>\n",
       "      <td>Автокресло</td>\n",
       "      <td>Продам кресло от0-25кг</td>\n",
       "      <td>2200.0</td>\n",
       "      <td>286</td>\n",
       "      <td>Company</td>\n",
       "      <td>e6ef97e0725637ea84e3d203e82dadb43ed3cc0a1c8413...</td>\n",
       "      <td>796.0</td>\n",
       "      <td>0.80323</td>\n",
       "      <td>2017</td>\n",
       "      <td>3</td>\n",
       "      <td>12</td>\n",
       "      <td>25</td>\n",
       "      <td>5</td>\n",
       "      <td>84</td>\n",
       "      <td>False</td>\n",
       "      <td>False</td>\n",
       "      <td>False</td>\n",
       "      <td>False</td>\n",
       "      <td>False</td>\n",
       "      <td>False</td>\n",
       "      <td>1490400000</td>\n",
       "    </tr>\n",
       "    <tr>\n",
       "      <th>4</th>\n",
       "      <td>7c90be56d2ab</td>\n",
       "      <td>ef50846afc0b</td>\n",
       "      <td>Волгоградская область</td>\n",
       "      <td>Волгоград</td>\n",
       "      <td>Транспорт</td>\n",
       "      <td>Автомобили</td>\n",
       "      <td>С пробегом</td>\n",
       "      <td>ВАЗ (LADA)</td>\n",
       "      <td>2110</td>\n",
       "      <td>ВАЗ 2110, 2003</td>\n",
       "      <td>Все вопросы по телефону.</td>\n",
       "      <td>40000.0</td>\n",
       "      <td>3</td>\n",
       "      <td>Private</td>\n",
       "      <td>54a687a3a0fc1d68aed99bdaaf551c5c70b761b16fd0a2...</td>\n",
       "      <td>2264.0</td>\n",
       "      <td>0.20797</td>\n",
       "      <td>2017</td>\n",
       "      <td>3</td>\n",
       "      <td>11</td>\n",
       "      <td>16</td>\n",
       "      <td>3</td>\n",
       "      <td>75</td>\n",
       "      <td>False</td>\n",
       "      <td>False</td>\n",
       "      <td>False</td>\n",
       "      <td>False</td>\n",
       "      <td>False</td>\n",
       "      <td>False</td>\n",
       "      <td>1489622400</td>\n",
       "    </tr>\n",
       "  </tbody>\n",
       "</table>\n",
       "</div>"
      ],
      "text/plain": [
       "        item_id       user_id                 region              city  \\\n",
       "0  b912c3c6a6ad  e00f8ff2eaf9   Свердловская область      Екатеринбург   \n",
       "1  2dac0150717d  39aeb48f0017      Самарская область            Самара   \n",
       "2  ba83aefab5dc  91e2f88dd6e3     Ростовская область    Ростов-на-Дону   \n",
       "3  02996f1dd2ea  bf5cccea572d              Татарстан  Набережные Челны   \n",
       "4  7c90be56d2ab  ef50846afc0b  Волгоградская область         Волгоград   \n",
       "\n",
       "  parent_category_name               category_name  \\\n",
       "0          Личные вещи  Товары для детей и игрушки   \n",
       "1      Для дома и дачи           Мебель и интерьер   \n",
       "2  Бытовая электроника               Аудио и видео   \n",
       "3          Личные вещи  Товары для детей и игрушки   \n",
       "4            Транспорт                  Автомобили   \n",
       "\n",
       "                       param_1      param_2      param_3  \\\n",
       "0    Постельные принадлежности  Empty Empty  Empty Empty   \n",
       "1                       Другое  Empty Empty  Empty Empty   \n",
       "2  Видео, DVD и Blu-ray плееры  Empty Empty  Empty Empty   \n",
       "3         Автомобильные кресла  Empty Empty  Empty Empty   \n",
       "4                   С пробегом   ВАЗ (LADA)         2110   \n",
       "\n",
       "                   title                                        description  \\\n",
       "0  Кокоби(кокон для сна)  Кокон для сна малыша,пользовались меньше месяц...   \n",
       "1      Стойка для Одежды          Стойка для одежды, под вешалки. С бутика.   \n",
       "2         Philips bluray  В хорошем состоянии, домашний кинотеатр с blu ...   \n",
       "3             Автокресло                             Продам кресло от0-25кг   \n",
       "4         ВАЗ 2110, 2003                           Все вопросы по телефону.   \n",
       "\n",
       "     price  item_seq_number user_type  \\\n",
       "0    400.0                2   Private   \n",
       "1   3000.0               19   Private   \n",
       "2   4000.0                9   Private   \n",
       "3   2200.0              286   Company   \n",
       "4  40000.0                3   Private   \n",
       "\n",
       "                                               image  image_top_1  \\\n",
       "0  d10c7e016e03247a3bf2d13348fe959fe6f436c1caf64c...       1008.0   \n",
       "1  79c9392cc51a9c81c6eb91eceb8e552171db39d7142700...        692.0   \n",
       "2  b7f250ee3f39e1fedd77c141f273703f4a9be59db4b48a...       3032.0   \n",
       "3  e6ef97e0725637ea84e3d203e82dadb43ed3cc0a1c8413...        796.0   \n",
       "4  54a687a3a0fc1d68aed99bdaaf551c5c70b761b16fd0a2...       2264.0   \n",
       "\n",
       "   deal_probability  activation_Year  activation_Month  activation_Week  \\\n",
       "0           0.12789             2017                 3               13   \n",
       "1           0.00000             2017                 3               12   \n",
       "2           0.43177             2017                 3               12   \n",
       "3           0.80323             2017                 3               12   \n",
       "4           0.20797             2017                 3               11   \n",
       "\n",
       "   activation_Day  activation_Dayofweek  activation_Dayofyear  \\\n",
       "0              28                     1                    87   \n",
       "1              26                     6                    85   \n",
       "2              20                     0                    79   \n",
       "3              25                     5                    84   \n",
       "4              16                     3                    75   \n",
       "\n",
       "   activation_Is_month_end  activation_Is_month_start  \\\n",
       "0                    False                      False   \n",
       "1                    False                      False   \n",
       "2                    False                      False   \n",
       "3                    False                      False   \n",
       "4                    False                      False   \n",
       "\n",
       "   activation_Is_quarter_end  activation_Is_quarter_start  \\\n",
       "0                      False                        False   \n",
       "1                      False                        False   \n",
       "2                      False                        False   \n",
       "3                      False                        False   \n",
       "4                      False                        False   \n",
       "\n",
       "   activation_Is_year_end  activation_Is_year_start  activation_Elapsed  \n",
       "0                   False                     False          1490659200  \n",
       "1                   False                     False          1490486400  \n",
       "2                   False                     False          1489968000  \n",
       "3                   False                     False          1490400000  \n",
       "4                   False                     False          1489622400  "
      ]
     },
     "execution_count": 191,
     "metadata": {},
     "output_type": "execute_result"
    }
   ],
   "source": [
    "train_df.head()"
   ]
  },
  {
   "cell_type": "code",
   "execution_count": 192,
   "metadata": {
    "ExecuteTime": {
     "end_time": "2018-06-24T04:57:26.786360Z",
     "start_time": "2018-06-24T04:57:26.764831Z"
    }
   },
   "outputs": [
    {
     "name": "stdout",
     "output_type": "stream",
     "text": [
      "29\n"
     ]
    }
   ],
   "source": [
    "cat_vars = ['region', 'city', 'parent_category_name', 'category_name', 'param_1', 'param_2', 'param_3', 'user_type', 'activation_Week', 'activation_Day', 'activation_Dayofweek']\n",
    "cols_to_drop = [\"item_id\", \"user_id\", \"title\", \"description\", \"image\", 'activation_Year', 'activation_Month', 'activation_Is_year_end', 'activation_Is_year_start', 'activation_Elapsed', 'activation_Is_month_end', 'activation_Is_month_start','activation_Is_quarter_end', 'activation_Is_quarter_start', 'activation_Dayofyear']\n",
    "contin_vars = ['price', 'image_top_1', 'item_seq_number']\n",
    "#deal_probability\n",
    "print(len(cat_vars)+len(cols_to_drop)+len(contin_vars))"
   ]
  },
  {
   "cell_type": "code",
   "execution_count": 170,
   "metadata": {
    "ExecuteTime": {
     "end_time": "2018-06-24T04:49:35.805189Z",
     "start_time": "2018-06-24T04:49:35.752622Z"
    }
   },
   "outputs": [
    {
     "name": "stdout",
     "output_type": "stream",
     "text": [
      "[1008.  692. 3032.  796. 2264. 2823.  567.  415.   46. 1396.  119. 1040. 2849. 2133.  408. 1118.  983.   95.\n",
      "   nan 2011. ... 2689.  616.  903. 1624. 2225. 1871. 2685. 2664.  619. 2659.  258.  320. 2684. 2682. 1748.\n",
      "  380. 2250. 2030. 2087. 2680.] \n",
      "\n",
      " 3063 \n",
      "\n",
      " float64\n"
     ]
    }
   ],
   "source": [
    "print(train_df['image_top_1'].unique(),'\\n\\n', len(train_df['image_top_1'].unique()), '\\n\\n', train_df['image_top_1'].dtype)"
   ]
  },
  {
   "cell_type": "code",
   "execution_count": 171,
   "metadata": {
    "ExecuteTime": {
     "end_time": "2018-06-24T04:49:35.832099Z",
     "start_time": "2018-06-24T04:49:35.807067Z"
    }
   },
   "outputs": [],
   "source": [
    "train_df['image_top_1'].fillna(-1, inplace=True)\n",
    "test_df['image_top_1'].fillna(-1, inplace=True)"
   ]
  },
  {
   "cell_type": "code",
   "execution_count": 172,
   "metadata": {
    "ExecuteTime": {
     "end_time": "2018-06-24T04:49:35.927358Z",
     "start_time": "2018-06-24T04:49:35.834008Z"
    }
   },
   "outputs": [],
   "source": [
    "train_df['param_1'].fillna('Empty Empty', inplace=True)\n",
    "test_df['param_1'].fillna('Empty Empty', inplace=True)"
   ]
  },
  {
   "cell_type": "code",
   "execution_count": 173,
   "metadata": {
    "ExecuteTime": {
     "end_time": "2018-06-24T04:49:36.036870Z",
     "start_time": "2018-06-24T04:49:35.929160Z"
    }
   },
   "outputs": [],
   "source": [
    "train_df['param_2'].fillna('Empty Empty', inplace=True)\n",
    "test_df['param_2'].fillna('Empty Empty', inplace=True)"
   ]
  },
  {
   "cell_type": "code",
   "execution_count": 174,
   "metadata": {
    "ExecuteTime": {
     "end_time": "2018-06-24T04:49:36.154924Z",
     "start_time": "2018-06-24T04:49:36.038865Z"
    }
   },
   "outputs": [],
   "source": [
    "train_df['param_3'].fillna('Empty Empty', inplace=True)\n",
    "test_df['param_3'].fillna('Empty Empty', inplace=True)"
   ]
  },
  {
   "cell_type": "code",
   "execution_count": 175,
   "metadata": {
    "ExecuteTime": {
     "end_time": "2018-06-24T04:49:36.182732Z",
     "start_time": "2018-06-24T04:49:36.156793Z"
    }
   },
   "outputs": [],
   "source": [
    "train_df['price'].fillna(-1.0, inplace=True)\n",
    "test_df['price'].fillna(-1.0, inplace=True)"
   ]
  },
  {
   "cell_type": "code",
   "execution_count": 193,
   "metadata": {
    "ExecuteTime": {
     "end_time": "2018-06-24T04:57:48.872225Z",
     "start_time": "2018-06-24T04:57:48.664844Z"
    }
   },
   "outputs": [],
   "source": [
    "#to_cat = ['region', 'city', 'parent_category_name', 'category_name', 'param_1', 'param_2', 'param_3', 'user_type']\n",
    "for col in cat_vars:\n",
    "    train_df[col] = train_df[col].astype('category')\n",
    "    test_df[col] = test_df[col].astype('category')"
   ]
  },
  {
   "cell_type": "code",
   "execution_count": 177,
   "metadata": {
    "ExecuteTime": {
     "end_time": "2018-06-24T04:49:40.836032Z",
     "start_time": "2018-06-24T04:49:39.608268Z"
    }
   },
   "outputs": [
    {
     "data": {
      "text/plain": [
       "item_id                             0\n",
       "user_id                             0\n",
       "region                              0\n",
       "city                                0\n",
       "parent_category_name                0\n",
       "category_name                       0\n",
       "param_1                             0\n",
       "param_2                             0\n",
       "param_3                             0\n",
       "title                               0\n",
       "description                    116276\n",
       "price                               0\n",
       "item_seq_number                     0\n",
       "user_type                           0\n",
       "image                          112588\n",
       "image_top_1                         0\n",
       "deal_probability                    0\n",
       "activation_Year                     0\n",
       "activation_Month                    0\n",
       "activation_Week                     0\n",
       "activation_Day                      0\n",
       "activation_Dayofweek                0\n",
       "activation_Dayofyear                0\n",
       "activation_Is_month_end             0\n",
       "activation_Is_month_start           0\n",
       "activation_Is_quarter_end           0\n",
       "activation_Is_quarter_start         0\n",
       "activation_Is_year_end              0\n",
       "activation_Is_year_start            0\n",
       "activation_Elapsed                  0\n",
       "dtype: int64"
      ]
     },
     "execution_count": 177,
     "metadata": {},
     "output_type": "execute_result"
    }
   ],
   "source": [
    "train_df.isna().sum()"
   ]
  },
  {
   "cell_type": "code",
   "execution_count": 178,
   "metadata": {
    "ExecuteTime": {
     "end_time": "2018-06-24T04:49:41.266409Z",
     "start_time": "2018-06-24T04:49:40.837893Z"
    }
   },
   "outputs": [
    {
     "data": {
      "text/plain": [
       "item_id                            0\n",
       "user_id                            0\n",
       "region                             0\n",
       "city                               0\n",
       "parent_category_name               0\n",
       "category_name                      0\n",
       "param_1                            0\n",
       "param_2                            0\n",
       "param_3                            0\n",
       "title                              0\n",
       "description                        0\n",
       "price                              0\n",
       "item_seq_number                    0\n",
       "user_type                          0\n",
       "image                          42609\n",
       "image_top_1                        0\n",
       "activation_Year                    0\n",
       "activation_Month                   0\n",
       "activation_Week                    0\n",
       "activation_Day                     0\n",
       "activation_Dayofweek               0\n",
       "activation_Dayofyear               0\n",
       "activation_Is_month_end            0\n",
       "activation_Is_month_start          0\n",
       "activation_Is_quarter_end          0\n",
       "activation_Is_quarter_start        0\n",
       "activation_Is_year_end             0\n",
       "activation_Is_year_start           0\n",
       "activation_Elapsed                 0\n",
       "dtype: int64"
      ]
     },
     "execution_count": 178,
     "metadata": {},
     "output_type": "execute_result"
    }
   ],
   "source": [
    "test_df.isna().sum()"
   ]
  },
  {
   "cell_type": "code",
   "execution_count": 180,
   "metadata": {
    "ExecuteTime": {
     "end_time": "2018-06-24T04:49:48.101196Z",
     "start_time": "2018-06-24T04:49:48.035214Z"
    }
   },
   "outputs": [],
   "source": [
    "val_idx = get_cv_idxs(len(train_df))"
   ]
  },
  {
   "cell_type": "code",
   "execution_count": 181,
   "metadata": {
    "ExecuteTime": {
     "end_time": "2018-06-24T04:49:48.783200Z",
     "start_time": "2018-06-24T04:49:48.728142Z"
    }
   },
   "outputs": [],
   "source": [
    "train_y = train_df[\"deal_probability\"].values\n",
    "test_id = test_df[\"item_id\"].values"
   ]
  },
  {
   "cell_type": "code",
   "execution_count": 194,
   "metadata": {
    "ExecuteTime": {
     "end_time": "2018-06-24T04:57:59.226339Z",
     "start_time": "2018-06-24T04:57:59.187646Z"
    }
   },
   "outputs": [],
   "source": [
    "train_X = train_df.drop(cols_to_drop, axis=1)"
   ]
  },
  {
   "cell_type": "code",
   "execution_count": 195,
   "metadata": {
    "ExecuteTime": {
     "end_time": "2018-06-24T04:57:59.874095Z",
     "start_time": "2018-06-24T04:57:59.847695Z"
    }
   },
   "outputs": [],
   "source": [
    "test_X = test_df.drop(cols_to_drop, axis=1)"
   ]
  },
  {
   "cell_type": "code",
   "execution_count": 196,
   "metadata": {
    "ExecuteTime": {
     "end_time": "2018-06-24T04:58:03.283033Z",
     "start_time": "2018-06-24T04:58:02.914286Z"
    }
   },
   "outputs": [
    {
     "data": {
      "text/plain": [
       "region                  0\n",
       "city                    0\n",
       "parent_category_name    0\n",
       "category_name           0\n",
       "param_1                 0\n",
       "param_2                 0\n",
       "param_3                 0\n",
       "price                   0\n",
       "item_seq_number         0\n",
       "user_type               0\n",
       "image_top_1             0\n",
       "deal_probability        0\n",
       "activation_Week         0\n",
       "activation_Day          0\n",
       "activation_Dayofweek    0\n",
       "dtype: int64"
      ]
     },
     "execution_count": 196,
     "metadata": {},
     "output_type": "execute_result"
    }
   ],
   "source": [
    "train_X.isna().sum()"
   ]
  },
  {
   "cell_type": "code",
   "execution_count": 197,
   "metadata": {
    "ExecuteTime": {
     "end_time": "2018-06-24T04:58:06.368544Z",
     "start_time": "2018-06-24T04:58:05.283402Z"
    }
   },
   "outputs": [],
   "source": [
    "df, y, nas, mapper = proc_df(train_X, 'deal_probability', do_scale=True)"
   ]
  },
  {
   "cell_type": "code",
   "execution_count": 198,
   "metadata": {
    "ExecuteTime": {
     "end_time": "2018-06-24T04:58:06.403652Z",
     "start_time": "2018-06-24T04:58:06.372715Z"
    }
   },
   "outputs": [
    {
     "data": {
      "text/html": [
       "<div>\n",
       "<style scoped>\n",
       "    .dataframe tbody tr th:only-of-type {\n",
       "        vertical-align: middle;\n",
       "    }\n",
       "\n",
       "    .dataframe tbody tr th {\n",
       "        vertical-align: top;\n",
       "    }\n",
       "\n",
       "    .dataframe thead th {\n",
       "        text-align: right;\n",
       "    }\n",
       "</style>\n",
       "<table border=\"1\" class=\"dataframe\">\n",
       "  <thead>\n",
       "    <tr style=\"text-align: right;\">\n",
       "      <th></th>\n",
       "      <th>region</th>\n",
       "      <th>city</th>\n",
       "      <th>parent_category_name</th>\n",
       "      <th>category_name</th>\n",
       "      <th>param_1</th>\n",
       "      <th>param_2</th>\n",
       "      <th>param_3</th>\n",
       "      <th>price</th>\n",
       "      <th>item_seq_number</th>\n",
       "      <th>user_type</th>\n",
       "      <th>image_top_1</th>\n",
       "      <th>activation_Week</th>\n",
       "      <th>activation_Day</th>\n",
       "      <th>activation_Dayofweek</th>\n",
       "    </tr>\n",
       "  </thead>\n",
       "  <tbody>\n",
       "    <tr>\n",
       "      <th>0</th>\n",
       "      <td>20</td>\n",
       "      <td>461</td>\n",
       "      <td>5</td>\n",
       "      <td>43</td>\n",
       "      <td>250</td>\n",
       "      <td>39</td>\n",
       "      <td>476</td>\n",
       "      <td>-0.004592</td>\n",
       "      <td>-0.133095</td>\n",
       "      <td>2</td>\n",
       "      <td>-0.142405</td>\n",
       "      <td>3</td>\n",
       "      <td>18</td>\n",
       "      <td>2</td>\n",
       "    </tr>\n",
       "    <tr>\n",
       "      <th>1</th>\n",
       "      <td>18</td>\n",
       "      <td>1301</td>\n",
       "      <td>3</td>\n",
       "      <td>23</td>\n",
       "      <td>123</td>\n",
       "      <td>39</td>\n",
       "      <td>476</td>\n",
       "      <td>-0.004552</td>\n",
       "      <td>-0.130044</td>\n",
       "      <td>2</td>\n",
       "      <td>-0.461891</td>\n",
       "      <td>2</td>\n",
       "      <td>16</td>\n",
       "      <td>7</td>\n",
       "    </tr>\n",
       "    <tr>\n",
       "      <th>2</th>\n",
       "      <td>17</td>\n",
       "      <td>1277</td>\n",
       "      <td>1</td>\n",
       "      <td>3</td>\n",
       "      <td>85</td>\n",
       "      <td>39</td>\n",
       "      <td>476</td>\n",
       "      <td>-0.004537</td>\n",
       "      <td>-0.131839</td>\n",
       "      <td>2</td>\n",
       "      <td>1.903920</td>\n",
       "      <td>2</td>\n",
       "      <td>10</td>\n",
       "      <td>1</td>\n",
       "    </tr>\n",
       "    <tr>\n",
       "      <th>3</th>\n",
       "      <td>22</td>\n",
       "      <td>941</td>\n",
       "      <td>5</td>\n",
       "      <td>43</td>\n",
       "      <td>39</td>\n",
       "      <td>39</td>\n",
       "      <td>476</td>\n",
       "      <td>-0.004564</td>\n",
       "      <td>-0.082131</td>\n",
       "      <td>1</td>\n",
       "      <td>-0.356744</td>\n",
       "      <td>2</td>\n",
       "      <td>15</td>\n",
       "      <td>6</td>\n",
       "    </tr>\n",
       "    <tr>\n",
       "      <th>4</th>\n",
       "      <td>5</td>\n",
       "      <td>318</td>\n",
       "      <td>7</td>\n",
       "      <td>1</td>\n",
       "      <td>279</td>\n",
       "      <td>120</td>\n",
       "      <td>45</td>\n",
       "      <td>-0.003983</td>\n",
       "      <td>-0.132915</td>\n",
       "      <td>2</td>\n",
       "      <td>1.127449</td>\n",
       "      <td>1</td>\n",
       "      <td>6</td>\n",
       "      <td>4</td>\n",
       "    </tr>\n",
       "  </tbody>\n",
       "</table>\n",
       "</div>"
      ],
      "text/plain": [
       "   region  city  parent_category_name  category_name  param_1  param_2  \\\n",
       "0      20   461                     5             43      250       39   \n",
       "1      18  1301                     3             23      123       39   \n",
       "2      17  1277                     1              3       85       39   \n",
       "3      22   941                     5             43       39       39   \n",
       "4       5   318                     7              1      279      120   \n",
       "\n",
       "   param_3     price  item_seq_number  user_type  image_top_1  \\\n",
       "0      476 -0.004592        -0.133095          2    -0.142405   \n",
       "1      476 -0.004552        -0.130044          2    -0.461891   \n",
       "2      476 -0.004537        -0.131839          2     1.903920   \n",
       "3      476 -0.004564        -0.082131          1    -0.356744   \n",
       "4       45 -0.003983        -0.132915          2     1.127449   \n",
       "\n",
       "   activation_Week  activation_Day  activation_Dayofweek  \n",
       "0                3              18                     2  \n",
       "1                2              16                     7  \n",
       "2                2              10                     1  \n",
       "3                2              15                     6  \n",
       "4                1               6                     4  "
      ]
     },
     "execution_count": 198,
     "metadata": {},
     "output_type": "execute_result"
    }
   ],
   "source": [
    "df.head()"
   ]
  },
  {
   "cell_type": "code",
   "execution_count": 199,
   "metadata": {
    "ExecuteTime": {
     "end_time": "2018-06-24T04:58:07.192779Z",
     "start_time": "2018-06-24T04:58:07.171693Z"
    }
   },
   "outputs": [
    {
     "name": "stdout",
     "output_type": "stream",
     "text": [
      "Categorical Variables:\t\t ['region', 'city', 'parent_category_name', 'category_name', 'param_1', 'param_2', 'param_3', 'user_type', 'activation_Week', 'activation_Day', 'activation_Dayofweek'] \n",
      "\n",
      "Continuous Variables:\t\t ['price', 'image_top_1', 'item_seq_number'] \n",
      "\n",
      "Total Length:\t\t 14\n"
     ]
    }
   ],
   "source": [
    "print ('Categorical Variables:\\t\\t',cat_vars,'\\n\\nContinuous Variables:\\t\\t',contin_vars,'\\n\\nTotal Length:\\t\\t',len(cat_vars)+len(contin_vars))"
   ]
  },
  {
   "cell_type": "code",
   "execution_count": 200,
   "metadata": {
    "ExecuteTime": {
     "end_time": "2018-06-24T04:58:11.024395Z",
     "start_time": "2018-06-24T04:58:10.894802Z"
    }
   },
   "outputs": [
    {
     "name": "stdout",
     "output_type": "stream",
     "text": [
      "<class 'pandas.core.frame.DataFrame'>\n",
      "RangeIndex: 508438 entries, 0 to 508437\n",
      "Data columns (total 14 columns):\n",
      "region                  508438 non-null category\n",
      "city                    508438 non-null category\n",
      "parent_category_name    508438 non-null category\n",
      "category_name           508438 non-null category\n",
      "param_1                 508438 non-null category\n",
      "param_2                 508438 non-null category\n",
      "param_3                 508438 non-null category\n",
      "price                   508438 non-null float64\n",
      "item_seq_number         508438 non-null int64\n",
      "user_type               508438 non-null category\n",
      "image_top_1             508438 non-null float64\n",
      "activation_Week         508438 non-null category\n",
      "activation_Day          508438 non-null category\n",
      "activation_Dayofweek    508438 non-null category\n",
      "dtypes: category(11), float64(2), int64(1)\n",
      "memory usage: 19.1 MB\n"
     ]
    }
   ],
   "source": [
    "test_X.info()"
   ]
  },
  {
   "cell_type": "code",
   "execution_count": 201,
   "metadata": {
    "ExecuteTime": {
     "end_time": "2018-06-24T04:58:48.271652Z",
     "start_time": "2018-06-24T04:58:47.908200Z"
    }
   },
   "outputs": [],
   "source": [
    "df_test, _, nas, mapper = proc_df(test_X, do_scale=True, mapper=mapper, na_dict=nas)"
   ]
  },
  {
   "cell_type": "code",
   "execution_count": 202,
   "metadata": {
    "ExecuteTime": {
     "end_time": "2018-06-24T04:58:48.305141Z",
     "start_time": "2018-06-24T04:58:48.273653Z"
    }
   },
   "outputs": [
    {
     "data": {
      "text/html": [
       "<div>\n",
       "<style scoped>\n",
       "    .dataframe tbody tr th:only-of-type {\n",
       "        vertical-align: middle;\n",
       "    }\n",
       "\n",
       "    .dataframe tbody tr th {\n",
       "        vertical-align: top;\n",
       "    }\n",
       "\n",
       "    .dataframe thead th {\n",
       "        text-align: right;\n",
       "    }\n",
       "</style>\n",
       "<table border=\"1\" class=\"dataframe\">\n",
       "  <thead>\n",
       "    <tr style=\"text-align: right;\">\n",
       "      <th></th>\n",
       "      <th>region</th>\n",
       "      <th>city</th>\n",
       "      <th>parent_category_name</th>\n",
       "      <th>category_name</th>\n",
       "      <th>param_1</th>\n",
       "      <th>param_2</th>\n",
       "      <th>param_3</th>\n",
       "      <th>price</th>\n",
       "      <th>item_seq_number</th>\n",
       "      <th>user_type</th>\n",
       "      <th>image_top_1</th>\n",
       "      <th>activation_Week</th>\n",
       "      <th>activation_Day</th>\n",
       "      <th>activation_Dayofweek</th>\n",
       "    </tr>\n",
       "  </thead>\n",
       "  <tbody>\n",
       "    <tr>\n",
       "      <th>0</th>\n",
       "      <td>5</td>\n",
       "      <td>307</td>\n",
       "      <td>5</td>\n",
       "      <td>11</td>\n",
       "      <td>109</td>\n",
       "      <td>178</td>\n",
       "      <td>63</td>\n",
       "      <td>-0.004598</td>\n",
       "      <td>-0.121610</td>\n",
       "      <td>2</td>\n",
       "      <td>0.880757</td>\n",
       "      <td>2</td>\n",
       "      <td>7</td>\n",
       "      <td>2</td>\n",
       "    </tr>\n",
       "    <tr>\n",
       "      <th>1</th>\n",
       "      <td>20</td>\n",
       "      <td>934</td>\n",
       "      <td>9</td>\n",
       "      <td>6</td>\n",
       "      <td>118</td>\n",
       "      <td>33</td>\n",
       "      <td>394</td>\n",
       "      <td>-0.004552</td>\n",
       "      <td>-0.132736</td>\n",
       "      <td>2</td>\n",
       "      <td>-1.162535</td>\n",
       "      <td>1</td>\n",
       "      <td>5</td>\n",
       "      <td>7</td>\n",
       "    </tr>\n",
       "    <tr>\n",
       "      <th>2</th>\n",
       "      <td>13</td>\n",
       "      <td>148</td>\n",
       "      <td>1</td>\n",
       "      <td>3</td>\n",
       "      <td>311</td>\n",
       "      <td>33</td>\n",
       "      <td>394</td>\n",
       "      <td>-0.004367</td>\n",
       "      <td>-0.130762</td>\n",
       "      <td>2</td>\n",
       "      <td>1.831126</td>\n",
       "      <td>2</td>\n",
       "      <td>6</td>\n",
       "      <td>1</td>\n",
       "    </tr>\n",
       "    <tr>\n",
       "      <th>3</th>\n",
       "      <td>19</td>\n",
       "      <td>1239</td>\n",
       "      <td>3</td>\n",
       "      <td>5</td>\n",
       "      <td>107</td>\n",
       "      <td>112</td>\n",
       "      <td>394</td>\n",
       "      <td>-0.004529</td>\n",
       "      <td>-0.120892</td>\n",
       "      <td>2</td>\n",
       "      <td>-1.162535</td>\n",
       "      <td>2</td>\n",
       "      <td>6</td>\n",
       "      <td>1</td>\n",
       "    </tr>\n",
       "    <tr>\n",
       "      <th>4</th>\n",
       "      <td>15</td>\n",
       "      <td>237</td>\n",
       "      <td>5</td>\n",
       "      <td>43</td>\n",
       "      <td>101</td>\n",
       "      <td>33</td>\n",
       "      <td>394</td>\n",
       "      <td>-0.004523</td>\n",
       "      <td>-0.130762</td>\n",
       "      <td>2</td>\n",
       "      <td>-0.148472</td>\n",
       "      <td>1</td>\n",
       "      <td>4</td>\n",
       "      <td>6</td>\n",
       "    </tr>\n",
       "  </tbody>\n",
       "</table>\n",
       "</div>"
      ],
      "text/plain": [
       "   region  city  parent_category_name  category_name  param_1  param_2  \\\n",
       "0       5   307                     5             11      109      178   \n",
       "1      20   934                     9              6      118       33   \n",
       "2      13   148                     1              3      311       33   \n",
       "3      19  1239                     3              5      107      112   \n",
       "4      15   237                     5             43      101       33   \n",
       "\n",
       "   param_3     price  item_seq_number  user_type  image_top_1  \\\n",
       "0       63 -0.004598        -0.121610          2     0.880757   \n",
       "1      394 -0.004552        -0.132736          2    -1.162535   \n",
       "2      394 -0.004367        -0.130762          2     1.831126   \n",
       "3      394 -0.004529        -0.120892          2    -1.162535   \n",
       "4      394 -0.004523        -0.130762          2    -0.148472   \n",
       "\n",
       "   activation_Week  activation_Day  activation_Dayofweek  \n",
       "0                2               7                     2  \n",
       "1                1               5                     7  \n",
       "2                2               6                     1  \n",
       "3                2               6                     1  \n",
       "4                1               4                     6  "
      ]
     },
     "execution_count": 202,
     "metadata": {},
     "output_type": "execute_result"
    }
   ],
   "source": [
    "df_test.head()"
   ]
  },
  {
   "cell_type": "code",
   "execution_count": 203,
   "metadata": {
    "ExecuteTime": {
     "end_time": "2018-06-24T04:58:57.648404Z",
     "start_time": "2018-06-24T04:58:57.326499Z"
    }
   },
   "outputs": [],
   "source": [
    "md = ColumnarModelData.from_data_frame(PATH, val_idx, df, y, cat_flds=cat_vars, bs=128, test_df=df_test)"
   ]
  },
  {
   "cell_type": "code",
   "execution_count": 206,
   "metadata": {
    "ExecuteTime": {
     "end_time": "2018-06-24T04:59:35.917944Z",
     "start_time": "2018-06-24T04:59:35.894918Z"
    }
   },
   "outputs": [
    {
     "data": {
      "text/plain": [
       "[('region', 29),\n",
       " ('city', 1734),\n",
       " ('parent_category_name', 10),\n",
       " ('category_name', 48),\n",
       " ('param_1', 373),\n",
       " ('param_2', 273),\n",
       " ('param_3', 1221),\n",
       " ('user_type', 4),\n",
       " ('activation_Week', 5),\n",
       " ('activation_Day', 22),\n",
       " ('activation_Dayofweek', 8)]"
      ]
     },
     "execution_count": 206,
     "metadata": {},
     "output_type": "execute_result"
    }
   ],
   "source": [
    "cat_sz = [(c, len(train_X[c].cat.categories)+1) for c in cat_vars]\n",
    "cat_sz"
   ]
  },
  {
   "cell_type": "code",
   "execution_count": 207,
   "metadata": {
    "ExecuteTime": {
     "end_time": "2018-06-24T05:00:11.411008Z",
     "start_time": "2018-06-24T05:00:11.389927Z"
    }
   },
   "outputs": [
    {
     "data": {
      "text/plain": [
       "[(29, 15),\n",
       " (1734, 50),\n",
       " (10, 5),\n",
       " (48, 24),\n",
       " (373, 50),\n",
       " (273, 50),\n",
       " (1221, 50),\n",
       " (4, 2),\n",
       " (5, 3),\n",
       " (22, 11),\n",
       " (8, 4)]"
      ]
     },
     "execution_count": 207,
     "metadata": {},
     "output_type": "execute_result"
    }
   ],
   "source": [
    "emb_szs = [(c, min(50, (c+1)//2)) for _,c in cat_sz]\n",
    "emb_szs"
   ]
  },
  {
   "cell_type": "code",
   "execution_count": 212,
   "metadata": {
    "ExecuteTime": {
     "end_time": "2018-06-24T05:04:24.531672Z",
     "start_time": "2018-06-24T05:04:24.494083Z"
    }
   },
   "outputs": [],
   "source": [
    "def inv_y(a): return np.exp(a)\n",
    "\n",
    "def exp_rmspe(y_pred, targ):\n",
    "    targ = inv_y(targ)\n",
    "    pct_var = (targ - inv_y(y_pred))/targ\n",
    "    return math.sqrt((pct_var**2).mean())\n",
    "\n",
    "#max_log_y = np.max(y)\n",
    "#y_range = (0, max_log_y*1.2)\n",
    "y_range = (0, 1)"
   ]
  },
  {
   "cell_type": "code",
   "execution_count": 213,
   "metadata": {
    "ExecuteTime": {
     "end_time": "2018-06-24T05:04:28.786354Z",
     "start_time": "2018-06-24T05:04:28.764572Z"
    }
   },
   "outputs": [
    {
     "data": {
      "text/plain": [
       "(0, 1)"
      ]
     },
     "execution_count": 213,
     "metadata": {},
     "output_type": "execute_result"
    }
   ],
   "source": [
    "y_range"
   ]
  },
  {
   "cell_type": "code",
   "execution_count": 214,
   "metadata": {
    "ExecuteTime": {
     "end_time": "2018-06-24T05:04:38.304247Z",
     "start_time": "2018-06-24T05:04:35.449633Z"
    }
   },
   "outputs": [],
   "source": [
    "m = md.get_learner(emb_szs, len(contin_vars), 0.04, 1, [1000,500], [0.001,0.01], y_range=y_range)"
   ]
  },
  {
   "cell_type": "code",
   "execution_count": 215,
   "metadata": {
    "ExecuteTime": {
     "end_time": "2018-06-24T05:06:04.555289Z",
     "start_time": "2018-06-24T05:04:48.880148Z"
    }
   },
   "outputs": [
    {
     "data": {
      "application/vnd.jupyter.widget-view+json": {
       "model_id": "3458a0c2d0e04aa594cf62522a211e49",
       "version_major": 2,
       "version_minor": 0
      },
      "text/plain": [
       "HBox(children=(IntProgress(value=0, description='Epoch', max=1), HTML(value='')))"
      ]
     },
     "metadata": {},
     "output_type": "display_data"
    },
    {
     "name": "stdout",
     "output_type": "stream",
     "text": [
      "epoch      trn_loss   val_loss                                   \n",
      "    0      0.090479   0.086802  \n",
      "\n"
     ]
    }
   ],
   "source": [
    "m.lr_find()"
   ]
  },
  {
   "cell_type": "code",
   "execution_count": 216,
   "metadata": {
    "ExecuteTime": {
     "end_time": "2018-06-24T05:06:05.410595Z",
     "start_time": "2018-06-24T05:06:04.556932Z"
    }
   },
   "outputs": [
    {
     "data": {
      "image/png": "[encoded data removed]",
      "text/plain": [
       "<Figure size 432x288 with 1 Axes>"
      ]
     },
     "metadata": {},
     "output_type": "display_data"
    }
   ],
   "source": [
    "m.sched.plot(100)"
   ]
  },
  {
   "cell_type": "code",
   "execution_count": 218,
   "metadata": {
    "ExecuteTime": {
     "end_time": "2018-06-24T05:07:34.854953Z",
     "start_time": "2018-06-24T05:07:34.831049Z"
    }
   },
   "outputs": [
    {
     "data": {
      "text/plain": [
       "5e-05"
      ]
     },
     "execution_count": 218,
     "metadata": {},
     "output_type": "execute_result"
    }
   ],
   "source": [
    "lr = 0.5*(1e-4)"
   ]
  },
  {
   "cell_type": "code",
   "execution_count": 219,
   "metadata": {
    "ExecuteTime": {
     "end_time": "2018-06-24T05:09:03.420368Z",
     "start_time": "2018-06-24T05:07:50.199857Z"
    }
   },
   "outputs": [
    {
     "data": {
      "application/vnd.jupyter.widget-view+json": {
       "model_id": "602c2305cb194df9a8f8dc769a064354",
       "version_major": 2,
       "version_minor": 0
      },
      "text/plain": [
       "HBox(children=(IntProgress(value=0, description='Epoch', max=1), HTML(value='')))"
      ]
     },
     "metadata": {},
     "output_type": "display_data"
    },
    {
     "name": "stdout",
     "output_type": "stream",
     "text": [
      "epoch      trn_loss   val_loss   exp_rmspe                       \n",
      "    0      0.056478   0.054541   0.206724  \n",
      "\n"
     ]
    },
    {
     "data": {
      "text/plain": [
       "[array([0.05454]), 0.20672420638092398]"
      ]
     },
     "execution_count": 219,
     "metadata": {},
     "output_type": "execute_result"
    }
   ],
   "source": [
    "m.fit(lr, 1, metrics=[exp_rmspe])"
   ]
  },
  {
   "cell_type": "code",
   "execution_count": null,
   "metadata": {},
   "outputs": [],
   "source": [
    "m.fit(lr, 1, metrics=[exp_rmspe])"
   ]
  }
 ],
 "metadata": {
  "kernelspec": {
   "display_name": "Python 3",
   "language": "python",
   "name": "python3"
  },
  "language_info": {
   "codemirror_mode": {
    "name": "ipython",
    "version": 3
   },
   "file_extension": ".py",
   "mimetype": "text/x-python",
   "name": "python",
   "nbconvert_exporter": "python",
   "pygments_lexer": "ipython3",
   "version": "3.6.5"
  }
 },
 "nbformat": 4,
 "nbformat_minor": 2
}
