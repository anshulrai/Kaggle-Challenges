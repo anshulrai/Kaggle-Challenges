{
  "cells": [
    {
      "metadata": {
        "_cell_guid": "b1076dfc-b9ad-4769-8c92-a6c4dae69d19",
        "_uuid": "8f2839f25d086af736a60e9eeb907d3b93b6e0e5",
        "trusted": true
      },
      "cell_type": "code",
      "source": "# This Python 3 environment comes with many helpful analytics libraries installed\n# It is defined by the kaggle/python docker image: https://github.com/kaggle/docker-python\n# For example, here's several helpful packages to load in \n\nimport numpy as np # linear algebra\nimport pandas as pd # data processing, CSV file I/O (e.g. pd.read_csv)\nimport gc\n# Input data files are available in the \"../input/\" directory.\n# For example, running this (by clicking run or pressing Shift+Enter) will list the files in the input directory\n\nimport os\nprint(os.listdir(\"../input\"))\n\n# Any results you write to the current directory are saved as output.",
      "execution_count": 80,
      "outputs": [
        {
          "output_type": "stream",
          "text": "['test_jpg.zip', 'test_active.csv', 'train.csv', 'train_active.csv', 'periods_train.csv', 'test.csv', 'periods_test.csv', 'train_jpg.zip', 'sample_submission.csv']\n",
          "name": "stdout"
        }
      ]
    },
    {
      "metadata": {
        "_cell_guid": "79c7e3d0-c299-4dcb-8224-4455121ee9b0",
        "_uuid": "d629ff2d2480ee46fbb7e2d37f6b5fab8052498a",
        "collapsed": true,
        "trusted": true
      },
      "cell_type": "code",
      "source": "train_df = pd.read_csv('../input/train.csv', parse_dates=[\"activation_date\"])",
      "execution_count": 72,
      "outputs": []
    },
    {
      "metadata": {
        "collapsed": true,
        "trusted": true,
        "_uuid": "45c3886cfdb70ac580f3900003b8a578f8f95aeb"
      },
      "cell_type": "code",
      "source": "parent_category_name_map = {\"Личные вещи\" : \"Personal belongings\",\n                            \"Для дома и дачи\" : \"For the home and garden\",\n                            \"Бытовая электроника\" : \"Consumer electronics\",\n                            \"Недвижимость\" : \"Real estate\",\n                            \"Хобби и отдых\" : \"Hobbies & leisure\",\n                            \"Транспорт\" : \"Transport\",\n                            \"Услуги\" : \"Services\",\n                            \"Животные\" : \"Animals\",\n                            \"Для бизнеса\" : \"For business\"}\n\nregion_map = {\"Свердловская область\" : \"Sverdlovsk oblast\",\n            \"Самарская область\" : \"Samara oblast\",\n            \"Ростовская область\" : \"Rostov oblast\",\n            \"Татарстан\" : \"Tatarstan\",\n            \"Волгоградская область\" : \"Volgograd oblast\",\n            \"Нижегородская область\" : \"Nizhny Novgorod oblast\",\n            \"Пермский край\" : \"Perm Krai\",\n            \"Оренбургская область\" : \"Orenburg oblast\",\n            \"Ханты-Мансийский АО\" : \"Khanty-Mansi Autonomous Okrug\",\n            \"Тюменская область\" : \"Tyumen oblast\",\n            \"Башкортостан\" : \"Bashkortostan\",\n            \"Краснодарский край\" : \"Krasnodar Krai\",\n            \"Новосибирская область\" : \"Novosibirsk oblast\",\n            \"Омская область\" : \"Omsk oblast\",\n            \"Белгородская область\" : \"Belgorod oblast\",\n            \"Челябинская область\" : \"Chelyabinsk oblast\",\n            \"Воронежская область\" : \"Voronezh oblast\",\n            \"Кемеровская область\" : \"Kemerovo oblast\",\n            \"Саратовская область\" : \"Saratov oblast\",\n            \"Владимирская область\" : \"Vladimir oblast\",\n            \"Калининградская область\" : \"Kaliningrad oblast\",\n            \"Красноярский край\" : \"Krasnoyarsk Krai\",\n            \"Ярославская область\" : \"Yaroslavl oblast\",\n            \"Удмуртия\" : \"Udmurtia\",\n            \"Алтайский край\" : \"Altai Krai\",\n            \"Иркутская область\" : \"Irkutsk oblast\",\n            \"Ставропольский край\" : \"Stavropol Krai\",\n            \"Тульская область\" : \"Tula oblast\"}\n\n\ncategory_map = {\"Одежда, обувь, аксессуары\":\"Clothing, shoes, accessories\",\n\"Детская одежда и обувь\":\"Children's clothing and shoes\",\n\"Товары для детей и игрушки\":\"Children's products and toys\",\n\"Квартиры\":\"Apartments\",\n\"Телефоны\":\"Phones\",\n\"Мебель и интерьер\":\"Furniture and interior\",\n\"Предложение услуг\":\"Offer services\",\n\"Автомобили\":\"Cars\",\n\"Ремонт и строительство\":\"Repair and construction\",\n\"Бытовая техника\":\"Appliances\",\n\"Товары для компьютера\":\"Products for computer\",\n\"Дома, дачи, коттеджи\":\"Houses, villas, cottages\",\n\"Красота и здоровье\":\"Health and beauty\",\n\"Аудио и видео\":\"Audio and video\",\n\"Спорт и отдых\":\"Sports and recreation\",\n\"Коллекционирование\":\"Collecting\",\n\"Оборудование для бизнеса\":\"Equipment for business\",\n\"Земельные участки\":\"Land\",\n\"Часы и украшения\":\"Watches and jewelry\",\n\"Книги и журналы\":\"Books and magazines\",\n\"Собаки\":\"Dogs\",\n\"Игры, приставки и программы\":\"Games, consoles and software\",\n\"Другие животные\":\"Other animals\",\n\"Велосипеды\":\"Bikes\",\n\"Ноутбуки\":\"Laptops\",\n\"Кошки\":\"Cats\",\n\"Грузовики и спецтехника\":\"Trucks and buses\",\n\"Посуда и товары для кухни\":\"Tableware and goods for kitchen\",\n\"Растения\":\"Plants\",\n\"Планшеты и электронные книги\":\"Tablets and e-books\",\n\"Товары для животных\":\"Pet products\",\n\"Комнаты\":\"Room\",\n\"Фототехника\":\"Photo\",\n\"Коммерческая недвижимость\":\"Commercial property\",\n\"Гаражи и машиноместа\":\"Garages and Parking spaces\",\n\"Музыкальные инструменты\":\"Musical instruments\",\n\"Оргтехника и расходники\":\"Office equipment and consumables\",\n\"Птицы\":\"Birds\",\n\"Продукты питания\":\"Food\",\n\"Мотоциклы и мототехника\":\"Motorcycles and bikes\",\n\"Настольные компьютеры\":\"Desktop computers\",\n\"Аквариум\":\"Aquarium\",\n\"Охота и рыбалка\":\"Hunting and fishing\",\n\"Билеты и путешествия\":\"Tickets and travel\",\n\"Водный транспорт\":\"Water transport\",\n\"Готовый бизнес\":\"Ready business\",\n\"Недвижимость за рубежом\":\"Property abroad\"}",
      "execution_count": 73,
      "outputs": []
    },
    {
      "metadata": {
        "trusted": true,
        "_uuid": "099f72ee19140b1ce59acd79e5c2e822070929cf"
      },
      "cell_type": "code",
      "source": "train_df.info()",
      "execution_count": 74,
      "outputs": [
        {
          "output_type": "stream",
          "text": "<class 'pandas.core.frame.DataFrame'>\nRangeIndex: 1503424 entries, 0 to 1503423\nData columns (total 18 columns):\nitem_id                 1503424 non-null object\nuser_id                 1503424 non-null object\nregion                  1503424 non-null object\ncity                    1503424 non-null object\nparent_category_name    1503424 non-null object\ncategory_name           1503424 non-null object\nparam_1                 1441848 non-null object\nparam_2                 848882 non-null object\nparam_3                 640859 non-null object\ntitle                   1503424 non-null object\ndescription             1387148 non-null object\nprice                   1418062 non-null float64\nitem_seq_number         1503424 non-null int64\nactivation_date         1503424 non-null datetime64[ns]\nuser_type               1503424 non-null object\nimage                   1390836 non-null object\nimage_top_1             1390836 non-null float64\ndeal_probability        1503424 non-null float64\ndtypes: datetime64[ns](1), float64(3), int64(1), object(13)\nmemory usage: 206.5+ MB\n",
          "name": "stdout"
        }
      ]
    },
    {
      "metadata": {
        "trusted": true,
        "_uuid": "db1c28c1c9bac0ec041c643b74dc757c1262a258"
      },
      "cell_type": "code",
      "source": "train_df.head()",
      "execution_count": 75,
      "outputs": [
        {
          "output_type": "execute_result",
          "execution_count": 75,
          "data": {
            "text/plain": "        item_id       user_id                 region              city  \\\n0  b912c3c6a6ad  e00f8ff2eaf9   Свердловская область      Екатеринбург   \n1  2dac0150717d  39aeb48f0017      Самарская область            Самара   \n2  ba83aefab5dc  91e2f88dd6e3     Ростовская область    Ростов-на-Дону   \n3  02996f1dd2ea  bf5cccea572d              Татарстан  Набережные Челны   \n4  7c90be56d2ab  ef50846afc0b  Волгоградская область         Волгоград   \n\n  parent_category_name               category_name  \\\n0          Личные вещи  Товары для детей и игрушки   \n1      Для дома и дачи           Мебель и интерьер   \n2  Бытовая электроника               Аудио и видео   \n3          Личные вещи  Товары для детей и игрушки   \n4            Транспорт                  Автомобили   \n\n                       param_1     param_2 param_3                  title  \\\n0    Постельные принадлежности         NaN     NaN  Кокоби(кокон для сна)   \n1                       Другое         NaN     NaN      Стойка для Одежды   \n2  Видео, DVD и Blu-ray плееры         NaN     NaN         Philips bluray   \n3         Автомобильные кресла         NaN     NaN             Автокресло   \n4                   С пробегом  ВАЗ (LADA)    2110         ВАЗ 2110, 2003   \n\n                                         description    price  \\\n0  Кокон для сна малыша,пользовались меньше месяц...    400.0   \n1          Стойка для одежды, под вешалки. С бутика.   3000.0   \n2  В хорошем состоянии, домашний кинотеатр с blu ...   4000.0   \n3                             Продам кресло от0-25кг   2200.0   \n4                           Все вопросы по телефону.  40000.0   \n\n   item_seq_number activation_date user_type  \\\n0                2      2017-03-28   Private   \n1               19      2017-03-26   Private   \n2                9      2017-03-20   Private   \n3              286      2017-03-25   Company   \n4                3      2017-03-16   Private   \n\n                                               image  image_top_1  \\\n0  d10c7e016e03247a3bf2d13348fe959fe6f436c1caf64c...       1008.0   \n1  79c9392cc51a9c81c6eb91eceb8e552171db39d7142700...        692.0   \n2  b7f250ee3f39e1fedd77c141f273703f4a9be59db4b48a...       3032.0   \n3  e6ef97e0725637ea84e3d203e82dadb43ed3cc0a1c8413...        796.0   \n4  54a687a3a0fc1d68aed99bdaaf551c5c70b761b16fd0a2...       2264.0   \n\n   deal_probability  \n0           0.12789  \n1           0.00000  \n2           0.43177  \n3           0.80323  \n4           0.20797  ",
            "text/html": "<div>\n<style scoped>\n    .dataframe tbody tr th:only-of-type {\n        vertical-align: middle;\n    }\n\n    .dataframe tbody tr th {\n        vertical-align: top;\n    }\n\n    .dataframe thead th {\n        text-align: right;\n    }\n</style>\n<table border=\"1\" class=\"dataframe\">\n  <thead>\n    <tr style=\"text-align: right;\">\n      <th></th>\n      <th>item_id</th>\n      <th>user_id</th>\n      <th>region</th>\n      <th>city</th>\n      <th>parent_category_name</th>\n      <th>category_name</th>\n      <th>param_1</th>\n      <th>param_2</th>\n      <th>param_3</th>\n      <th>title</th>\n      <th>description</th>\n      <th>price</th>\n      <th>item_seq_number</th>\n      <th>activation_date</th>\n      <th>user_type</th>\n      <th>image</th>\n      <th>image_top_1</th>\n      <th>deal_probability</th>\n    </tr>\n  </thead>\n  <tbody>\n    <tr>\n      <th>0</th>\n      <td>b912c3c6a6ad</td>\n      <td>e00f8ff2eaf9</td>\n      <td>Свердловская область</td>\n      <td>Екатеринбург</td>\n      <td>Личные вещи</td>\n      <td>Товары для детей и игрушки</td>\n      <td>Постельные принадлежности</td>\n      <td>NaN</td>\n      <td>NaN</td>\n      <td>Кокоби(кокон для сна)</td>\n      <td>Кокон для сна малыша,пользовались меньше месяц...</td>\n      <td>400.0</td>\n      <td>2</td>\n      <td>2017-03-28</td>\n      <td>Private</td>\n      <td>d10c7e016e03247a3bf2d13348fe959fe6f436c1caf64c...</td>\n      <td>1008.0</td>\n      <td>0.12789</td>\n    </tr>\n    <tr>\n      <th>1</th>\n      <td>2dac0150717d</td>\n      <td>39aeb48f0017</td>\n      <td>Самарская область</td>\n      <td>Самара</td>\n      <td>Для дома и дачи</td>\n      <td>Мебель и интерьер</td>\n      <td>Другое</td>\n      <td>NaN</td>\n      <td>NaN</td>\n      <td>Стойка для Одежды</td>\n      <td>Стойка для одежды, под вешалки. С бутика.</td>\n      <td>3000.0</td>\n      <td>19</td>\n      <td>2017-03-26</td>\n      <td>Private</td>\n      <td>79c9392cc51a9c81c6eb91eceb8e552171db39d7142700...</td>\n      <td>692.0</td>\n      <td>0.00000</td>\n    </tr>\n    <tr>\n      <th>2</th>\n      <td>ba83aefab5dc</td>\n      <td>91e2f88dd6e3</td>\n      <td>Ростовская область</td>\n      <td>Ростов-на-Дону</td>\n      <td>Бытовая электроника</td>\n      <td>Аудио и видео</td>\n      <td>Видео, DVD и Blu-ray плееры</td>\n      <td>NaN</td>\n      <td>NaN</td>\n      <td>Philips bluray</td>\n      <td>В хорошем состоянии, домашний кинотеатр с blu ...</td>\n      <td>4000.0</td>\n      <td>9</td>\n      <td>2017-03-20</td>\n      <td>Private</td>\n      <td>b7f250ee3f39e1fedd77c141f273703f4a9be59db4b48a...</td>\n      <td>3032.0</td>\n      <td>0.43177</td>\n    </tr>\n    <tr>\n      <th>3</th>\n      <td>02996f1dd2ea</td>\n      <td>bf5cccea572d</td>\n      <td>Татарстан</td>\n      <td>Набережные Челны</td>\n      <td>Личные вещи</td>\n      <td>Товары для детей и игрушки</td>\n      <td>Автомобильные кресла</td>\n      <td>NaN</td>\n      <td>NaN</td>\n      <td>Автокресло</td>\n      <td>Продам кресло от0-25кг</td>\n      <td>2200.0</td>\n      <td>286</td>\n      <td>2017-03-25</td>\n      <td>Company</td>\n      <td>e6ef97e0725637ea84e3d203e82dadb43ed3cc0a1c8413...</td>\n      <td>796.0</td>\n      <td>0.80323</td>\n    </tr>\n    <tr>\n      <th>4</th>\n      <td>7c90be56d2ab</td>\n      <td>ef50846afc0b</td>\n      <td>Волгоградская область</td>\n      <td>Волгоград</td>\n      <td>Транспорт</td>\n      <td>Автомобили</td>\n      <td>С пробегом</td>\n      <td>ВАЗ (LADA)</td>\n      <td>2110</td>\n      <td>ВАЗ 2110, 2003</td>\n      <td>Все вопросы по телефону.</td>\n      <td>40000.0</td>\n      <td>3</td>\n      <td>2017-03-16</td>\n      <td>Private</td>\n      <td>54a687a3a0fc1d68aed99bdaaf551c5c70b761b16fd0a2...</td>\n      <td>2264.0</td>\n      <td>0.20797</td>\n    </tr>\n  </tbody>\n</table>\n</div>"
          },
          "metadata": {}
        }
      ]
    },
    {
      "metadata": {
        "collapsed": true,
        "trusted": true,
        "_uuid": "4980d646b202926e985d2cf3cf910c998b50a63b"
      },
      "cell_type": "code",
      "source": "train_df['region'] = train_df['region'].map(lambda x : region_map[x])\ntrain_df['parent_category_name'] = train_df['parent_category_name'].map(lambda x : parent_category_name_map[x])\ntrain_df['category_name'] = train_df['category_name'].map(lambda x : category_map[x])",
      "execution_count": 76,
      "outputs": []
    },
    {
      "metadata": {
        "trusted": true,
        "_uuid": "bdbc9e61f37a0c609e7c80f4856c17412c86c8b7"
      },
      "cell_type": "code",
      "source": "train_df.head()",
      "execution_count": 77,
      "outputs": [
        {
          "output_type": "execute_result",
          "execution_count": 77,
          "data": {
            "text/plain": "        item_id       user_id             region              city  \\\n0  b912c3c6a6ad  e00f8ff2eaf9  Sverdlovsk oblast      Екатеринбург   \n1  2dac0150717d  39aeb48f0017      Samara oblast            Самара   \n2  ba83aefab5dc  91e2f88dd6e3      Rostov oblast    Ростов-на-Дону   \n3  02996f1dd2ea  bf5cccea572d          Tatarstan  Набережные Челны   \n4  7c90be56d2ab  ef50846afc0b   Volgograd oblast         Волгоград   \n\n      parent_category_name                 category_name  \\\n0      Personal belongings  Children's products and toys   \n1  For the home and garden        Furniture and interior   \n2     Consumer electronics               Audio and video   \n3      Personal belongings  Children's products and toys   \n4                Transport                          Cars   \n\n                       param_1     param_2 param_3                  title  \\\n0    Постельные принадлежности         NaN     NaN  Кокоби(кокон для сна)   \n1                       Другое         NaN     NaN      Стойка для Одежды   \n2  Видео, DVD и Blu-ray плееры         NaN     NaN         Philips bluray   \n3         Автомобильные кресла         NaN     NaN             Автокресло   \n4                   С пробегом  ВАЗ (LADA)    2110         ВАЗ 2110, 2003   \n\n                                         description    price  \\\n0  Кокон для сна малыша,пользовались меньше месяц...    400.0   \n1          Стойка для одежды, под вешалки. С бутика.   3000.0   \n2  В хорошем состоянии, домашний кинотеатр с blu ...   4000.0   \n3                             Продам кресло от0-25кг   2200.0   \n4                           Все вопросы по телефону.  40000.0   \n\n   item_seq_number activation_date user_type  \\\n0                2      2017-03-28   Private   \n1               19      2017-03-26   Private   \n2                9      2017-03-20   Private   \n3              286      2017-03-25   Company   \n4                3      2017-03-16   Private   \n\n                                               image  image_top_1  \\\n0  d10c7e016e03247a3bf2d13348fe959fe6f436c1caf64c...       1008.0   \n1  79c9392cc51a9c81c6eb91eceb8e552171db39d7142700...        692.0   \n2  b7f250ee3f39e1fedd77c141f273703f4a9be59db4b48a...       3032.0   \n3  e6ef97e0725637ea84e3d203e82dadb43ed3cc0a1c8413...        796.0   \n4  54a687a3a0fc1d68aed99bdaaf551c5c70b761b16fd0a2...       2264.0   \n\n   deal_probability  \n0           0.12789  \n1           0.00000  \n2           0.43177  \n3           0.80323  \n4           0.20797  ",
            "text/html": "<div>\n<style scoped>\n    .dataframe tbody tr th:only-of-type {\n        vertical-align: middle;\n    }\n\n    .dataframe tbody tr th {\n        vertical-align: top;\n    }\n\n    .dataframe thead th {\n        text-align: right;\n    }\n</style>\n<table border=\"1\" class=\"dataframe\">\n  <thead>\n    <tr style=\"text-align: right;\">\n      <th></th>\n      <th>item_id</th>\n      <th>user_id</th>\n      <th>region</th>\n      <th>city</th>\n      <th>parent_category_name</th>\n      <th>category_name</th>\n      <th>param_1</th>\n      <th>param_2</th>\n      <th>param_3</th>\n      <th>title</th>\n      <th>description</th>\n      <th>price</th>\n      <th>item_seq_number</th>\n      <th>activation_date</th>\n      <th>user_type</th>\n      <th>image</th>\n      <th>image_top_1</th>\n      <th>deal_probability</th>\n    </tr>\n  </thead>\n  <tbody>\n    <tr>\n      <th>0</th>\n      <td>b912c3c6a6ad</td>\n      <td>e00f8ff2eaf9</td>\n      <td>Sverdlovsk oblast</td>\n      <td>Екатеринбург</td>\n      <td>Personal belongings</td>\n      <td>Children's products and toys</td>\n      <td>Постельные принадлежности</td>\n      <td>NaN</td>\n      <td>NaN</td>\n      <td>Кокоби(кокон для сна)</td>\n      <td>Кокон для сна малыша,пользовались меньше месяц...</td>\n      <td>400.0</td>\n      <td>2</td>\n      <td>2017-03-28</td>\n      <td>Private</td>\n      <td>d10c7e016e03247a3bf2d13348fe959fe6f436c1caf64c...</td>\n      <td>1008.0</td>\n      <td>0.12789</td>\n    </tr>\n    <tr>\n      <th>1</th>\n      <td>2dac0150717d</td>\n      <td>39aeb48f0017</td>\n      <td>Samara oblast</td>\n      <td>Самара</td>\n      <td>For the home and garden</td>\n      <td>Furniture and interior</td>\n      <td>Другое</td>\n      <td>NaN</td>\n      <td>NaN</td>\n      <td>Стойка для Одежды</td>\n      <td>Стойка для одежды, под вешалки. С бутика.</td>\n      <td>3000.0</td>\n      <td>19</td>\n      <td>2017-03-26</td>\n      <td>Private</td>\n      <td>79c9392cc51a9c81c6eb91eceb8e552171db39d7142700...</td>\n      <td>692.0</td>\n      <td>0.00000</td>\n    </tr>\n    <tr>\n      <th>2</th>\n      <td>ba83aefab5dc</td>\n      <td>91e2f88dd6e3</td>\n      <td>Rostov oblast</td>\n      <td>Ростов-на-Дону</td>\n      <td>Consumer electronics</td>\n      <td>Audio and video</td>\n      <td>Видео, DVD и Blu-ray плееры</td>\n      <td>NaN</td>\n      <td>NaN</td>\n      <td>Philips bluray</td>\n      <td>В хорошем состоянии, домашний кинотеатр с blu ...</td>\n      <td>4000.0</td>\n      <td>9</td>\n      <td>2017-03-20</td>\n      <td>Private</td>\n      <td>b7f250ee3f39e1fedd77c141f273703f4a9be59db4b48a...</td>\n      <td>3032.0</td>\n      <td>0.43177</td>\n    </tr>\n    <tr>\n      <th>3</th>\n      <td>02996f1dd2ea</td>\n      <td>bf5cccea572d</td>\n      <td>Tatarstan</td>\n      <td>Набережные Челны</td>\n      <td>Personal belongings</td>\n      <td>Children's products and toys</td>\n      <td>Автомобильные кресла</td>\n      <td>NaN</td>\n      <td>NaN</td>\n      <td>Автокресло</td>\n      <td>Продам кресло от0-25кг</td>\n      <td>2200.0</td>\n      <td>286</td>\n      <td>2017-03-25</td>\n      <td>Company</td>\n      <td>e6ef97e0725637ea84e3d203e82dadb43ed3cc0a1c8413...</td>\n      <td>796.0</td>\n      <td>0.80323</td>\n    </tr>\n    <tr>\n      <th>4</th>\n      <td>7c90be56d2ab</td>\n      <td>ef50846afc0b</td>\n      <td>Volgograd oblast</td>\n      <td>Волгоград</td>\n      <td>Transport</td>\n      <td>Cars</td>\n      <td>С пробегом</td>\n      <td>ВАЗ (LADA)</td>\n      <td>2110</td>\n      <td>ВАЗ 2110, 2003</td>\n      <td>Все вопросы по телефону.</td>\n      <td>40000.0</td>\n      <td>3</td>\n      <td>2017-03-16</td>\n      <td>Private</td>\n      <td>54a687a3a0fc1d68aed99bdaaf551c5c70b761b16fd0a2...</td>\n      <td>2264.0</td>\n      <td>0.20797</td>\n    </tr>\n  </tbody>\n</table>\n</div>"
          },
          "metadata": {}
        }
      ]
    },
    {
      "metadata": {
        "_uuid": "2d75e3d5a4e974bb00d0928625d2a26b13c1933a"
      },
      "cell_type": "markdown",
      "source": "**Probability of deal going through by user_type**"
    },
    {
      "metadata": {
        "scrolled": true,
        "trusted": true,
        "_uuid": "2c9d7ed268bbc542f0fc91b7efe997160e5cfb69"
      },
      "cell_type": "code",
      "source": "(train_df.groupby('user_type').deal_probability.sum()/train_df.groupby('user_type').deal_probability.count()).plot.bar()",
      "execution_count": 78,
      "outputs": [
        {
          "output_type": "execute_result",
          "execution_count": 78,
          "data": {
            "text/plain": "<matplotlib.axes._subplots.AxesSubplot at 0x7f526735c978>"
          },
          "metadata": {}
        },
        {
          "output_type": "display_data",
          "data": {
            "text/plain": "<matplotlib.figure.Figure at 0x7f526735c588>",
            "image/png": "[encoded data removed]"
          },
          "metadata": {}
        }
      ]
    },
    {
      "metadata": {
        "trusted": true,
        "_uuid": "cc6b6b9942b576b286bbc0a3ecbf1f0418d0fadc"
      },
      "cell_type": "code",
      "source": "gc.collect()",
      "execution_count": 81,
      "outputs": [
        {
          "output_type": "execute_result",
          "execution_count": 81,
          "data": {
            "text/plain": "7299"
          },
          "metadata": {}
        }
      ]
    },
    {
      "metadata": {
        "trusted": true,
        "_uuid": "8033752cc894cb1daf6e0fc5bbed11504797f8ff"
      },
      "cell_type": "code",
      "source": "train_df.info()",
      "execution_count": 82,
      "outputs": [
        {
          "output_type": "stream",
          "text": "<class 'pandas.core.frame.DataFrame'>\nRangeIndex: 1503424 entries, 0 to 1503423\nData columns (total 18 columns):\nitem_id                 1503424 non-null object\nuser_id                 1503424 non-null object\nregion                  1503424 non-null object\ncity                    1503424 non-null object\nparent_category_name    1503424 non-null object\ncategory_name           1503424 non-null object\nparam_1                 1441848 non-null object\nparam_2                 848882 non-null object\nparam_3                 640859 non-null object\ntitle                   1503424 non-null object\ndescription             1387148 non-null object\nprice                   1418062 non-null float64\nitem_seq_number         1503424 non-null int64\nactivation_date         1503424 non-null datetime64[ns]\nuser_type               1503424 non-null object\nimage                   1390836 non-null object\nimage_top_1             1390836 non-null float64\ndeal_probability        1503424 non-null float64\ndtypes: datetime64[ns](1), float64(3), int64(1), object(13)\nmemory usage: 206.5+ MB\n",
          "name": "stdout"
        }
      ]
    },
    {
      "metadata": {
        "trusted": true,
        "collapsed": true,
        "_uuid": "b70bdfcad48d5b38a93d189d361f7f5c2c4c237d"
      },
      "cell_type": "code",
      "source": "",
      "execution_count": null,
      "outputs": []
    }
  ],
  "metadata": {
    "kernelspec": {
      "display_name": "Python 3",
      "language": "python",
      "name": "python3"
    },
    "language_info": {
      "name": "python",
      "version": "3.6.5",
      "mimetype": "text/x-python",
      "codemirror_mode": {
        "name": "ipython",
        "version": 3
      },
      "pygments_lexer": "ipython3",
      "nbconvert_exporter": "python",
      "file_extension": ".py"
    }
  },
  "nbformat": 4,
  "nbformat_minor": 1
}