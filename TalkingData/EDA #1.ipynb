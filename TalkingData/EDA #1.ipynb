{
  "cells": [
    {
      "metadata": {
        "_uuid": "0964d1075631abb365b1fb2e642d78cbf8c0b24d"
      },
      "cell_type": "markdown",
      "source": "Data fields\nEach row of the training data contains a click record, with the following features.\n\nip: ip address of click.\n\napp: app id for marketing.\n\ndevice: device type id of user mobile phone (e.g., iphone 6 plus, iphone 7, huawei mate 7, etc.)\n\nos: os version id of user mobile phone\n\nchannel: channel id of mobile ad publisher\n\nclick_time: timestamp of click (UTC)\n\nattributed_time: if user download the app for after clicking an ad, this is the time of the app download\n\nis_attributed: the target that is to be predicted, indicating the app was downloaded\n\nNote that ip, app, device, os, and channel are encoded.\n\nThe test data is similar, with the following differences:\n\nclick_id: reference for making predictions\n\nis_attributed: not included"
    },
    {
      "metadata": {
        "_cell_guid": "b1076dfc-b9ad-4769-8c92-a6c4dae69d19",
        "_uuid": "8f2839f25d086af736a60e9eeb907d3b93b6e0e5",
        "trusted": true
      },
      "cell_type": "code",
      "source": "# This Python 3 environment comes with many helpful analytics libraries installed\n# It is defined by the kaggle/python docker image: https://github.com/kaggle/docker-python\n# For example, here's several helpful packages to load in \n\nimport numpy as np # linear algebra\nimport pandas as pd # data processing, CSV file I/O (e.g. pd.read_csv)\nimport matplotlib.pyplot as plt\nimport seaborn as sns\nimport gc\nimport datetime\n\n\n# Input data files are available in the \"../input/\" directory.\n# For example, running this (by clicking run or pressing Shift+Enter) will list the files in the input directory\n\nimport os\nprint(os.listdir(\"../input\"))\n\n# Any results you write to the current directory are saved as output.",
      "execution_count": 1,
      "outputs": [
        {
          "output_type": "stream",
          "text": "['test_supplement.csv', 'train.csv', 'test.csv', 'sample_submission.csv', 'train_sample.csv']\n",
          "name": "stdout"
        }
      ]
    },
    {
      "metadata": {
        "trusted": true,
        "_uuid": "da47fe7aabaf9d14869fb0afa500afa136abccac"
      },
      "cell_type": "code",
      "source": "data_types = {\n    'ip' : 'uint32',\n    'app' : 'uint16',\n    'device' : 'uint16',\n    'os' : 'uint16',\n    'channel' : 'uint16',\n    'is_attributed' : 'bool'\n}",
      "execution_count": 16,
      "outputs": []
    },
    {
      "metadata": {
        "trusted": true,
        "_uuid": "ed4e0203e15e3b9affc59cf9b27cc9673ffca242"
      },
      "cell_type": "code",
      "source": "sample_train = pd.read_csv('../input/train_sample.csv', dtype=data_types)",
      "execution_count": 21,
      "outputs": []
    },
    {
      "metadata": {
        "trusted": true,
        "_uuid": "6ea0e8cb3328d9450cb64b144ca1fe98908a86e8"
      },
      "cell_type": "code",
      "source": "sample_train.info()",
      "execution_count": 22,
      "outputs": [
        {
          "output_type": "stream",
          "text": "<class 'pandas.core.frame.DataFrame'>\nRangeIndex: 100000 entries, 0 to 99999\nData columns (total 8 columns):\nip                 100000 non-null uint32\napp                100000 non-null uint16\ndevice             100000 non-null uint16\nos                 100000 non-null uint16\nchannel            100000 non-null uint16\nclick_time         100000 non-null object\nattributed_time    251 non-null object\nis_attributed      100000 non-null bool\ndtypes: bool(1), object(2), uint16(4), uint32(1)\nmemory usage: 2.8+ MB\n",
          "name": "stdout"
        }
      ]
    },
    {
      "metadata": {
        "trusted": true,
        "_uuid": "2518b108fdcc6c85c59475da54cf5947a7ae9487"
      },
      "cell_type": "code",
      "source": "(sample_train.groupby(['ip']).ip.count() == 1).values",
      "execution_count": 52,
      "outputs": [
        {
          "output_type": "execute_result",
          "execution_count": 52,
          "data": {
            "text/plain": "array([False, False, False, ...,  True,  True,  True])"
          },
          "metadata": {}
        }
      ]
    },
    {
      "metadata": {
        "trusted": true,
        "_uuid": "85712d3c2a3f59d13048fe734fac1381fd65ee01"
      },
      "cell_type": "code",
      "source": "(sample_train.groupby('ip').is_attributed.sum()/sample_train.groupby('ip').is_attributed.count()).value_counts()",
      "execution_count": 65,
      "outputs": [
        {
          "output_type": "execute_result",
          "execution_count": 65,
          "data": {
            "text/plain": "0.000000    34438\n1.000000      137\n0.500000       25\n0.250000       14\n0.333333       14\n0.200000        8\n0.142857        8\n0.111111        7\n0.076923        6\n0.083333        3\n0.166667        3\n0.090909        3\n0.100000        2\n0.125000        2\n0.037037        1\n0.011111        1\n0.015873        1\n0.031250        1\n0.062500        1\n0.066667        1\n0.020833        1\n0.029412        1\n0.023810        1\n0.043478        1\n0.004687        1\n0.055556        1\n0.030303        1\n0.012346        1\n0.038462        1\n0.058824        1\nName: is_attributed, dtype: int64"
          },
          "metadata": {}
        }
      ]
    },
    {
      "metadata": {
        "trusted": true,
        "_uuid": "dcb9e2d7d8001a5684925f338cbce9f625f93ac5"
      },
      "cell_type": "code",
      "source": "sample_train['click_time'] = pd.to_datetime(sample_train['click_time'])\nsample_train['attributed_time'] = pd.to_datetime(sample_train['attributed_time'])",
      "execution_count": 67,
      "outputs": []
    },
    {
      "metadata": {
        "trusted": true,
        "_uuid": "b9310f4a86a4e1d253945b2bba6161feea549c9d"
      },
      "cell_type": "code",
      "source": "sample_train.info()",
      "execution_count": 69,
      "outputs": [
        {
          "output_type": "stream",
          "text": "<class 'pandas.core.frame.DataFrame'>\nRangeIndex: 100000 entries, 0 to 99999\nData columns (total 8 columns):\nip                 100000 non-null uint32\napp                100000 non-null uint16\ndevice             100000 non-null uint16\nos                 100000 non-null uint16\nchannel            100000 non-null uint16\nclick_time         100000 non-null datetime64[ns]\nattributed_time    251 non-null datetime64[ns]\nis_attributed      100000 non-null bool\ndtypes: bool(1), datetime64[ns](2), uint16(4), uint32(1)\nmemory usage: 2.8 MB\n",
          "name": "stdout"
        }
      ]
    },
    {
      "metadata": {
        "trusted": true,
        "_uuid": "b0507c766d90857715ba310a9945652049b3095e"
      },
      "cell_type": "code",
      "source": "sample_click_list = sample_train[~sample_train['attributed_time'].isnull()].sort_values(['ip', 'click_time']).reset_index().drop(['index', 'is_attributed'], axis =1)\nsample_click_list",
      "execution_count": 95,
      "outputs": [
        {
          "output_type": "execute_result",
          "execution_count": 95,
          "data": {
            "text/plain": "         ip  app  device  os  channel          click_time     attributed_time\n0      2965   19       0  29      213 2017-11-08 10:05:27 2017-11-08 15:41:14\n1      3355   19       0   0      213 2017-11-09 12:55:33 2017-11-09 13:06:27\n2      3808   35       1  25      274 2017-11-07 06:34:10 2017-11-07 07:07:20\n3      3845    2       1  19      477 2017-11-08 07:32:48 2017-11-08 07:43:14\n4      4382   19       0  38      213 2017-11-07 22:27:12 2017-11-07 22:27:56\n5      5072   35       1  19       21 2017-11-09 02:25:58 2017-11-09 03:45:33\n6      5314   19      88  24      213 2017-11-07 22:25:07 2017-11-07 22:25:17\n7      5314   20       1  27      478 2017-11-08 06:42:28 2017-11-08 07:55:46\n8      5314   19       0   0      347 2017-11-09 08:11:01 2017-11-09 08:11:05\n9      6380   19       0  24      213 2017-11-08 16:16:37 2017-11-09 01:28:25\n10     9734   10       1  19      113 2017-11-07 02:53:47 2017-11-07 02:58:50\n11    14063   14       1  41      480 2017-11-08 03:05:21 2017-11-08 03:08:06\n12    14074   19       6  29      213 2017-11-08 16:10:12 2017-11-09 01:13:10\n13    14187   19       0  38      347 2017-11-07 00:29:32 2017-11-07 00:30:57\n14    14348   19       0  24      347 2017-11-09 13:14:49 2017-11-09 13:27:05\n15    15034  191       0  29      414 2017-11-09 01:41:10 2017-11-09 01:43:09\n16    16222   19       0   0      213 2017-11-09 11:32:48 2017-11-09 11:34:32\n17    17067   35       1  13       21 2017-11-09 03:32:07 2017-11-09 10:43:35\n18    18985   29       1  19      213 2017-11-09 10:13:39 2017-11-09 10:14:45\n19    19155  107       1  13      171 2017-11-07 08:33:17 2017-11-07 10:10:05\n20    20134    9       1  13      442 2017-11-08 10:08:34 2017-11-08 10:32:08\n21    20153   35       1  19      274 2017-11-09 09:02:04 2017-11-09 09:06:26\n22    20592   19       0   0      343 2017-11-09 05:48:27 2017-11-09 05:59:47\n23    22851    9       1  19      466 2017-11-09 04:57:23 2017-11-09 04:57:42\n24    23432   13       1  13      477 2017-11-08 03:56:21 2017-11-08 06:02:11\n25    23641   19       0  24      213 2017-11-08 14:24:02 2017-11-08 14:55:22\n26    25289   35       1  17       21 2017-11-07 06:40:07 2017-11-07 10:30:30\n27    25766   19       0  24      213 2017-11-07 15:14:12 2017-11-07 15:25:34\n28    26651   35       1  16       21 2017-11-08 02:26:14 2017-11-08 02:48:43\n29    27906   11       1  19      319 2017-11-08 03:41:28 2017-11-08 06:39:32\n..      ...  ...     ...  ..      ...                 ...                 ...\n221  311449   39       1  19      101 2017-11-09 14:47:59 2017-11-09 14:50:45\n222  320339  155       1  35      213 2017-11-09 02:06:44 2017-11-09 02:07:41\n223  320788   19       0  50      282 2017-11-09 07:06:15 2017-11-09 07:08:13\n224  321610   84       0   0      101 2017-11-09 12:14:53 2017-11-09 12:19:38\n225  325487  121       1  19      203 2017-11-09 03:36:43 2017-11-09 03:37:57\n226  325812   72       1  13      101 2017-11-09 05:01:07 2017-11-09 13:33:01\n227  329641   19       0  24      213 2017-11-09 14:03:25 2017-11-09 14:05:00\n228  329916   29       1  25      213 2017-11-09 13:59:32 2017-11-09 14:00:04\n229  331199    1       1   6      124 2017-11-08 23:55:13 2017-11-08 23:55:35\n230  332159   29       1  13      213 2017-11-09 11:28:01 2017-11-09 11:34:06\n231  336556  191       0  29      414 2017-11-09 08:59:20 2017-11-09 09:00:58\n232  336946   19       0  29      213 2017-11-09 13:05:08 2017-11-09 13:10:04\n233  338760  121       1  15      203 2017-11-09 01:58:53 2017-11-09 02:02:14\n234  341823   10       1  61      113 2017-11-09 13:46:18 2017-11-09 13:46:48\n235  341863   10       1   4      113 2017-11-09 08:39:31 2017-11-09 08:40:00\n236  342140   19       0   0      213 2017-11-09 12:46:45 2017-11-09 12:47:33\n237  343397   10       1  35      113 2017-11-09 05:53:05 2017-11-09 05:53:35\n238  343955   10       1  36      113 2017-11-09 08:37:11 2017-11-09 08:37:42\n239  345471   19       0  38      347 2017-11-08 17:05:58 2017-11-09 03:08:42\n240  347434   32       1  22      376 2017-11-09 12:00:37 2017-11-09 12:34:29\n241  349516   45       1  36      465 2017-11-09 08:40:03 2017-11-09 08:40:14\n242  349708  108       1  19      243 2017-11-09 01:51:54 2017-11-09 01:57:55\n243  349926   16       1   6      268 2017-11-08 17:23:21 2017-11-08 18:23:01\n244  356255   19      86   0      213 2017-11-09 01:57:18 2017-11-09 01:58:43\n245  356552   19       0  24      347 2017-11-09 11:50:55 2017-11-09 14:36:23\n246  358639   19       0   0      213 2017-11-09 12:06:10 2017-11-09 12:08:42\n247  359589  148       1  22      282 2017-11-09 08:40:29 2017-11-09 08:41:18\n248  359695   19       0  21      213 2017-11-09 03:44:51 2017-11-09 03:46:00\n249  363566   19       0   0      213 2017-11-09 01:12:13 2017-11-09 04:35:41\n250  364067   10       1  47      113 2017-11-09 02:45:04 2017-11-09 02:45:28\n\n[251 rows x 7 columns]",
            "text/html": "<div>\n<style scoped>\n    .dataframe tbody tr th:only-of-type {\n        vertical-align: middle;\n    }\n\n    .dataframe tbody tr th {\n        vertical-align: top;\n    }\n\n    .dataframe thead th {\n        text-align: right;\n    }\n</style>\n<table border=\"1\" class=\"dataframe\">\n  <thead>\n    <tr style=\"text-align: right;\">\n      <th></th>\n      <th>ip</th>\n      <th>app</th>\n      <th>device</th>\n      <th>os</th>\n      <th>channel</th>\n      <th>click_time</th>\n      <th>attributed_time</th>\n    </tr>\n  </thead>\n  <tbody>\n    <tr>\n      <th>0</th>\n      <td>2965</td>\n      <td>19</td>\n      <td>0</td>\n      <td>29</td>\n      <td>213</td>\n      <td>2017-11-08 10:05:27</td>\n      <td>2017-11-08 15:41:14</td>\n    </tr>\n    <tr>\n      <th>1</th>\n      <td>3355</td>\n      <td>19</td>\n      <td>0</td>\n      <td>0</td>\n      <td>213</td>\n      <td>2017-11-09 12:55:33</td>\n      <td>2017-11-09 13:06:27</td>\n    </tr>\n    <tr>\n      <th>2</th>\n      <td>3808</td>\n      <td>35</td>\n      <td>1</td>\n      <td>25</td>\n      <td>274</td>\n      <td>2017-11-07 06:34:10</td>\n      <td>2017-11-07 07:07:20</td>\n    </tr>\n    <tr>\n      <th>3</th>\n      <td>3845</td>\n      <td>2</td>\n      <td>1</td>\n      <td>19</td>\n      <td>477</td>\n      <td>2017-11-08 07:32:48</td>\n      <td>2017-11-08 07:43:14</td>\n    </tr>\n    <tr>\n      <th>4</th>\n      <td>4382</td>\n      <td>19</td>\n      <td>0</td>\n      <td>38</td>\n      <td>213</td>\n      <td>2017-11-07 22:27:12</td>\n      <td>2017-11-07 22:27:56</td>\n    </tr>\n    <tr>\n      <th>5</th>\n      <td>5072</td>\n      <td>35</td>\n      <td>1</td>\n      <td>19</td>\n      <td>21</td>\n      <td>2017-11-09 02:25:58</td>\n      <td>2017-11-09 03:45:33</td>\n    </tr>\n    <tr>\n      <th>6</th>\n      <td>5314</td>\n      <td>19</td>\n      <td>88</td>\n      <td>24</td>\n      <td>213</td>\n      <td>2017-11-07 22:25:07</td>\n      <td>2017-11-07 22:25:17</td>\n    </tr>\n    <tr>\n      <th>7</th>\n      <td>5314</td>\n      <td>20</td>\n      <td>1</td>\n      <td>27</td>\n      <td>478</td>\n      <td>2017-11-08 06:42:28</td>\n      <td>2017-11-08 07:55:46</td>\n    </tr>\n    <tr>\n      <th>8</th>\n      <td>5314</td>\n      <td>19</td>\n      <td>0</td>\n      <td>0</td>\n      <td>347</td>\n      <td>2017-11-09 08:11:01</td>\n      <td>2017-11-09 08:11:05</td>\n    </tr>\n    <tr>\n      <th>9</th>\n      <td>6380</td>\n      <td>19</td>\n      <td>0</td>\n      <td>24</td>\n      <td>213</td>\n      <td>2017-11-08 16:16:37</td>\n      <td>2017-11-09 01:28:25</td>\n    </tr>\n    <tr>\n      <th>10</th>\n      <td>9734</td>\n      <td>10</td>\n      <td>1</td>\n      <td>19</td>\n      <td>113</td>\n      <td>2017-11-07 02:53:47</td>\n      <td>2017-11-07 02:58:50</td>\n    </tr>\n    <tr>\n      <th>11</th>\n      <td>14063</td>\n      <td>14</td>\n      <td>1</td>\n      <td>41</td>\n      <td>480</td>\n      <td>2017-11-08 03:05:21</td>\n      <td>2017-11-08 03:08:06</td>\n    </tr>\n    <tr>\n      <th>12</th>\n      <td>14074</td>\n      <td>19</td>\n      <td>6</td>\n      <td>29</td>\n      <td>213</td>\n      <td>2017-11-08 16:10:12</td>\n      <td>2017-11-09 01:13:10</td>\n    </tr>\n    <tr>\n      <th>13</th>\n      <td>14187</td>\n      <td>19</td>\n      <td>0</td>\n      <td>38</td>\n      <td>347</td>\n      <td>2017-11-07 00:29:32</td>\n      <td>2017-11-07 00:30:57</td>\n    </tr>\n    <tr>\n      <th>14</th>\n      <td>14348</td>\n      <td>19</td>\n      <td>0</td>\n      <td>24</td>\n      <td>347</td>\n      <td>2017-11-09 13:14:49</td>\n      <td>2017-11-09 13:27:05</td>\n    </tr>\n    <tr>\n      <th>15</th>\n      <td>15034</td>\n      <td>191</td>\n      <td>0</td>\n      <td>29</td>\n      <td>414</td>\n      <td>2017-11-09 01:41:10</td>\n      <td>2017-11-09 01:43:09</td>\n    </tr>\n    <tr>\n      <th>16</th>\n      <td>16222</td>\n      <td>19</td>\n      <td>0</td>\n      <td>0</td>\n      <td>213</td>\n      <td>2017-11-09 11:32:48</td>\n      <td>2017-11-09 11:34:32</td>\n    </tr>\n    <tr>\n      <th>17</th>\n      <td>17067</td>\n      <td>35</td>\n      <td>1</td>\n      <td>13</td>\n      <td>21</td>\n      <td>2017-11-09 03:32:07</td>\n      <td>2017-11-09 10:43:35</td>\n    </tr>\n    <tr>\n      <th>18</th>\n      <td>18985</td>\n      <td>29</td>\n      <td>1</td>\n      <td>19</td>\n      <td>213</td>\n      <td>2017-11-09 10:13:39</td>\n      <td>2017-11-09 10:14:45</td>\n    </tr>\n    <tr>\n      <th>19</th>\n      <td>19155</td>\n      <td>107</td>\n      <td>1</td>\n      <td>13</td>\n      <td>171</td>\n      <td>2017-11-07 08:33:17</td>\n      <td>2017-11-07 10:10:05</td>\n    </tr>\n    <tr>\n      <th>20</th>\n      <td>20134</td>\n      <td>9</td>\n      <td>1</td>\n      <td>13</td>\n      <td>442</td>\n      <td>2017-11-08 10:08:34</td>\n      <td>2017-11-08 10:32:08</td>\n    </tr>\n    <tr>\n      <th>21</th>\n      <td>20153</td>\n      <td>35</td>\n      <td>1</td>\n      <td>19</td>\n      <td>274</td>\n      <td>2017-11-09 09:02:04</td>\n      <td>2017-11-09 09:06:26</td>\n    </tr>\n    <tr>\n      <th>22</th>\n      <td>20592</td>\n      <td>19</td>\n      <td>0</td>\n      <td>0</td>\n      <td>343</td>\n      <td>2017-11-09 05:48:27</td>\n      <td>2017-11-09 05:59:47</td>\n    </tr>\n    <tr>\n      <th>23</th>\n      <td>22851</td>\n      <td>9</td>\n      <td>1</td>\n      <td>19</td>\n      <td>466</td>\n      <td>2017-11-09 04:57:23</td>\n      <td>2017-11-09 04:57:42</td>\n    </tr>\n    <tr>\n      <th>24</th>\n      <td>23432</td>\n      <td>13</td>\n      <td>1</td>\n      <td>13</td>\n      <td>477</td>\n      <td>2017-11-08 03:56:21</td>\n      <td>2017-11-08 06:02:11</td>\n    </tr>\n    <tr>\n      <th>25</th>\n      <td>23641</td>\n      <td>19</td>\n      <td>0</td>\n      <td>24</td>\n      <td>213</td>\n      <td>2017-11-08 14:24:02</td>\n      <td>2017-11-08 14:55:22</td>\n    </tr>\n    <tr>\n      <th>26</th>\n      <td>25289</td>\n      <td>35</td>\n      <td>1</td>\n      <td>17</td>\n      <td>21</td>\n      <td>2017-11-07 06:40:07</td>\n      <td>2017-11-07 10:30:30</td>\n    </tr>\n    <tr>\n      <th>27</th>\n      <td>25766</td>\n      <td>19</td>\n      <td>0</td>\n      <td>24</td>\n      <td>213</td>\n      <td>2017-11-07 15:14:12</td>\n      <td>2017-11-07 15:25:34</td>\n    </tr>\n    <tr>\n      <th>28</th>\n      <td>26651</td>\n      <td>35</td>\n      <td>1</td>\n      <td>16</td>\n      <td>21</td>\n      <td>2017-11-08 02:26:14</td>\n      <td>2017-11-08 02:48:43</td>\n    </tr>\n    <tr>\n      <th>29</th>\n      <td>27906</td>\n      <td>11</td>\n      <td>1</td>\n      <td>19</td>\n      <td>319</td>\n      <td>2017-11-08 03:41:28</td>\n      <td>2017-11-08 06:39:32</td>\n    </tr>\n    <tr>\n      <th>...</th>\n      <td>...</td>\n      <td>...</td>\n      <td>...</td>\n      <td>...</td>\n      <td>...</td>\n      <td>...</td>\n      <td>...</td>\n    </tr>\n    <tr>\n      <th>221</th>\n      <td>311449</td>\n      <td>39</td>\n      <td>1</td>\n      <td>19</td>\n      <td>101</td>\n      <td>2017-11-09 14:47:59</td>\n      <td>2017-11-09 14:50:45</td>\n    </tr>\n    <tr>\n      <th>222</th>\n      <td>320339</td>\n      <td>155</td>\n      <td>1</td>\n      <td>35</td>\n      <td>213</td>\n      <td>2017-11-09 02:06:44</td>\n      <td>2017-11-09 02:07:41</td>\n    </tr>\n    <tr>\n      <th>223</th>\n      <td>320788</td>\n      <td>19</td>\n      <td>0</td>\n      <td>50</td>\n      <td>282</td>\n      <td>2017-11-09 07:06:15</td>\n      <td>2017-11-09 07:08:13</td>\n    </tr>\n    <tr>\n      <th>224</th>\n      <td>321610</td>\n      <td>84</td>\n      <td>0</td>\n      <td>0</td>\n      <td>101</td>\n      <td>2017-11-09 12:14:53</td>\n      <td>2017-11-09 12:19:38</td>\n    </tr>\n    <tr>\n      <th>225</th>\n      <td>325487</td>\n      <td>121</td>\n      <td>1</td>\n      <td>19</td>\n      <td>203</td>\n      <td>2017-11-09 03:36:43</td>\n      <td>2017-11-09 03:37:57</td>\n    </tr>\n    <tr>\n      <th>226</th>\n      <td>325812</td>\n      <td>72</td>\n      <td>1</td>\n      <td>13</td>\n      <td>101</td>\n      <td>2017-11-09 05:01:07</td>\n      <td>2017-11-09 13:33:01</td>\n    </tr>\n    <tr>\n      <th>227</th>\n      <td>329641</td>\n      <td>19</td>\n      <td>0</td>\n      <td>24</td>\n      <td>213</td>\n      <td>2017-11-09 14:03:25</td>\n      <td>2017-11-09 14:05:00</td>\n    </tr>\n    <tr>\n      <th>228</th>\n      <td>329916</td>\n      <td>29</td>\n      <td>1</td>\n      <td>25</td>\n      <td>213</td>\n      <td>2017-11-09 13:59:32</td>\n      <td>2017-11-09 14:00:04</td>\n    </tr>\n    <tr>\n      <th>229</th>\n      <td>331199</td>\n      <td>1</td>\n      <td>1</td>\n      <td>6</td>\n      <td>124</td>\n      <td>2017-11-08 23:55:13</td>\n      <td>2017-11-08 23:55:35</td>\n    </tr>\n    <tr>\n      <th>230</th>\n      <td>332159</td>\n      <td>29</td>\n      <td>1</td>\n      <td>13</td>\n      <td>213</td>\n      <td>2017-11-09 11:28:01</td>\n      <td>2017-11-09 11:34:06</td>\n    </tr>\n    <tr>\n      <th>231</th>\n      <td>336556</td>\n      <td>191</td>\n      <td>0</td>\n      <td>29</td>\n      <td>414</td>\n      <td>2017-11-09 08:59:20</td>\n      <td>2017-11-09 09:00:58</td>\n    </tr>\n    <tr>\n      <th>232</th>\n      <td>336946</td>\n      <td>19</td>\n      <td>0</td>\n      <td>29</td>\n      <td>213</td>\n      <td>2017-11-09 13:05:08</td>\n      <td>2017-11-09 13:10:04</td>\n    </tr>\n    <tr>\n      <th>233</th>\n      <td>338760</td>\n      <td>121</td>\n      <td>1</td>\n      <td>15</td>\n      <td>203</td>\n      <td>2017-11-09 01:58:53</td>\n      <td>2017-11-09 02:02:14</td>\n    </tr>\n    <tr>\n      <th>234</th>\n      <td>341823</td>\n      <td>10</td>\n      <td>1</td>\n      <td>61</td>\n      <td>113</td>\n      <td>2017-11-09 13:46:18</td>\n      <td>2017-11-09 13:46:48</td>\n    </tr>\n    <tr>\n      <th>235</th>\n      <td>341863</td>\n      <td>10</td>\n      <td>1</td>\n      <td>4</td>\n      <td>113</td>\n      <td>2017-11-09 08:39:31</td>\n      <td>2017-11-09 08:40:00</td>\n    </tr>\n    <tr>\n      <th>236</th>\n      <td>342140</td>\n      <td>19</td>\n      <td>0</td>\n      <td>0</td>\n      <td>213</td>\n      <td>2017-11-09 12:46:45</td>\n      <td>2017-11-09 12:47:33</td>\n    </tr>\n    <tr>\n      <th>237</th>\n      <td>343397</td>\n      <td>10</td>\n      <td>1</td>\n      <td>35</td>\n      <td>113</td>\n      <td>2017-11-09 05:53:05</td>\n      <td>2017-11-09 05:53:35</td>\n    </tr>\n    <tr>\n      <th>238</th>\n      <td>343955</td>\n      <td>10</td>\n      <td>1</td>\n      <td>36</td>\n      <td>113</td>\n      <td>2017-11-09 08:37:11</td>\n      <td>2017-11-09 08:37:42</td>\n    </tr>\n    <tr>\n      <th>239</th>\n      <td>345471</td>\n      <td>19</td>\n      <td>0</td>\n      <td>38</td>\n      <td>347</td>\n      <td>2017-11-08 17:05:58</td>\n      <td>2017-11-09 03:08:42</td>\n    </tr>\n    <tr>\n      <th>240</th>\n      <td>347434</td>\n      <td>32</td>\n      <td>1</td>\n      <td>22</td>\n      <td>376</td>\n      <td>2017-11-09 12:00:37</td>\n      <td>2017-11-09 12:34:29</td>\n    </tr>\n    <tr>\n      <th>241</th>\n      <td>349516</td>\n      <td>45</td>\n      <td>1</td>\n      <td>36</td>\n      <td>465</td>\n      <td>2017-11-09 08:40:03</td>\n      <td>2017-11-09 08:40:14</td>\n    </tr>\n    <tr>\n      <th>242</th>\n      <td>349708</td>\n      <td>108</td>\n      <td>1</td>\n      <td>19</td>\n      <td>243</td>\n      <td>2017-11-09 01:51:54</td>\n      <td>2017-11-09 01:57:55</td>\n    </tr>\n    <tr>\n      <th>243</th>\n      <td>349926</td>\n      <td>16</td>\n      <td>1</td>\n      <td>6</td>\n      <td>268</td>\n      <td>2017-11-08 17:23:21</td>\n      <td>2017-11-08 18:23:01</td>\n    </tr>\n    <tr>\n      <th>244</th>\n      <td>356255</td>\n      <td>19</td>\n      <td>86</td>\n      <td>0</td>\n      <td>213</td>\n      <td>2017-11-09 01:57:18</td>\n      <td>2017-11-09 01:58:43</td>\n    </tr>\n    <tr>\n      <th>245</th>\n      <td>356552</td>\n      <td>19</td>\n      <td>0</td>\n      <td>24</td>\n      <td>347</td>\n      <td>2017-11-09 11:50:55</td>\n      <td>2017-11-09 14:36:23</td>\n    </tr>\n    <tr>\n      <th>246</th>\n      <td>358639</td>\n      <td>19</td>\n      <td>0</td>\n      <td>0</td>\n      <td>213</td>\n      <td>2017-11-09 12:06:10</td>\n      <td>2017-11-09 12:08:42</td>\n    </tr>\n    <tr>\n      <th>247</th>\n      <td>359589</td>\n      <td>148</td>\n      <td>1</td>\n      <td>22</td>\n      <td>282</td>\n      <td>2017-11-09 08:40:29</td>\n      <td>2017-11-09 08:41:18</td>\n    </tr>\n    <tr>\n      <th>248</th>\n      <td>359695</td>\n      <td>19</td>\n      <td>0</td>\n      <td>21</td>\n      <td>213</td>\n      <td>2017-11-09 03:44:51</td>\n      <td>2017-11-09 03:46:00</td>\n    </tr>\n    <tr>\n      <th>249</th>\n      <td>363566</td>\n      <td>19</td>\n      <td>0</td>\n      <td>0</td>\n      <td>213</td>\n      <td>2017-11-09 01:12:13</td>\n      <td>2017-11-09 04:35:41</td>\n    </tr>\n    <tr>\n      <th>250</th>\n      <td>364067</td>\n      <td>10</td>\n      <td>1</td>\n      <td>47</td>\n      <td>113</td>\n      <td>2017-11-09 02:45:04</td>\n      <td>2017-11-09 02:45:28</td>\n    </tr>\n  </tbody>\n</table>\n<p>251 rows × 7 columns</p>\n</div>"
          },
          "metadata": {}
        }
      ]
    },
    {
      "metadata": {
        "trusted": true,
        "_uuid": "02f97a3ba0ee7cd427d09ff50db83852e7331cf4"
      },
      "cell_type": "code",
      "source": "sample_click_list.ip.unique().size",
      "execution_count": 96,
      "outputs": [
        {
          "output_type": "execute_result",
          "execution_count": 96,
          "data": {
            "text/plain": "248"
          },
          "metadata": {}
        }
      ]
    },
    {
      "metadata": {
        "trusted": true,
        "_uuid": "5f12f6a6ddc1ecbe7ea505a52523d27a856019e0"
      },
      "cell_type": "code",
      "source": "for col in sample_train:\n    print (col,'\\t',sample_train[col].unique().size)",
      "execution_count": 102,
      "outputs": [
        {
          "output_type": "stream",
          "text": "ip \t 34686\napp \t 156\ndevice \t 99\nos \t 132\nchannel \t 162\nclick_time \t 80355\nattributed_time \t 252\nis_attributed \t 2\n",
          "name": "stdout"
        }
      ]
    },
    {
      "metadata": {
        "trusted": true,
        "collapsed": true,
        "_uuid": "7867f07f97b7a658b5a9804ca05d8510201bb331"
      },
      "cell_type": "code",
      "source": "",
      "execution_count": null,
      "outputs": []
    }
  ],
  "metadata": {
    "kernelspec": {
      "display_name": "Python 3",
      "language": "python",
      "name": "python3"
    },
    "language_info": {
      "name": "python",
      "version": "3.6.4",
      "mimetype": "text/x-python",
      "codemirror_mode": {
        "name": "ipython",
        "version": 3
      },
      "pygments_lexer": "ipython3",
      "nbconvert_exporter": "python",
      "file_extension": ".py"
    }
  },
  "nbformat": 4,
  "nbformat_minor": 1
}