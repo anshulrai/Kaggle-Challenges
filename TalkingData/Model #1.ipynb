{
  "cells": [
    {
      "metadata": {
        "_uuid": "8f2839f25d086af736a60e9eeb907d3b93b6e0e5",
        "_cell_guid": "b1076dfc-b9ad-4769-8c92-a6c4dae69d19",
        "trusted": true
      },
      "cell_type": "code",
      "source": "import numpy as np # linear algebra\nimport pandas as pd # data processing, CSV file I/O (e.g. pd.read_csv). Collection of functions for data processing and analysis modeled after R dataframes with SQL like features\nimport matplotlib #collection of functions for scientific and publication-ready visualization\nimport scipy as sp #collection of functions for scientific computing and advanced mathematics\nimport IPython\nfrom IPython import display #pretty printing of dataframes in Jupyter notebook\nimport sklearn #collection of machine learning algorithms\nimport matplotlib.pyplot as plt\nimport seaborn as sns\nimport gc\nimport datetime\nfrom sklearn import svm, tree, linear_model, neighbors, naive_bayes, ensemble, discriminant_analysis, gaussian_process\nfrom xgboost import XGBClassifier\nfrom sklearn.preprocessing import OneHotEncoder, LabelEncoder\nfrom sklearn import feature_selection, model_selection, metrics\n# Input data files are available in the \"../input/\" directory.\n# For example, running this (by clicking run or pressing Shift+Enter) will list the files in the input directory\n\nimport os\nprint(os.listdir(\"../input\"))\n\n# Any results you write to the current directory are saved as output.",
      "execution_count": 25,
      "outputs": [
        {
          "output_type": "stream",
          "text": "['test_supplement.csv', 'train.csv', 'test.csv', 'sample_submission.csv', 'train_sample.csv']\n",
          "name": "stdout"
        }
      ]
    },
    {
      "metadata": {
        "collapsed": true,
        "_uuid": "d629ff2d2480ee46fbb7e2d37f6b5fab8052498a",
        "_cell_guid": "79c7e3d0-c299-4dcb-8224-4455121ee9b0",
        "trusted": true
      },
      "cell_type": "code",
      "source": "data_types = {\n        'ip'            : 'uint32',\n        'app'           : 'uint16',\n        'device'        : 'uint16',\n        'os'            : 'uint16',\n        'channel'       : 'uint16',\n        'is_attributed' : 'bool',\n        }",
      "execution_count": 26,
      "outputs": []
    },
    {
      "metadata": {
        "trusted": true,
        "collapsed": true,
        "_uuid": "8d16864a4f67889c438d7b71d9eec8060c2fca69"
      },
      "cell_type": "code",
      "source": "def CleanData (dataset):\n    dataset['click_time'] = pd.to_datetime(dataset['click_time'])\n    dataset['attributed_time'] = pd.to_datetime(dataset['attributed_time'])",
      "execution_count": 27,
      "outputs": []
    },
    {
      "metadata": {
        "trusted": true,
        "collapsed": true,
        "_uuid": "106f2e58301782d1084297268362ec15aaeb6044"
      },
      "cell_type": "code",
      "source": "def FeatureEngineering (dataset):\n    dataset['click_time_hour'] = dataset['click_time'].dt.round('H')\n    dataset['click_time_half'] = dataset['click_time'].dt.round('0.5H')\n    dataset['click_time_qtr'] = dataset['click_time'].dt.round('15min')\n    dataset['click_time_hour'] = dataset['click_time_hour'].map(lambda x: x.time())\n    dataset['click_time_half'] = dataset['click_time_half'].map(lambda x: x.time())\n    dataset['click_time_qtr'] = dataset['click_time_qtr'].map(lambda x: x.time())",
      "execution_count": 28,
      "outputs": []
    },
    {
      "metadata": {
        "trusted": true,
        "collapsed": true,
        "_uuid": "f712a235648dd1efe3e64a57fbafbc807c13bcef"
      },
      "cell_type": "code",
      "source": "def TargetEncoder (dataset):\n    target_ip = (dataset[dataset.is_attributed == True].ip.value_counts()/dataset.ip.value_counts()).fillna(0)\n    target_app = (dataset[dataset.is_attributed == True].app.value_counts()/dataset.app.value_counts()).fillna(0)\n    target_device = (dataset[dataset.is_attributed == True].device.value_counts()/dataset.device.value_counts()).fillna(0)\n    target_os = (dataset[dataset.is_attributed == True].os.value_counts()/dataset.os.value_counts()).fillna(0)\n    target_channel = (dataset[dataset.is_attributed == True].channel.value_counts()/dataset.channel.value_counts()).fillna(0)\n    target_temp_hour = (dataset[dataset.is_attributed == True].click_time_hour.value_counts()/dataset.click_time_hour.value_counts()).fillna(0)\n    target_temp_half = (dataset[dataset.is_attributed == True].click_time_half.value_counts()/dataset.click_time_half.value_counts()).fillna(0)\n    target_temp_qtr = (dataset[dataset.is_attributed == True].click_time_qtr.value_counts()/dataset.click_time_qtr.value_counts()).fillna(0)",
      "execution_count": 29,
      "outputs": []
    },
    {
      "metadata": {
        "trusted": true,
        "_uuid": "b1f6d6ace5879f095256d0330bd8b28b4685af05"
      },
      "cell_type": "code",
      "source": "train_df = pd.read_csv('../input/train_sample.csv', dtype=data_types)\ntrain_df.info()",
      "execution_count": 30,
      "outputs": [
        {
          "output_type": "stream",
          "text": "<class 'pandas.core.frame.DataFrame'>\nRangeIndex: 100000 entries, 0 to 99999\nData columns (total 8 columns):\nip                 100000 non-null uint32\napp                100000 non-null uint16\ndevice             100000 non-null uint16\nos                 100000 non-null uint16\nchannel            100000 non-null uint16\nclick_time         100000 non-null object\nattributed_time    251 non-null object\nis_attributed      100000 non-null bool\ndtypes: bool(1), object(2), uint16(4), uint32(1)\nmemory usage: 2.8+ MB\n",
          "name": "stdout"
        }
      ]
    },
    {
      "metadata": {
        "trusted": true,
        "collapsed": true,
        "_uuid": "3c90e45d8dc2a9ecb37f5f9e2095acf52e600b00"
      },
      "cell_type": "code",
      "source": "CleanData(train_df)\nFeatureEngineering(train_df)",
      "execution_count": 31,
      "outputs": []
    },
    {
      "metadata": {
        "trusted": true,
        "_uuid": "2471034c085180f87931a0e02e5b91e34052c718"
      },
      "cell_type": "code",
      "source": "train_df.info()\ntrain_df.head()",
      "execution_count": 32,
      "outputs": [
        {
          "output_type": "stream",
          "text": "<class 'pandas.core.frame.DataFrame'>\nRangeIndex: 100000 entries, 0 to 99999\nData columns (total 11 columns):\nip                 100000 non-null uint32\napp                100000 non-null uint16\ndevice             100000 non-null uint16\nos                 100000 non-null uint16\nchannel            100000 non-null uint16\nclick_time         100000 non-null datetime64[ns]\nattributed_time    251 non-null datetime64[ns]\nis_attributed      100000 non-null bool\nclick_time_hour    100000 non-null object\nclick_time_half    100000 non-null object\nclick_time_qtr     100000 non-null object\ndtypes: bool(1), datetime64[ns](2), object(3), uint16(4), uint32(1)\nmemory usage: 5.1+ MB\n",
          "name": "stdout"
        },
        {
          "output_type": "execute_result",
          "execution_count": 32,
          "data": {
            "text/plain": "       ip  app  device  os  channel          click_time attributed_time  \\\n0   29540    3       1  42      489 2017-11-08 03:57:46             NaT   \n1   26777   11       1  25      319 2017-11-09 11:02:14             NaT   \n2  140926   12       1  13      140 2017-11-07 04:36:14             NaT   \n3   69375    2       1  19      377 2017-11-09 13:17:20             NaT   \n4  119166    9       2  15      445 2017-11-07 12:11:37             NaT   \n\n   is_attributed click_time_hour click_time_half click_time_qtr  \n0          False        04:00:00        04:00:00       04:00:00  \n1          False        11:00:00        11:00:00       11:00:00  \n2          False        05:00:00        04:30:00       04:30:00  \n3          False        13:00:00        13:30:00       13:15:00  \n4          False        12:00:00        12:00:00       12:15:00  ",
            "text/html": "<div>\n<style scoped>\n    .dataframe tbody tr th:only-of-type {\n        vertical-align: middle;\n    }\n\n    .dataframe tbody tr th {\n        vertical-align: top;\n    }\n\n    .dataframe thead th {\n        text-align: right;\n    }\n</style>\n<table border=\"1\" class=\"dataframe\">\n  <thead>\n    <tr style=\"text-align: right;\">\n      <th></th>\n      <th>ip</th>\n      <th>app</th>\n      <th>device</th>\n      <th>os</th>\n      <th>channel</th>\n      <th>click_time</th>\n      <th>attributed_time</th>\n      <th>is_attributed</th>\n      <th>click_time_hour</th>\n      <th>click_time_half</th>\n      <th>click_time_qtr</th>\n    </tr>\n  </thead>\n  <tbody>\n    <tr>\n      <th>0</th>\n      <td>29540</td>\n      <td>3</td>\n      <td>1</td>\n      <td>42</td>\n      <td>489</td>\n      <td>2017-11-08 03:57:46</td>\n      <td>NaT</td>\n      <td>False</td>\n      <td>04:00:00</td>\n      <td>04:00:00</td>\n      <td>04:00:00</td>\n    </tr>\n    <tr>\n      <th>1</th>\n      <td>26777</td>\n      <td>11</td>\n      <td>1</td>\n      <td>25</td>\n      <td>319</td>\n      <td>2017-11-09 11:02:14</td>\n      <td>NaT</td>\n      <td>False</td>\n      <td>11:00:00</td>\n      <td>11:00:00</td>\n      <td>11:00:00</td>\n    </tr>\n    <tr>\n      <th>2</th>\n      <td>140926</td>\n      <td>12</td>\n      <td>1</td>\n      <td>13</td>\n      <td>140</td>\n      <td>2017-11-07 04:36:14</td>\n      <td>NaT</td>\n      <td>False</td>\n      <td>05:00:00</td>\n      <td>04:30:00</td>\n      <td>04:30:00</td>\n    </tr>\n    <tr>\n      <th>3</th>\n      <td>69375</td>\n      <td>2</td>\n      <td>1</td>\n      <td>19</td>\n      <td>377</td>\n      <td>2017-11-09 13:17:20</td>\n      <td>NaT</td>\n      <td>False</td>\n      <td>13:00:00</td>\n      <td>13:30:00</td>\n      <td>13:15:00</td>\n    </tr>\n    <tr>\n      <th>4</th>\n      <td>119166</td>\n      <td>9</td>\n      <td>2</td>\n      <td>15</td>\n      <td>445</td>\n      <td>2017-11-07 12:11:37</td>\n      <td>NaT</td>\n      <td>False</td>\n      <td>12:00:00</td>\n      <td>12:00:00</td>\n      <td>12:15:00</td>\n    </tr>\n  </tbody>\n</table>\n</div>"
          },
          "metadata": {}
        }
      ]
    },
    {
      "metadata": {
        "trusted": true,
        "collapsed": true,
        "_uuid": "b1e5e9f3a559b7b1fe88037feedc5b58228dd8a6"
      },
      "cell_type": "code",
      "source": "ip_attributed = {}\napp_attributed = {}\ndevice_attributed = {}\nos_attributed = {}\nchannel_attributed = {}\nclick_time_hour_attributed = {}\nclick_time_half_attributed = {}\nclick_time_qtr_attributed = {}",
      "execution_count": 33,
      "outputs": []
    },
    {
      "metadata": {
        "trusted": true,
        "collapsed": true,
        "_uuid": "4235bf0ac16cc59a9ca3d06ce1dcff04cfbcf031"
      },
      "cell_type": "code",
      "source": "ip_total = {}\napp_total = {}\ndevice_total = {}\nos_total = {}\nchannel_total = {}\nclick_time_hour_total = {}\nclick_time_half_total = {}\nclick_time_qtr_total = {}",
      "execution_count": 34,
      "outputs": []
    },
    {
      "metadata": {
        "trusted": true,
        "collapsed": true,
        "_uuid": "ff8ed58514e6b9bc20b9c07413257439977eaa91"
      },
      "cell_type": "code",
      "source": "chunk_size = 10000",
      "execution_count": 35,
      "outputs": []
    },
    {
      "metadata": {
        "trusted": true,
        "_uuid": "e0f05336b8c64a0590492a81916edabfe8c17408"
      },
      "cell_type": "code",
      "source": "for col in train_df:\n    print(train_df[col][0])",
      "execution_count": 36,
      "outputs": [
        {
          "output_type": "stream",
          "text": "29540\n3\n1\n42\n489\n2017-11-08 03:57:46\nNaT\nFalse\n04:00:00\n04:00:00\n04:00:00\n",
          "name": "stdout"
        }
      ]
    },
    {
      "metadata": {
        "trusted": true,
        "_uuid": "43069a4c6f2bd1f43766027c320ee3d70dc30b8d"
      },
      "cell_type": "code",
      "source": "for chunk in pd.read_csv('../input/train_sample.csv', dtype=data_types, chunksize=chunk_size):\n    print (chunk.info(),'\\n\\n')",
      "execution_count": 37,
      "outputs": [
        {
          "output_type": "stream",
          "text": "<class 'pandas.core.frame.DataFrame'>\nRangeIndex: 10000 entries, 0 to 9999\nData columns (total 8 columns):\nip                 10000 non-null uint32\napp                10000 non-null uint16\ndevice             10000 non-null uint16\nos                 10000 non-null uint16\nchannel            10000 non-null uint16\nclick_time         10000 non-null object\nattributed_time    31 non-null object\nis_attributed      10000 non-null bool\ndtypes: bool(1), object(2), uint16(4), uint32(1)\nmemory usage: 283.3+ KB\nNone \n\n\n<class 'pandas.core.frame.DataFrame'>\nRangeIndex: 10000 entries, 10000 to 19999\nData columns (total 8 columns):\nip                 10000 non-null uint32\napp                10000 non-null uint16\ndevice             10000 non-null uint16\nos                 10000 non-null uint16\nchannel            10000 non-null uint16\nclick_time         10000 non-null object\nattributed_time    22 non-null object\nis_attributed      10000 non-null bool\ndtypes: bool(1), object(2), uint16(4), uint32(1)\nmemory usage: 283.3+ KB\nNone \n\n\n<class 'pandas.core.frame.DataFrame'>\nRangeIndex: 10000 entries, 20000 to 29999\nData columns (total 8 columns):\nip                 10000 non-null uint32\napp                10000 non-null uint16\ndevice             10000 non-null uint16\nos                 10000 non-null uint16\nchannel            10000 non-null uint16\nclick_time         10000 non-null object\nattributed_time    15 non-null object\nis_attributed      10000 non-null bool\ndtypes: bool(1), object(2), uint16(4), uint32(1)\nmemory usage: 283.3+ KB\nNone \n\n\n<class 'pandas.core.frame.DataFrame'>\nRangeIndex: 10000 entries, 30000 to 39999\nData columns (total 8 columns):\nip                 10000 non-null uint32\napp                10000 non-null uint16\ndevice             10000 non-null uint16\nos                 10000 non-null uint16\nchannel            10000 non-null uint16\nclick_time         10000 non-null object\nattributed_time    31 non-null object\nis_attributed      10000 non-null bool\ndtypes: bool(1), object(2), uint16(4), uint32(1)\nmemory usage: 283.3+ KB\nNone \n\n\n<class 'pandas.core.frame.DataFrame'>\nRangeIndex: 10000 entries, 40000 to 49999\nData columns (total 8 columns):\nip                 10000 non-null uint32\napp                10000 non-null uint16\ndevice             10000 non-null uint16\nos                 10000 non-null uint16\nchannel            10000 non-null uint16\nclick_time         10000 non-null object\nattributed_time    22 non-null object\nis_attributed      10000 non-null bool\ndtypes: bool(1), object(2), uint16(4), uint32(1)\nmemory usage: 283.3+ KB\nNone \n\n\n<class 'pandas.core.frame.DataFrame'>\nRangeIndex: 10000 entries, 50000 to 59999\nData columns (total 8 columns):\nip                 10000 non-null uint32\napp                10000 non-null uint16\ndevice             10000 non-null uint16\nos                 10000 non-null uint16\nchannel            10000 non-null uint16\nclick_time         10000 non-null object\nattributed_time    32 non-null object\nis_attributed      10000 non-null bool\ndtypes: bool(1), object(2), uint16(4), uint32(1)\nmemory usage: 283.3+ KB\nNone \n\n\n<class 'pandas.core.frame.DataFrame'>\nRangeIndex: 10000 entries, 60000 to 69999\nData columns (total 8 columns):\nip                 10000 non-null uint32\napp                10000 non-null uint16\ndevice             10000 non-null uint16\nos                 10000 non-null uint16\nchannel            10000 non-null uint16\nclick_time         10000 non-null object\nattributed_time    25 non-null object\nis_attributed      10000 non-null bool\ndtypes: bool(1), object(2), uint16(4), uint32(1)\nmemory usage: 283.3+ KB\nNone \n\n\n<class 'pandas.core.frame.DataFrame'>\nRangeIndex: 10000 entries, 70000 to 79999\nData columns (total 8 columns):\nip                 10000 non-null uint32\napp                10000 non-null uint16\ndevice             10000 non-null uint16\nos                 10000 non-null uint16\nchannel            10000 non-null uint16\nclick_time         10000 non-null object\nattributed_time    30 non-null object\nis_attributed      10000 non-null bool\ndtypes: bool(1), object(2), uint16(4), uint32(1)\nmemory usage: 283.3+ KB\nNone \n\n\n<class 'pandas.core.frame.DataFrame'>\nRangeIndex: 10000 entries, 80000 to 89999\nData columns (total 8 columns):\nip                 10000 non-null uint32\napp                10000 non-null uint16\ndevice             10000 non-null uint16\nos                 10000 non-null uint16\nchannel            10000 non-null uint16\nclick_time         10000 non-null object\nattributed_time    15 non-null object\nis_attributed      10000 non-null bool\ndtypes: bool(1), object(2), uint16(4), uint32(1)\nmemory usage: 283.3+ KB\nNone \n\n\n<class 'pandas.core.frame.DataFrame'>\nRangeIndex: 10000 entries, 90000 to 99999\nData columns (total 8 columns):\nip                 10000 non-null uint32\napp                10000 non-null uint16\ndevice             10000 non-null uint16\nos                 10000 non-null uint16\nchannel            10000 non-null uint16\nclick_time         10000 non-null object\nattributed_time    28 non-null object\nis_attributed      10000 non-null bool\ndtypes: bool(1), object(2), uint16(4), uint32(1)\nmemory usage: 283.3+ KB\nNone \n\n\n",
          "name": "stdout"
        }
      ]
    },
    {
      "metadata": {
        "trusted": true,
        "collapsed": true,
        "_uuid": "a1e5a99324c6f61bbdff70ddacf90d67c0787e50"
      },
      "cell_type": "code",
      "source": "",
      "execution_count": null,
      "outputs": []
    }
  ],
  "metadata": {
    "kernelspec": {
      "display_name": "Python 3",
      "language": "python",
      "name": "python3"
    },
    "language_info": {
      "name": "python",
      "version": "3.6.4",
      "mimetype": "text/x-python",
      "codemirror_mode": {
        "name": "ipython",
        "version": 3
      },
      "pygments_lexer": "ipython3",
      "nbconvert_exporter": "python",
      "file_extension": ".py"
    }
  },
  "nbformat": 4,
  "nbformat_minor": 1
}