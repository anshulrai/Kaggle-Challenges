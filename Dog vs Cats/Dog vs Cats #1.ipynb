{
  "cells": [
    {
      "metadata": {
        "_uuid": "8f2839f25d086af736a60e9eeb907d3b93b6e0e5",
        "_cell_guid": "b1076dfc-b9ad-4769-8c92-a6c4dae69d19",
        "trusted": true,
        "collapsed": true
      },
      "cell_type": "code",
      "source": "# This Python 3 environment comes with many helpful analytics libraries installed\n# It is defined by the kaggle/python docker image: https://github.com/kaggle/docker-python\n# For example, here's several helpful packages to load in \n\nimport numpy as np # linear algebra\nimport pandas as pd # data processing, CSV file I/O (e.g. pd.read_csv)\n\n# Input data files are available in the \"../input/\" directory.\n# For example, running this (by clicking run or pressing Shift+Enter) will list the files in the input directory\nimport glob\nimport shutil\nimport os\nprint(os.listdir(\"../input/\"))\n\n# Any results you write to the current directory are saved as output.",
      "execution_count": 1,
      "outputs": []
    },
    {
      "metadata": {
        "trusted": true,
        "_uuid": "f25b5671f3a52bd6464eef5792c77621b2d4c8ab",
        "collapsed": true
      },
      "cell_type": "code",
      "source": "os.makedirs('../working/dogcats/cats/')\nos.makedirs('../working/dogcats/dogs/')",
      "execution_count": 3,
      "outputs": []
    },
    {
      "metadata": {
        "trusted": true,
        "collapsed": true,
        "_uuid": "f8d0cab0b4c51a077f3ba128ad8214ca356868ba"
      },
      "cell_type": "code",
      "source": "src_dir = \"../input/train/\"\ndst_dir_1 = \"../working/dogcats/cats/\"\ndst_dir_2 = \"../working/dogcats/dogs/\"",
      "execution_count": 4,
      "outputs": []
    },
    {
      "metadata": {
        "trusted": true,
        "_uuid": "cba01281147d187b0e03004c36ed095786e7e829",
        "collapsed": true
      },
      "cell_type": "code",
      "source": "for jpgfile in glob.iglob(os.path.join(src_dir, \"cat*.jpg\")):\n    shutil.copy(jpgfile, dst_dir_1)\n\nfor jpgfile in glob.iglob(os.path.join(src_dir, \"dog*.jpg\")):\n    shutil.copy(jpgfile, dst_dir_2)",
      "execution_count": 5,
      "outputs": []
    },
    {
      "metadata": {
        "trusted": true,
        "collapsed": true,
        "_uuid": "ce105b515d5ee91046f386352ad637f7b3c5076b"
      },
      "cell_type": "code",
      "source": "",
      "execution_count": null,
      "outputs": []
    }
  ],
  "metadata": {
    "kernelspec": {
      "display_name": "Python 3",
      "language": "python",
      "name": "python3"
    },
    "language_info": {
      "name": "python",
      "version": "3.6.4",
      "mimetype": "text/x-python",
      "codemirror_mode": {
        "name": "ipython",
        "version": 3
      },
      "pygments_lexer": "ipython3",
      "nbconvert_exporter": "python",
      "file_extension": ".py"
    }
  },
  "nbformat": 4,
  "nbformat_minor": 1
}