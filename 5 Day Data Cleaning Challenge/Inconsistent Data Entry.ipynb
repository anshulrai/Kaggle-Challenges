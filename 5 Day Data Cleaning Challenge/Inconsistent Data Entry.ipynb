{
  "cells": [
    {
      "metadata": {
        "_cell_guid": "b91a74ba-85f4-486e-b5f9-d0898f0626bf",
        "_uuid": "6ac53f18b4f4ec0fc44348cedb5d1c319fa127c0"
      },
      "cell_type": "markdown",
      "source": "### Previous days\n\n* [Day 1: Handling missing values](https://www.kaggle.com/rtatman/data-cleaning-challenge-handling-missing-values)\n* [Day 2: Scaling and normalization](https://www.kaggle.com/rtatman/data-cleaning-challenge-scale-and-normalize-data)\n* [Day 3: Parsing dates](https://www.kaggle.com/rtatman/data-cleaning-challenge-parsing-dates/)\n* [Day 4: Character encodings](https://www.kaggle.com/rtatman/data-cleaning-challenge-character-encodings/)\n___\n\nWelcome to day 5 of the 5-Day Data Challenge! (Can you believe it's already been five days??) Today, we're going to learn how to clean up inconsistent text entries. To get started, click the blue \"Fork Notebook\" button in the upper, right hand corner. This will create a private copy of this notebook that you can edit and play with. Once you're finished with the exercises, you can choose to make your notebook public to share with others. :)\n\n> **Your turn!** As we work through this notebook, you'll see some notebook cells (a block of either code or text) that has \"Your Turn!\" written in it. These are exercises for you to do to help cement your understanding of the concepts we're talking about. Once you've written the code to answer a specific question, you can run the code by clicking inside the cell (box with code in it) with the code you want to run and then hit CTRL + ENTER (CMD + ENTER on a Mac). You can also click in a cell and then click on the right \"play\" arrow to the left of the code. If you want to run all the code in your notebook, you can use the double, \"fast forward\" arrows at the bottom of the notebook editor.\n\nHere's what we're going to do today:\n\n* [Get our environment set up](#Get-our-environment-set-up)\n* [Do some preliminary text pre-processing](#Do-some-preliminary-text-pre-processing)\n* [Use fuzzy matching to correct inconsistent data entry](#Use-fuzzy-matching-to-correct-inconsistent-data-entry)\n\n\nLet's get started!"
    },
    {
      "metadata": {
        "_cell_guid": "5cd5061f-ae30-4837-a53b-690ffd5c5830",
        "_uuid": "9d82bf13584b8e682962fbb96131f2447d741679"
      },
      "cell_type": "markdown",
      "source": "# Get our environment set up\n________\n\nThe first thing we'll need to do is load in the libraries we'll be using. Not our datasets, though: we'll get to those later!\n\n> **Important!** Make sure you run this cell yourself or the rest of your code won't work!"
    },
    {
      "metadata": {
        "_cell_guid": "135a7804-b5f5-40aa-8657-4a15774e3666",
        "_uuid": "835cbe0834b935fb0fd40c75b9c39454836f4d5f",
        "collapsed": true,
        "trusted": true
      },
      "cell_type": "code",
      "source": "# modules we'll use\nimport pandas as pd\nimport numpy as np\n\n# helpful modules\nimport fuzzywuzzy\nfrom fuzzywuzzy import process\nimport chardet\n\n# set seed for reproducibility\nnp.random.seed(0)",
      "execution_count": 1,
      "outputs": []
    },
    {
      "metadata": {
        "_cell_guid": "5169ae8c-6210-400a-ace2-e5fbe00378fc",
        "_uuid": "ed09d242e94e22f1bac2dc446d7545b1d1f5d5c5"
      },
      "cell_type": "markdown",
      "source": "When I tried to read in the `PakistanSuicideAttacks Ver 11 (30-November-2017).csv`file the first time, I got a character encoding error, so I'm going to quickly check out what the encoding should be..."
    },
    {
      "metadata": {
        "trusted": true,
        "_uuid": "328a4e66a6963ed9711958b944877fb68000deae"
      },
      "cell_type": "code",
      "source": "with open('../input/PakistanSuicideAttacks Ver 11 (30-November-2017).csv', 'rb') as rawdata:\n    result = chardet.detect(rawdata.read(100000))\n    \nprint (result)",
      "execution_count": 3,
      "outputs": [
        {
          "name": "stdout",
          "output_type": "stream",
          "text": "{'encoding': 'Windows-1252', 'confidence': 0.73, 'language': ''}\n"
        }
      ]
    },
    {
      "metadata": {
        "_cell_guid": "6a60be35-cd57-4dcc-9b98-c365de041332",
        "_uuid": "71d00770de8e42e926d8dc5a3a8b48b2c368ea43"
      },
      "cell_type": "markdown",
      "source": "And then read it in with the correct encoding. (If this look unfamiliar to you, check out [yesterday's challenge](https://www.kaggle.com/rtatman/data-cleaning-challenge-character-encodings/).) "
    },
    {
      "metadata": {
        "collapsed": true,
        "trusted": true,
        "_uuid": "e624af3956d61ad40f6fdc8932f432b27e276a03"
      },
      "cell_type": "code",
      "source": "suicide_attacks = pd.read_csv('../input/PakistanSuicideAttacks Ver 11 (30-November-2017).csv', encoding='Windows-1252')",
      "execution_count": 4,
      "outputs": []
    },
    {
      "metadata": {
        "_cell_guid": "83630dd4-6775-4ba5-a290-077c6f503f64",
        "_uuid": "a3f42cea88795426f036e35d30d5c079f3c6152c"
      },
      "cell_type": "markdown",
      "source": "Now we're ready to get started! You can, as always, take a moment here to look at the data and get familiar with it. :)\n\n\n# Do some preliminary text pre-processing\n___\n\nFor this exercise, I'm interested in cleaning up the \"City\" column to make sure there's no data entry inconsistencies in it. We could go through and check each row by hand, of course, and hand-correct inconsistencies when we find them. There's a more efficient way to do this though!"
    },
    {
      "metadata": {
        "trusted": true,
        "_uuid": "bad57b8e5fd87131cc8048a294d1d39c2932fa07"
      },
      "cell_type": "code",
      "source": "suicide_attacks.isna().sum()/(suicide_attacks.isna().sum() + suicide_attacks.count())",
      "execution_count": 13,
      "outputs": [
        {
          "data": {
            "text/plain": "S#                         0.000000\nDate                       0.000000\nIslamic Date               0.310484\nBlast Day Type             0.020161\nHoliday Type               0.854839\nTime                       0.425403\nCity                       0.000000\nLatitude                   0.006048\nLongitude                  0.006048\nProvince                   0.000000\nLocation                   0.006048\nLocation Category          0.070565\nLocation Sensitivity       0.072581\nOpen/Closed Space          0.070565\nInfluencing Event/Event    0.614919\nTarget Type                0.052419\nTargeted Sect if any       0.096774\nKilled Min                 0.294355\nKilled Max                 0.032258\nInjured Min                0.264113\nInjured Max                0.064516\nNo. of Suicide Blasts      0.165323\nExplosive Weight (max)     0.653226\nHospital Names             0.401210\nTemperature(C)             0.010081\nTemperature(F)             0.014113\ndtype: float64"
          },
          "execution_count": 13,
          "metadata": {},
          "output_type": "execute_result"
        }
      ]
    },
    {
      "metadata": {
        "_cell_guid": "b3d4b17e-77c4-46d8-9681-a94801969b49",
        "_uuid": "4bced8b6f6a985ded2c991f46ed0145ac1d8b722",
        "trusted": true
      },
      "cell_type": "code",
      "source": "# get all the unique values in the 'City' column\ncities = suicide_attacks['City'].unique()\n\n# sort them alphabetically and then take a closer look\ncities.sort()\ncities",
      "execution_count": 23,
      "outputs": [
        {
          "data": {
            "text/plain": "array(['ATTOCK', 'Attock ', 'Bajaur Agency', 'Bannu', 'Bhakkar ', 'Buner',\n       'Chakwal ', 'Chaman', 'Charsadda', 'Charsadda ', 'D. I Khan',\n       'D.G Khan', 'D.G Khan ', 'D.I Khan', 'D.I Khan ', 'Dara Adam Khel',\n       'Dara Adam khel', 'Fateh Jang', 'Ghallanai, Mohmand Agency ',\n       'Gujrat', 'Hangu', 'Haripur', 'Hayatabad', 'Islamabad',\n       'Islamabad ', 'Jacobabad', 'KURRAM AGENCY', 'Karachi', 'Karachi ',\n       'Karak', 'Khanewal', 'Khuzdar', 'Khyber Agency', 'Khyber Agency ',\n       'Kohat', 'Kohat ', 'Kuram Agency ', 'Lahore', 'Lahore ',\n       'Lakki Marwat', 'Lakki marwat', 'Lasbela', 'Lower Dir', 'MULTAN',\n       'Malakand ', 'Mansehra', 'Mardan', 'Mohmand Agency',\n       'Mohmand Agency ', 'Mohmand agency', 'Mosal Kor, Mohmand Agency',\n       'Multan', 'Muzaffarabad', 'North Waziristan', 'North waziristan',\n       'Nowshehra', 'Orakzai Agency', 'Peshawar', 'Peshawar ', 'Pishin',\n       'Poonch', 'Quetta', 'Quetta ', 'Rawalpindi', 'Sargodha',\n       'Sehwan town', 'Shabqadar-Charsadda', 'Shangla ', 'Shikarpur',\n       'Sialkot', 'South Waziristan', 'South waziristan', 'Sudhanoti',\n       'Sukkur', 'Swabi ', 'Swat', 'Swat ', 'Taftan',\n       'Tangi, Charsadda District', 'Tank', 'Tank ', 'Taunsa',\n       'Tirah Valley', 'Totalai', 'Upper Dir', 'Wagah', 'Zhob', 'bannu',\n       'karachi', 'karachi ', 'lakki marwat', 'peshawar', 'swat'],\n      dtype=object)"
          },
          "execution_count": 23,
          "metadata": {},
          "output_type": "execute_result"
        }
      ]
    },
    {
      "metadata": {
        "_cell_guid": "c11d7808-e677-4ec3-a357-0a3e9bed4cf5",
        "_uuid": "8785e8cc59b40e6ac7a824184132460e22a99f87"
      },
      "cell_type": "markdown",
      "source": "Just looking at this, I can see some problems due to inconsistent data entry: 'Lahore' and 'Lahore ', for example, or 'Lakki Marwat' and 'Lakki marwat'.\n\nThe first thing I'm going to do is make everything lower case (I can change it back at the end if I like) and remove any white spaces at the beginning and end of cells. Inconsistencies in capitalizations and trailing white spaces are very common in text data and you can fix a good 80% of your text data entry inconsistencies by doing this."
    },
    {
      "metadata": {
        "_cell_guid": "61651d57-f28c-4b81-bd05-b82720a8ed18",
        "_uuid": "2b604c74492419f89a43262d1f811e272646f9a6",
        "trusted": true
      },
      "cell_type": "code",
      "source": "# convert to lower case\nsuicide_attacks['City'] = suicide_attacks['City'].str.lower()\n# remove trailing white spaces\nsuicide_attacks['City'] = suicide_attacks['City'].str.strip()\n\nsuicide_attacks['City'].unique()",
      "execution_count": 35,
      "outputs": [
        {
          "data": {
            "text/plain": "array(['islamabad', 'karachi', 'quetta', 'rawalpindi', 'north waziristan',\n       'kohat', 'attock', 'sialkot', 'lahore', 'swat', 'hangu', 'bannu',\n       'lasbela', 'malakand', 'peshawar', 'd.i khan', 'lakki marwat',\n       'tank', 'gujrat', 'charsadda', 'kuram agency', 'shangla',\n       'bajaur agency', 'south waziristan', 'haripur', 'sargodha',\n       'nowshehra', 'mohmand agency', 'dara adam khel', 'khyber agency',\n       'mardan', 'bhakkar', 'orakzai agency', 'buner', 'd.g khan',\n       'pishin', 'chakwal', 'upper dir', 'muzaffarabad', 'totalai',\n       'multan', 'lower dir', 'sudhanoti', 'poonch', 'mansehra', 'karak',\n       'swabi', 'shikarpur', 'sukkur', 'chaman', 'd. i khan', 'khanewal',\n       'fateh jang', 'taftan', 'tirah valley', 'wagah', 'zhob',\n       'kurram agency', 'taunsa', 'jacobabad', 'shabqadar-charsadda',\n       'khuzdar', 'ghallanai, mohmand agency', 'hayatabad',\n       'mosal kor, mohmand agency', 'sehwan town',\n       'tangi, charsadda district'], dtype=object)"
          },
          "execution_count": 35,
          "metadata": {},
          "output_type": "execute_result"
        }
      ]
    },
    {
      "metadata": {
        "_cell_guid": "4c11e916-981a-41c3-b79f-9ac60521d6a2",
        "_uuid": "29388ff41b320262a8fe17a8f2a347ae919bad7c"
      },
      "cell_type": "markdown",
      "source": "Next we're going to tackle more difficult inconsistencies."
    },
    {
      "metadata": {
        "trusted": true,
        "_uuid": "fc89828450cf21e3976c73f2ca5e881d6c30f2a7"
      },
      "cell_type": "code",
      "source": "suicide_attacks['Province'].value_counts()",
      "execution_count": 41,
      "outputs": [
        {
          "data": {
            "text/plain": "kpk            251\nfata            73\npunjab          64\nsindh           35\nbaluchistan     31\ncapital         20\nbalochistan     16\najk              6\nName: Province, dtype: int64"
          },
          "execution_count": 41,
          "metadata": {},
          "output_type": "execute_result"
        }
      ]
    },
    {
      "metadata": {
        "_cell_guid": "3deb3f1b-80e0-4a94-9bf7-1c9cd4882c18",
        "_uuid": "27aeda660f0e95ccb24bf8c5c1e1d5cfb22be7a8",
        "trusted": true
      },
      "cell_type": "code",
      "source": "# Your turn! Take a look at all the unique values in the \"Province\" column. \n# Then convert the column to lowercase and remove any trailing white spaces\nsuicide_attacks['Province'] = suicide_attacks['Province'].str.lower()\nsuicide_attacks['Province'] = suicide_attacks['Province'].str.strip()\n\nsuicide_attacks['Province'].value_counts()",
      "execution_count": 40,
      "outputs": [
        {
          "data": {
            "text/plain": "kpk            251\nfata            73\npunjab          64\nsindh           35\nbaluchistan     31\ncapital         20\nbalochistan     16\najk              6\nName: Province, dtype: int64"
          },
          "execution_count": 40,
          "metadata": {},
          "output_type": "execute_result"
        }
      ]
    },
    {
      "metadata": {
        "_cell_guid": "a612e0fa-1361-4e8e-a6aa-5008b631d076",
        "_uuid": "3639865348f499faa25b75a46438807ed70d4173"
      },
      "cell_type": "markdown",
      "source": "# Use fuzzy matching to correct inconsistent data entry\n___\n\nAlright, let's take another look at the city column and see if there's any more data cleaning we need to do."
    },
    {
      "metadata": {
        "_cell_guid": "8f20fd24-33a4-472d-ba22-be0abc2a1e5b",
        "_uuid": "1408dacdd7b76f306bd1c0c534b991d76243d7cc",
        "trusted": true
      },
      "cell_type": "code",
      "source": "# get all the unique values in the 'City' column\ncities = suicide_attacks['City'].unique()\n\n# sort them alphabetically and then take a closer look\ncities.sort()\ncities",
      "execution_count": 42,
      "outputs": [
        {
          "data": {
            "text/plain": "array(['attock', 'bajaur agency', 'bannu', 'bhakkar', 'buner', 'chakwal',\n       'chaman', 'charsadda', 'd. i khan', 'd.g khan', 'd.i khan',\n       'dara adam khel', 'fateh jang', 'ghallanai, mohmand agency',\n       'gujrat', 'hangu', 'haripur', 'hayatabad', 'islamabad',\n       'jacobabad', 'karachi', 'karak', 'khanewal', 'khuzdar',\n       'khyber agency', 'kohat', 'kuram agency', 'kurram agency',\n       'lahore', 'lakki marwat', 'lasbela', 'lower dir', 'malakand',\n       'mansehra', 'mardan', 'mohmand agency',\n       'mosal kor, mohmand agency', 'multan', 'muzaffarabad',\n       'north waziristan', 'nowshehra', 'orakzai agency', 'peshawar',\n       'pishin', 'poonch', 'quetta', 'rawalpindi', 'sargodha',\n       'sehwan town', 'shabqadar-charsadda', 'shangla', 'shikarpur',\n       'sialkot', 'south waziristan', 'sudhanoti', 'sukkur', 'swabi',\n       'swat', 'taftan', 'tangi, charsadda district', 'tank', 'taunsa',\n       'tirah valley', 'totalai', 'upper dir', 'wagah', 'zhob'],\n      dtype=object)"
          },
          "execution_count": 42,
          "metadata": {},
          "output_type": "execute_result"
        }
      ]
    },
    {
      "metadata": {
        "_cell_guid": "dcbefc7e-702c-4b5a-86ab-f0c2f93f3873",
        "_uuid": "b092eca650105d8fe8b15f85fbe2747003b4f170"
      },
      "cell_type": "markdown",
      "source": "It does look like there are some remaining inconsistencies: 'd. i khan' and 'd.i khan' should probably be the same. (I [looked it up](https://en.wikipedia.org/wiki/List_of_most_populous_cities_in_Pakistan) and 'd.g khan' is a seperate city, so I shouldn't combine those.) \n\nI'm going to use the [fuzzywuzzy](https://github.com/seatgeek/fuzzywuzzy) package to help identify which string are closest to each other. This dataset is small enough that we could probably could correct errors by hand, but that approach doesn't scale well. (Would you want to correct a thousand errors by hand? What about ten thousand? Automating things as early as possible is generally a good idea. Plus, it’s fun! :)\n\n> **Fuzzy matching:** The process of automatically finding text strings that are very similar to the target string. In general, a string is considered \"closer\" to another one the fewer characters you'd need to change if you were transforming one string into another. So \"apple\" and \"snapple\" are two changes away from each other (add \"s\" and \"n\") while \"in\" and \"on\" and one change away (rplace \"i\" with \"o\"). You won't always be able to rely on fuzzy matching 100%, but it will usually end up saving you at least a little time.\n\nFuzzywuzzy returns a ratio given two strings. The closer the ratio is to 100, the smaller the edit distance between the two strings. Here, we're going to get the ten strings from our list of cities that have the closest distance to \"d.i khan\"."
    },
    {
      "metadata": {
        "_cell_guid": "4fdcd726-4a4f-4348-b745-1e42c3338100",
        "_uuid": "a53c6f011f5c9144e9a48f329d5cf15e2feddec8",
        "trusted": true
      },
      "cell_type": "code",
      "source": "# get the top 5 closest matches to \"d.i khan\"\n#matches = fuzzywuzzy.process.extract(\"d.i khan\", cities, limit=5, scorer=fuzzywuzzy.fuzz.token_sort_ratio)\nmatches = fuzzywuzzy.process.extract(\"d.i khan\", cities, limit=5, scorer=fuzzywuzzy.fuzz.token_sort_ratio)\n# take a look at them\nmatches",
      "execution_count": 45,
      "outputs": [
        {
          "data": {
            "text/plain": "[('d. i khan', 100),\n ('d.i khan', 100),\n ('d.g khan', 88),\n ('khanewal', 50),\n ('sudhanoti', 47)]"
          },
          "execution_count": 45,
          "metadata": {},
          "output_type": "execute_result"
        }
      ]
    },
    {
      "metadata": {
        "_cell_guid": "68b8b93d-7d05-426d-9abf-dcc53188c111",
        "_uuid": "e31474068514e35c65bb9d16d58bbb7e5f1226ce"
      },
      "cell_type": "markdown",
      "source": "We can see that two of the items in the cities are very close to \"d.i khan\": \"d. i khan\" and \"d.i khan\". We can also see the \"d.g khan\", which is a seperate city, has a ratio of 88. Since we don't want to replace \"d.g khan\" with \"d.i khan\", let's replace all rows in our City column that have a ratio of > 90 with \"d. i khan\". \n\nTo do this, I'm going to write a function. (It's a good idea to write a general purpose function you can reuse if you think you might have to do a specific task more than once or twice. This keeps you from having to copy and paste code too often, which saves time and can help prevent mistakes.)"
    },
    {
      "metadata": {
        "_cell_guid": "28680e01-8733-4ab4-ae97-58366b78c0ec",
        "_uuid": "e518a51a3969956e8259e323bd03c62fc99a830c",
        "collapsed": true,
        "trusted": true
      },
      "cell_type": "code",
      "source": "# function to replace rows in the provided column of the provided dataframe\n# that match the provided string above the provided ratio with the provided string\ndef replace_matches_in_column(df, column, string_to_match, min_ratio = 90):\n    # get a list of unique strings\n    strings = df[column].unique()\n    \n    # get the top 10 closest matches to our input string\n    matches = fuzzywuzzy.process.extract(string_to_match, strings, \n                                         limit=10, scorer=fuzzywuzzy.fuzz.token_sort_ratio)\n\n    # only get matches with a ratio > 90\n    close_matches = [matches[0] for matches in matches if matches[1] >= min_ratio]\n\n    # get the rows of all the close matches in our dataframe\n    rows_with_matches = df[column].isin(close_matches)\n\n    # replace all rows with close matches with the input matches \n    df.loc[rows_with_matches, column] = string_to_match\n    \n    # let us know the function's done\n    print(\"All done!\")",
      "execution_count": 47,
      "outputs": []
    },
    {
      "metadata": {
        "_cell_guid": "a7dcc7d3-4ea5-46b7-bad8-47052ac5d8b6",
        "_uuid": "555c4f9d53db48869becbf5efd054e6e73570990"
      },
      "cell_type": "markdown",
      "source": "Now that we have a function, we can put it to the test!"
    },
    {
      "metadata": {
        "_cell_guid": "89db3307-facc-4fc9-a19d-311e9f49a324",
        "_uuid": "846464842c3537f6bf41eb1db6d09c11fedc1f99",
        "trusted": true
      },
      "cell_type": "code",
      "source": "# use the function we just wrote to replace close matches to \"d.i khan\" with \"d.i khan\"\nreplace_matches_in_column(df=suicide_attacks, column='City', string_to_match=\"d.i khan\")",
      "execution_count": 48,
      "outputs": [
        {
          "name": "stdout",
          "output_type": "stream",
          "text": "All done!\n"
        }
      ]
    },
    {
      "metadata": {
        "_cell_guid": "f45df031-fe04-4686-a524-2bc51bb1416b",
        "_uuid": "2c284b82c0d22189e998a034807f98e9a01fe228"
      },
      "cell_type": "markdown",
      "source": "And now let's can check the unique values in our City column again and make sure we've tidied up d.i khan correctly."
    },
    {
      "metadata": {
        "_cell_guid": "d3d1839e-0ac7-4118-8308-50e41d78e458",
        "_uuid": "ef869fbc043758259d6eafe599532468692eb15c",
        "trusted": true
      },
      "cell_type": "code",
      "source": "# get all the unique values in the 'City' column\ncities = suicide_attacks['City'].unique()\n\n# sort them alphabetically and then take a closer look\ncities.sort()\ncities",
      "execution_count": 49,
      "outputs": [
        {
          "data": {
            "text/plain": "array(['attock', 'bajaur agency', 'bannu', 'bhakkar', 'buner', 'chakwal',\n       'chaman', 'charsadda', 'd.g khan', 'd.i khan', 'dara adam khel',\n       'fateh jang', 'ghallanai, mohmand agency', 'gujrat', 'hangu',\n       'haripur', 'hayatabad', 'islamabad', 'jacobabad', 'karachi',\n       'karak', 'khanewal', 'khuzdar', 'khyber agency', 'kohat',\n       'kuram agency', 'kurram agency', 'lahore', 'lakki marwat',\n       'lasbela', 'lower dir', 'malakand', 'mansehra', 'mardan',\n       'mohmand agency', 'mosal kor, mohmand agency', 'multan',\n       'muzaffarabad', 'north waziristan', 'nowshehra', 'orakzai agency',\n       'peshawar', 'pishin', 'poonch', 'quetta', 'rawalpindi', 'sargodha',\n       'sehwan town', 'shabqadar-charsadda', 'shangla', 'shikarpur',\n       'sialkot', 'south waziristan', 'sudhanoti', 'sukkur', 'swabi',\n       'swat', 'taftan', 'tangi, charsadda district', 'tank', 'taunsa',\n       'tirah valley', 'totalai', 'upper dir', 'wagah', 'zhob'],\n      dtype=object)"
          },
          "execution_count": 49,
          "metadata": {},
          "output_type": "execute_result"
        }
      ]
    },
    {
      "metadata": {
        "_cell_guid": "bf88033c-39f0-4814-8a4c-d2500aba2693",
        "_uuid": "4d43bc9b0bc6997a6c6454ff2a21aa0a296a8571"
      },
      "cell_type": "markdown",
      "source": "Excellent! Now we only have \"d.i khan\" in our dataframe and we didn't have to change anything by hand. "
    },
    {
      "metadata": {
        "_cell_guid": "0922e215-9abb-4b44-9060-7b52080fae90",
        "_uuid": "bfb366a27a3995fe253a662dd09f453afba117f6",
        "trusted": true
      },
      "cell_type": "code",
      "source": "# Your turn! It looks like 'kuram agency' and 'kurram agency' should\n# be the same city. Correct the dataframe so that they are.\nreplace_matches_in_column(df=suicide_attacks, column='City', string_to_match=\"kurram agency\")",
      "execution_count": 50,
      "outputs": [
        {
          "name": "stdout",
          "output_type": "stream",
          "text": "All done!\n"
        }
      ]
    },
    {
      "metadata": {
        "trusted": true,
        "_uuid": "a5627672006d1eebae8c80f18b65423b9aefed10"
      },
      "cell_type": "code",
      "source": "cities = suicide_attacks['City'].unique()\n\n# sort them alphabetically and then take a closer look\ncities.sort()\ncities",
      "execution_count": 51,
      "outputs": [
        {
          "data": {
            "text/plain": "array(['attock', 'bajaur agency', 'bannu', 'bhakkar', 'buner', 'chakwal',\n       'chaman', 'charsadda', 'd.g khan', 'd.i khan', 'dara adam khel',\n       'fateh jang', 'ghallanai, mohmand agency', 'gujrat', 'hangu',\n       'haripur', 'hayatabad', 'islamabad', 'jacobabad', 'karachi',\n       'karak', 'khanewal', 'khuzdar', 'khyber agency', 'kohat',\n       'kurram agency', 'lahore', 'lakki marwat', 'lasbela', 'lower dir',\n       'malakand', 'mansehra', 'mardan', 'mohmand agency',\n       'mosal kor, mohmand agency', 'multan', 'muzaffarabad',\n       'north waziristan', 'nowshehra', 'orakzai agency', 'peshawar',\n       'pishin', 'poonch', 'quetta', 'rawalpindi', 'sargodha',\n       'sehwan town', 'shabqadar-charsadda', 'shangla', 'shikarpur',\n       'sialkot', 'south waziristan', 'sudhanoti', 'sukkur', 'swabi',\n       'swat', 'taftan', 'tangi, charsadda district', 'tank', 'taunsa',\n       'tirah valley', 'totalai', 'upper dir', 'wagah', 'zhob'],\n      dtype=object)"
          },
          "execution_count": 51,
          "metadata": {},
          "output_type": "execute_result"
        }
      ]
    },
    {
      "metadata": {
        "_cell_guid": "b4f37fce-4d08-409e-bbbd-6a26c3bbc6ee",
        "_uuid": "52b0af56e3c77db96056e9acd785f8f435f7caf5"
      },
      "cell_type": "markdown",
      "source": "And that's it for today! If you have any questions, be sure to post them in the comments below or [on the forums](https://www.kaggle.com/questions-and-answers). \n\nRemember that your notebook is private by default, and in order to share it with other people or ask for help with it, you'll need to make it public. First, you'll need to save a version of your notebook that shows your current work by hitting the \"Commit & Run\" button. (Your work is saved automatically, but versioning your work lets you go back and look at what it was like at the point you saved it. It also lets you share a nice compiled notebook instead of just the raw code.) Then, once your notebook is finished running, you can go to the Settings tab in the panel to the left (you may have to expand it by hitting the [<] button next to the \"Commit & Run\" button) and setting the \"Visibility\" dropdown to \"Public\".\n\n# More practice!\n___\n\nDo any other columns in this dataframe have inconsistent data entry? If you can find any, try to tidy them up.\n\nYou can also try reading in the `PakistanSuicideAttacks Ver 6 (10-October-2017).csv` file from this dataset and tidying up any inconsistent columns in that data file."
    }
  ],
  "metadata": {
    "kernelspec": {
      "display_name": "Python 3",
      "language": "python",
      "name": "python3"
    },
    "language_info": {
      "name": "python",
      "version": "3.6.4",
      "mimetype": "text/x-python",
      "codemirror_mode": {
        "name": "ipython",
        "version": 3
      },
      "pygments_lexer": "ipython3",
      "nbconvert_exporter": "python",
      "file_extension": ".py"
    }
  },
  "nbformat": 4,
  "nbformat_minor": 1
}