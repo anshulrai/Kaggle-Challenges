{
  "cells": [
    {
      "metadata": {
        "_cell_guid": "b91a74ba-85f4-486e-b5f9-d0898f0626bf",
        "_uuid": "6ac53f18b4f4ec0fc44348cedb5d1c319fa127c0"
      },
      "cell_type": "markdown",
      "source": "### Previous days\n\n* [Day 1: Handling missing values](https://www.kaggle.com/rtatman/data-cleaning-challenge-handling-missing-values)\n* [Day 2: Scaling and normalization](https://www.kaggle.com/rtatman/data-cleaning-challenge-scale-and-normalize-data)\n___\nWelcome to day 3 of the 5-Day Data Challenge! Today, we're going to work with dates. To get started, click the blue \"Fork Notebook\" button in the upper, right hand corner. This will create a private copy of this notebook that you can edit and play with. Once you're finished with the exercises, you can choose to make your notebook public to share with others. :)\n\n> **Your turn!** As we work through this notebook, you'll see some notebook cells (a block of either code or text) that has \"Your Turn!\" written in it. These are exercises for you to do to help cement your understanding of the concepts we're talking about. Once you've written the code to answer a specific question, you can run the code by clicking inside the cell (box with code in it) with the code you want to run and then hit CTRL + ENTER (CMD + ENTER on a Mac). You can also click in a cell and then click on the right \"play\" arrow to the left of the code. If you want to run all the code in your notebook, you can use the double, \"fast forward\" arrows at the bottom of the notebook editor.\n\nHere's what we're going to do today:\n\n* [Get our environment set up](#Get-our-environment-set-up)\n* [Check the data type of our date column](#Check-the-data-type-of-our-date-column)\n* [Convert our date columns to datetime](#Convert-our-date-columns-to-datetime)\n* [Select just the day of the month from our column](#Select-just-the-day-of-the-month-from-our-column)\n* [Plot the day of the month to check the date parsing](#Plot-the-day-of-the-month-to-the-date-parsing)\n\nLet's get started!"
    },
    {
      "metadata": {
        "_cell_guid": "5cd5061f-ae30-4837-a53b-690ffd5c5830",
        "_uuid": "9d82bf13584b8e682962fbb96131f2447d741679"
      },
      "cell_type": "markdown",
      "source": "# Get our environment set up\n________\n\nThe first thing we'll need to do is load in the libraries and datasets we'll be using. For today, we'll be working with two datasets: one containing information on earthquakes that occured between 1965 and 2016, and another that contains information on landslides that occured between 2007 and 2016.\n\n> **Important!** Make sure you run this cell yourself or the rest of your code won't work!"
    },
    {
      "metadata": {
        "_cell_guid": "135a7804-b5f5-40aa-8657-4a15774e3666",
        "_uuid": "835cbe0834b935fb0fd40c75b9c39454836f4d5f",
        "collapsed": true,
        "trusted": true
      },
      "cell_type": "code",
      "source": "# modules we'll use\nimport pandas as pd\nimport numpy as np\nimport seaborn as sns\nimport datetime\n\n# read in our data\nearthquakes = pd.read_csv(\"../input/earthquake-database/database.csv\")\nlandslides = pd.read_csv(\"../input/landslide-events/catalog.csv\")\nvolcanos = pd.read_csv(\"../input/volcanic-eruptions/database.csv\")\n\n# set seed for reproducibility\nnp.random.seed(0)",
      "execution_count": 106,
      "outputs": []
    },
    {
      "metadata": {
        "_cell_guid": "604ac3a4-b1d9-4264-b312-4bbeecdeec00",
        "_uuid": "03ce3b4afe87d98f777172c2c7be066a66a0b237"
      },
      "cell_type": "markdown",
      "source": "Now we're ready to look at some dates! (If you like, you can take this opportunity to take a look at some of the data.)"
    },
    {
      "metadata": {
        "trusted": true,
        "_uuid": "02c85d2f7dd84522f6d34ae1466b829ca5e774d2"
      },
      "cell_type": "code",
      "source": "#earthquakes.info()\n#landslides.info()\nvolcanos.sample(5)",
      "execution_count": 107,
      "outputs": [
        {
          "data": {
            "text/html": "<div>\n<style scoped>\n    .dataframe tbody tr th:only-of-type {\n        vertical-align: middle;\n    }\n\n    .dataframe tbody tr th {\n        vertical-align: top;\n    }\n\n    .dataframe thead th {\n        text-align: right;\n    }\n</style>\n<table border=\"1\" class=\"dataframe\">\n  <thead>\n    <tr style=\"text-align: right;\">\n      <th></th>\n      <th>Number</th>\n      <th>Name</th>\n      <th>Country</th>\n      <th>Region</th>\n      <th>Type</th>\n      <th>Activity Evidence</th>\n      <th>Last Known Eruption</th>\n      <th>Latitude</th>\n      <th>Longitude</th>\n      <th>Elevation (Meters)</th>\n      <th>Dominant Rock Type</th>\n      <th>Tectonic Setting</th>\n    </tr>\n  </thead>\n  <tbody>\n    <tr>\n      <th>764</th>\n      <td>300052</td>\n      <td>Olkoviy Volcanic Group</td>\n      <td>Russia</td>\n      <td>Kamchatka and Mainland Asia</td>\n      <td>Volcanic field</td>\n      <td>Evidence Credible</td>\n      <td>Unknown</td>\n      <td>52.020</td>\n      <td>157.530</td>\n      <td>681</td>\n      <td>Basalt / Picro-Basalt</td>\n      <td>Subduction Zone / Continental Crust (&gt;25 km)</td>\n    </tr>\n    <tr>\n      <th>1069</th>\n      <td>334070</td>\n      <td>Galapagos Rift</td>\n      <td>Undersea Features</td>\n      <td>Hawaii and Pacific Ocean</td>\n      <td>Submarine</td>\n      <td>Eruption Observed</td>\n      <td>1996 CE</td>\n      <td>0.792</td>\n      <td>-86.150</td>\n      <td>-2430</td>\n      <td>Basalt / Picro-Basalt</td>\n      <td>Rift Zone / Oceanic Crust (&lt; 15 km)</td>\n    </tr>\n    <tr>\n      <th>34</th>\n      <td>213030</td>\n      <td>Tenduruk Dagi</td>\n      <td>Turkey</td>\n      <td>Mediterranean and Western Asia</td>\n      <td>Shield</td>\n      <td>Eruption Observed</td>\n      <td>1855 CE</td>\n      <td>39.356</td>\n      <td>43.874</td>\n      <td>3514</td>\n      <td>Basalt / Picro-Basalt</td>\n      <td>Intraplate / Continental Crust (&gt;25 km)</td>\n    </tr>\n    <tr>\n      <th>489</th>\n      <td>268030</td>\n      <td>Ibu</td>\n      <td>Indonesia</td>\n      <td>Indonesia</td>\n      <td>Stratovolcano</td>\n      <td>Eruption Observed</td>\n      <td>2016 CE</td>\n      <td>1.488</td>\n      <td>127.630</td>\n      <td>1325</td>\n      <td>Andesite / Basaltic Andesite</td>\n      <td>Subduction Zone / Oceanic Crust (&lt; 15 km)</td>\n    </tr>\n    <tr>\n      <th>9</th>\n      <td>211030</td>\n      <td>Ischia</td>\n      <td>Italy</td>\n      <td>Mediterranean and Western Asia</td>\n      <td>Complex</td>\n      <td>Eruption Observed</td>\n      <td>1302 CE</td>\n      <td>40.730</td>\n      <td>13.897</td>\n      <td>789</td>\n      <td>Trachyte / Trachydacite</td>\n      <td>Subduction Zone / Continental Crust (&gt;25 km)</td>\n    </tr>\n  </tbody>\n</table>\n</div>",
            "text/plain": "      Number                    Name            Country  \\\n764   300052  Olkoviy Volcanic Group             Russia   \n1069  334070          Galapagos Rift  Undersea Features   \n34    213030           Tenduruk Dagi             Turkey   \n489   268030                     Ibu          Indonesia   \n9     211030                  Ischia              Italy   \n\n                              Region            Type  Activity Evidence  \\\n764      Kamchatka and Mainland Asia  Volcanic field  Evidence Credible   \n1069        Hawaii and Pacific Ocean       Submarine  Eruption Observed   \n34    Mediterranean and Western Asia          Shield  Eruption Observed   \n489                        Indonesia   Stratovolcano  Eruption Observed   \n9     Mediterranean and Western Asia         Complex  Eruption Observed   \n\n     Last Known Eruption  Latitude  Longitude  Elevation (Meters)  \\\n764              Unknown    52.020    157.530                 681   \n1069             1996 CE     0.792    -86.150               -2430   \n34               1855 CE    39.356     43.874                3514   \n489              2016 CE     1.488    127.630                1325   \n9                1302 CE    40.730     13.897                 789   \n\n                Dominant Rock Type  \\\n764          Basalt / Picro-Basalt   \n1069         Basalt / Picro-Basalt   \n34           Basalt / Picro-Basalt   \n489   Andesite / Basaltic Andesite   \n9          Trachyte / Trachydacite   \n\n                                  Tectonic Setting  \n764   Subduction Zone / Continental Crust (>25 km)  \n1069           Rift Zone / Oceanic Crust (< 15 km)  \n34         Intraplate / Continental Crust (>25 km)  \n489      Subduction Zone / Oceanic Crust (< 15 km)  \n9     Subduction Zone / Continental Crust (>25 km)  "
          },
          "execution_count": 107,
          "metadata": {},
          "output_type": "execute_result"
        }
      ]
    },
    {
      "metadata": {
        "_cell_guid": "9b87a77d-e5e5-4581-9cd3-0e7339fe1516",
        "_uuid": "742028572a307a42ce40db0102171bc219b05282"
      },
      "cell_type": "markdown",
      "source": "# Check the data type of our date column\n___\n\nFor this part of the challenge, I'll be working with the `date` column from the `landslides` dataframe. The very first thing I'm going to do is take a peek at the first few rows to make sure it actually looks like it contains dates."
    },
    {
      "metadata": {
        "_cell_guid": "e6b7eb39-c3e3-40a1-b0a5-91cfcd2d42da",
        "_uuid": "93a08de7a6a621e4b07968c07c1cc612936c6027",
        "trusted": true
      },
      "cell_type": "code",
      "source": "# print the first few rows of the date column\nprint(landslides['date'].head())",
      "execution_count": 108,
      "outputs": [
        {
          "name": "stdout",
          "output_type": "stream",
          "text": "0     3/2/07\n1    3/22/07\n2     4/6/07\n3    4/14/07\n4    4/15/07\nName: date, dtype: object\n"
        }
      ]
    },
    {
      "metadata": {
        "_cell_guid": "dbdacb7c-10d4-4b0a-8f6b-6d4a940ca446",
        "_uuid": "d88dbc08ab145fd20f86073b027c53f40fd306bc"
      },
      "cell_type": "markdown",
      "source": "Yep, those are dates! But just because I, a human, can tell that these are dates doesn't mean that Python knows that they're dates. Notice that the at the bottom of the output of `head()`, you can see that it says that the data type of this  column is \"object\". \n\n> Pandas uses the \"object\" dtype for storing various types of data types, but most often when you see a column with the dtype \"object\" it will have strings in it. \n\nIf you check the pandas dtype documentation [here](http://pandas.pydata.org/pandas-docs/stable/basics.html#dtypes), you'll notice that there's also a specific `datetime64` dtypes. Because the dtype of our column is `object` rather than `datetime64`, we can tell that Python doesn't know that this column contains dates.\n\nWe can also look at just the dtype of your column without printing the first few rows if we like:"
    },
    {
      "metadata": {
        "_cell_guid": "56a047f4-cbf7-4914-951c-a04310ee7432",
        "_uuid": "e2ab2ac80aaac7b165b3af64edb75d29f2612482",
        "trusted": true
      },
      "cell_type": "code",
      "source": "# check the data type of our date column\nlandslides['date'].dtype",
      "execution_count": 109,
      "outputs": [
        {
          "data": {
            "text/plain": "dtype('O')"
          },
          "execution_count": 109,
          "metadata": {},
          "output_type": "execute_result"
        }
      ]
    },
    {
      "metadata": {
        "_cell_guid": "99a207db-3db0-4343-9805-58753f51f6e8",
        "_uuid": "06e6483764014a04e7a1f34525e2f12aee5fdab8"
      },
      "cell_type": "markdown",
      "source": "You may have to check the [numpy documentation](https://docs.scipy.org/doc/numpy-1.12.0/reference/generated/numpy.dtype.kind.html#numpy.dtype.kind) to match the letter code to the dtype of the object. \"O\" is the code for \"object\", so we can see that these two methods give us the same information."
    },
    {
      "metadata": {
        "_cell_guid": "8987e921-0c37-4c0f-ba68-e4e26d8d1a1b",
        "_uuid": "a2a983470b318469993b75b450bab28c12b59ae6",
        "trusted": true
      },
      "cell_type": "code",
      "source": "# Your turn! Check the data type of the Date column in the earthquakes dataframe\n# (note the capital 'D' in date!)\nprint (earthquakes.columns, '\\n')\nprint (earthquakes['Date'].describe(), '\\n')\nprint(earthquakes['Date'].dtype)",
      "execution_count": 110,
      "outputs": [
        {
          "name": "stdout",
          "output_type": "stream",
          "text": "Index(['Date', 'Time', 'Latitude', 'Longitude', 'Type', 'Depth', 'Depth Error',\n       'Depth Seismic Stations', 'Magnitude', 'Magnitude Type',\n       'Magnitude Error', 'Magnitude Seismic Stations', 'Azimuthal Gap',\n       'Horizontal Distance', 'Horizontal Error', 'Root Mean Square', 'ID',\n       'Source', 'Location Source', 'Magnitude Source', 'Status'],\n      dtype='object') \n\ncount          23412\nunique         12401\ntop       03/11/2011\nfreq             128\nName: Date, dtype: object \n\nobject\n"
        }
      ]
    },
    {
      "metadata": {
        "_cell_guid": "fb3b552b-411b-4fc0-b1e6-a3a8156fd459",
        "_uuid": "0939ce269aef7001e35cc8f2a5f1eed1f6160940"
      },
      "cell_type": "markdown",
      "source": "# Convert our date columns to datetime\n___\n\nNow that we know that our date column isn't being recognized as a date, it's time to convert it so that it *is* recognized as a date. This is called \"parsing dates\" because we're taking in a string and identifying its component parts.\n\nWe can use pandas to find what the format of our dates are with a guide called as [\"strftime directive\", which you can find more information on at this link](http://strftime.org/). The basic idea is that you need to point out which parts of the date are where and what punctuation is between them. There are [lots of possible parts of a date](http://strftime.org/), but the most common are `%d` for day, `%m` for month, `%y` for a two-digit year and `%Y` for a four digit year.\n\nSome examples:\n\n * 1/17/07 has the format \"%m/%d/%y\"\n * 17-1-2007 has the format \"%d-%m-%Y\"\n \n Looking back up at the head of the `date` column in the landslides dataset, we can see that it's in the format \"month/day/two-digit year\", so we can use the same syntax as the first example to parse in our dates: "
    },
    {
      "metadata": {
        "_cell_guid": "f955aa17-ede7-4457-a913-ba1c44f8846d",
        "_uuid": "a471aae50241b245caa0c60fbb19821372682b76",
        "collapsed": true,
        "scrolled": false,
        "trusted": true
      },
      "cell_type": "code",
      "source": "# create a new column, date_parsed, with the parsed dates\nlandslides['date_parsed'] = pd.to_datetime(landslides['date'], format = '%m/%d/%y')",
      "execution_count": 111,
      "outputs": []
    },
    {
      "metadata": {
        "trusted": true,
        "_uuid": "82a6a28958d1b82b66b82561fcae0cd5e5aa5b49"
      },
      "cell_type": "code",
      "source": "print (landslides['date_parsed'].describe())",
      "execution_count": 112,
      "outputs": [
        {
          "name": "stdout",
          "output_type": "stream",
          "text": "count                    1690\nunique                    922\ntop       2013-09-12 00:00:00\nfreq                       21\nfirst     2007-03-02 00:00:00\nlast      2016-03-02 00:00:00\nName: date_parsed, dtype: object\n"
        }
      ]
    },
    {
      "metadata": {
        "_cell_guid": "09c1c55c-3883-4f5e-8ea9-e914b09416b6",
        "_uuid": "50feaed5f874d8c09f983ad3172febdc54f4f0bb"
      },
      "cell_type": "markdown",
      "source": "Now when I check the first few rows of the new column, I can see that the dtype is `datetime64`. I can also see that my dates have been slightly rearranged so that they fit the default order datetime objects (year-month-day)."
    },
    {
      "metadata": {
        "trusted": true,
        "_uuid": "a0941d154c1d44df28c4ea28ee5d59baa733f7f0"
      },
      "cell_type": "code",
      "source": "print (landslides['date_parsed'].dtype)",
      "execution_count": 113,
      "outputs": [
        {
          "name": "stdout",
          "output_type": "stream",
          "text": "datetime64[ns]\n"
        }
      ]
    },
    {
      "metadata": {
        "_cell_guid": "5a6c6244-b724-4a70-b356-6e3fb1e61270",
        "_uuid": "2bff07787e5aa5ad2b6484c5bcee18b5b2f283bc",
        "trusted": true
      },
      "cell_type": "code",
      "source": "# print the first few rows\nlandslides['date_parsed'].head()",
      "execution_count": 114,
      "outputs": [
        {
          "data": {
            "text/plain": "0   2007-03-02\n1   2007-03-22\n2   2007-04-06\n3   2007-04-14\n4   2007-04-15\nName: date_parsed, dtype: datetime64[ns]"
          },
          "execution_count": 114,
          "metadata": {},
          "output_type": "execute_result"
        }
      ]
    },
    {
      "metadata": {
        "_cell_guid": "7bd8f8b6-8a60-4a12-b94b-4100188845da",
        "_uuid": "fc95b22f0f4d7a6bc0cb1a7cc55abfb204cc81f9"
      },
      "cell_type": "markdown",
      "source": "Now that our dates are parsed correctly, we can interact with them in useful ways.\n\n___\n* **What if I run into an error with multiple date formats?** While we're specifying the date format here, sometimes you'll run into an error when there are multiple date formats in a single column. If that happens, you have have pandas try to infer what the right date format should be. You can do that like so:\n\n`landslides['date_parsed'] = pd.to_datetime(landslides['Date'], infer_datetime_format=True)`\n\n* **Why don't you always use `infer_datetime_format = True?`** There are two big reasons not to always have pandas guess the time format. The first is that pandas won't always been able to figure out the correct date format, especially if someone has gotten creative with data entry. The second is that it's much slower than specifying the exact format of the dates.\n____"
    },
    {
      "metadata": {
        "_cell_guid": "beba42ab-fb0e-4285-83cb-984a51bdb8ed",
        "_uuid": "c029d8021e0d6cd5de3c9e62014a498c7dd5d582",
        "collapsed": true,
        "trusted": true
      },
      "cell_type": "code",
      "source": "# Your turn! Create a new column, date_parsed, in the earthquakes\n# dataset that has correctly parsed dates in it. (Don't forget to \n# double-check that the dtype is correct!)\nearthquakes['Date_Parsed'] = pd.to_datetime(earthquakes['Date'], infer_datetime_format=True)",
      "execution_count": 115,
      "outputs": []
    },
    {
      "metadata": {
        "trusted": true,
        "_uuid": "b0d71307eff59fe7ed7c5dae20049baab2b8a2d8"
      },
      "cell_type": "code",
      "source": "print (earthquakes['Date_Parsed'].dtype, '\\n')\nprint (earthquakes['Date_Parsed'].head(),'\\n')",
      "execution_count": 116,
      "outputs": [
        {
          "name": "stdout",
          "output_type": "stream",
          "text": "datetime64[ns] \n\n0   1965-01-02\n1   1965-01-04\n2   1965-01-05\n3   1965-01-08\n4   1965-01-09\nName: Date_Parsed, dtype: datetime64[ns] \n\n"
        }
      ]
    },
    {
      "metadata": {
        "_cell_guid": "9f310829-85bd-44c8-b1c5-d582407b5931",
        "_uuid": "3d6f5bef5deb1c1d4d83bbcaeb9ba23612978f35"
      },
      "cell_type": "markdown",
      "source": "# Select just the day of the month from our column\n___\n\n\"Ok, Rachael,\" you may be saying at this point, \"This messing around with data types is fine, I guess, but what's the *point*?\" To answer your question, let's try to get information on the day of the month that a landslide occured on from the original \"date\" column, which has an \"object\" dtype: "
    },
    {
      "metadata": {
        "_cell_guid": "ff451a5e-4447-40e2-ad76-367136a1fcff",
        "_uuid": "3c3be07dbf7394103a1db120e6ecbdffaf08d37f",
        "trusted": true,
        "collapsed": true
      },
      "cell_type": "code",
      "source": "# try to get the day of the month from the date column\n#day_of_month_landslides = landslides['date'].dt.day",
      "execution_count": 117,
      "outputs": []
    },
    {
      "metadata": {
        "_cell_guid": "c78aada6-c4d9-4464-894e-bdd4fabb4b13",
        "_uuid": "5847844cdd3aede3ff62bc5115f1d69c91b4af9d"
      },
      "cell_type": "markdown",
      "source": "We got an error! The important part to look at here is the part at the very end that says `AttributeError: Can only use .dt accessor with datetimelike values`. We're getting this error because the dt.day() function doesn't know how to deal with a column with the dtype \"object\". Even though our dataframe has dates in it, because they haven't been parsed we can't interact with them in a useful way.\n\nLuckily, we have a column that we parsed earlier , and that lets us get the day of the month out no problem:"
    },
    {
      "metadata": {
        "_cell_guid": "27b6422d-3a62-47ca-bb87-6e6292bed7cf",
        "_uuid": "e0be15da345949c990b5789e2a94f8f4e09e4cf5",
        "trusted": true
      },
      "cell_type": "code",
      "source": "# get the day of the month from the date_parsed column\nday_of_month_landslides = landslides['date_parsed'].dt.day\nprint (day_of_month_landslides.describe())",
      "execution_count": 118,
      "outputs": [
        {
          "name": "stdout",
          "output_type": "stream",
          "text": "count    1690.000000\nmean       15.802367\nstd         8.758384\nmin         1.000000\n25%         8.000000\n50%        16.000000\n75%        23.000000\nmax        31.000000\nName: date_parsed, dtype: float64\n"
        }
      ]
    },
    {
      "metadata": {
        "_cell_guid": "aa3c05ea-f6d1-453f-86dc-c2fd9f8b3fd6",
        "_uuid": "ffe9bfc0acef502b995aa61ee1c5d2e4a59a5e4e",
        "trusted": true
      },
      "cell_type": "code",
      "source": "# Your turn! get the day of the month from the date_parsed column\nday_of_month_earthquakes = earthquakes['Date_Parsed'].dt.day\nprint (day_of_month_earthquakes.describe())",
      "execution_count": 119,
      "outputs": [
        {
          "name": "stdout",
          "output_type": "stream",
          "text": "count    23412.000000\nmean        15.681488\nstd          8.670775\nmin          1.000000\n25%          8.000000\n50%         16.000000\n75%         23.000000\nmax         31.000000\nName: Date_Parsed, dtype: float64\n"
        }
      ]
    },
    {
      "metadata": {
        "_cell_guid": "fe33df7d-c85d-4b61-b572-5682e6eea81b",
        "_uuid": "a2cec7b480ef13c070d40ca0e0763d2d30a86a9c"
      },
      "cell_type": "markdown",
      "source": "# Plot the day of the month to check the date parsing\n___\n\nOne of the biggest dangers in parsing dates is mixing up the months and days. The to_datetime() function does have very helpful error messages, but it doesn't hurt to double-check that the days of the month we've extracted make sense. \n\nTo do this, let's plot a histogram of the days of the month. We expect it to have values between 1 and 31 and, since there's no reason to suppose the landslides are more common on some days of the month than others, a relatively even distribution. (With a dip on 31 because not all months have 31 days.) Let's see if that's the case:"
    },
    {
      "metadata": {
        "_cell_guid": "49feb18f-c077-474e-9353-a24ae850acf6",
        "_uuid": "d3d5a143d3d49e10187e420abfe9cfe18c7bac56",
        "trusted": true
      },
      "cell_type": "code",
      "source": "print (day_of_month_landslides.isnull().sum(), '\\n')\nday_of_month_landslides = day_of_month_landslides.dropna()\n# plot the day of the month\n#sns.distplot(day_of_month_landslides, kde=False, bins=31)\nsns.distplot(day_of_month_landslides, kde=False, color='r', bins=31)",
      "execution_count": 120,
      "outputs": [
        {
          "name": "stdout",
          "output_type": "stream",
          "text": "3 \n\n"
        },
        {
          "data": {
            "text/plain": "<matplotlib.axes._subplots.AxesSubplot at 0x7f9933e05dd8>"
          },
          "execution_count": 120,
          "metadata": {},
          "output_type": "execute_result"
        },
        {
          "data": {
            "image/png": "[encoded data removed]",
            "text/plain": "<matplotlib.figure.Figure at 0x7f993394ba20>"
          },
          "metadata": {},
          "output_type": "display_data"
        }
      ]
    },
    {
      "metadata": {
        "_cell_guid": "c8c706a4-2697-4520-b0dd-86fc6fb80326",
        "_uuid": "90016c3e93eb8499d9efe2ece32fb5b70dcbd2ae"
      },
      "cell_type": "markdown",
      "source": "Yep, it looks like we did parse our dates correctly & this graph makes good sense to me. Why don't you take a turn checking the dates you parsed earlier?"
    },
    {
      "metadata": {
        "_cell_guid": "7b5a7571-2ee3-4aad-94e9-ba47b06e6a29",
        "_uuid": "f2b79871c730f32f5ef1889912b7a8623eccf98f",
        "trusted": true
      },
      "cell_type": "code",
      "source": "# Your turn! Plot the days of the month from your\n# earthquake dataset and make sure they make sense.\nprint (day_of_month_earthquakes.isna().sum())\nsns.distplot(day_of_month_earthquakes, kde=False, color='r')",
      "execution_count": 121,
      "outputs": [
        {
          "name": "stdout",
          "output_type": "stream",
          "text": "0\n"
        },
        {
          "data": {
            "text/plain": "<matplotlib.axes._subplots.AxesSubplot at 0x7f99338b02e8>"
          },
          "execution_count": 121,
          "metadata": {},
          "output_type": "execute_result"
        },
        {
          "data": {
            "image/png": "[encoded data removed]",
            "text/plain": "<matplotlib.figure.Figure at 0x7f993394bcc0>"
          },
          "metadata": {},
          "output_type": "display_data"
        }
      ]
    },
    {
      "metadata": {
        "_cell_guid": "b4f37fce-4d08-409e-bbbd-6a26c3bbc6ee",
        "_uuid": "52b0af56e3c77db96056e9acd785f8f435f7caf5"
      },
      "cell_type": "markdown",
      "source": "And that's it for today! If you have any questions, be sure to post them in the comments below or [on the forums](https://www.kaggle.com/questions-and-answers). \n\nRemember that your notebook is private by default, and in order to share it with other people or ask for help with it, you'll need to make it public. First, you'll need to save a version of your notebook that shows your current work by hitting the \"Commit & Run\" button. (Your work is saved automatically, but versioning your work lets you go back and look at what it was like at the point you saved it. It also lets you share a nice compiled notebook instead of just the raw code.) Then, once your notebook is finished running, you can go to the Settings tab in the panel to the left (you may have to expand it by hitting the [<] button next to the \"Commit & Run\" button) and setting the \"Visibility\" dropdown to \"Public\".\n\n# More practice!\n___\n\nIf you're interested in graphing time series, [check out this Learn tutorial](https://www.kaggle.com/residentmario/time-series-plotting-optional).\n\nYou can also look into passing columns that you know have dates in them  the `parse_dates` argument in `read_csv`. (The documention [is here](https://pandas.pydata.org/pandas-docs/stable/generated/pandas.read_csv.html).) Do note that this method can be very slow, but depending on your needs it may sometimes be handy to use.\n\nFor an extra challenge, you can try try parsing the column `Last Known Eruption` from the `volcanos` dataframe. This column contains a mixture of text (\"Unknown\") and years both before the common era (BCE, also known as BC) and in the common era (CE, also known as AD)."
    },
    {
      "metadata": {
        "_cell_guid": "dd64bc7c-c361-44d3-9f02-f7f8a2cb8430",
        "_uuid": "0027b29db32dc34294f713c345747a37d89cfd26",
        "trusted": true
      },
      "cell_type": "code",
      "source": "volcanos['Last Known Eruption'].sample(5)\nvolcanos['Last Known Eruption'].describe()",
      "execution_count": 122,
      "outputs": [
        {
          "data": {
            "text/plain": "count        1508\nunique        399\ntop       Unknown\nfreq          637\nName: Last Known Eruption, dtype: object"
          },
          "execution_count": 122,
          "metadata": {},
          "output_type": "execute_result"
        }
      ]
    }
  ],
  "metadata": {
    "kernelspec": {
      "display_name": "Python 3",
      "language": "python",
      "name": "python3"
    },
    "language_info": {
      "codemirror_mode": {
        "name": "ipython",
        "version": 3
      },
      "file_extension": ".py",
      "mimetype": "text/x-python",
      "name": "python",
      "nbconvert_exporter": "python",
      "pygments_lexer": "ipython3",
      "version": "3.6.4"
    }
  },
  "nbformat": 4,
  "nbformat_minor": 1
}