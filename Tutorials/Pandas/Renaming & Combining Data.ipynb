{
  "cells": [
    {
      "metadata": {
        "_cell_guid": "b3696a68-f34c-4887-bc69-d40e9a31b2af",
        "_uuid": "538d86e885d712165dcbcd9b854258fd1804c108"
      },
      "cell_type": "markdown",
      "source": "# Introduction\n\nIn most large projects, you'll end up with multiple variables or objects containing data. This can be a source of huge confusion.  \n\nIn these exercises you'll learn how to rename columns of data to keep them organized, as well as ways combine multiple data variables into a single DataFrame.\n\n# Relevant Resources\n* **[Renaming and Combining Reference](https://www.kaggle.com/residentmario/renaming-and-combining-reference)**\n* [Essential Basic Functionality](https://pandas.pydata.org/pandas-docs/stable/basics.html#renaming-mapping-labels) section of Pandas documentation. \n* [Merge, join, concatenate](https://pandas.pydata.org/pandas-docs/stable/merging.html) section of Pandas documentation.\n\n# Set Up\n**First, fork this notebook using the \"Fork Notebook\" button towards the top of the screen.**\nRun the following cell to load your data and utility functions."
    },
    {
      "metadata": {
        "_cell_guid": "8233f418-085f-45db-903a-87a8ca183808",
        "collapsed": true,
        "_uuid": "cf820f1d0be911ebf4c7d30a72374c58542cdf58",
        "trusted": true
      },
      "cell_type": "code",
      "source": "import pandas as pd\n\nimport sys\nsys.path.append('../input/advanced-pandas-exercises/')\nfrom renaming_and_combining import *\n\npd.set_option('max_rows', 5)\nreviews = pd.read_csv(\"../input/wine-reviews/winemag-data-130k-v2.csv\", index_col=0)",
      "execution_count": 54,
      "outputs": []
    },
    {
      "metadata": {
        "_cell_guid": "f340455c-edbb-4e51-98e2-8f39151a4da9",
        "_uuid": "a49cc5b259c1e08a4c1057c6104b199696c58f9a"
      },
      "cell_type": "markdown",
      "source": "Then preview the data with the following command"
    },
    {
      "metadata": {
        "_cell_guid": "9036ea1c-6c89-4459-a6cb-7ef3de329cb8",
        "_uuid": "a002e4b81c22f53431f56e573070007767e12c43",
        "trusted": true
      },
      "cell_type": "code",
      "source": "reviews.head()",
      "execution_count": 55,
      "outputs": [
        {
          "output_type": "execute_result",
          "execution_count": 55,
          "data": {
            "text/plain": "    country                                        description  \\\n0     Italy  Aromas include tropical fruit, broom, brimston...   \n1  Portugal  This is ripe and fruity, a wine that is smooth...   \n2        US  Tart and snappy, the flavors of lime flesh and...   \n3        US  Pineapple rind, lemon pith and orange blossom ...   \n4        US  Much like the regular bottling from 2012, this...   \n\n                          designation  points  price           province  \\\n0                        Vulkà Bianco      87    NaN  Sicily & Sardinia   \n1                            Avidagos      87   15.0              Douro   \n2                                 NaN      87   14.0             Oregon   \n3                Reserve Late Harvest      87   13.0           Michigan   \n4  Vintner's Reserve Wild Child Block      87   65.0             Oregon   \n\n              region_1           region_2         taster_name  \\\n0                 Etna                NaN       Kerin O’Keefe   \n1                  NaN                NaN          Roger Voss   \n2    Willamette Valley  Willamette Valley        Paul Gregutt   \n3  Lake Michigan Shore                NaN  Alexander Peartree   \n4    Willamette Valley  Willamette Valley        Paul Gregutt   \n\n  taster_twitter_handle                                              title  \\\n0          @kerinokeefe                  Nicosia 2013 Vulkà Bianco  (Etna)   \n1            @vossroger      Quinta dos Avidagos 2011 Avidagos Red (Douro)   \n2           @paulgwine       Rainstorm 2013 Pinot Gris (Willamette Valley)   \n3                   NaN  St. Julian 2013 Reserve Late Harvest Riesling ...   \n4           @paulgwine   Sweet Cheeks 2012 Vintner's Reserve Wild Child...   \n\n          variety               winery  \n0     White Blend              Nicosia  \n1  Portuguese Red  Quinta dos Avidagos  \n2      Pinot Gris            Rainstorm  \n3        Riesling           St. Julian  \n4      Pinot Noir         Sweet Cheeks  ",
            "text/html": "<div>\n<style scoped>\n    .dataframe tbody tr th:only-of-type {\n        vertical-align: middle;\n    }\n\n    .dataframe tbody tr th {\n        vertical-align: top;\n    }\n\n    .dataframe thead th {\n        text-align: right;\n    }\n</style>\n<table border=\"1\" class=\"dataframe\">\n  <thead>\n    <tr style=\"text-align: right;\">\n      <th></th>\n      <th>country</th>\n      <th>description</th>\n      <th>designation</th>\n      <th>points</th>\n      <th>price</th>\n      <th>province</th>\n      <th>region_1</th>\n      <th>region_2</th>\n      <th>taster_name</th>\n      <th>taster_twitter_handle</th>\n      <th>title</th>\n      <th>variety</th>\n      <th>winery</th>\n    </tr>\n  </thead>\n  <tbody>\n    <tr>\n      <th>0</th>\n      <td>Italy</td>\n      <td>Aromas include tropical fruit, broom, brimston...</td>\n      <td>Vulkà Bianco</td>\n      <td>87</td>\n      <td>NaN</td>\n      <td>Sicily &amp; Sardinia</td>\n      <td>Etna</td>\n      <td>NaN</td>\n      <td>Kerin O’Keefe</td>\n      <td>@kerinokeefe</td>\n      <td>Nicosia 2013 Vulkà Bianco  (Etna)</td>\n      <td>White Blend</td>\n      <td>Nicosia</td>\n    </tr>\n    <tr>\n      <th>1</th>\n      <td>Portugal</td>\n      <td>This is ripe and fruity, a wine that is smooth...</td>\n      <td>Avidagos</td>\n      <td>87</td>\n      <td>15.0</td>\n      <td>Douro</td>\n      <td>NaN</td>\n      <td>NaN</td>\n      <td>Roger Voss</td>\n      <td>@vossroger</td>\n      <td>Quinta dos Avidagos 2011 Avidagos Red (Douro)</td>\n      <td>Portuguese Red</td>\n      <td>Quinta dos Avidagos</td>\n    </tr>\n    <tr>\n      <th>2</th>\n      <td>US</td>\n      <td>Tart and snappy, the flavors of lime flesh and...</td>\n      <td>NaN</td>\n      <td>87</td>\n      <td>14.0</td>\n      <td>Oregon</td>\n      <td>Willamette Valley</td>\n      <td>Willamette Valley</td>\n      <td>Paul Gregutt</td>\n      <td>@paulgwine</td>\n      <td>Rainstorm 2013 Pinot Gris (Willamette Valley)</td>\n      <td>Pinot Gris</td>\n      <td>Rainstorm</td>\n    </tr>\n    <tr>\n      <th>3</th>\n      <td>US</td>\n      <td>Pineapple rind, lemon pith and orange blossom ...</td>\n      <td>Reserve Late Harvest</td>\n      <td>87</td>\n      <td>13.0</td>\n      <td>Michigan</td>\n      <td>Lake Michigan Shore</td>\n      <td>NaN</td>\n      <td>Alexander Peartree</td>\n      <td>NaN</td>\n      <td>St. Julian 2013 Reserve Late Harvest Riesling ...</td>\n      <td>Riesling</td>\n      <td>St. Julian</td>\n    </tr>\n    <tr>\n      <th>4</th>\n      <td>US</td>\n      <td>Much like the regular bottling from 2012, this...</td>\n      <td>Vintner's Reserve Wild Child Block</td>\n      <td>87</td>\n      <td>65.0</td>\n      <td>Oregon</td>\n      <td>Willamette Valley</td>\n      <td>Willamette Valley</td>\n      <td>Paul Gregutt</td>\n      <td>@paulgwine</td>\n      <td>Sweet Cheeks 2012 Vintner's Reserve Wild Child...</td>\n      <td>Pinot Noir</td>\n      <td>Sweet Cheeks</td>\n    </tr>\n  </tbody>\n</table>\n</div>"
          },
          "metadata": {}
        }
      ]
    },
    {
      "metadata": {
        "_cell_guid": "e00a05db-0789-4fdd-84bb-93b5071d4d9f",
        "_uuid": "7b469b3773734e8aafee707387e82783b4b19889"
      },
      "cell_type": "markdown",
      "source": "# Checking Answers\n\nYou can check your answers in each of the exercises that follow using the  `check_qN` function provided in the code cell above (replacing `N` with the number of the exercise). For example here's how you would check an incorrect answer to exercise 1:"
    },
    {
      "metadata": {
        "_cell_guid": "479e6b47-ee90-4178-9eb0-be9ed897acb1",
        "_uuid": "bdde9e76afd2580bfb1654daa872402bcae8a650",
        "trusted": true
      },
      "cell_type": "code",
      "source": "check_q1(pd.DataFrame())",
      "execution_count": 56,
      "outputs": [
        {
          "output_type": "execute_result",
          "execution_count": 56,
          "data": {
            "text/plain": "False"
          },
          "metadata": {}
        }
      ]
    },
    {
      "metadata": {
        "_cell_guid": "4fb52c59-6736-4477-b903-e5f55b43dd31",
        "_uuid": "fadb78e219567d5cb2f59ed37a231919f6acbc98"
      },
      "cell_type": "markdown",
      "source": "For the questions that follow, if you use `check_qN` on your answer, and your answer is right, a simple `True` value will be returned.\n\nIf you get stuck, you may also use the companion `answer_qN` function to print the answer outright."
    },
    {
      "metadata": {
        "_cell_guid": "7b79bbf8-1136-4207-8bcc-9b7ddc432e70",
        "_uuid": "41205e08261d0d382e8eb6366be9bfa6c3d3d831"
      },
      "cell_type": "markdown",
      "source": "# Exercises"
    },
    {
      "metadata": {
        "_cell_guid": "7a605a36-08d4-45f1-9b13-b3202751f8e6",
        "_uuid": "03a58c68581ef05bbf83c9a085721a9321e1ad38"
      },
      "cell_type": "markdown",
      "source": "**Exercise 1**: `region_1` and `region_2` are pretty uninformative names for locale columns in the dataset. Rename these columns to `region` and `locale`."
    },
    {
      "metadata": {
        "_cell_guid": "8f4f3bec-784d-4190-8167-11befc58d436",
        "_uuid": "c5b1c1e129d0341b0d718ae3caa8856c405ef99c",
        "trusted": true
      },
      "cell_type": "code",
      "source": "temp = reviews.rename(columns={'region_1':'region', 'region_2':'locale'})\nprint (check_q1(temp), '\\n\\n', temp)",
      "execution_count": 57,
      "outputs": [
        {
          "output_type": "stream",
          "text": "True \n\n          country                                        description  \\\n0          Italy  Aromas include tropical fruit, broom, brimston...   \n1       Portugal  This is ripe and fruity, a wine that is smooth...   \n...          ...                                                ...   \n129969    France  A dry style of Pinot Gris, this is crisp with ...   \n129970    France  Big, rich and off-dry, this is powered by inte...   \n\n                          designation  points  price           province  \\\n0                        Vulkà Bianco      87    NaN  Sicily & Sardinia   \n1                            Avidagos      87   15.0              Douro   \n...                               ...     ...    ...                ...   \n129969                            NaN      90   32.0             Alsace   \n129970  Lieu-dit Harth Cuvée Caroline      90   21.0             Alsace   \n\n        region locale    taster_name taster_twitter_handle  \\\n0         Etna    NaN  Kerin O’Keefe          @kerinokeefe   \n1          NaN    NaN     Roger Voss            @vossroger   \n...        ...    ...            ...                   ...   \n129969  Alsace    NaN     Roger Voss            @vossroger   \n129970  Alsace    NaN     Roger Voss            @vossroger   \n\n                                                    title         variety  \\\n0                       Nicosia 2013 Vulkà Bianco  (Etna)     White Blend   \n1           Quinta dos Avidagos 2011 Avidagos Red (Douro)  Portuguese Red   \n...                                                   ...             ...   \n129969      Domaine Marcel Deiss 2012 Pinot Gris (Alsace)      Pinot Gris   \n129970  Domaine Schoffit 2012 Lieu-dit Harth Cuvée Car...  Gewürztraminer   \n\n                      winery  \n0                    Nicosia  \n1        Quinta dos Avidagos  \n...                      ...  \n129969  Domaine Marcel Deiss  \n129970      Domaine Schoffit  \n\n[129971 rows x 13 columns]\n",
          "name": "stdout"
        }
      ]
    },
    {
      "metadata": {
        "_cell_guid": "bd41facd-c1af-4766-b8a0-1f5929d5415f",
        "_uuid": "0fe8fd38b4b5934924b54d0ecd78938ec491239d"
      },
      "cell_type": "markdown",
      "source": "**Exercise 2**: Set the index name in the dataset to `wines`."
    },
    {
      "metadata": {
        "_cell_guid": "469f15bd-bae4-487e-a9ab-a8f8ce4a7e44",
        "_uuid": "7951be1ea04184cb74386380e1101cc92caeaf35",
        "trusted": true
      },
      "cell_type": "code",
      "source": "temp = reviews.rename_axis(\"wines\", axis=\"rows\")\nprint (check_q2(temp), '\\n\\n', temp)",
      "execution_count": 58,
      "outputs": [
        {
          "output_type": "stream",
          "text": "True \n\n          country                                        description  \\\nwines                                                                 \n0          Italy  Aromas include tropical fruit, broom, brimston...   \n1       Portugal  This is ripe and fruity, a wine that is smooth...   \n...          ...                                                ...   \n129969    France  A dry style of Pinot Gris, this is crisp with ...   \n129970    France  Big, rich and off-dry, this is powered by inte...   \n\n                          designation  points  price           province  \\\nwines                                                                     \n0                        Vulkà Bianco      87    NaN  Sicily & Sardinia   \n1                            Avidagos      87   15.0              Douro   \n...                               ...     ...    ...                ...   \n129969                            NaN      90   32.0             Alsace   \n129970  Lieu-dit Harth Cuvée Caroline      90   21.0             Alsace   \n\n       region_1 region_2    taster_name taster_twitter_handle  \\\nwines                                                           \n0          Etna      NaN  Kerin O’Keefe          @kerinokeefe   \n1           NaN      NaN     Roger Voss            @vossroger   \n...         ...      ...            ...                   ...   \n129969   Alsace      NaN     Roger Voss            @vossroger   \n129970   Alsace      NaN     Roger Voss            @vossroger   \n\n                                                    title         variety  \\\nwines                                                                       \n0                       Nicosia 2013 Vulkà Bianco  (Etna)     White Blend   \n1           Quinta dos Avidagos 2011 Avidagos Red (Douro)  Portuguese Red   \n...                                                   ...             ...   \n129969      Domaine Marcel Deiss 2012 Pinot Gris (Alsace)      Pinot Gris   \n129970  Domaine Schoffit 2012 Lieu-dit Harth Cuvée Car...  Gewürztraminer   \n\n                      winery  \nwines                         \n0                    Nicosia  \n1        Quinta dos Avidagos  \n...                      ...  \n129969  Domaine Marcel Deiss  \n129970      Domaine Schoffit  \n\n[129971 rows x 13 columns]\n",
          "name": "stdout"
        }
      ]
    },
    {
      "metadata": {
        "_cell_guid": "894ec88e-9510-49f1-bf37-d0ead0054a89",
        "_uuid": "65cf08dd44419d2b321daea399f51a0268c1ca57"
      },
      "cell_type": "markdown",
      "source": "**Exercise 3**: The [Things on Reddit](https://www.kaggle.com/residentmario/things-on-reddit/data) dataset includes product links from a selection of top-ranked forums (\"subreddits\") on Reddit.com. Create a `DataFrame` of products mentioned on *either* subreddit. Use the following data:"
    },
    {
      "metadata": {
        "_cell_guid": "2abc7da3-d8e1-490e-9623-9b6535347a9c",
        "collapsed": true,
        "_uuid": "fff720e4f35ba821931ee96e10777e0aad1835a6",
        "trusted": true
      },
      "cell_type": "code",
      "source": "gaming_products = pd.read_csv(\"../input/things-on-reddit/top-things/top-things/reddits/g/gaming.csv\")\ngaming_products['subreddit'] = \"r/gaming\"\nmovie_products = pd.read_csv(\"../input/things-on-reddit/top-things/top-things/reddits/m/movies.csv\")\nmovie_products['subreddit'] = \"r/movies\"",
      "execution_count": 59,
      "outputs": []
    },
    {
      "metadata": {
        "_cell_guid": "c048c7f8-bc67-42b1-8e8b-683d29b2992b",
        "_uuid": "f6041b0f4b3d49a00367c5fa8028559a3f92f880"
      },
      "cell_type": "markdown",
      "source": "Hint: before jumping into this exercise, you may want to take a minute to leaf through and familiarize yourself with the data."
    },
    {
      "metadata": {
        "_cell_guid": "6fb948f6-c49e-4fc7-bbbc-b6a63a1ae1af",
        "_uuid": "c97c54ce0a3ca0a42787580db76c67f6cc01c9fe",
        "trusted": true
      },
      "cell_type": "code",
      "source": "temp = pd.concat([gaming_products, movie_products])\ntemp.sort_values('total_mentions', ascending=False)\n#print (check_q3(temp), '\\n\\n', temp)",
      "execution_count": 60,
      "outputs": [
        {
          "output_type": "execute_result",
          "execution_count": 60,
          "data": {
            "text/plain": "                                                 name  \\\n30                     Dungeons & Dragons Starter Set   \n31  amFilm Tempered Glass Screen Protector for Nin...   \n..                                                ...   \n29  CN Tower, 761 Piece 3D Jigsaw Puzzle Made by W...   \n12  Questioning Collapse: Human Resilience, Ecolog...   \n\n                     category  \\\n30                      Books   \n31  Cell Phones & Accessories   \n..                        ...   \n29               Toys & Games   \n12                      Books   \n\n                                          amazon_link  total_mentions  \\\n30  https://www.amazon.com/Dungeons-Dragons-Starte...            46.0   \n31  https://www.amazon.com/gp/product/B01N3ASPNV/r...            41.0   \n..                                                ...             ...   \n29  https://www.amazon.com/Tower-Jigsaw-Puzzle-Wre...             NaN   \n12  https://www.amazon.com/Questioning-Collapse-Re...             NaN   \n\n    subreddit_mentions subreddit  \n30                   1  r/gaming  \n31                   1  r/gaming  \n..                 ...       ...  \n29                   1  r/gaming  \n12                   1  r/movies  \n\n[796 rows x 6 columns]",
            "text/html": "<div>\n<style scoped>\n    .dataframe tbody tr th:only-of-type {\n        vertical-align: middle;\n    }\n\n    .dataframe tbody tr th {\n        vertical-align: top;\n    }\n\n    .dataframe thead th {\n        text-align: right;\n    }\n</style>\n<table border=\"1\" class=\"dataframe\">\n  <thead>\n    <tr style=\"text-align: right;\">\n      <th></th>\n      <th>name</th>\n      <th>category</th>\n      <th>amazon_link</th>\n      <th>total_mentions</th>\n      <th>subreddit_mentions</th>\n      <th>subreddit</th>\n    </tr>\n  </thead>\n  <tbody>\n    <tr>\n      <th>30</th>\n      <td>Dungeons &amp; Dragons Starter Set</td>\n      <td>Books</td>\n      <td>https://www.amazon.com/Dungeons-Dragons-Starte...</td>\n      <td>46.0</td>\n      <td>1</td>\n      <td>r/gaming</td>\n    </tr>\n    <tr>\n      <th>31</th>\n      <td>amFilm Tempered Glass Screen Protector for Nin...</td>\n      <td>Cell Phones &amp; Accessories</td>\n      <td>https://www.amazon.com/gp/product/B01N3ASPNV/r...</td>\n      <td>41.0</td>\n      <td>1</td>\n      <td>r/gaming</td>\n    </tr>\n    <tr>\n      <th>...</th>\n      <td>...</td>\n      <td>...</td>\n      <td>...</td>\n      <td>...</td>\n      <td>...</td>\n      <td>...</td>\n    </tr>\n    <tr>\n      <th>29</th>\n      <td>CN Tower, 761 Piece 3D Jigsaw Puzzle Made by W...</td>\n      <td>Toys &amp; Games</td>\n      <td>https://www.amazon.com/Tower-Jigsaw-Puzzle-Wre...</td>\n      <td>NaN</td>\n      <td>1</td>\n      <td>r/gaming</td>\n    </tr>\n    <tr>\n      <th>12</th>\n      <td>Questioning Collapse: Human Resilience, Ecolog...</td>\n      <td>Books</td>\n      <td>https://www.amazon.com/Questioning-Collapse-Re...</td>\n      <td>NaN</td>\n      <td>1</td>\n      <td>r/movies</td>\n    </tr>\n  </tbody>\n</table>\n<p>796 rows × 6 columns</p>\n</div>"
          },
          "metadata": {}
        }
      ]
    },
    {
      "metadata": {
        "_cell_guid": "6b71e901-b9e4-43a9-87c9-e72262d2db02",
        "_uuid": "82629a1d21e0ac3d4c143bb1f97368ef59193eb7"
      },
      "cell_type": "markdown",
      "source": "**Exercise 4**: The [Powerlifting Database](https://www.kaggle.com/open-powerlifting/powerlifting-database) dataset on Kaggle includes one CSV table for powerlifting meets and a separate one for powerlifting competitors. Both tables include references to a `MeetID`, a unique key for each meet (competition) included in the database. Using this, generate a dataset combining the two tables into one. Use the following data:"
    },
    {
      "metadata": {
        "_cell_guid": "198c82e5-904a-4be3-a29f-d6a366bc4cc4",
        "collapsed": true,
        "_uuid": "6eef34e09315e275ca34eaee10d6a9c85ef277a2",
        "trusted": true
      },
      "cell_type": "code",
      "source": "powerlifting_meets = pd.read_csv(\"../input/powerlifting-database/meets.csv\")\npowerlifting_competitors = pd.read_csv(\"../input/powerlifting-database/openpowerlifting.csv\")",
      "execution_count": 61,
      "outputs": []
    },
    {
      "metadata": {
        "_cell_guid": "bfcd90c1-d198-45d3-895c-77b18a8f095f",
        "_uuid": "613db3dc1fda0a93abbcd52866d39af9a644396a",
        "trusted": true
      },
      "cell_type": "code",
      "source": "temp = powerlifting_meets.join(powerlifting_competitors, lsuffix='_meet', rsuffix='_comp')\ntemp",
      "execution_count": 62,
      "outputs": [
        {
          "output_type": "execute_result",
          "execution_count": 62,
          "data": {
            "text/plain": "      MeetID_meet             MeetPath Federation        Date MeetCountry  \\\n0               0       365strong/1601  365Strong  2016-10-29         USA   \n1               1       365strong/1602  365Strong  2016-11-19         USA   \n...           ...                  ...        ...         ...         ...   \n8480         8480  xpc/2016-pro-finals        XPC  2016-03-05         USA   \n8481         8481      xpc/2017-finals        XPC  2017-03-03         USA   \n\n     MeetState   MeetTown                                           MeetName  \\\n0           NC  Charlotte  2016 Junior & Senior National Powerlifting Cha...   \n1           MO      Ozark                  Thanksgiving Powerlifting Classic   \n...        ...        ...                                                ...   \n8480        OH   Columbus                                2016 XPC PRO Finals   \n8481        OH   Columbus                                    2017 XPC Finals   \n\n      MeetID_comp              Name   ...   WeightClassKg Squat4Kg  \\\n0               0  Angie Belk Terry   ...              60      NaN   \n1               0       Dawn Bogart   ...              60      NaN   \n...           ...               ...   ...             ...      ...   \n8480          121  Mirian Fernandes   ...              75      NaN   \n8481          121     Donna Bingham   ...            82.5      NaN   \n\n      BestSquatKg Bench4Kg  BestBenchKg Deadlift4Kg  BestDeadliftKg  TotalKg  \\\n0           47.63      NaN        20.41         NaN           70.31   138.35   \n1          142.88      NaN        95.25         NaN          163.29   401.42   \n...           ...      ...          ...         ...             ...      ...   \n8480       170.00      NaN        85.00         NaN          200.00   455.00   \n8481       130.00      NaN        70.00         NaN          127.50   327.50   \n\n      Place   Wilks  \n0         1  155.05  \n1         1  456.38  \n...     ...     ...  \n8480      1  437.37  \n8481      1  296.06  \n\n[8482 rows x 25 columns]",
            "text/html": "<div>\n<style scoped>\n    .dataframe tbody tr th:only-of-type {\n        vertical-align: middle;\n    }\n\n    .dataframe tbody tr th {\n        vertical-align: top;\n    }\n\n    .dataframe thead th {\n        text-align: right;\n    }\n</style>\n<table border=\"1\" class=\"dataframe\">\n  <thead>\n    <tr style=\"text-align: right;\">\n      <th></th>\n      <th>MeetID_meet</th>\n      <th>MeetPath</th>\n      <th>Federation</th>\n      <th>Date</th>\n      <th>MeetCountry</th>\n      <th>MeetState</th>\n      <th>MeetTown</th>\n      <th>MeetName</th>\n      <th>MeetID_comp</th>\n      <th>Name</th>\n      <th>...</th>\n      <th>WeightClassKg</th>\n      <th>Squat4Kg</th>\n      <th>BestSquatKg</th>\n      <th>Bench4Kg</th>\n      <th>BestBenchKg</th>\n      <th>Deadlift4Kg</th>\n      <th>BestDeadliftKg</th>\n      <th>TotalKg</th>\n      <th>Place</th>\n      <th>Wilks</th>\n    </tr>\n  </thead>\n  <tbody>\n    <tr>\n      <th>0</th>\n      <td>0</td>\n      <td>365strong/1601</td>\n      <td>365Strong</td>\n      <td>2016-10-29</td>\n      <td>USA</td>\n      <td>NC</td>\n      <td>Charlotte</td>\n      <td>2016 Junior &amp; Senior National Powerlifting Cha...</td>\n      <td>0</td>\n      <td>Angie Belk Terry</td>\n      <td>...</td>\n      <td>60</td>\n      <td>NaN</td>\n      <td>47.63</td>\n      <td>NaN</td>\n      <td>20.41</td>\n      <td>NaN</td>\n      <td>70.31</td>\n      <td>138.35</td>\n      <td>1</td>\n      <td>155.05</td>\n    </tr>\n    <tr>\n      <th>1</th>\n      <td>1</td>\n      <td>365strong/1602</td>\n      <td>365Strong</td>\n      <td>2016-11-19</td>\n      <td>USA</td>\n      <td>MO</td>\n      <td>Ozark</td>\n      <td>Thanksgiving Powerlifting Classic</td>\n      <td>0</td>\n      <td>Dawn Bogart</td>\n      <td>...</td>\n      <td>60</td>\n      <td>NaN</td>\n      <td>142.88</td>\n      <td>NaN</td>\n      <td>95.25</td>\n      <td>NaN</td>\n      <td>163.29</td>\n      <td>401.42</td>\n      <td>1</td>\n      <td>456.38</td>\n    </tr>\n    <tr>\n      <th>...</th>\n      <td>...</td>\n      <td>...</td>\n      <td>...</td>\n      <td>...</td>\n      <td>...</td>\n      <td>...</td>\n      <td>...</td>\n      <td>...</td>\n      <td>...</td>\n      <td>...</td>\n      <td>...</td>\n      <td>...</td>\n      <td>...</td>\n      <td>...</td>\n      <td>...</td>\n      <td>...</td>\n      <td>...</td>\n      <td>...</td>\n      <td>...</td>\n      <td>...</td>\n      <td>...</td>\n    </tr>\n    <tr>\n      <th>8480</th>\n      <td>8480</td>\n      <td>xpc/2016-pro-finals</td>\n      <td>XPC</td>\n      <td>2016-03-05</td>\n      <td>USA</td>\n      <td>OH</td>\n      <td>Columbus</td>\n      <td>2016 XPC PRO Finals</td>\n      <td>121</td>\n      <td>Mirian Fernandes</td>\n      <td>...</td>\n      <td>75</td>\n      <td>NaN</td>\n      <td>170.00</td>\n      <td>NaN</td>\n      <td>85.00</td>\n      <td>NaN</td>\n      <td>200.00</td>\n      <td>455.00</td>\n      <td>1</td>\n      <td>437.37</td>\n    </tr>\n    <tr>\n      <th>8481</th>\n      <td>8481</td>\n      <td>xpc/2017-finals</td>\n      <td>XPC</td>\n      <td>2017-03-03</td>\n      <td>USA</td>\n      <td>OH</td>\n      <td>Columbus</td>\n      <td>2017 XPC Finals</td>\n      <td>121</td>\n      <td>Donna Bingham</td>\n      <td>...</td>\n      <td>82.5</td>\n      <td>NaN</td>\n      <td>130.00</td>\n      <td>NaN</td>\n      <td>70.00</td>\n      <td>NaN</td>\n      <td>127.50</td>\n      <td>327.50</td>\n      <td>1</td>\n      <td>296.06</td>\n    </tr>\n  </tbody>\n</table>\n<p>8482 rows × 25 columns</p>\n</div>"
          },
          "metadata": {}
        }
      ]
    },
    {
      "metadata": {
        "trusted": true,
        "_uuid": "d48c06dbc02373b80f48a6b39caf5d14461eaf1f"
      },
      "cell_type": "code",
      "source": "actual = powerlifting_meets.set_index('MeetID').join(powerlifting_competitors.set_index('MeetID'))\nactual",
      "execution_count": 63,
      "outputs": [
        {
          "output_type": "execute_result",
          "execution_count": 63,
          "data": {
            "text/plain": "               MeetPath Federation        Date MeetCountry MeetState  \\\nMeetID                                                                 \n0        365strong/1601  365Strong  2016-10-29         USA        NC   \n0        365strong/1601  365Strong  2016-10-29         USA        NC   \n...                 ...        ...         ...         ...       ...   \n8481    xpc/2017-finals        XPC  2017-03-03         USA        OH   \n8481    xpc/2017-finals        XPC  2017-03-03         USA        OH   \n\n         MeetTown                                           MeetName  \\\nMeetID                                                                 \n0       Charlotte  2016 Junior & Senior National Powerlifting Cha...   \n0       Charlotte  2016 Junior & Senior National Powerlifting Cha...   \n...           ...                                                ...   \n8481     Columbus                                    2017 XPC Finals   \n8481     Columbus                                    2017 XPC Finals   \n\n                    Name Sex   Equipment   ...    WeightClassKg Squat4Kg  \\\nMeetID                                     ...                             \n0       Angie Belk Terry   F       Wraps   ...               60      NaN   \n0            Dawn Bogart   F  Single-ply   ...               60      NaN   \n...                  ...  ..         ...   ...              ...      ...   \n8481      Jeff Bumanglag   M   Multi-ply   ...              140      NaN   \n8481       Shane Hammock   M   Multi-ply   ...              140      NaN   \n\n        BestSquatKg Bench4Kg  BestBenchKg  Deadlift4Kg  BestDeadliftKg  \\\nMeetID                                                                   \n0             47.63      NaN        20.41          NaN           70.31   \n0            142.88      NaN        95.25          NaN          163.29   \n...             ...      ...          ...          ...             ...   \n8481            NaN      NaN          NaN          NaN          320.00   \n8481            NaN      NaN          NaN          NaN          362.50   \n\n        TotalKg  Place   Wilks  \nMeetID                          \n0        138.35      1  155.05  \n0        401.42      1  456.38  \n...         ...    ...     ...  \n8481     320.00      3  181.85  \n8481     362.50      2  205.18  \n\n[386414 rows x 23 columns]",
            "text/html": "<div>\n<style scoped>\n    .dataframe tbody tr th:only-of-type {\n        vertical-align: middle;\n    }\n\n    .dataframe tbody tr th {\n        vertical-align: top;\n    }\n\n    .dataframe thead th {\n        text-align: right;\n    }\n</style>\n<table border=\"1\" class=\"dataframe\">\n  <thead>\n    <tr style=\"text-align: right;\">\n      <th></th>\n      <th>MeetPath</th>\n      <th>Federation</th>\n      <th>Date</th>\n      <th>MeetCountry</th>\n      <th>MeetState</th>\n      <th>MeetTown</th>\n      <th>MeetName</th>\n      <th>Name</th>\n      <th>Sex</th>\n      <th>Equipment</th>\n      <th>...</th>\n      <th>WeightClassKg</th>\n      <th>Squat4Kg</th>\n      <th>BestSquatKg</th>\n      <th>Bench4Kg</th>\n      <th>BestBenchKg</th>\n      <th>Deadlift4Kg</th>\n      <th>BestDeadliftKg</th>\n      <th>TotalKg</th>\n      <th>Place</th>\n      <th>Wilks</th>\n    </tr>\n    <tr>\n      <th>MeetID</th>\n      <th></th>\n      <th></th>\n      <th></th>\n      <th></th>\n      <th></th>\n      <th></th>\n      <th></th>\n      <th></th>\n      <th></th>\n      <th></th>\n      <th></th>\n      <th></th>\n      <th></th>\n      <th></th>\n      <th></th>\n      <th></th>\n      <th></th>\n      <th></th>\n      <th></th>\n      <th></th>\n      <th></th>\n    </tr>\n  </thead>\n  <tbody>\n    <tr>\n      <th>0</th>\n      <td>365strong/1601</td>\n      <td>365Strong</td>\n      <td>2016-10-29</td>\n      <td>USA</td>\n      <td>NC</td>\n      <td>Charlotte</td>\n      <td>2016 Junior &amp; Senior National Powerlifting Cha...</td>\n      <td>Angie Belk Terry</td>\n      <td>F</td>\n      <td>Wraps</td>\n      <td>...</td>\n      <td>60</td>\n      <td>NaN</td>\n      <td>47.63</td>\n      <td>NaN</td>\n      <td>20.41</td>\n      <td>NaN</td>\n      <td>70.31</td>\n      <td>138.35</td>\n      <td>1</td>\n      <td>155.05</td>\n    </tr>\n    <tr>\n      <th>0</th>\n      <td>365strong/1601</td>\n      <td>365Strong</td>\n      <td>2016-10-29</td>\n      <td>USA</td>\n      <td>NC</td>\n      <td>Charlotte</td>\n      <td>2016 Junior &amp; Senior National Powerlifting Cha...</td>\n      <td>Dawn Bogart</td>\n      <td>F</td>\n      <td>Single-ply</td>\n      <td>...</td>\n      <td>60</td>\n      <td>NaN</td>\n      <td>142.88</td>\n      <td>NaN</td>\n      <td>95.25</td>\n      <td>NaN</td>\n      <td>163.29</td>\n      <td>401.42</td>\n      <td>1</td>\n      <td>456.38</td>\n    </tr>\n    <tr>\n      <th>...</th>\n      <td>...</td>\n      <td>...</td>\n      <td>...</td>\n      <td>...</td>\n      <td>...</td>\n      <td>...</td>\n      <td>...</td>\n      <td>...</td>\n      <td>...</td>\n      <td>...</td>\n      <td>...</td>\n      <td>...</td>\n      <td>...</td>\n      <td>...</td>\n      <td>...</td>\n      <td>...</td>\n      <td>...</td>\n      <td>...</td>\n      <td>...</td>\n      <td>...</td>\n      <td>...</td>\n    </tr>\n    <tr>\n      <th>8481</th>\n      <td>xpc/2017-finals</td>\n      <td>XPC</td>\n      <td>2017-03-03</td>\n      <td>USA</td>\n      <td>OH</td>\n      <td>Columbus</td>\n      <td>2017 XPC Finals</td>\n      <td>Jeff Bumanglag</td>\n      <td>M</td>\n      <td>Multi-ply</td>\n      <td>...</td>\n      <td>140</td>\n      <td>NaN</td>\n      <td>NaN</td>\n      <td>NaN</td>\n      <td>NaN</td>\n      <td>NaN</td>\n      <td>320.00</td>\n      <td>320.00</td>\n      <td>3</td>\n      <td>181.85</td>\n    </tr>\n    <tr>\n      <th>8481</th>\n      <td>xpc/2017-finals</td>\n      <td>XPC</td>\n      <td>2017-03-03</td>\n      <td>USA</td>\n      <td>OH</td>\n      <td>Columbus</td>\n      <td>2017 XPC Finals</td>\n      <td>Shane Hammock</td>\n      <td>M</td>\n      <td>Multi-ply</td>\n      <td>...</td>\n      <td>140</td>\n      <td>NaN</td>\n      <td>NaN</td>\n      <td>NaN</td>\n      <td>NaN</td>\n      <td>NaN</td>\n      <td>362.50</td>\n      <td>362.50</td>\n      <td>2</td>\n      <td>205.18</td>\n    </tr>\n  </tbody>\n</table>\n<p>386414 rows × 23 columns</p>\n</div>"
          },
          "metadata": {}
        }
      ]
    },
    {
      "metadata": {
        "_cell_guid": "5cab224b-cbb9-4ec2-a5fc-bd7e3e8c9416",
        "_uuid": "2ecd20b305d71cfcfa23e9d32601d9feed58a072"
      },
      "cell_type": "markdown",
      "source": "# Keep going\n\n[**Continue to the method chaining workbook**](https://www.kaggle.com/residentmario/method-chaining-workbook)."
    }
  ],
  "metadata": {
    "kernelspec": {
      "display_name": "Python 3",
      "language": "python",
      "name": "python3"
    },
    "language_info": {
      "name": "python",
      "version": "3.6.4",
      "mimetype": "text/x-python",
      "codemirror_mode": {
        "name": "ipython",
        "version": 3
      },
      "pygments_lexer": "ipython3",
      "nbconvert_exporter": "python",
      "file_extension": ".py"
    }
  },
  "nbformat": 4,
  "nbformat_minor": 1
}