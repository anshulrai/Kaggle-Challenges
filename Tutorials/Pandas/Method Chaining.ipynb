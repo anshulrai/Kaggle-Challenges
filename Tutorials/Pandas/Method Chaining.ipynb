{
  "cells": [
    {
      "metadata": {
        "_cell_guid": "14c68aad-0435-454b-8bc7-6556f60b034e",
        "_uuid": "58335a1bb472e68aaddc32827fdb99d9d44e4ab2"
      },
      "cell_type": "markdown",
      "source": "# Introduction\n\nCongratulations! In this section we will put all of the things that we learned together to do some truly interesting things with some datasets. \n\nThe exercises in this section are therefore more difficult! \n\nWhile working through the exercises, tTry using method chaning syntax (use the resource below if you don't know what method chaining means). Also, take advantage the hints we provide.\n\n# Relevant Resource\n\n* **[Method chaining resource](https://www.kaggle.com/residentmario/method-chaining-reference). **\n\n# Set Up\n**First, fork this notebook using the \"Fork Notebook\" button towards the top of the screen.**\nRun the code cell below to load data and the libraries you'll use."
    },
    {
      "metadata": {
        "_cell_guid": "0559dd85-e762-4699-95d6-28840f18e910",
        "_uuid": "a4f1f60fb1c5c7d744bc9089fc58b4be8d082947",
        "collapsed": true,
        "trusted": true
      },
      "cell_type": "code",
      "source": "import pandas as pd\npd.set_option('max_rows', 5)\n\nimport sys\nsys.path.append('../input/advanced-pandas-exercises/')\nfrom method_chaining import *\n\nchess_games = pd.read_csv(\"../input/chess/games.csv\")",
      "execution_count": 60,
      "outputs": []
    },
    {
      "metadata": {
        "_cell_guid": "3070c6b9-5ac4-4604-91f7-5fe9128ccfb2",
        "_uuid": "2477f759f3c11e964f50c583f211f6e324bad518"
      },
      "cell_type": "markdown",
      "source": "# Checking Answers\n\nCheck your answers in each of the exercises that follow using the  `check_qN` function provided in the code cell above (replacing `N` with the number of the exercise). For example here's how you would check an incorrect answer to exercise 1:"
    },
    {
      "metadata": {
        "_cell_guid": "47ec828b-f315-4126-a534-5d0b5af6f973",
        "_uuid": "b8490e33adb514ab0bd4b92911fb4d1c9e018b51",
        "trusted": true
      },
      "cell_type": "code",
      "source": "check_q1(pd.DataFrame())",
      "execution_count": 61,
      "outputs": [
        {
          "output_type": "execute_result",
          "execution_count": 61,
          "data": {
            "text/plain": "False"
          },
          "metadata": {}
        }
      ]
    },
    {
      "metadata": {
        "_cell_guid": "96b7eed1-d290-4da7-aeb0-92e7381e7db1",
        "_uuid": "dd23107bed53e3ab1ece7a091ed29d2dd826c6c5"
      },
      "cell_type": "markdown",
      "source": "For the first set of questions, if you use `check_qN` on your answer, and your answer is right, a simple `True` value will be returned.\n\nFor the second set of questions, using this function to check a correct answer will present you will an informative graph!\n\nIf you get stuck, you may also use the companion `answer_qN` function to print the answer outright.\n\n# Preview Data\nRun the cell below to preview the data"
    },
    {
      "metadata": {
        "_cell_guid": "e37fcee3-75fc-4b4e-a64d-94620954fc76",
        "_uuid": "a3dd68c0acae64ea7f7b1eddb9056cfe93162f55",
        "trusted": true
      },
      "cell_type": "code",
      "source": "chess_games.head()",
      "execution_count": 62,
      "outputs": [
        {
          "output_type": "execute_result",
          "execution_count": 62,
          "data": {
            "text/plain": "         id  rated    created_at  last_move_at  turns victory_status winner  \\\n0  TZJHLljE  False  1.504210e+12  1.504210e+12     13      outoftime  white   \n1  l1NXvwaE   True  1.504130e+12  1.504130e+12     16         resign  black   \n2  mIICvQHh   True  1.504130e+12  1.504130e+12     61           mate  white   \n3  kWKvrqYL   True  1.504110e+12  1.504110e+12     61           mate  white   \n4  9tXo1AUZ   True  1.504030e+12  1.504030e+12     95           mate  white   \n\n  increment_code       white_id  white_rating      black_id  black_rating  \\\n0           15+2       bourgris          1500          a-00          1191   \n1           5+10           a-00          1322     skinnerua          1261   \n2           5+10         ischia          1496          a-00          1500   \n3           20+0  daniamurashov          1439  adivanov2009          1454   \n4           30+3      nik221107          1523  adivanov2009          1469   \n\n                                               moves opening_eco  \\\n0  d4 d5 c4 c6 cxd5 e6 dxe6 fxe6 Nf3 Bb4+ Nc3 Ba5...         D10   \n1  d4 Nc6 e4 e5 f4 f6 dxe5 fxe5 fxe5 Nxe5 Qd4 Nc6...         B00   \n2  e4 e5 d3 d6 Be3 c6 Be2 b5 Nd2 a5 a4 c5 axb5 Nc...         C20   \n3  d4 d5 Nf3 Bf5 Nc3 Nf6 Bf4 Ng4 e3 Nc6 Be2 Qd7 O...         D02   \n4  e4 e5 Nf3 d6 d4 Nc6 d5 Nb4 a3 Na6 Nc3 Be7 b4 N...         C41   \n\n                             opening_name  opening_ply  \n0        Slav Defense: Exchange Variation            5  \n1  Nimzowitsch Defense: Kennedy Variation            4  \n2   King's Pawn Game: Leonardis Variation            3  \n3  Queen's Pawn Game: Zukertort Variation            3  \n4                        Philidor Defense            5  ",
            "text/html": "<div>\n<style scoped>\n    .dataframe tbody tr th:only-of-type {\n        vertical-align: middle;\n    }\n\n    .dataframe tbody tr th {\n        vertical-align: top;\n    }\n\n    .dataframe thead th {\n        text-align: right;\n    }\n</style>\n<table border=\"1\" class=\"dataframe\">\n  <thead>\n    <tr style=\"text-align: right;\">\n      <th></th>\n      <th>id</th>\n      <th>rated</th>\n      <th>created_at</th>\n      <th>last_move_at</th>\n      <th>turns</th>\n      <th>victory_status</th>\n      <th>winner</th>\n      <th>increment_code</th>\n      <th>white_id</th>\n      <th>white_rating</th>\n      <th>black_id</th>\n      <th>black_rating</th>\n      <th>moves</th>\n      <th>opening_eco</th>\n      <th>opening_name</th>\n      <th>opening_ply</th>\n    </tr>\n  </thead>\n  <tbody>\n    <tr>\n      <th>0</th>\n      <td>TZJHLljE</td>\n      <td>False</td>\n      <td>1.504210e+12</td>\n      <td>1.504210e+12</td>\n      <td>13</td>\n      <td>outoftime</td>\n      <td>white</td>\n      <td>15+2</td>\n      <td>bourgris</td>\n      <td>1500</td>\n      <td>a-00</td>\n      <td>1191</td>\n      <td>d4 d5 c4 c6 cxd5 e6 dxe6 fxe6 Nf3 Bb4+ Nc3 Ba5...</td>\n      <td>D10</td>\n      <td>Slav Defense: Exchange Variation</td>\n      <td>5</td>\n    </tr>\n    <tr>\n      <th>1</th>\n      <td>l1NXvwaE</td>\n      <td>True</td>\n      <td>1.504130e+12</td>\n      <td>1.504130e+12</td>\n      <td>16</td>\n      <td>resign</td>\n      <td>black</td>\n      <td>5+10</td>\n      <td>a-00</td>\n      <td>1322</td>\n      <td>skinnerua</td>\n      <td>1261</td>\n      <td>d4 Nc6 e4 e5 f4 f6 dxe5 fxe5 fxe5 Nxe5 Qd4 Nc6...</td>\n      <td>B00</td>\n      <td>Nimzowitsch Defense: Kennedy Variation</td>\n      <td>4</td>\n    </tr>\n    <tr>\n      <th>2</th>\n      <td>mIICvQHh</td>\n      <td>True</td>\n      <td>1.504130e+12</td>\n      <td>1.504130e+12</td>\n      <td>61</td>\n      <td>mate</td>\n      <td>white</td>\n      <td>5+10</td>\n      <td>ischia</td>\n      <td>1496</td>\n      <td>a-00</td>\n      <td>1500</td>\n      <td>e4 e5 d3 d6 Be3 c6 Be2 b5 Nd2 a5 a4 c5 axb5 Nc...</td>\n      <td>C20</td>\n      <td>King's Pawn Game: Leonardis Variation</td>\n      <td>3</td>\n    </tr>\n    <tr>\n      <th>3</th>\n      <td>kWKvrqYL</td>\n      <td>True</td>\n      <td>1.504110e+12</td>\n      <td>1.504110e+12</td>\n      <td>61</td>\n      <td>mate</td>\n      <td>white</td>\n      <td>20+0</td>\n      <td>daniamurashov</td>\n      <td>1439</td>\n      <td>adivanov2009</td>\n      <td>1454</td>\n      <td>d4 d5 Nf3 Bf5 Nc3 Nf6 Bf4 Ng4 e3 Nc6 Be2 Qd7 O...</td>\n      <td>D02</td>\n      <td>Queen's Pawn Game: Zukertort Variation</td>\n      <td>3</td>\n    </tr>\n    <tr>\n      <th>4</th>\n      <td>9tXo1AUZ</td>\n      <td>True</td>\n      <td>1.504030e+12</td>\n      <td>1.504030e+12</td>\n      <td>95</td>\n      <td>mate</td>\n      <td>white</td>\n      <td>30+3</td>\n      <td>nik221107</td>\n      <td>1523</td>\n      <td>adivanov2009</td>\n      <td>1469</td>\n      <td>e4 e5 Nf3 d6 d4 Nc6 d5 Nb4 a3 Na6 Nc3 Be7 b4 N...</td>\n      <td>C41</td>\n      <td>Philidor Defense</td>\n      <td>5</td>\n    </tr>\n  </tbody>\n</table>\n</div>"
          },
          "metadata": {}
        }
      ]
    },
    {
      "metadata": {
        "_cell_guid": "0d4748cd-9a43-4928-9ba3-9c42a4bfbb0d",
        "_uuid": "76a8860fa325d3324028437fa4b6ec392e7a279e"
      },
      "cell_type": "markdown",
      "source": "# Exercises"
    },
    {
      "metadata": {
        "_cell_guid": "be821524-d37d-4128-9d72-105ad898cb48",
        "_uuid": "9404e800ee7ca838451d8f420fa23f828fbc06f1"
      },
      "cell_type": "markdown",
      "source": "**Exercise 1**: It's well-known that in the game of chess, white has a slight first-mover advantage against black. Can you measure this effect in this dataset? Use the `winner` column to create a `pandas` `Series` showing how often white wins, how often black wins, and how often the result is a tie, as a ratio of total games played. In other words, a `Series` that looks something like this:\n\n    white    0.48\n    black    0.44\n    draw     0.08\n    Name: winner, dtype: float64\n    \nHint: use `len` to get the length of the initial `DataFrame`, e.g. the count of all games played."
    },
    {
      "metadata": {
        "_cell_guid": "130df29a-ff7c-4c43-8f50-2589f70c8a3b",
        "_uuid": "d5d654a0cf135ca0cde5381f45e559eb240ecd17",
        "trusted": true
      },
      "cell_type": "code",
      "source": "temp = chess_games.winner.value_counts()/len(chess_games)\nprint (check_q1(temp), '\\n\\n', temp)",
      "execution_count": 63,
      "outputs": [
        {
          "output_type": "stream",
          "text": "True \n\n white    0.498604\nblack    0.454033\ndraw     0.047363\nName: winner, dtype: float64\n",
          "name": "stdout"
        }
      ]
    },
    {
      "metadata": {
        "_cell_guid": "9e7cc907-78c8-4771-8767-433b26a501fe",
        "_uuid": "0afa1a01f6339744f117e40bc564bb8199117fba"
      },
      "cell_type": "markdown",
      "source": "**Exercise 2**: The `opening_name` field of the `chess_games` dataset provides interesting data on what the most commonly used chess openings are.  However, it gives a bit _too_ much detail, including information on the variation used for the most common opening types. For example, rather than giving `Queen's Pawn Game`, the dataset often includes `Queen's Pawn Game: Zukertort Variation`.\n\nThis makes it a bit difficult to use for categorical purposes. Here's a function that can be used to separate out the \"opening archetype\":\n\n ```python\n lambda n: n.split(\":\")[0].split(\"|\")[0].split(\"#\")[0].strip()\n ```\n\nUse this function to parse the `opening_name` field and generate a `pandas` `Series` counting how many times each of the \"opening archetypes\" gets used. Hint: use a map."
    },
    {
      "metadata": {
        "_cell_guid": "25fd7631-0e96-4c7b-979c-b6b1571a6001",
        "_uuid": "4c831eb5dd7eff5b765e5f056c7301447d6d75d3",
        "trusted": true
      },
      "cell_type": "code",
      "source": "temp = chess_games.opening_name.map(lambda n: n.split(\":\")[0].split(\"|\")[0].split(\"#\")[0].strip()).value_counts()\nprint (check_q2(temp), '\\n\\n', temp)",
      "execution_count": 64,
      "outputs": [
        {
          "output_type": "stream",
          "text": "True \n\n Sicilian Defense       2632\nFrench Defense         1412\n                       ... \nValencia Opening          1\nPterodactyl Defense       1\nName: opening_name, Length: 143, dtype: int64\n",
          "name": "stdout"
        }
      ]
    },
    {
      "metadata": {
        "_cell_guid": "77d52589-e77b-4f2a-8368-b648542d7cfd",
        "_uuid": "4c00c11c77310fbbb1d80c7ab0b9c2cec6a85d8c"
      },
      "cell_type": "markdown",
      "source": "**Exercise 3**: In this dataset various players play variably number of games. Group the games by `{white_id, victory_status}` and count how many times each white player ended the game in `mate` , `draw`, `resign`, etcetera. The name of the column counting how many times each outcome occurred should be `n` (hint: `rename` or `assign` may help)."
    },
    {
      "metadata": {
        "_cell_guid": "c718e12b-91bd-45f1-82e7-d9eba54bce1a",
        "_uuid": "0d8aceaf6237842bfeb5b715dbc661b3cd65b537",
        "trusted": true
      },
      "cell_type": "code",
      "source": "temp = chess_games.assign(n=0).groupby(['white_id', 'victory_status']).n.apply(len).reset_index()\ntemp",
      "execution_count": 65,
      "outputs": [
        {
          "output_type": "execute_result",
          "execution_count": 65,
          "data": {
            "text/plain": "                  white_id victory_status  n\n0                  --jim--           mate  1\n1      -l-_jedi_knight_-l-           mate  1\n...                    ...            ... ..\n11487               zzzbbb         resign  1\n11488              zzzimon         resign  1\n\n[11489 rows x 3 columns]",
            "text/html": "<div>\n<style scoped>\n    .dataframe tbody tr th:only-of-type {\n        vertical-align: middle;\n    }\n\n    .dataframe tbody tr th {\n        vertical-align: top;\n    }\n\n    .dataframe thead th {\n        text-align: right;\n    }\n</style>\n<table border=\"1\" class=\"dataframe\">\n  <thead>\n    <tr style=\"text-align: right;\">\n      <th></th>\n      <th>white_id</th>\n      <th>victory_status</th>\n      <th>n</th>\n    </tr>\n  </thead>\n  <tbody>\n    <tr>\n      <th>0</th>\n      <td>--jim--</td>\n      <td>mate</td>\n      <td>1</td>\n    </tr>\n    <tr>\n      <th>1</th>\n      <td>-l-_jedi_knight_-l-</td>\n      <td>mate</td>\n      <td>1</td>\n    </tr>\n    <tr>\n      <th>...</th>\n      <td>...</td>\n      <td>...</td>\n      <td>...</td>\n    </tr>\n    <tr>\n      <th>11487</th>\n      <td>zzzbbb</td>\n      <td>resign</td>\n      <td>1</td>\n    </tr>\n    <tr>\n      <th>11488</th>\n      <td>zzzimon</td>\n      <td>resign</td>\n      <td>1</td>\n    </tr>\n  </tbody>\n</table>\n<p>11489 rows × 3 columns</p>\n</div>"
          },
          "metadata": {}
        }
      ]
    },
    {
      "metadata": {
        "_cell_guid": "fbb9dbed-4013-43d2-aa6a-23b4b3553e41",
        "_uuid": "d8270a4063738d6a9cfc1f475e0b5b94e36689a2"
      },
      "cell_type": "markdown",
      "source": "**Exercise 4**: There are a lot of players in the dataset who have only played one or a small handful of games. Create a `DataFrame` like the one in the previous exercise, but only include users who are in the top 20 users by number of games played. See if you can do this using method chaining alone! Hint: reuse the code from the previous example. Then, use `pipe`."
    },
    {
      "metadata": {
        "_cell_guid": "b7bdf858-155d-4fae-a21a-373dfb8056e2",
        "_uuid": "9a335c51d7c7b41c7af17b79927089882a9012d9",
        "trusted": true
      },
      "cell_type": "code",
      "source": "#chess_games.white_id.value_counts().sort_index()\n#temp['white_id'].value_counts().iloc[:20]\ntemp = temp.pipe(lambda x: x.loc[x.white_id.isin(chess_games.white_id.value_counts().head(20).index)])\nprint (check_q4(temp), '\\n\\n', temp)",
      "execution_count": 66,
      "outputs": [
        {
          "output_type": "stream",
          "text": "True \n\n          white_id victory_status   n\n9      1240100948           draw   3\n10     1240100948           mate   7\n...           ...            ...  ..\n10907    vovkakuz      outoftime   4\n10908    vovkakuz         resign  23\n\n[72 rows x 3 columns]\n",
          "name": "stdout"
        }
      ]
    },
    {
      "metadata": {
        "trusted": true,
        "_uuid": "3931b5e39fac13032c01e192ad2cc4c3ae0ebaa6"
      },
      "cell_type": "code",
      "source": "chess_games.white_id.value_counts().head(20).index",
      "execution_count": 67,
      "outputs": [
        {
          "output_type": "execute_result",
          "execution_count": 67,
          "data": {
            "text/plain": "Index(['taranga', 'chess-brahs', 'a_p_t_e_m_u_u', 'bleda', 'ssf7',\n       'hassan1365416', 'khelil', '1240100948', 'anakgreget', 'ozguragarr',\n       'saviter', 'vladimir-kramnik-1', 'ivanbus', 'vovkakuz', 'king5891',\n       'thegrim123321', 'mastersalomon', 'islam01', 'ozil17', 'artem555'],\n      dtype='object')"
          },
          "metadata": {}
        }
      ]
    },
    {
      "metadata": {
        "_cell_guid": "bd59912b-744e-4d7b-8f86-e787d7121d46",
        "_uuid": "c28a91527be0920116c8bf017a766fd28bf3343c"
      },
      "cell_type": "markdown",
      "source": "Next, let's do some visual exercises.\n\nThe next exercise uses the following dataset:"
    },
    {
      "metadata": {
        "_cell_guid": "f5ac1f2a-4bc5-4c6a-9e77-9f1836aa9f27",
        "_uuid": "96a82b2ab00aeeb1c69806201713de3ab31c64e2",
        "trusted": true
      },
      "cell_type": "code",
      "source": "kepler = pd.read_csv(\"../input/kepler-exoplanet-search-results/cumulative.csv\")\nkepler",
      "execution_count": 68,
      "outputs": [
        {
          "output_type": "execute_result",
          "execution_count": 68,
          "data": {
            "text/plain": "      rowid     kepid kepoi_name   kepler_name koi_disposition  \\\n0         1  10797460  K00752.01  Kepler-227 b       CONFIRMED   \n1         2  10797460  K00752.02  Kepler-227 c       CONFIRMED   \n...     ...       ...        ...           ...             ...   \n9562   9563  10147276  K07987.01           NaN  FALSE POSITIVE   \n9563   9564  10156110  K07989.01           NaN  FALSE POSITIVE   \n\n     koi_pdisposition  koi_score  koi_fpflag_nt  koi_fpflag_ss  koi_fpflag_co  \\\n0           CANDIDATE      1.000              0              0              0   \n1           CANDIDATE      0.969              0              0              0   \n...               ...        ...            ...            ...            ...   \n9562   FALSE POSITIVE      0.021              0              0              1   \n9563   FALSE POSITIVE      0.000              0              0              1   \n\n         ...      koi_steff_err2  koi_slogg  koi_slogg_err1  koi_slogg_err2  \\\n0        ...               -81.0      4.467           0.064          -0.096   \n1        ...               -81.0      4.467           0.064          -0.096   \n...      ...                 ...        ...             ...             ...   \n9562     ...              -236.0      4.447           0.056          -0.224   \n9563     ...              -225.0      4.385           0.054          -0.216   \n\n      koi_srad  koi_srad_err1  koi_srad_err2         ra        dec  koi_kepmag  \n0        0.927          0.105         -0.061  291.93423  48.141651      15.347  \n1        0.927          0.105         -0.061  291.93423  48.141651      15.347  \n...        ...            ...            ...        ...        ...         ...  \n9562     1.041          0.341         -0.114  294.16489  47.176281      15.385  \n9563     1.193          0.410         -0.137  297.00977  47.121021      14.826  \n\n[9564 rows x 50 columns]",
            "text/html": "<div>\n<style scoped>\n    .dataframe tbody tr th:only-of-type {\n        vertical-align: middle;\n    }\n\n    .dataframe tbody tr th {\n        vertical-align: top;\n    }\n\n    .dataframe thead th {\n        text-align: right;\n    }\n</style>\n<table border=\"1\" class=\"dataframe\">\n  <thead>\n    <tr style=\"text-align: right;\">\n      <th></th>\n      <th>rowid</th>\n      <th>kepid</th>\n      <th>kepoi_name</th>\n      <th>kepler_name</th>\n      <th>koi_disposition</th>\n      <th>koi_pdisposition</th>\n      <th>koi_score</th>\n      <th>koi_fpflag_nt</th>\n      <th>koi_fpflag_ss</th>\n      <th>koi_fpflag_co</th>\n      <th>...</th>\n      <th>koi_steff_err2</th>\n      <th>koi_slogg</th>\n      <th>koi_slogg_err1</th>\n      <th>koi_slogg_err2</th>\n      <th>koi_srad</th>\n      <th>koi_srad_err1</th>\n      <th>koi_srad_err2</th>\n      <th>ra</th>\n      <th>dec</th>\n      <th>koi_kepmag</th>\n    </tr>\n  </thead>\n  <tbody>\n    <tr>\n      <th>0</th>\n      <td>1</td>\n      <td>10797460</td>\n      <td>K00752.01</td>\n      <td>Kepler-227 b</td>\n      <td>CONFIRMED</td>\n      <td>CANDIDATE</td>\n      <td>1.000</td>\n      <td>0</td>\n      <td>0</td>\n      <td>0</td>\n      <td>...</td>\n      <td>-81.0</td>\n      <td>4.467</td>\n      <td>0.064</td>\n      <td>-0.096</td>\n      <td>0.927</td>\n      <td>0.105</td>\n      <td>-0.061</td>\n      <td>291.93423</td>\n      <td>48.141651</td>\n      <td>15.347</td>\n    </tr>\n    <tr>\n      <th>1</th>\n      <td>2</td>\n      <td>10797460</td>\n      <td>K00752.02</td>\n      <td>Kepler-227 c</td>\n      <td>CONFIRMED</td>\n      <td>CANDIDATE</td>\n      <td>0.969</td>\n      <td>0</td>\n      <td>0</td>\n      <td>0</td>\n      <td>...</td>\n      <td>-81.0</td>\n      <td>4.467</td>\n      <td>0.064</td>\n      <td>-0.096</td>\n      <td>0.927</td>\n      <td>0.105</td>\n      <td>-0.061</td>\n      <td>291.93423</td>\n      <td>48.141651</td>\n      <td>15.347</td>\n    </tr>\n    <tr>\n      <th>...</th>\n      <td>...</td>\n      <td>...</td>\n      <td>...</td>\n      <td>...</td>\n      <td>...</td>\n      <td>...</td>\n      <td>...</td>\n      <td>...</td>\n      <td>...</td>\n      <td>...</td>\n      <td>...</td>\n      <td>...</td>\n      <td>...</td>\n      <td>...</td>\n      <td>...</td>\n      <td>...</td>\n      <td>...</td>\n      <td>...</td>\n      <td>...</td>\n      <td>...</td>\n      <td>...</td>\n    </tr>\n    <tr>\n      <th>9562</th>\n      <td>9563</td>\n      <td>10147276</td>\n      <td>K07987.01</td>\n      <td>NaN</td>\n      <td>FALSE POSITIVE</td>\n      <td>FALSE POSITIVE</td>\n      <td>0.021</td>\n      <td>0</td>\n      <td>0</td>\n      <td>1</td>\n      <td>...</td>\n      <td>-236.0</td>\n      <td>4.447</td>\n      <td>0.056</td>\n      <td>-0.224</td>\n      <td>1.041</td>\n      <td>0.341</td>\n      <td>-0.114</td>\n      <td>294.16489</td>\n      <td>47.176281</td>\n      <td>15.385</td>\n    </tr>\n    <tr>\n      <th>9563</th>\n      <td>9564</td>\n      <td>10156110</td>\n      <td>K07989.01</td>\n      <td>NaN</td>\n      <td>FALSE POSITIVE</td>\n      <td>FALSE POSITIVE</td>\n      <td>0.000</td>\n      <td>0</td>\n      <td>0</td>\n      <td>1</td>\n      <td>...</td>\n      <td>-225.0</td>\n      <td>4.385</td>\n      <td>0.054</td>\n      <td>-0.216</td>\n      <td>1.193</td>\n      <td>0.410</td>\n      <td>-0.137</td>\n      <td>297.00977</td>\n      <td>47.121021</td>\n      <td>14.826</td>\n    </tr>\n  </tbody>\n</table>\n<p>9564 rows × 50 columns</p>\n</div>"
          },
          "metadata": {}
        }
      ]
    },
    {
      "metadata": {
        "_cell_guid": "ed30c948-bf7d-4014-b46e-e6764b32887c",
        "_uuid": "4e97a338fe718b61703699a4f6b8e81c238f63b6"
      },
      "cell_type": "markdown",
      "source": "**Exercise 5**: The Kepler space observatory is in the business of finding potential exoplanets (planets orbiting stars other suns) and, after collecting the evidence, generating whether or not to confirm, decline to confirm, or deny that a given space body is, in fact, an exoplanet. In the dataset above, the \"before\" status of the body is `koi_pdisposition`, and the \"after\" status is `koi_disposition`. \n\nUsing the dataset above, generate a `Series` counting all of the possible transitions between pre-disposition and post-disposition. In other words, generate a `Series` whose index is a `MultiIndex` based on the `{koi_pdisposition, koi_disposition}` fields, and whose values is a count of how many times each possible combination occurred."
    },
    {
      "metadata": {
        "_cell_guid": "4bc2c673-ee88-4502-8b3a-a668567d59a8",
        "_uuid": "72cdeb2a1d37c760b9eaf8fb354681cf83b51f1a",
        "trusted": true
      },
      "cell_type": "code",
      "source": "kepler.koi_disposition.unique()",
      "execution_count": 71,
      "outputs": [
        {
          "output_type": "execute_result",
          "execution_count": 71,
          "data": {
            "text/plain": "array(['CONFIRMED', 'FALSE POSITIVE', 'CANDIDATE'], dtype=object)"
          },
          "metadata": {}
        }
      ]
    },
    {
      "metadata": {
        "trusted": true,
        "_uuid": "e5b8972307e2f4a8b8107a5791430ae6db0f34e4"
      },
      "cell_type": "code",
      "source": "check_q5(kepler.groupby(['koi_pdisposition', 'koi_disposition']).rowid.count())",
      "execution_count": 85,
      "outputs": [
        {
          "output_type": "execute_result",
          "execution_count": 85,
          "data": {
            "text/plain": "<matplotlib.axes._subplots.AxesSubplot at 0x7f41666e0518>"
          },
          "metadata": {}
        },
        {
          "output_type": "display_data",
          "data": {
            "text/plain": "<matplotlib.figure.Figure at 0x7f41667174e0>",
            "image/png": "[encoded data removed]"
          },
          "metadata": {}
        }
      ]
    },
    {
      "metadata": {
        "_cell_guid": "7225ca0a-2fa8-4bd2-b286-2731bdac0982",
        "_uuid": "ceececcbd0f41b807d173ced0672320933cfa99c",
        "collapsed": true
      },
      "cell_type": "markdown",
      "source": "The next few exercises use the following datasets:"
    },
    {
      "metadata": {
        "_cell_guid": "fda2b4e8-08e2-44b0-abc9-2160e63e64bc",
        "_uuid": "c776c108c02cce4fd1152b6330ccdac899ce8b55",
        "trusted": true
      },
      "cell_type": "code",
      "source": "wine_reviews = pd.read_csv(\"../input/wine-reviews/winemag-data-130k-v2.csv\", index_col=0)\nwine_reviews.head()",
      "execution_count": 86,
      "outputs": [
        {
          "output_type": "execute_result",
          "execution_count": 86,
          "data": {
            "text/plain": "    country                                        description  \\\n0     Italy  Aromas include tropical fruit, broom, brimston...   \n1  Portugal  This is ripe and fruity, a wine that is smooth...   \n2        US  Tart and snappy, the flavors of lime flesh and...   \n3        US  Pineapple rind, lemon pith and orange blossom ...   \n4        US  Much like the regular bottling from 2012, this...   \n\n                          designation  points  price           province  \\\n0                        Vulkà Bianco      87    NaN  Sicily & Sardinia   \n1                            Avidagos      87   15.0              Douro   \n2                                 NaN      87   14.0             Oregon   \n3                Reserve Late Harvest      87   13.0           Michigan   \n4  Vintner's Reserve Wild Child Block      87   65.0             Oregon   \n\n              region_1           region_2         taster_name  \\\n0                 Etna                NaN       Kerin O’Keefe   \n1                  NaN                NaN          Roger Voss   \n2    Willamette Valley  Willamette Valley        Paul Gregutt   \n3  Lake Michigan Shore                NaN  Alexander Peartree   \n4    Willamette Valley  Willamette Valley        Paul Gregutt   \n\n  taster_twitter_handle                                              title  \\\n0          @kerinokeefe                  Nicosia 2013 Vulkà Bianco  (Etna)   \n1            @vossroger      Quinta dos Avidagos 2011 Avidagos Red (Douro)   \n2           @paulgwine       Rainstorm 2013 Pinot Gris (Willamette Valley)   \n3                   NaN  St. Julian 2013 Reserve Late Harvest Riesling ...   \n4           @paulgwine   Sweet Cheeks 2012 Vintner's Reserve Wild Child...   \n\n          variety               winery  \n0     White Blend              Nicosia  \n1  Portuguese Red  Quinta dos Avidagos  \n2      Pinot Gris            Rainstorm  \n3        Riesling           St. Julian  \n4      Pinot Noir         Sweet Cheeks  ",
            "text/html": "<div>\n<style scoped>\n    .dataframe tbody tr th:only-of-type {\n        vertical-align: middle;\n    }\n\n    .dataframe tbody tr th {\n        vertical-align: top;\n    }\n\n    .dataframe thead th {\n        text-align: right;\n    }\n</style>\n<table border=\"1\" class=\"dataframe\">\n  <thead>\n    <tr style=\"text-align: right;\">\n      <th></th>\n      <th>country</th>\n      <th>description</th>\n      <th>designation</th>\n      <th>points</th>\n      <th>price</th>\n      <th>province</th>\n      <th>region_1</th>\n      <th>region_2</th>\n      <th>taster_name</th>\n      <th>taster_twitter_handle</th>\n      <th>title</th>\n      <th>variety</th>\n      <th>winery</th>\n    </tr>\n  </thead>\n  <tbody>\n    <tr>\n      <th>0</th>\n      <td>Italy</td>\n      <td>Aromas include tropical fruit, broom, brimston...</td>\n      <td>Vulkà Bianco</td>\n      <td>87</td>\n      <td>NaN</td>\n      <td>Sicily &amp; Sardinia</td>\n      <td>Etna</td>\n      <td>NaN</td>\n      <td>Kerin O’Keefe</td>\n      <td>@kerinokeefe</td>\n      <td>Nicosia 2013 Vulkà Bianco  (Etna)</td>\n      <td>White Blend</td>\n      <td>Nicosia</td>\n    </tr>\n    <tr>\n      <th>1</th>\n      <td>Portugal</td>\n      <td>This is ripe and fruity, a wine that is smooth...</td>\n      <td>Avidagos</td>\n      <td>87</td>\n      <td>15.0</td>\n      <td>Douro</td>\n      <td>NaN</td>\n      <td>NaN</td>\n      <td>Roger Voss</td>\n      <td>@vossroger</td>\n      <td>Quinta dos Avidagos 2011 Avidagos Red (Douro)</td>\n      <td>Portuguese Red</td>\n      <td>Quinta dos Avidagos</td>\n    </tr>\n    <tr>\n      <th>2</th>\n      <td>US</td>\n      <td>Tart and snappy, the flavors of lime flesh and...</td>\n      <td>NaN</td>\n      <td>87</td>\n      <td>14.0</td>\n      <td>Oregon</td>\n      <td>Willamette Valley</td>\n      <td>Willamette Valley</td>\n      <td>Paul Gregutt</td>\n      <td>@paulgwine</td>\n      <td>Rainstorm 2013 Pinot Gris (Willamette Valley)</td>\n      <td>Pinot Gris</td>\n      <td>Rainstorm</td>\n    </tr>\n    <tr>\n      <th>3</th>\n      <td>US</td>\n      <td>Pineapple rind, lemon pith and orange blossom ...</td>\n      <td>Reserve Late Harvest</td>\n      <td>87</td>\n      <td>13.0</td>\n      <td>Michigan</td>\n      <td>Lake Michigan Shore</td>\n      <td>NaN</td>\n      <td>Alexander Peartree</td>\n      <td>NaN</td>\n      <td>St. Julian 2013 Reserve Late Harvest Riesling ...</td>\n      <td>Riesling</td>\n      <td>St. Julian</td>\n    </tr>\n    <tr>\n      <th>4</th>\n      <td>US</td>\n      <td>Much like the regular bottling from 2012, this...</td>\n      <td>Vintner's Reserve Wild Child Block</td>\n      <td>87</td>\n      <td>65.0</td>\n      <td>Oregon</td>\n      <td>Willamette Valley</td>\n      <td>Willamette Valley</td>\n      <td>Paul Gregutt</td>\n      <td>@paulgwine</td>\n      <td>Sweet Cheeks 2012 Vintner's Reserve Wild Child...</td>\n      <td>Pinot Noir</td>\n      <td>Sweet Cheeks</td>\n    </tr>\n  </tbody>\n</table>\n</div>"
          },
          "metadata": {}
        }
      ]
    },
    {
      "metadata": {
        "_cell_guid": "e4627770-9047-4003-b06b-0586935b66e1",
        "_uuid": "cd01a4aa45e2f908e8f9c0fc0b069ba87bc17adc",
        "trusted": true
      },
      "cell_type": "code",
      "source": "ramen_reviews = pd.read_csv(\"../input/ramen-ratings/ramen-ratings.csv\", index_col=0)\nramen_reviews.head()",
      "execution_count": 87,
      "outputs": [
        {
          "output_type": "execute_result",
          "execution_count": 87,
          "data": {
            "text/plain": "                   Brand                                            Variety  \\\nReview #                                                                      \n2580           New Touch                          T's Restaurant Tantanmen    \n2579            Just Way  Noodles Spicy Hot Sesame Spicy Hot Sesame Guan...   \n2578              Nissin                      Cup Noodles Chicken Vegetable   \n2577             Wei Lih                      GGE Ramen Snack Tomato Flavor   \n2576      Ching's Secret                                    Singapore Curry   \n\n         Style Country Stars Top Ten  \nReview #                              \n2580       Cup   Japan  3.75     NaN  \n2579      Pack  Taiwan     1     NaN  \n2578       Cup     USA  2.25     NaN  \n2577      Pack  Taiwan  2.75     NaN  \n2576      Pack   India  3.75     NaN  ",
            "text/html": "<div>\n<style scoped>\n    .dataframe tbody tr th:only-of-type {\n        vertical-align: middle;\n    }\n\n    .dataframe tbody tr th {\n        vertical-align: top;\n    }\n\n    .dataframe thead th {\n        text-align: right;\n    }\n</style>\n<table border=\"1\" class=\"dataframe\">\n  <thead>\n    <tr style=\"text-align: right;\">\n      <th></th>\n      <th>Brand</th>\n      <th>Variety</th>\n      <th>Style</th>\n      <th>Country</th>\n      <th>Stars</th>\n      <th>Top Ten</th>\n    </tr>\n    <tr>\n      <th>Review #</th>\n      <th></th>\n      <th></th>\n      <th></th>\n      <th></th>\n      <th></th>\n      <th></th>\n    </tr>\n  </thead>\n  <tbody>\n    <tr>\n      <th>2580</th>\n      <td>New Touch</td>\n      <td>T's Restaurant Tantanmen</td>\n      <td>Cup</td>\n      <td>Japan</td>\n      <td>3.75</td>\n      <td>NaN</td>\n    </tr>\n    <tr>\n      <th>2579</th>\n      <td>Just Way</td>\n      <td>Noodles Spicy Hot Sesame Spicy Hot Sesame Guan...</td>\n      <td>Pack</td>\n      <td>Taiwan</td>\n      <td>1</td>\n      <td>NaN</td>\n    </tr>\n    <tr>\n      <th>2578</th>\n      <td>Nissin</td>\n      <td>Cup Noodles Chicken Vegetable</td>\n      <td>Cup</td>\n      <td>USA</td>\n      <td>2.25</td>\n      <td>NaN</td>\n    </tr>\n    <tr>\n      <th>2577</th>\n      <td>Wei Lih</td>\n      <td>GGE Ramen Snack Tomato Flavor</td>\n      <td>Pack</td>\n      <td>Taiwan</td>\n      <td>2.75</td>\n      <td>NaN</td>\n    </tr>\n    <tr>\n      <th>2576</th>\n      <td>Ching's Secret</td>\n      <td>Singapore Curry</td>\n      <td>Pack</td>\n      <td>India</td>\n      <td>3.75</td>\n      <td>NaN</td>\n    </tr>\n  </tbody>\n</table>\n</div>"
          },
          "metadata": {}
        }
      ]
    },
    {
      "metadata": {
        "_cell_guid": "c8eae2c9-5dad-4969-8250-8738f763a909",
        "_uuid": "a26f10615034d4bd565f56764bf7a62b4ff0544e"
      },
      "cell_type": "markdown",
      "source": "**Exercise 6**: As we demonstrated in previous workbooks, the `points` column in the `wine_reviews` dataset is measured on a 20-point scale between 80 and 100. Create a `Series` which normalizes the ratings so that they fit on a 1-to-5 scale instead (e.g. a score of 80 translates to 1 star, while a score of 100 is five stars). Set the `Series` name to \"Wine Ratings\", and sort by index value (ascending)."
    },
    {
      "metadata": {
        "_cell_guid": "a265d37a-31c4-4adb-84ca-232821f03e6b",
        "_uuid": "3694ed668fe4f9b4487d91c3404d7436a12c4259",
        "trusted": true
      },
      "cell_type": "code",
      "source": "temp2 = wine_reviews.points.map(lambda x: (x-80)/4).value_counts().sort_index().rename_axis(\"Wine Ratings\")\nprint (check_q6(temp2))\n#check_q6(pd.Series(temp2, name='Wine Ratings'))\n#wine_reviews.points.sort_values().plot.hist()",
      "execution_count": 120,
      "outputs": [
        {
          "output_type": "stream",
          "text": "AxesSubplot(0.125,0.125;0.775x0.755)\n",
          "name": "stdout"
        },
        {
          "output_type": "display_data",
          "data": {
            "text/plain": "<matplotlib.figure.Figure at 0x7f41603a44a8>",
            "image/png": "[encoded data removed]"
          },
          "metadata": {}
        }
      ]
    },
    {
      "metadata": {
        "_cell_guid": "0e73353b-5091-43c3-83db-50e8b9e42759",
        "_uuid": "b1d5ffc806de05d79260977923dba80468db7c79"
      },
      "cell_type": "markdown",
      "source": "**Exercise 7**: The `Stars` column in the `ramen_reviews` dataset is the ramen equivalent to the similar data points in `wine_reviews`. Luckily it is already on a 0-to-5 scale, but it has some different problems...create a `Series` counting how many ramens earned each of the possible scores in the dataset. Convert the `Series` to the `float64` dtype and drop rames whose rating is `\"Unrated\"`. Set the name of the `Series` to \"Ramen Ratings\". Sort by index value (ascending)."
    },
    {
      "metadata": {
        "_cell_guid": "7ea82b3d-dbb6-4f17-95cb-901aa966520b",
        "_uuid": "0c18aab67a0ee106e1d89fe528ea496b1694f25a",
        "trusted": true
      },
      "cell_type": "code",
      "source": "check_q7(ramen_reviews.Stars.replace('Unrated', None).dropna().astype('float64').value_counts().sort_index().rename_axis(\"Ramen Ratings\"))\n#answer_q7()",
      "execution_count": 145,
      "outputs": [
        {
          "output_type": "execute_result",
          "execution_count": 145,
          "data": {
            "text/plain": "<matplotlib.axes._subplots.AxesSubplot at 0x7f41600671d0>"
          },
          "metadata": {}
        },
        {
          "output_type": "display_data",
          "data": {
            "text/plain": "<matplotlib.figure.Figure at 0x7f415feb9eb8>",
            "image/png": "[encoded data removed]"
          },
          "metadata": {}
        }
      ]
    },
    {
      "metadata": {
        "_cell_guid": "0cba2cab-5315-4a3c-b1f4-8f07da6901a4",
        "_uuid": "a80054f5a7bfa75c7bfbeacc65a480837291ab1d",
        "collapsed": true
      },
      "cell_type": "markdown",
      "source": "**Exercise 8**: We can see from the result of the previous exercise that whilst the wine reviewers stick to a strict 20-point scale, ramen reviews occassionally deviate into fractional numbers. Modify your answer to the previous exercise by rounding review scores to the nearest half-point (so 0, 0.5, 1, 1.5, 2, 2.5, 3, 3.5, 4, 4.5, or 5)."
    },
    {
      "metadata": {
        "trusted": true,
        "_uuid": "3b577d20170972b0f99ef9afed5747791de13f5f"
      },
      "cell_type": "code",
      "source": "round(3.7, 0)",
      "execution_count": 157,
      "outputs": [
        {
          "output_type": "execute_result",
          "execution_count": 157,
          "data": {
            "text/plain": "4.0"
          },
          "metadata": {}
        }
      ]
    },
    {
      "metadata": {
        "_cell_guid": "ee8497a9-a6a8-4a0d-b631-2be0ef64f5ba",
        "_uuid": "2d906a816ffccd120d1290dfc35c97fb9c01d634",
        "trusted": true
      },
      "cell_type": "code",
      "source": "check_q8(ramen_reviews.Stars.replace('Unrated', None).dropna().astype('float64').map(lambda x: int(x) if x - int(x) < 0.5 else int(x) + 0.5).value_counts().sort_index().rename_axis(\"Ramen Reviews\"))",
      "execution_count": 160,
      "outputs": [
        {
          "output_type": "execute_result",
          "execution_count": 160,
          "data": {
            "text/plain": "<matplotlib.axes._subplots.AxesSubplot at 0x7f4160372438>"
          },
          "metadata": {}
        },
        {
          "output_type": "display_data",
          "data": {
            "text/plain": "<matplotlib.figure.Figure at 0x7f41603631d0>",
            "image/png": "[encoded data removed]"
          },
          "metadata": {}
        }
      ]
    },
    {
      "metadata": {
        "_cell_guid": "9f6b04ae-5afa-459a-911e-c429b869ceb5",
        "_uuid": "e6f718a1192226af9e07e366cf57a2b11af3e23c"
      },
      "cell_type": "markdown",
      "source": "# Congratulations\n\nYou've finished the Pandas track.  Many data scientist feel efficiency with Pandas is the most useful and practical skill they have, because it allows you to progress quickly in any project you have.\n\nYou can take advantage of your Pandas skills by entering a [Kaggle Competition](https://www.kaggle.com/competitions) or answering a question you find interesting using [Kaggle Datasets](https://www.kaggle.com/datasets)."
    }
  ],
  "metadata": {
    "kernelspec": {
      "display_name": "Python 3",
      "language": "python",
      "name": "python3"
    },
    "language_info": {
      "name": "python",
      "version": "3.6.4",
      "mimetype": "text/x-python",
      "codemirror_mode": {
        "name": "ipython",
        "version": 3
      },
      "pygments_lexer": "ipython3",
      "nbconvert_exporter": "python",
      "file_extension": ".py"
    }
  },
  "nbformat": 4,
  "nbformat_minor": 1
}