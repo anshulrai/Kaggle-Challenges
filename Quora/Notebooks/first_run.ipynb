{
  "cells": [
    {
      "metadata": {
        "_uuid": "8f2839f25d086af736a60e9eeb907d3b93b6e0e5",
        "_cell_guid": "b1076dfc-b9ad-4769-8c92-a6c4dae69d19",
        "trusted": true
      },
      "cell_type": "code",
      "source": "import gc\nimport chardet\nimport re\nimport os\nfrom IPython.display import HTML\nimport pandas as pd\nimport numpy as np\nimport base64\nprint(os.listdir(\"../input\"))",
      "execution_count": 67,
      "outputs": [
        {
          "output_type": "stream",
          "text": "['embeddings', 'train.csv', 'sample_submission.csv', 'test.csv']\n",
          "name": "stdout"
        }
      ]
    },
    {
      "metadata": {
        "trusted": true,
        "_uuid": "0a2b61717e468b5a6b9820240af45236260c7168"
      },
      "cell_type": "code",
      "source": "from keras.models import Model, Sequential\nfrom keras.layers import Dense, Embedding, Input, Conv1D, GlobalMaxPool1D, Dropout, concatenate, Layer, InputSpec, CuDNNLSTM\nfrom keras.preprocessing import text, sequence\nfrom keras.callbacks import EarlyStopping, ModelCheckpoint\nfrom keras import backend as K\nfrom keras import activations, initializers, regularizers, constraints\nfrom keras.utils.conv_utils import conv_output_length\nfrom keras.regularizers import l2\nfrom keras.constraints import maxnorm",
      "execution_count": 2,
      "outputs": [
        {
          "output_type": "stream",
          "text": "Using TensorFlow backend.\n",
          "name": "stderr"
        }
      ]
    },
    {
      "metadata": {
        "trusted": true,
        "_uuid": "a96676190d1724b7de70ff170d82cff591c5037c"
      },
      "cell_type": "code",
      "source": "def create_download_link(df, title = \"Download CSV file\", filename = \"data.csv\"):  \n    csv = df.to_csv()\n    b64 = base64.b64encode(csv.encode())\n    payload = b64.decode()\n    html = '<a download=\"{filename}\" href=\"data:text/csv;base64,{payload}\" target=\"_blank\">{title}</a>'\n    html = html.format(payload=payload,title=title,filename=filename)\n    return HTML(html)",
      "execution_count": 68,
      "outputs": []
    },
    {
      "metadata": {
        "_uuid": "d629ff2d2480ee46fbb7e2d37f6b5fab8052498a",
        "_cell_guid": "79c7e3d0-c299-4dcb-8224-4455121ee9b0",
        "trusted": true
      },
      "cell_type": "code",
      "source": "train_df = pd.read_csv('../input/train.csv', usecols=['question_text', 'target'])\ntest_df = pd.read_csv('../input/test.csv', usecols = ['question_text'])",
      "execution_count": 7,
      "outputs": []
    },
    {
      "metadata": {
        "trusted": true,
        "_uuid": "a115f3f4e8fdf77708abcc2080c556a69ae55d14"
      },
      "cell_type": "code",
      "source": "train_df['question_text'] = train_df['question_text'].apply(lambda x: x.lower())\ntest_df['question_text'] = test_df['question_text'].apply(lambda x: x.lower())\n\npattern = re.compile(r\"[^a-z ]+\")\ntrain_df['question_text'] = train_df['question_text'].apply(lambda x: re.sub(pattern, \"\", x))\ntest_df['question_text'] = test_df['question_text'].apply(lambda x: re.sub(pattern, \"\", x))",
      "execution_count": 15,
      "outputs": []
    },
    {
      "metadata": {
        "trusted": true,
        "_uuid": "9b969aa8a0272b76453fcb01105d9cd6e97c3fd7"
      },
      "cell_type": "code",
      "source": "train_sentences = list(train_df['question_text'])\ntrain_labels = list(train_df['target'])\ntest_sentences = list(test_df['question_text'])",
      "execution_count": 21,
      "outputs": []
    },
    {
      "metadata": {
        "_uuid": "3754d4d288fe5411ee0cc26112a17dd34a6e427c",
        "_cell_guid": "03b49435-b06b-4f72-b8f2-27faae8cf478",
        "scrolled": true,
        "trusted": true
      },
      "cell_type": "code",
      "source": "gc.collect()",
      "execution_count": 22,
      "outputs": [
        {
          "output_type": "execute_result",
          "execution_count": 22,
          "data": {
            "text/plain": "87"
          },
          "metadata": {}
        }
      ]
    },
    {
      "metadata": {
        "trusted": true,
        "_uuid": "0ab720adb979acbb71bdbc1b0baf975b592049ea"
      },
      "cell_type": "code",
      "source": "max_features = 20000\nmaxlen = 100",
      "execution_count": 23,
      "outputs": []
    },
    {
      "metadata": {
        "trusted": true,
        "_uuid": "7fafbeb9c7604d9306ee0b11831769b616bb3b49"
      },
      "cell_type": "code",
      "source": "tokenizer = text.Tokenizer(num_words=max_features)",
      "execution_count": 24,
      "outputs": []
    },
    {
      "metadata": {
        "trusted": true,
        "_uuid": "c9ebc89a3e784567de70e9b77b514e0553e75a43"
      },
      "cell_type": "code",
      "source": "tokenizer.fit_on_texts(train_sentences)",
      "execution_count": 25,
      "outputs": []
    },
    {
      "metadata": {
        "trusted": true,
        "_uuid": "a228c36b8fad3cf02e19cbb43210bb10735807a2"
      },
      "cell_type": "code",
      "source": "tokenized_train = tokenizer.texts_to_sequences(train_sentences)\nX_train = sequence.pad_sequences(tokenized_train, maxlen=maxlen)",
      "execution_count": 26,
      "outputs": []
    },
    {
      "metadata": {
        "trusted": true,
        "_uuid": "3d129cf469aab9863fe98e96eae08c669547377d"
      },
      "cell_type": "code",
      "source": "X_train[0]",
      "execution_count": 27,
      "outputs": [
        {
          "output_type": "execute_result",
          "execution_count": 27,
          "data": {
            "text/plain": "array([   0,    0,    0,    0,    0,    0,    0,    0,    0,    0,    0,\n          0,    0,    0,    0,    0,    0,    0,    0,    0,    0,    0,\n          0,    0,    0,    0,    0,    0,    0,    0,    0,    0,    0,\n          0,    0,    0,    0,    0,    0,    0,    0,    0,    0,    0,\n          0,    0,    0,    0,    0,    0,    0,    0,    0,    0,    0,\n          0,    0,    0,    0,    0,    0,    0,    0,    0,    0,    0,\n          0,    0,    0,    0,    0,    0,    0,    0,    0,    0,    0,\n          0,    0,    0,    0,    0,    0,    0,    0,    0,    0,    9,\n         48, 6524, 7212,  155,   55, 6062,   36,    4, 1181,    6,    1,\n        295], dtype=int32)"
          },
          "metadata": {}
        }
      ]
    },
    {
      "metadata": {
        "trusted": true,
        "_uuid": "29ff082b690cc6ef49136732bc12e6adf95ef693"
      },
      "cell_type": "code",
      "source": "tokenized_test = tokenizer.texts_to_sequences(test_sentences)\nX_test = sequence.pad_sequences(tokenized_test, maxlen=maxlen)",
      "execution_count": 28,
      "outputs": []
    },
    {
      "metadata": {
        "trusted": true,
        "_uuid": "91329150363b5ff70ce494c6fabd1b68ffbb7b8c"
      },
      "cell_type": "code",
      "source": "del tokenized_test, tokenized_train, tokenizer, train_sentences, test_sentences\ngc.collect()",
      "execution_count": 29,
      "outputs": [
        {
          "output_type": "execute_result",
          "execution_count": 29,
          "data": {
            "text/plain": "0"
          },
          "metadata": {}
        }
      ]
    },
    {
      "metadata": {
        "trusted": true,
        "_uuid": "2d23cba7120d3b8c206801fa19e8754c6de44dc9"
      },
      "cell_type": "code",
      "source": "batch_size = 512\nepochs = 1",
      "execution_count": 36,
      "outputs": []
    },
    {
      "metadata": {
        "trusted": true,
        "_uuid": "b1c413e9230e1b81c2082b651cd2e90fa9a6bfaf"
      },
      "cell_type": "code",
      "source": "gc.collect()",
      "execution_count": 37,
      "outputs": [
        {
          "output_type": "execute_result",
          "execution_count": 37,
          "data": {
            "text/plain": "0"
          },
          "metadata": {}
        }
      ]
    },
    {
      "metadata": {
        "trusted": true,
        "_uuid": "5c36d39a2094cbaa7e306af22cd870e986f473ff"
      },
      "cell_type": "code",
      "source": "def cudnnlstm_model(conv_layers = 2, max_dilation_rate = 3):\n    embed_size = 128\n    inp = Input(shape=(maxlen, ))\n    x = Embedding(max_features, embed_size)(inp)\n    x = Dropout(0.25)(x)\n    x = Conv1D(2*embed_size, kernel_size = 3)(x)\n    prefilt = Conv1D(2*embed_size, kernel_size = 3)(x)\n    x = prefilt\n    for strides in [1, 1, 2]:\n        x = Conv1D(128*2**(strides), strides = strides, kernel_regularizer=l2(4e-6), bias_regularizer=l2(4e-6), kernel_size=3, kernel_constraint=maxnorm(10), bias_constraint=maxnorm(10))(x)\n    x_f = CuDNNLSTM(512, kernel_regularizer=l2(4e-6), bias_regularizer=l2(4e-6), kernel_constraint=maxnorm(10), bias_constraint=maxnorm(10))(x)  \n    x_b = CuDNNLSTM(512, kernel_regularizer=l2(4e-6), bias_regularizer=l2(4e-6), kernel_constraint=maxnorm(10), bias_constraint=maxnorm(10))(x)\n    x = concatenate([x_f, x_b])\n    x = Dropout(0.5)(x)\n    x = Dense(64, activation=\"relu\")(x)\n    x = Dropout(0.1)(x)\n    x = Dense(1, activation=\"sigmoid\")(x)\n    model = Model(inputs=inp, outputs=x)\n    model.compile(loss='binary_crossentropy',\n                  optimizer='adam',\n                  metrics=['binary_accuracy'])\n\n    return model\n\ncudnnlstm_model = cudnnlstm_model()\ncudnnlstm_model.summary()",
      "execution_count": 38,
      "outputs": [
        {
          "output_type": "stream",
          "text": "__________________________________________________________________________________________________\nLayer (type)                    Output Shape         Param #     Connected to                     \n==================================================================================================\ninput_2 (InputLayer)            (None, 100)          0                                            \n__________________________________________________________________________________________________\nembedding_2 (Embedding)         (None, 100, 128)     2560000     input_2[0][0]                    \n__________________________________________________________________________________________________\ndropout_4 (Dropout)             (None, 100, 128)     0           embedding_2[0][0]                \n__________________________________________________________________________________________________\nconv1d_6 (Conv1D)               (None, 98, 256)      98560       dropout_4[0][0]                  \n__________________________________________________________________________________________________\nconv1d_7 (Conv1D)               (None, 96, 256)      196864      conv1d_6[0][0]                   \n__________________________________________________________________________________________________\nconv1d_8 (Conv1D)               (None, 94, 256)      196864      conv1d_7[0][0]                   \n__________________________________________________________________________________________________\nconv1d_9 (Conv1D)               (None, 92, 256)      196864      conv1d_8[0][0]                   \n__________________________________________________________________________________________________\nconv1d_10 (Conv1D)              (None, 45, 512)      393728      conv1d_9[0][0]                   \n__________________________________________________________________________________________________\ncu_dnnlstm_3 (CuDNNLSTM)        (None, 512)          2101248     conv1d_10[0][0]                  \n__________________________________________________________________________________________________\ncu_dnnlstm_4 (CuDNNLSTM)        (None, 512)          2101248     conv1d_10[0][0]                  \n__________________________________________________________________________________________________\nconcatenate_2 (Concatenate)     (None, 1024)         0           cu_dnnlstm_3[0][0]               \n                                                                 cu_dnnlstm_4[0][0]               \n__________________________________________________________________________________________________\ndropout_5 (Dropout)             (None, 1024)         0           concatenate_2[0][0]              \n__________________________________________________________________________________________________\ndense_3 (Dense)                 (None, 64)           65600       dropout_5[0][0]                  \n__________________________________________________________________________________________________\ndropout_6 (Dropout)             (None, 64)           0           dense_3[0][0]                    \n__________________________________________________________________________________________________\ndense_4 (Dense)                 (None, 1)            65          dropout_6[0][0]                  \n==================================================================================================\nTotal params: 7,911,041\nTrainable params: 7,911,041\nNon-trainable params: 0\n__________________________________________________________________________________________________\n",
          "name": "stdout"
        }
      ]
    },
    {
      "metadata": {
        "trusted": true,
        "_uuid": "0cc9437fc6b557e4fcfca155abb10c00e0935798"
      },
      "cell_type": "code",
      "source": "weight_path=\"early_weights.hdf5\"\ncheckpoint = ModelCheckpoint(weight_path, monitor='val_loss', verbose=1, save_best_only=True, mode='min')\nearly_stopping = EarlyStopping(monitor=\"val_loss\", mode=\"min\", patience=5)\ncallbacks = [checkpoint, early_stopping]",
      "execution_count": 39,
      "outputs": []
    },
    {
      "metadata": {
        "trusted": true,
        "_uuid": "e26f4765c718fd8f57773cf8725487cb79a68d40"
      },
      "cell_type": "code",
      "source": "cudnnlstm_model.fit(X_train, train_labels, batch_size=batch_size, epochs=epochs, shuffle = True, validation_split=0.20, callbacks=callbacks)",
      "execution_count": 40,
      "outputs": [
        {
          "output_type": "stream",
          "text": "Train on 1044897 samples, validate on 261225 samples\nEpoch 1/1\n1044897/1044897 [==============================] - 1054s 1ms/step - loss: 0.1605 - binary_accuracy: 0.9468 - val_loss: 0.2131 - val_binary_accuracy: 0.9377\n\nEpoch 00001: val_loss improved from inf to 0.21314, saving model to early_weights.hdf5\n",
          "name": "stdout"
        },
        {
          "output_type": "execute_result",
          "execution_count": 40,
          "data": {
            "text/plain": "<keras.callbacks.History at 0x7f0ad3840da0>"
          },
          "metadata": {}
        }
      ]
    },
    {
      "metadata": {
        "trusted": true,
        "_uuid": "6197ef311e5644424397a66fb5dd287f9040d4c3"
      },
      "cell_type": "code",
      "source": "cudnnlstm_model.load_weights(weight_path)\ny_pred = cudnnlstm_model.predict(X_test, batch_size=batch_size)\ny_pred = [x for i in y_pred for x in i]",
      "execution_count": 41,
      "outputs": []
    },
    {
      "metadata": {
        "trusted": true,
        "_uuid": "61d38989f67f28214873139c0c315d9bfe08df79"
      },
      "cell_type": "code",
      "source": "sample = pd.read_csv('../input/sample_submission.csv')",
      "execution_count": 43,
      "outputs": []
    },
    {
      "metadata": {
        "trusted": true,
        "_uuid": "f2c140dfb64d46082088659cceac89f0c47c4ff0"
      },
      "cell_type": "code",
      "source": "sample['prediction'] = pd.Series(y_pred)",
      "execution_count": 55,
      "outputs": []
    },
    {
      "metadata": {
        "trusted": true,
        "_uuid": "203f3aec8855b885807badbcbf67b6865db60abf"
      },
      "cell_type": "code",
      "source": "sample['prediction'] = sample['prediction'].apply(lambda x: 0 if x < 0.2 else 1)",
      "execution_count": 60,
      "outputs": []
    },
    {
      "metadata": {
        "trusted": true,
        "_uuid": "cb4f7c27cdef8b96740daa82daf126b2e2f8c7b2"
      },
      "cell_type": "code",
      "source": "sample.to_csv('out.csv', index=False)",
      "execution_count": 64,
      "outputs": []
    },
    {
      "metadata": {
        "trusted": true,
        "_uuid": "cef3fcae3b7ae6a541fb478c6629757cabbb21c8"
      },
      "cell_type": "code",
      "source": "create_download_link(sample)",
      "execution_count": null,
      "outputs": []
    },
    {
      "metadata": {
        "trusted": true,
        "_uuid": "e2fe6adb059f7b5924f60af5db5decedff1d7c7d"
      },
      "cell_type": "code",
      "source": "",
      "execution_count": null,
      "outputs": []
    }
  ],
  "metadata": {
    "language_info": {
      "name": "python",
      "version": "3.6.6",
      "mimetype": "text/x-python",
      "codemirror_mode": {
        "name": "ipython",
        "version": 3
      },
      "pygments_lexer": "ipython3",
      "nbconvert_exporter": "python",
      "file_extension": ".py"
    },
    "kernelspec": {
      "display_name": "Python 3",
      "language": "python",
      "name": "python3"
    }
  },
  "nbformat": 4,
  "nbformat_minor": 1
}